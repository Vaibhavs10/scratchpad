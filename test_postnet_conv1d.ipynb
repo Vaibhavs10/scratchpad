{
  "nbformat": 4,
  "nbformat_minor": 0,
  "metadata": {
    "colab": {
      "provenance": [],
      "authorship_tag": "ABX9TyNWIP8luDOpbcxljwEt5JSy",
      "include_colab_link": true
    },
    "kernelspec": {
      "name": "python3",
      "display_name": "Python 3"
    },
    "language_info": {
      "name": "python"
    }
  },
  "cells": [
    {
      "cell_type": "markdown",
      "metadata": {
        "id": "view-in-github",
        "colab_type": "text"
      },
      "source": [
        "<a href=\"https://colab.research.google.com/github/Vaibhavs10/scratchpad/blob/main/test_postnet_conv1d.ipynb\" target=\"_parent\"><img src=\"https://colab.research.google.com/assets/colab-badge.svg\" alt=\"Open In Colab\"/></a>"
      ]
    },
    {
      "cell_type": "code",
      "execution_count": 1,
      "metadata": {
        "id": "DsoaRWL5lxzP"
      },
      "outputs": [],
      "source": [
        "\"\"\"\n",
        "Taken from ESPNet\n",
        "\"\"\"\n",
        "\n",
        "import torch\n",
        "\n",
        "\n",
        "class PostNet(torch.nn.Module):\n",
        "    \"\"\"\n",
        "    From Tacotron2\n",
        "\n",
        "    Postnet module for Spectrogram prediction network.\n",
        "\n",
        "    This is a module of Postnet in Spectrogram prediction network,\n",
        "    which described in `Natural TTS Synthesis by\n",
        "    Conditioning WaveNet on Mel Spectrogram Predictions`_.\n",
        "    The Postnet refines the predicted\n",
        "    Mel-filterbank of the decoder,\n",
        "    which helps to compensate the detail sturcture of spectrogram.\n",
        "\n",
        "    .. _`Natural TTS Synthesis by Conditioning WaveNet on Mel Spectrogram Predictions`:\n",
        "       https://arxiv.org/abs/1712.05884\n",
        "    \"\"\"\n",
        "\n",
        "    def __init__(self, idim, odim, n_layers=5, n_chans=512, n_filts=5, dropout_rate=0.5, use_batch_norm=True):\n",
        "        \"\"\"\n",
        "        Initialize postnet module.\n",
        "\n",
        "        Args:\n",
        "            idim (int): Dimension of the inputs.\n",
        "            odim (int): Dimension of the outputs.\n",
        "            n_layers (int, optional): The number of layers.\n",
        "            n_filts (int, optional): The number of filter size.\n",
        "            n_units (int, optional): The number of filter channels.\n",
        "            use_batch_norm (bool, optional): Whether to use batch normalization..\n",
        "            dropout_rate (float, optional): Dropout rate..\n",
        "        \"\"\"\n",
        "        super(PostNet, self).__init__()\n",
        "        self.postnet = torch.nn.ModuleList()\n",
        "        for layer in range(n_layers - 1):\n",
        "            ichans = odim if layer == 0 else n_chans\n",
        "            ochans = odim if layer == n_layers - 1 else n_chans\n",
        "            if use_batch_norm:\n",
        "                self.postnet += [torch.nn.Sequential(torch.nn.Conv1d(ichans, ochans, n_filts, stride=1, padding=(n_filts - 1) // 2, bias=False, ),\n",
        "                                                     torch.nn.GroupNorm(num_groups=32, num_channels=ochans), torch.nn.Tanh(),\n",
        "                                                     torch.nn.Dropout(dropout_rate), )]\n",
        "\n",
        "            else:\n",
        "                self.postnet += [\n",
        "                    torch.nn.Sequential(torch.nn.Conv1d(ichans, ochans, n_filts, stride=1, padding=(n_filts - 1) // 2, bias=False, ), torch.nn.Tanh(),\n",
        "                                        torch.nn.Dropout(dropout_rate), )]\n",
        "        ichans = n_chans if n_layers != 1 else odim\n",
        "        if use_batch_norm:\n",
        "            self.postnet += [torch.nn.Sequential(torch.nn.Conv1d(ichans, odim, n_filts, stride=1, padding=(n_filts - 1) // 2, bias=False, ),\n",
        "                                                 torch.nn.GroupNorm(num_groups=20, num_channels=odim),\n",
        "                                                 torch.nn.Dropout(dropout_rate), )]\n",
        "\n",
        "        else:\n",
        "            self.postnet += [torch.nn.Sequential(torch.nn.Conv1d(ichans, odim, n_filts, stride=1, padding=(n_filts - 1) // 2, bias=False, ),\n",
        "                                                 torch.nn.Dropout(dropout_rate), )]\n",
        "\n",
        "    def forward(self, xs):\n",
        "        \"\"\"\n",
        "        Calculate forward propagation.\n",
        "\n",
        "        Args:\n",
        "            xs (Tensor): Batch of the sequences of padded input tensors (B, idim, Tmax).\n",
        "\n",
        "        Returns:\n",
        "            Tensor: Batch of padded output tensor. (B, odim, Tmax).\n",
        "        \"\"\"\n",
        "        for i in range(len(self.postnet)):\n",
        "            xs = self.postnet[i](xs)\n",
        "        return xs"
      ]
    },
    {
      "cell_type": "code",
      "source": [
        "_ = torch.randn([2, 100, 80])"
      ],
      "metadata": {
        "id": "RqfJcwwumK20"
      },
      "execution_count": 2,
      "outputs": []
    },
    {
      "cell_type": "code",
      "source": [
        "p = PostNet(idim=62, odim=80,)"
      ],
      "metadata": {
        "id": "dbeGAKF7mRIo"
      },
      "execution_count": 4,
      "outputs": []
    },
    {
      "cell_type": "code",
      "source": [
        "p(_.transpose(1,2))"
      ],
      "metadata": {
        "colab": {
          "base_uri": "https://localhost:8080/"
        },
        "id": "Me2UKnIBmUew",
        "outputId": "0f70fc17-a76e-4d72-9791-7b21f4d71469"
      },
      "execution_count": 6,
      "outputs": [
        {
          "output_type": "execute_result",
          "data": {
            "text/plain": [
              "tensor([[[ 0.0000e+00, -1.0777e+00, -5.4660e-01,  ...,  0.0000e+00,\n",
              "          -2.7880e+00, -6.5015e-01],\n",
              "         [ 2.1876e-01,  0.0000e+00,  2.5389e+00,  ...,  0.0000e+00,\n",
              "          -9.2436e-01,  0.0000e+00],\n",
              "         [ 0.0000e+00, -0.0000e+00,  0.0000e+00,  ..., -4.4936e+00,\n",
              "          -0.0000e+00,  0.0000e+00],\n",
              "         ...,\n",
              "         [-0.0000e+00, -1.4846e+00, -7.0412e-01,  ..., -5.1961e-01,\n",
              "           0.0000e+00, -0.0000e+00],\n",
              "         [ 4.4329e-03, -0.0000e+00, -0.0000e+00,  ..., -0.0000e+00,\n",
              "          -0.0000e+00, -0.0000e+00],\n",
              "         [-0.0000e+00,  2.3490e-01, -0.0000e+00,  ...,  0.0000e+00,\n",
              "          -1.9897e+00, -1.3159e+00]],\n",
              "\n",
              "        [[ 6.9515e-01, -0.0000e+00, -0.0000e+00,  ...,  1.8862e-01,\n",
              "          -1.8237e+00,  0.0000e+00],\n",
              "         [ 1.7462e-01, -3.2134e-01,  1.8222e+00,  ...,  0.0000e+00,\n",
              "          -1.4288e+00, -1.2201e-01],\n",
              "         [-6.6500e-01,  0.0000e+00,  0.0000e+00,  ...,  1.4128e+00,\n",
              "          -0.0000e+00, -3.7437e-01],\n",
              "         ...,\n",
              "         [ 8.4122e-01,  4.4489e-01, -9.8798e-01,  ..., -0.0000e+00,\n",
              "          -0.0000e+00,  8.3418e-01],\n",
              "         [-0.0000e+00, -1.5443e+00, -3.2527e+00,  ...,  0.0000e+00,\n",
              "          -1.9567e+00, -0.0000e+00],\n",
              "         [ 3.4449e+00,  9.5256e-01, -0.0000e+00,  ..., -0.0000e+00,\n",
              "          -0.0000e+00,  2.0033e-01]]], grad_fn=<MulBackward0>)"
            ]
          },
          "metadata": {},
          "execution_count": 6
        }
      ]
    },
    {
      "cell_type": "code",
      "source": [],
      "metadata": {
        "id": "VKgIrODzoPfo"
      },
      "execution_count": null,
      "outputs": []
    }
  ]
}