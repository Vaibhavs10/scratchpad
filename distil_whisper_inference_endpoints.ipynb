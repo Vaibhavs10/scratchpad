{
  "nbformat": 4,
  "nbformat_minor": 0,
  "metadata": {
    "colab": {
      "provenance": [],
      "include_colab_link": true
    },
    "kernelspec": {
      "name": "python3",
      "display_name": "Python 3"
    },
    "language_info": {
      "name": "python"
    }
  },
  "cells": [
    {
      "cell_type": "markdown",
      "metadata": {
        "id": "view-in-github",
        "colab_type": "text"
      },
      "source": [
        "<a href=\"https://colab.research.google.com/github/Vaibhavs10/scratchpad/blob/main/distil_whisper_inference_endpoints.ipynb\" target=\"_parent\"><img src=\"https://colab.research.google.com/assets/colab-badge.svg\" alt=\"Open In Colab\"/></a>"
      ]
    },
    {
      "cell_type": "code",
      "source": [
        "import base64\n",
        "import requests"
      ],
      "metadata": {
        "id": "foPK0FreJZju"
      },
      "execution_count": null,
      "outputs": []
    },
    {
      "cell_type": "markdown",
      "source": [
        "Download a test file for testing the endpoints."
      ],
      "metadata": {
        "id": "owDhtdAutSTM"
      }
    },
    {
      "cell_type": "code",
      "source": [
        "!wget https://huggingface.co/datasets/reach-vb/random-audios/resolve/main/ted_60.wav"
      ],
      "metadata": {
        "id": "fjz84_3LJbuh",
        "outputId": "977a9fb5-3e44-44e1-e6d8-8fba1d0f04aa",
        "colab": {
          "base_uri": "https://localhost:8080/"
        }
      },
      "execution_count": null,
      "outputs": [
        {
          "output_type": "stream",
          "name": "stdout",
          "text": [
            "--2024-04-22 06:56:48--  https://huggingface.co/datasets/reach-vb/random-audios/resolve/main/ted_60.wav\n",
            "Resolving huggingface.co (huggingface.co)... 18.172.134.88, 18.172.134.24, 18.172.134.4, ...\n",
            "Connecting to huggingface.co (huggingface.co)|18.172.134.88|:443... connected.\n",
            "HTTP request sent, awaiting response... 302 Found\n",
            "Location: https://cdn-lfs.huggingface.co/repos/96/e4/96e4f69cd112b019dd764318570e47e5fe96de53d8c32a99d745e72d9086e355/7795cbebcdf651ebbe4b1d8f36d7cde2286d482b800670c70bf7ce449c9f1ed5?response-content-disposition=inline%3B+filename*%3DUTF-8%27%27ted_60.wav%3B+filename%3D%22ted_60.wav%22%3B&response-content-type=audio%2Fwave&Expires=1714028208&Policy=eyJTdGF0ZW1lbnQiOlt7IkNvbmRpdGlvbiI6eyJEYXRlTGVzc1RoYW4iOnsiQVdTOkVwb2NoVGltZSI6MTcxNDAyODIwOH19LCJSZXNvdXJjZSI6Imh0dHBzOi8vY2RuLWxmcy5odWdnaW5nZmFjZS5jby9yZXBvcy85Ni9lNC85NmU0ZjY5Y2QxMTJiMDE5ZGQ3NjQzMTg1NzBlNDdlNWZlOTZkZTUzZDhjMzJhOTlkNzQ1ZTcyZDkwODZlMzU1Lzc3OTVjYmViY2RmNjUxZWJiZTRiMWQ4ZjM2ZDdjZGUyMjg2ZDQ4MmI4MDA2NzBjNzBiZjdjZTQ0OWM5ZjFlZDU%7EcmVzcG9uc2UtY29udGVudC1kaXNwb3NpdGlvbj0qJnJlc3BvbnNlLWNvbnRlbnQtdHlwZT0qIn1dfQ__&Signature=aDoVzMl2ssivAnot9uV%7EqXLJmtgWD8z-s4JO3wzr0pTeb34EkJxf52quKxj1sfdpXKPljvJ7gyJk2tFj7lZu21%7EoDqiqRuDM1jXDqlImC-MmH%7E6Iv7lp-ek-xBv5iTSy3Y4o2V70fCGsthAy0u4oNVww562EfS9V5cDOjTX9EaJUNQiDayZAvGjkAmvIYnrwwAKyeWIjjwD0Yo2Ba1WMGmBHuDtppcE8uN5ko9jelcj4E%7EAmSmUy9GRauFANUdYAyDT6aSWqsjMNRpR7hZ77GWhNr0ahZRTqyKEFXQcnDXAJ0pn8AYbXPYaS7j8bOwESEX8fwJSAs1uRMYI1rGt95g__&Key-Pair-Id=KVTP0A1DKRTAX [following]\n",
            "--2024-04-22 06:56:48--  https://cdn-lfs.huggingface.co/repos/96/e4/96e4f69cd112b019dd764318570e47e5fe96de53d8c32a99d745e72d9086e355/7795cbebcdf651ebbe4b1d8f36d7cde2286d482b800670c70bf7ce449c9f1ed5?response-content-disposition=inline%3B+filename*%3DUTF-8%27%27ted_60.wav%3B+filename%3D%22ted_60.wav%22%3B&response-content-type=audio%2Fwave&Expires=1714028208&Policy=eyJTdGF0ZW1lbnQiOlt7IkNvbmRpdGlvbiI6eyJEYXRlTGVzc1RoYW4iOnsiQVdTOkVwb2NoVGltZSI6MTcxNDAyODIwOH19LCJSZXNvdXJjZSI6Imh0dHBzOi8vY2RuLWxmcy5odWdnaW5nZmFjZS5jby9yZXBvcy85Ni9lNC85NmU0ZjY5Y2QxMTJiMDE5ZGQ3NjQzMTg1NzBlNDdlNWZlOTZkZTUzZDhjMzJhOTlkNzQ1ZTcyZDkwODZlMzU1Lzc3OTVjYmViY2RmNjUxZWJiZTRiMWQ4ZjM2ZDdjZGUyMjg2ZDQ4MmI4MDA2NzBjNzBiZjdjZTQ0OWM5ZjFlZDU%7EcmVzcG9uc2UtY29udGVudC1kaXNwb3NpdGlvbj0qJnJlc3BvbnNlLWNvbnRlbnQtdHlwZT0qIn1dfQ__&Signature=aDoVzMl2ssivAnot9uV%7EqXLJmtgWD8z-s4JO3wzr0pTeb34EkJxf52quKxj1sfdpXKPljvJ7gyJk2tFj7lZu21%7EoDqiqRuDM1jXDqlImC-MmH%7E6Iv7lp-ek-xBv5iTSy3Y4o2V70fCGsthAy0u4oNVww562EfS9V5cDOjTX9EaJUNQiDayZAvGjkAmvIYnrwwAKyeWIjjwD0Yo2Ba1WMGmBHuDtppcE8uN5ko9jelcj4E%7EAmSmUy9GRauFANUdYAyDT6aSWqsjMNRpR7hZ77GWhNr0ahZRTqyKEFXQcnDXAJ0pn8AYbXPYaS7j8bOwESEX8fwJSAs1uRMYI1rGt95g__&Key-Pair-Id=KVTP0A1DKRTAX\n",
            "Resolving cdn-lfs.huggingface.co (cdn-lfs.huggingface.co)... 18.154.185.26, 18.154.185.27, 18.154.185.64, ...\n",
            "Connecting to cdn-lfs.huggingface.co (cdn-lfs.huggingface.co)|18.154.185.26|:443... connected.\n",
            "HTTP request sent, awaiting response... 200 OK\n",
            "Length: 11520078 (11M) [audio/wave]\n",
            "Saving to: ‘ted_60.wav’\n",
            "\n",
            "ted_60.wav          100%[===================>]  10.99M  62.2MB/s    in 0.2s    \n",
            "\n",
            "2024-04-22 06:56:48 (62.2 MB/s) - ‘ted_60.wav’ saved [11520078/11520078]\n",
            "\n"
          ]
        }
      ]
    },
    {
      "cell_type": "code",
      "source": [
        "# ENDPOINT URLs:\n",
        "# distil-large-v3 on A10: https://dl5n9gfvm8savnww.us-east-1.aws.endpoints.huggingface.cloud\n",
        "# whisper-large-v3 on T4: https://abiftsakfjn7urdf.us-east-1.aws.endpoints.huggingface.cloud\n",
        "# whisper-large-v3 on A10: https://v3f9fucqnqa7a0ge.us-east-1.aws.endpoints.huggingface.cloud"
      ],
      "metadata": {
        "id": "6vz-LoThMESu"
      },
      "execution_count": null,
      "outputs": []
    },
    {
      "cell_type": "markdown",
      "source": [
        "URL to the deployed endpoint."
      ],
      "metadata": {
        "id": "XZ7uZ97WtXqE"
      }
    },
    {
      "cell_type": "code",
      "source": [
        "API_URL = \"https://dl5n9gfvm8savnww.us-east-1.aws.endpoints.huggingface.cloud\"\n",
        "filepath = \"ted_60.wav\""
      ],
      "metadata": {
        "id": "0jQxkPrBKTrg"
      },
      "execution_count": null,
      "outputs": []
    },
    {
      "cell_type": "markdown",
      "source": [
        "note: `batch_size = 24` should match the replicate settings, I'd reommend keeping it the same. :)"
      ],
      "metadata": {
        "id": "q9N_hXE2teAl"
      }
    },
    {
      "cell_type": "code",
      "execution_count": null,
      "metadata": {
        "colab": {
          "base_uri": "https://localhost:8080/"
        },
        "id": "9NxoLPm0JS5s",
        "outputId": "6d1d6578-c23e-4c17-cc78-c3d91a0df024"
      },
      "outputs": [
        {
          "output_type": "stream",
          "name": "stdout",
          "text": [
            "{'speakers': [], 'chunks': [{'timestamp': [0.0, 4.0], 'text': ' So in college, I was a government major,'}, {'timestamp': [4.0, 7.0], 'text': ' which means I had to write a lot of papers.'}, {'timestamp': [7.0, 9.0], 'text': ' Now, when a normal student writes a paper,'}, {'timestamp': [9.0, 11.0], 'text': ' they might spread the work out a little like this.'}, {'timestamp': [11.0, 16.0], 'text': ' So, you know, you get started maybe a little slowly,'}, {'timestamp': [16.0, 18.0], 'text': ' but you get enough done in the first week'}, {'timestamp': [18.0, 20.0], 'text': ' that with some heavier days later on,'}, {'timestamp': [20.0, 23.0], 'text': ' everything gets done and things stay civil.'}, {'timestamp': [23.0, 25.88], 'text': ' And I would want to do that like that.'}, {'timestamp': [25.9, 27.18], 'text': ' That would be the plan.'}, {'timestamp': [27.2, 29.74], 'text': ' I would have it all ready to go,'}, {'timestamp': [29.76, 32.26], 'text': ' but then actually the paper would come along,'}, {'timestamp': [32.28, 33.76], 'text': ' and then I would kind of do this.'}, {'timestamp': [36.52, 38.52], 'text': ' And that would happen every single paper.'}, {'timestamp': [39.44, 43.36], 'text': ' But then came my 90-page senior thesis,'}, {'timestamp': [43.38, 45.86], 'text': ' a paper you were supposed to spend a year on.'}, {'timestamp': [45.88, 49.62], 'text': ' I knew for a paper like that, my normal workflow was not an option,'}, {'timestamp': [49.64, 51.22], 'text': ' it was way too big a project.'}, {'timestamp': [51.24, 53.18], 'text': ' So I planned things out, and I decided,'}, {'timestamp': [53.2, 55.78], 'text': ' it kind of had to go something like this.'}, {'timestamp': [55.8, 57.3], 'text': ' This is how the year would go.'}, {'timestamp': [57.32, 60.0], 'text': \" So I'd start off light, and I'd bump it up\"}], 'text': \" So in college, I was a government major, which means I had to write a lot of papers. Now, when a normal student writes a paper, they might spread the work out a little like this. So, you know, you get started maybe a little slowly, but you get enough done in the first week that with some heavier days later on, everything gets done and things stay civil. And I would want to do that like that. That would be the plan. I would have it all ready to go, but then actually the paper would come along, and then I would kind of do this. And that would happen every single paper. But then came my 90-page senior thesis, a paper you were supposed to spend a year on. I knew for a paper like that, my normal workflow was not an option, it was way too big a project. So I planned things out, and I decided, it kind of had to go something like this. This is how the year would go. So I'd start off light, and I'd bump it up\"}\n"
          ]
        }
      ],
      "source": [
        "with open(filepath, 'rb') as f:\n",
        "    audio_encoded = base64.b64encode(f.read()).decode(\"utf-8\")\n",
        "\n",
        "data = {\n",
        "    \"inputs\": audio_encoded,\n",
        "    \"parameters\": {\n",
        "        \"batch_size\": 24\n",
        "    }\n",
        "}\n",
        "resp = requests.post(API_URL, json=data)\n",
        "print(resp.json())"
      ]
    }
  ]
}