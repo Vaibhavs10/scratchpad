{
  "cells": [
    {
      "cell_type": "markdown",
      "metadata": {
        "id": "view-in-github",
        "colab_type": "text"
      },
      "source": [
        "<a href=\"https://colab.research.google.com/github/Vaibhavs10/scratchpad/blob/main/gemma_tokenizer_compare_2b.ipynb\" target=\"_parent\"><img src=\"https://colab.research.google.com/assets/colab-badge.svg\" alt=\"Open In Colab\"/></a>"
      ]
    },
    {
      "cell_type": "code",
      "source": [
        "!pip install git+https://github.com/google/gemma_pytorch.git git+https://github.com/huggingface/transformers.git datasets"
      ],
      "metadata": {
        "colab": {
          "base_uri": "https://localhost:8080/"
        },
        "id": "S_NiZpMhijvX",
        "outputId": "996c7904-a6d9-40a1-fbd9-94db1cd32201"
      },
      "id": "S_NiZpMhijvX",
      "execution_count": 1,
      "outputs": [
        {
          "output_type": "stream",
          "name": "stdout",
          "text": [
            "Collecting git+https://github.com/google/gemma_pytorch.git\n",
            "  Cloning https://github.com/google/gemma_pytorch.git to /tmp/pip-req-build-jbnbk0k9\n",
            "  Running command git clone --filter=blob:none --quiet https://github.com/google/gemma_pytorch.git /tmp/pip-req-build-jbnbk0k9\n",
            "  Resolved https://github.com/google/gemma_pytorch.git to commit 36d303b08aed7f92c80e59969f6d929b8e69289b\n",
            "  Preparing metadata (setup.py) ... \u001b[?25l\u001b[?25hdone\n",
            "Collecting git+https://github.com/huggingface/transformers.git\n",
            "  Cloning https://github.com/huggingface/transformers.git to /tmp/pip-req-build-am023wds\n",
            "  Running command git clone --filter=blob:none --quiet https://github.com/huggingface/transformers.git /tmp/pip-req-build-am023wds\n",
            "  Resolved https://github.com/huggingface/transformers.git to commit 72fb02c47dbbe1999ae105319f24631cad6e2e00\n",
            "  Installing build dependencies ... \u001b[?25l\u001b[?25hdone\n",
            "  Getting requirements to build wheel ... \u001b[?25l\u001b[?25hdone\n",
            "  Preparing metadata (pyproject.toml) ... \u001b[?25l\u001b[?25hdone\n",
            "Requirement already satisfied: numpy==1.24.4 in /usr/local/lib/python3.10/dist-packages (from gemma==0.1) (1.24.4)\n",
            "Requirement already satisfied: sentencepiece==0.1.99 in /usr/local/lib/python3.10/dist-packages (from gemma==0.1) (0.1.99)\n",
            "Requirement already satisfied: torch in /usr/local/lib/python3.10/dist-packages (from gemma==0.1) (2.3.0+cu121)\n",
            "Requirement already satisfied: filelock in /usr/local/lib/python3.10/dist-packages (from transformers==4.43.0.dev0) (3.15.4)\n",
            "Requirement already satisfied: huggingface-hub<1.0,>=0.23.2 in /usr/local/lib/python3.10/dist-packages (from transformers==4.43.0.dev0) (0.23.4)\n",
            "Requirement already satisfied: packaging>=20.0 in /usr/local/lib/python3.10/dist-packages (from transformers==4.43.0.dev0) (24.1)\n",
            "Requirement already satisfied: pyyaml>=5.1 in /usr/local/lib/python3.10/dist-packages (from transformers==4.43.0.dev0) (6.0.1)\n",
            "Requirement already satisfied: regex!=2019.12.17 in /usr/local/lib/python3.10/dist-packages (from transformers==4.43.0.dev0) (2024.5.15)\n",
            "Requirement already satisfied: requests in /usr/local/lib/python3.10/dist-packages (from transformers==4.43.0.dev0) (2.31.0)\n",
            "Requirement already satisfied: tokenizers<0.20,>=0.19 in /usr/local/lib/python3.10/dist-packages (from transformers==4.43.0.dev0) (0.19.1)\n",
            "Requirement already satisfied: safetensors>=0.4.1 in /usr/local/lib/python3.10/dist-packages (from transformers==4.43.0.dev0) (0.4.3)\n",
            "Requirement already satisfied: tqdm>=4.27 in /usr/local/lib/python3.10/dist-packages (from transformers==4.43.0.dev0) (4.66.4)\n",
            "Requirement already satisfied: fsspec>=2023.5.0 in /usr/local/lib/python3.10/dist-packages (from huggingface-hub<1.0,>=0.23.2->transformers==4.43.0.dev0) (2023.6.0)\n",
            "Requirement already satisfied: typing-extensions>=3.7.4.3 in /usr/local/lib/python3.10/dist-packages (from huggingface-hub<1.0,>=0.23.2->transformers==4.43.0.dev0) (4.12.2)\n",
            "Requirement already satisfied: charset-normalizer<4,>=2 in /usr/local/lib/python3.10/dist-packages (from requests->transformers==4.43.0.dev0) (3.3.2)\n",
            "Requirement already satisfied: idna<4,>=2.5 in /usr/local/lib/python3.10/dist-packages (from requests->transformers==4.43.0.dev0) (3.7)\n",
            "Requirement already satisfied: urllib3<3,>=1.21.1 in /usr/local/lib/python3.10/dist-packages (from requests->transformers==4.43.0.dev0) (2.0.7)\n",
            "Requirement already satisfied: certifi>=2017.4.17 in /usr/local/lib/python3.10/dist-packages (from requests->transformers==4.43.0.dev0) (2024.7.4)\n",
            "Requirement already satisfied: sympy in /usr/local/lib/python3.10/dist-packages (from torch->gemma==0.1) (1.13.0)\n",
            "Requirement already satisfied: networkx in /usr/local/lib/python3.10/dist-packages (from torch->gemma==0.1) (3.3)\n",
            "Requirement already satisfied: jinja2 in /usr/local/lib/python3.10/dist-packages (from torch->gemma==0.1) (3.1.4)\n",
            "Requirement already satisfied: nvidia-cuda-nvrtc-cu12==12.1.105 in /usr/local/lib/python3.10/dist-packages (from torch->gemma==0.1) (12.1.105)\n",
            "Requirement already satisfied: nvidia-cuda-runtime-cu12==12.1.105 in /usr/local/lib/python3.10/dist-packages (from torch->gemma==0.1) (12.1.105)\n",
            "Requirement already satisfied: nvidia-cuda-cupti-cu12==12.1.105 in /usr/local/lib/python3.10/dist-packages (from torch->gemma==0.1) (12.1.105)\n",
            "Requirement already satisfied: nvidia-cudnn-cu12==8.9.2.26 in /usr/local/lib/python3.10/dist-packages (from torch->gemma==0.1) (8.9.2.26)\n",
            "Requirement already satisfied: nvidia-cublas-cu12==12.1.3.1 in /usr/local/lib/python3.10/dist-packages (from torch->gemma==0.1) (12.1.3.1)\n",
            "Requirement already satisfied: nvidia-cufft-cu12==11.0.2.54 in /usr/local/lib/python3.10/dist-packages (from torch->gemma==0.1) (11.0.2.54)\n",
            "Requirement already satisfied: nvidia-curand-cu12==10.3.2.106 in /usr/local/lib/python3.10/dist-packages (from torch->gemma==0.1) (10.3.2.106)\n",
            "Requirement already satisfied: nvidia-cusolver-cu12==11.4.5.107 in /usr/local/lib/python3.10/dist-packages (from torch->gemma==0.1) (11.4.5.107)\n",
            "Requirement already satisfied: nvidia-cusparse-cu12==12.1.0.106 in /usr/local/lib/python3.10/dist-packages (from torch->gemma==0.1) (12.1.0.106)\n",
            "Requirement already satisfied: nvidia-nccl-cu12==2.20.5 in /usr/local/lib/python3.10/dist-packages (from torch->gemma==0.1) (2.20.5)\n",
            "Requirement already satisfied: nvidia-nvtx-cu12==12.1.105 in /usr/local/lib/python3.10/dist-packages (from torch->gemma==0.1) (12.1.105)\n",
            "Requirement already satisfied: triton==2.3.0 in /usr/local/lib/python3.10/dist-packages (from torch->gemma==0.1) (2.3.0)\n",
            "Requirement already satisfied: nvidia-nvjitlink-cu12 in /usr/local/lib/python3.10/dist-packages (from nvidia-cusolver-cu12==11.4.5.107->torch->gemma==0.1) (12.5.82)\n",
            "Requirement already satisfied: MarkupSafe>=2.0 in /usr/local/lib/python3.10/dist-packages (from jinja2->torch->gemma==0.1) (2.1.5)\n",
            "Requirement already satisfied: mpmath<1.4,>=1.1.0 in /usr/local/lib/python3.10/dist-packages (from sympy->torch->gemma==0.1) (1.3.0)\n"
          ]
        }
      ]
    },
    {
      "cell_type": "code",
      "execution_count": 1,
      "id": "04eafdc4",
      "metadata": {
        "id": "04eafdc4"
      },
      "outputs": [],
      "source": [
        "from gemma.tokenizer import Tokenizer"
      ]
    },
    {
      "cell_type": "code",
      "execution_count": 2,
      "id": "aae9d9de",
      "metadata": {
        "id": "aae9d9de"
      },
      "outputs": [],
      "source": [
        "original = Tokenizer(\"tokenizer-2.model\")"
      ]
    },
    {
      "cell_type": "code",
      "execution_count": 3,
      "id": "465f8b83",
      "metadata": {
        "colab": {
          "base_uri": "https://localhost:8080/"
        },
        "id": "465f8b83",
        "outputId": "c0e65d02-1811-4f01-cb16-7929d2cf719c"
      },
      "outputs": [
        {
          "output_type": "execute_result",
          "data": {
            "text/plain": [
              "[74498]"
            ]
          },
          "metadata": {},
          "execution_count": 3
        }
      ],
      "source": [
        "original.encode(\"whatever\", bos=False)"
      ]
    },
    {
      "cell_type": "code",
      "execution_count": 4,
      "id": "06b063cf",
      "metadata": {
        "id": "06b063cf"
      },
      "outputs": [],
      "source": [
        "from transformers import GemmaTokenizer, AutoTokenizer"
      ]
    },
    {
      "cell_type": "code",
      "execution_count": 5,
      "id": "a584d69f",
      "metadata": {
        "id": "a584d69f"
      },
      "outputs": [],
      "source": [
        "t_fast = AutoTokenizer.from_pretrained(\"gg-hf/gemma2-2b\", revision=\"main\")\n",
        "t_slow = GemmaTokenizer.from_pretrained(\"gg-hf/gemma2-2b\", revision=\"main\")\n",
        "\n",
        "# t_fast = AutoTokenizer.from_pretrained(\"google/recurrentgemma-2b\", revision=\"main\")\n",
        "# t_slow = GemmaTokenizer.from_pretrained(\"google/recurrentgemma-2b\", revision=\"main\")"
      ]
    },
    {
      "cell_type": "code",
      "execution_count": 6,
      "id": "0160405a",
      "metadata": {
        "id": "0160405a"
      },
      "outputs": [],
      "source": [
        "from datasets import load_dataset"
      ]
    },
    {
      "cell_type": "code",
      "execution_count": 7,
      "id": "a743115c",
      "metadata": {
        "colab": {
          "base_uri": "https://localhost:8080/",
          "height": 387,
          "referenced_widgets": [
            "3ad769aa67914453a6324907e6bc15df",
            "389edb0338f7456da2203fd255d26252",
            "f0467713e4144bc9aa34e6001e259e12",
            "068061598ae44be89a7df3ddc264c3c3",
            "184c4dbd71ed466b9b06240ce6994818",
            "f8470c0f325f4f429f4c59812025a5f5",
            "a9a85bbe483344ed929b46dc80ea8f3f",
            "aee58b953c8d456b99defbea3053aa28",
            "f7f542b583af4da697fada7918f597ad",
            "a56d6f8f591346da81920a829f6052c0",
            "02bad0a7d2f24bb786b9976d1784e242",
            "5f98a1868cef42429e6b1f9e6ce51d7b",
            "6bdd9f143d414f988a44d1ecd7894f4d",
            "a85eb58ec60946769eddef7d21980334",
            "1ce363273fb3495c9461bfb2605201ee",
            "3c9cf8ebb2e94d5f9fe1fe0dc313c068",
            "7d291e5294aa495197da96c98d221f36",
            "507e164844f94e4cbd90a4a140a0a1b4",
            "6e84480fffc94f91b7d4261908d3a547",
            "f5c6431996494422b8966d9f985f4f6a",
            "deca871b098441cdae5c6198bcd7e16b",
            "cbf010c31f5f45be9d7f3c19a56cf503",
            "4fc2f8050dc64924810cbf974794b5f2",
            "f42b7908aedc44f986d7e3964eb03389",
            "35984dbe4c9d4186a1bea529302fde8f",
            "32ef61893f394d8a9ffddcbe8ba5938f",
            "9a70a716e3374e18a75a78e9c262a059",
            "f62fbecab30549a9a822dec7ad5c5c30",
            "065befd3d93d4db5a6deefbbd186c9e6",
            "afcb1a40839146d7ae06d4e0570a4ac2",
            "0a70f8cfa1ce40068055a62f780c9339",
            "ce379b8ebe6d47bc84023c2f408eb953",
            "c9a859763cc0430cae80467c4b57f23c",
            "d67a0ba4f95c4396ac53a6bd6518e463",
            "59e0f4f9d82c43998398f71b3c107a85",
            "6abb847058f548d5a3e6ef204b00d42a",
            "86c64f5b73b44384a2a48d24ee5841a3",
            "84b3fb31d1a341189eac62e642b7fded",
            "24380698dd6644d1ae575e4e7efaf0f1",
            "2ce1e1128aa64557ae72f4fc195bddba",
            "b12bad52eefd40f5b56aeb435ae044e3",
            "f2eef149361d49eaa719dc91a9062191",
            "1532d8ee33ad4189b646252932b910af",
            "3bdab142468b43a4970f95e7702501fb",
            "64514725fb7f40caa59d5aa9f4e330c3",
            "01d22240b740483fad47f147d20f8456",
            "ebb615b3c8d54a4d8606e2db27862f7a",
            "0b02bd9789ee461b9f5d88e119f7d530",
            "02d48b79027540e5b1987ad79e10caad",
            "d837980261584548b26e20617ef5f12c",
            "e6f4fcc72ee6464ab7f1f04ae115cbdd",
            "639ec26cd96f4a92bb365fe18732ef3a",
            "3375dc50a1374263a9faccc16488e28b",
            "3c7e689bc87a4a19b67e97376ed72551",
            "38de7b05635a4948a8ebf742f31b1e28",
            "f34466515c6f48328ef8656ba6422963",
            "30c00bc4792c425c88a5e83613eaea43",
            "5afc1073fc754a8ebdc38a2c0be4ae80",
            "2b59cde16970431b8527fc9b49857a78",
            "bdaf57c5d750478a9e06cb3cafb45712",
            "0f89eb225e834943a986fcbd507b8c8b",
            "fc586343f3cc43a4bf0db4689e610da0",
            "733f318b773c4f5cb8832144e12389b7",
            "d6f572f46d4e43899b00145ab737a214",
            "8afe2354624f4767ac1aa4c5cb6cf7db",
            "ab4f8d20e3f844938f343f472b05406f",
            "b14cd8d2a5c842e39585fd0ec8695877",
            "f0b8fe48f44a4f97b37e58834f36ce5e",
            "0055b4df94fb40809d0b2e561f2c60c6",
            "e5446cabf38343a0a5071fe7ce524454",
            "a34bf59c97c84f08a62a64c1750b2f6c",
            "c7f8a0c2d00243abbba9fb8dafc62fb5",
            "af3b0afab7ac46c5bd34ea9d2a900d90",
            "c4ebe1cbbdde417a9da6ef94dba2da4c",
            "96874c93b4b94c63aa4d82c9f6932ba3",
            "06e174cabd0a42bdba56fa59c86c964d",
            "9943638753c34ab6b7e10280cb6f7a10",
            "d0eb3b589396449d94b61321fe74257d",
            "38af220011f44128802af108e9cf5b96",
            "b88642c970284448af309461003e29e6",
            "0b8c0cc3a16643dbb180673a33f31e8d",
            "bb49d414697f4512ab9492f17d178bf6",
            "77283a1bfbb34ad28ed534838a6f1736",
            "3ffeb1b951404e51909897ba697796a3",
            "adde66da2c43486e9401e64639284b38",
            "c6811283b57c464c99a55ed3e6b6ae7e",
            "f076fb4c1a9040ad926ee9c7ca85d82f",
            "9b2f7ad8c22b417b86fd1e92d117dffb",
            "cd7c0fed850e4265af7942915072fcfb",
            "86e0afee612c496d89a94e84625311df",
            "76f3a30379764d84ab794a490703c6f8",
            "4fe56282a2e0491481b851c424b1058f",
            "62d38ddfd5f04a468439820230e4c144",
            "04f2540c5053494cb31e4d34307d72b2",
            "4a5443a3953342048fea8305dd88f9cc",
            "197bc48cbedd465bb2e9831cbe38b28a",
            "330babef78454c3e8da266b128bf978a",
            "fd9cf5102b77414785d239e3442e3181",
            "dd673cbf62ff44689118d42e7b70f44d",
            "d90a2edf0a2c462aa0aa371599eaea80",
            "c5ad666a95e441e6b7bd0a26d15c225c",
            "463c4d8f59e5444883995720e587310a",
            "8e77c0f3eeb14938824ec9072016032f",
            "dfeb5ff7e38f4ea28f5050edbc2438e5",
            "46f291bf68d145ca9f2f6c1ffc91d63f",
            "e59df3d54b824c5db6c5b4b5256cfe58",
            "312c95c7c8f842b785b0c3a3b4797072",
            "2bd49bd13d5b4908b31548fb03dcf121",
            "503c6bd77ee646119450e5705630f496",
            "e3657cbb2ed2491186ab9e5fbc59867c"
          ]
        },
        "id": "a743115c",
        "outputId": "09bf59fa-738f-4a96-d982-2ea46a919531"
      },
      "outputs": [
        {
          "output_type": "display_data",
          "data": {
            "text/plain": [
              "Downloading readme:   0%|          | 0.00/20.8k [00:00<?, ?B/s]"
            ],
            "application/vnd.jupyter.widget-view+json": {
              "version_major": 2,
              "version_minor": 0,
              "model_id": "3ad769aa67914453a6324907e6bc15df"
            }
          },
          "metadata": {}
        },
        {
          "output_type": "display_data",
          "data": {
            "text/plain": [
              "Downloading data:   0%|          | 0.00/238M [00:00<?, ?B/s]"
            ],
            "application/vnd.jupyter.widget-view+json": {
              "version_major": 2,
              "version_minor": 0,
              "model_id": "5f98a1868cef42429e6b1f9e6ce51d7b"
            }
          },
          "metadata": {}
        },
        {
          "output_type": "display_data",
          "data": {
            "text/plain": [
              "Downloading data:   0%|          | 0.00/239M [00:00<?, ?B/s]"
            ],
            "application/vnd.jupyter.widget-view+json": {
              "version_major": 2,
              "version_minor": 0,
              "model_id": "4fc2f8050dc64924810cbf974794b5f2"
            }
          },
          "metadata": {}
        },
        {
          "output_type": "display_data",
          "data": {
            "text/plain": [
              "Downloading data:   0%|          | 0.00/238M [00:00<?, ?B/s]"
            ],
            "application/vnd.jupyter.widget-view+json": {
              "version_major": 2,
              "version_minor": 0,
              "model_id": "d67a0ba4f95c4396ac53a6bd6518e463"
            }
          },
          "metadata": {}
        },
        {
          "output_type": "display_data",
          "data": {
            "text/plain": [
              "Downloading data:   0%|          | 0.00/239M [00:00<?, ?B/s]"
            ],
            "application/vnd.jupyter.widget-view+json": {
              "version_major": 2,
              "version_minor": 0,
              "model_id": "64514725fb7f40caa59d5aa9f4e330c3"
            }
          },
          "metadata": {}
        },
        {
          "output_type": "display_data",
          "data": {
            "text/plain": [
              "Downloading data:   0%|          | 0.00/6.77M [00:00<?, ?B/s]"
            ],
            "application/vnd.jupyter.widget-view+json": {
              "version_major": 2,
              "version_minor": 0,
              "model_id": "f34466515c6f48328ef8656ba6422963"
            }
          },
          "metadata": {}
        },
        {
          "output_type": "display_data",
          "data": {
            "text/plain": [
              "Downloading data:   0%|          | 0.00/3.39M [00:00<?, ?B/s]"
            ],
            "application/vnd.jupyter.widget-view+json": {
              "version_major": 2,
              "version_minor": 0,
              "model_id": "b14cd8d2a5c842e39585fd0ec8695877"
            }
          },
          "metadata": {}
        },
        {
          "output_type": "display_data",
          "data": {
            "text/plain": [
              "Generating train split:   0%|          | 0/392702 [00:00<?, ? examples/s]"
            ],
            "application/vnd.jupyter.widget-view+json": {
              "version_major": 2,
              "version_minor": 0,
              "model_id": "d0eb3b589396449d94b61321fe74257d"
            }
          },
          "metadata": {}
        },
        {
          "output_type": "display_data",
          "data": {
            "text/plain": [
              "Generating test split:   0%|          | 0/5010 [00:00<?, ? examples/s]"
            ],
            "application/vnd.jupyter.widget-view+json": {
              "version_major": 2,
              "version_minor": 0,
              "model_id": "cd7c0fed850e4265af7942915072fcfb"
            }
          },
          "metadata": {}
        },
        {
          "output_type": "display_data",
          "data": {
            "text/plain": [
              "Generating validation split:   0%|          | 0/2490 [00:00<?, ? examples/s]"
            ],
            "application/vnd.jupyter.widget-view+json": {
              "version_major": 2,
              "version_minor": 0,
              "model_id": "d90a2edf0a2c462aa0aa371599eaea80"
            }
          },
          "metadata": {}
        }
      ],
      "source": [
        "xnli = load_dataset(\"xnli\", \"all_languages\", split=\"validation\")"
      ]
    },
    {
      "cell_type": "code",
      "execution_count": 8,
      "id": "ab230921",
      "metadata": {
        "id": "ab230921"
      },
      "outputs": [],
      "source": [
        "p = next(iter(xnli[\"premise\"]))"
      ]
    },
    {
      "cell_type": "code",
      "execution_count": 9,
      "id": "ce5450df",
      "metadata": {
        "id": "ce5450df"
      },
      "outputs": [],
      "source": [
        "for lang, text in p.items():\n",
        "    encoded_original = original.encode(text, bos=True, eos=False)\n",
        "    encoded_fast = t_fast.encode(text)\n",
        "    encoded_slow = t_slow.encode(text)\n",
        "    assert encoded_fast == encoded_original, f\"Fast encode error: {lang} - {text}\"\n",
        "    assert encoded_slow == encoded_original, f\"Slow encode error: {lang} - {text}\"\n",
        "    decoded = original.decode(encoded_original)\n",
        "    decoded_fast = t_fast.decode(encoded_fast, skip_special_tokens=True)\n",
        "    decoded_slow = t_slow.decode(encoded_slow, skip_special_tokens=True)\n",
        "    assert decoded_fast == decoded, f\"Fast decode error: {lang} - {text}\"\n",
        "    assert decoded_slow == decoded, f\"Slow decode error: {lang} - {text}\""
      ]
    },
    {
      "cell_type": "code",
      "execution_count": 10,
      "id": "111bd93b",
      "metadata": {
        "id": "111bd93b"
      },
      "outputs": [],
      "source": [
        "from tqdm import tqdm"
      ]
    },
    {
      "cell_type": "code",
      "execution_count": 11,
      "id": "9a52691b",
      "metadata": {
        "id": "9a52691b"
      },
      "outputs": [],
      "source": [
        "def verify(lang, text):\n",
        "    encoded_original = original.encode(text, bos=True, eos=False)\n",
        "    encoded_fast = t_fast.encode(text)\n",
        "    encoded_slow = t_slow.encode(text)\n",
        "#     assert encoded_fast == encoded_original, f\"Fast encode error: {lang} - {text}\"\n",
        "    assert encoded_slow == encoded_original, f\"Slow encode error: {lang} - {text}\"\n",
        "    decoded = original.decode(encoded_original)\n",
        "    decoded_fast = t_fast.decode(encoded_fast, skip_special_tokens=True)\n",
        "    decoded_slow = t_slow.decode(encoded_slow, skip_special_tokens=True)\n",
        "#     assert decoded_fast == decoded, f\"Fast decode error: {lang} - {text}\"\n",
        "    assert decoded_slow == decoded, f\"Slow decode error: {lang} - {text}\""
      ]
    },
    {
      "cell_type": "code",
      "execution_count": 12,
      "id": "f3123ffd",
      "metadata": {
        "colab": {
          "base_uri": "https://localhost:8080/",
          "height": 337
        },
        "id": "f3123ffd",
        "outputId": "7e481e16-43d3-40ec-b375-1000e301b511"
      },
      "outputs": [
        {
          "output_type": "stream",
          "name": "stderr",
          "text": [
            "  1%|          | 15/2490 [00:00<00:39, 62.82it/s]\n"
          ]
        },
        {
          "output_type": "error",
          "ename": "AssertionError",
          "evalue": "Slow decode error: ar - و ، إيه، هم  فعلا توقفوا عن زيارة العائلة لأنهم قرروا تماماأنهم سيصبحوا بيضاً .",
          "traceback": [
            "\u001b[0;31m---------------------------------------------------------------------------\u001b[0m",
            "\u001b[0;31mAssertionError\u001b[0m                            Traceback (most recent call last)",
            "\u001b[0;32m<ipython-input-12-fec39e072efa>\u001b[0m in \u001b[0;36m<cell line: 1>\u001b[0;34m()\u001b[0m\n\u001b[1;32m      1\u001b[0m \u001b[0;32mfor\u001b[0m \u001b[0mp\u001b[0m \u001b[0;32min\u001b[0m \u001b[0mtqdm\u001b[0m\u001b[0;34m(\u001b[0m\u001b[0mxnli\u001b[0m\u001b[0;34m[\u001b[0m\u001b[0;34m\"premise\"\u001b[0m\u001b[0;34m]\u001b[0m\u001b[0;34m)\u001b[0m\u001b[0;34m:\u001b[0m\u001b[0;34m\u001b[0m\u001b[0;34m\u001b[0m\u001b[0m\n\u001b[1;32m      2\u001b[0m     \u001b[0;32mfor\u001b[0m \u001b[0mlang\u001b[0m\u001b[0;34m,\u001b[0m \u001b[0mtext\u001b[0m \u001b[0;32min\u001b[0m \u001b[0mp\u001b[0m\u001b[0;34m.\u001b[0m\u001b[0mitems\u001b[0m\u001b[0;34m(\u001b[0m\u001b[0;34m)\u001b[0m\u001b[0;34m:\u001b[0m\u001b[0;34m\u001b[0m\u001b[0;34m\u001b[0m\u001b[0m\n\u001b[0;32m----> 3\u001b[0;31m         \u001b[0mverify\u001b[0m\u001b[0;34m(\u001b[0m\u001b[0mlang\u001b[0m\u001b[0;34m,\u001b[0m \u001b[0mtext\u001b[0m\u001b[0;34m)\u001b[0m\u001b[0;34m\u001b[0m\u001b[0;34m\u001b[0m\u001b[0m\n\u001b[0m",
            "\u001b[0;32m<ipython-input-11-b9ef5a432234>\u001b[0m in \u001b[0;36mverify\u001b[0;34m(lang, text)\u001b[0m\n\u001b[1;32m      9\u001b[0m     \u001b[0mdecoded_slow\u001b[0m \u001b[0;34m=\u001b[0m \u001b[0mt_slow\u001b[0m\u001b[0;34m.\u001b[0m\u001b[0mdecode\u001b[0m\u001b[0;34m(\u001b[0m\u001b[0mencoded_slow\u001b[0m\u001b[0;34m,\u001b[0m \u001b[0mskip_special_tokens\u001b[0m\u001b[0;34m=\u001b[0m\u001b[0;32mTrue\u001b[0m\u001b[0;34m)\u001b[0m\u001b[0;34m\u001b[0m\u001b[0;34m\u001b[0m\u001b[0m\n\u001b[1;32m     10\u001b[0m \u001b[0;31m#     assert decoded_fast == decoded, f\"Fast decode error: {lang} - {text}\"\u001b[0m\u001b[0;34m\u001b[0m\u001b[0;34m\u001b[0m\u001b[0m\n\u001b[0;32m---> 11\u001b[0;31m     \u001b[0;32massert\u001b[0m \u001b[0mdecoded_slow\u001b[0m \u001b[0;34m==\u001b[0m \u001b[0mdecoded\u001b[0m\u001b[0;34m,\u001b[0m \u001b[0;34mf\"Slow decode error: {lang} - {text}\"\u001b[0m\u001b[0;34m\u001b[0m\u001b[0;34m\u001b[0m\u001b[0m\n\u001b[0m",
            "\u001b[0;31mAssertionError\u001b[0m: Slow decode error: ar - و ، إيه، هم  فعلا توقفوا عن زيارة العائلة لأنهم قرروا تماماأنهم سيصبحوا بيضاً ."
          ]
        }
      ],
      "source": [
        "for p in tqdm(xnli[\"premise\"]):\n",
        "    for lang, text in p.items():\n",
        "        verify(lang, text)"
      ]
    },
    {
      "cell_type": "code",
      "source": [
        "def verify(lang, text):\n",
        "    encoded_original = original.encode(text, bos=True, eos=False)\n",
        "    encoded_fast = t_fast.encode(text)\n",
        "    encoded_slow = t_slow.encode(text)\n",
        "    assert encoded_fast == encoded_original, f\"Fast encode error: {lang} - {text}\"\n",
        "    # assert encoded_slow == encoded_original, f\"Slow encode error: {lang} - {text}\"\n",
        "    decoded = original.decode(encoded_original)\n",
        "    decoded_fast = t_fast.decode(encoded_fast, skip_special_tokens=True)\n",
        "    decoded_slow = t_slow.decode(encoded_slow, skip_special_tokens=True)\n",
        "    assert decoded_fast == decoded, f\"Fast decode error: {lang} - {text}\"\n",
        "    # assert decoded_slow == decoded, f\"Slow decode error: {lang} - {text}\""
      ],
      "metadata": {
        "id": "S2DO5G7pONau"
      },
      "id": "S2DO5G7pONau",
      "execution_count": 13,
      "outputs": []
    },
    {
      "cell_type": "code",
      "source": [
        "for p in tqdm(xnli[\"premise\"]):\n",
        "    for lang, text in p.items():\n",
        "        verify(lang, text)"
      ],
      "metadata": {
        "colab": {
          "base_uri": "https://localhost:8080/"
        },
        "id": "-0lc9WPsOODx",
        "outputId": "b69e55bc-82b3-4663-fbce-31b348e8245f"
      },
      "id": "-0lc9WPsOODx",
      "execution_count": 14,
      "outputs": [
        {
          "output_type": "stream",
          "name": "stderr",
          "text": [
            "100%|██████████| 2490/2490 [01:23<00:00, 29.75it/s]\n"
          ]
        }
      ]
    },
    {
      "cell_type": "code",
      "execution_count": null,
      "id": "2625fa6b",
      "metadata": {
        "id": "2625fa6b"
      },
      "outputs": [],
      "source": [
        "ds = load_dataset(\"codeparrot/github-code\", streaming=True, split=\"train\")"
      ]
    },
    {
      "cell_type": "code",
      "execution_count": null,
      "id": "d6262a7d",
      "metadata": {
        "id": "d6262a7d",
        "outputId": "6b9ce454-1247-41c1-b6ed-a00d6610c4e2"
      },
      "outputs": [
        {
          "data": {
            "text/plain": [
              "{'code': '\\'use strict\\';\\n\\nvar clear          = require(\\'es5-ext/array/#/clear\\')\\n  , eIndexOf       = require(\\'es5-ext/array/#/e-index-of\\')\\n  , setPrototypeOf = require(\\'es5-ext/object/set-prototype-of\\')\\n  , callable       = require(\\'es5-ext/object/valid-callable\\')\\n  , d              = require(\\'d\\')\\n  , ee             = require(\\'event-emitter\\')\\n  , Symbol         = require(\\'es6-symbol\\')\\n  , iterator       = require(\\'es6-iterator/valid-iterable\\')\\n  , forOf          = require(\\'es6-iterator/for-of\\')\\n  , Iterator       = require(\\'./lib/iterator\\')\\n  , isNative       = require(\\'./is-native-implemented\\')\\n\\n  , call = Function.prototype.call, defineProperty = Object.defineProperty\\n  , SetPoly, getValues;\\n\\nmodule.exports = SetPoly = function (/*iterable*/) {\\n\\tvar iterable = arguments[0];\\n\\tif (!(this instanceof SetPoly)) return new SetPoly(iterable);\\n\\tif (this.__setData__ !== undefined) {\\n\\t\\tthrow new TypeError(this + \" cannot be reinitialized\");\\n\\t}\\n\\tif (iterable != null) iterator(iterable);\\n\\tdefineProperty(this, \\'__setData__\\', d(\\'c\\', []));\\n\\tif (!iterable) return;\\n\\tforOf(iterable, function (value) {\\n\\t\\tif (eIndexOf.call(this, value) !== -1) return;\\n\\t\\tthis.push(value);\\n\\t}, this.__setData__);\\n};\\n\\nif (isNative) {\\n\\tif (setPrototypeOf) setPrototypeOf(SetPoly, Set);\\n\\tSetPoly.prototype = Object.create(Set.prototype, {\\n\\t\\tconstructor: d(SetPoly)\\n\\t});\\n}\\n\\nee(Object.defineProperties(SetPoly.prototype, {\\n\\tadd: d(function (value) {\\n\\t\\tif (this.has(value)) return this;\\n\\t\\tthis.emit(\\'_add\\', this.__setData__.push(value) - 1, value);\\n\\t\\treturn this;\\n\\t}),\\n\\tclear: d(function () {\\n\\t\\tif (!this.__setData__.length) return;\\n\\t\\tclear.call(this.__setData__);\\n\\t\\tthis.emit(\\'_clear\\');\\n\\t}),\\n\\tdelete: d(function (value) {\\n\\t\\tvar index = eIndexOf.call(this.__setData__, value);\\n\\t\\tif (index === -1) return false;\\n\\t\\tthis.__setData__.splice(index, 1);\\n\\t\\tthis.emit(\\'_delete\\', index, value);\\n\\t\\treturn true;\\n\\t}),\\n\\tentries: d(function () { return new Iterator(this, \\'key+value\\'); }),\\n\\tforEach: d(function (cb/*, thisArg*/) {\\n\\t\\tvar thisArg = arguments[1], iterator, result, value;\\n\\t\\tcallable(cb);\\n\\t\\titerator = this.values();\\n\\t\\tresult = iterator._next();\\n\\t\\twhile (result !== undefined) {\\n\\t\\t\\tvalue = iterator._resolve(result);\\n\\t\\t\\tcall.call(cb, thisArg, value, value, this);\\n\\t\\t\\tresult = iterator._next();\\n\\t\\t}\\n\\t}),\\n\\thas: d(function (value) {\\n\\t\\treturn (eIndexOf.call(this.__setData__, value) !== -1);\\n\\t}),\\n\\tkeys: d(getValues = function () { return this.values(); }),\\n\\tsize: d.gs(function () { return this.__setData__.length; }),\\n\\tvalues: d(function () { return new Iterator(this); }),\\n\\ttoString: d(function () { return \\'[object Set]\\'; })\\n}));\\ndefineProperty(SetPoly.prototype, Symbol.iterator, d(getValues));\\ndefineProperty(SetPoly.prototype, Symbol.toStringTag, d(\\'c\\', \\'Set\\'));\\n',\n",
              " 'repo_name': 'Socratacom/socrata-europe',\n",
              " 'path': 'wp-content/themes/sage/node_modules/asset-builder/node_modules/main-bower-files/node_modules/vinyl-fs/node_modules/glob-stream/node_modules/unique-stream/node_modules/es6-set/polyfill.js',\n",
              " 'language': 'JavaScript',\n",
              " 'license': 'gpl-2.0',\n",
              " 'size': 2730}"
            ]
          },
          "execution_count": 89,
          "metadata": {},
          "output_type": "execute_result"
        }
      ],
      "source": [
        "next(iter(ds))"
      ]
    },
    {
      "cell_type": "code",
      "execution_count": null,
      "id": "d983c5e8",
      "metadata": {
        "id": "d983c5e8",
        "outputId": "cd7fde42-7f4e-41d3-ed08-8245434e7250"
      },
      "outputs": [
        {
          "name": "stderr",
          "output_type": "stream",
          "text": [
            "100%|██████████████████████████████████████████████████████████████████████████████████████| 1000/1000 [00:46<00:00, 21.29it/s]\n"
          ]
        }
      ],
      "source": [
        "skipped = 0\n",
        "iterator = iter(ds)\n",
        "for _ in tqdm(range(1000)):\n",
        "    item = next(iterator)\n",
        "    code = item[\"code\"]\n",
        "    lang = item[\"language\"]\n",
        "    if False and item[\"size\"] > 1000:\n",
        "        skipped += 1\n",
        "        continue\n",
        "    verify(lang, code)"
      ]
    },
    {
      "cell_type": "code",
      "execution_count": null,
      "id": "ebf3e43a",
      "metadata": {
        "id": "ebf3e43a",
        "outputId": "d9964df5-a178-4a14-d194-5b3de7af5579"
      },
      "outputs": [
        {
          "data": {
            "text/plain": [
              "0"
            ]
          },
          "execution_count": 93,
          "metadata": {},
          "output_type": "execute_result"
        }
      ],
      "source": [
        "skipped"
      ]
    },
    {
      "cell_type": "code",
      "execution_count": null,
      "id": "3f2314c5",
      "metadata": {
        "id": "3f2314c5",
        "outputId": "c3baab01-8b8d-48c8-bca5-72b48a55754e"
      },
      "outputs": [
        {
          "data": {
            "text/plain": [
              "32"
            ]
          },
          "execution_count": 95,
          "metadata": {},
          "output_type": "execute_result"
        }
      ],
      "source": [
        "len(\"▁ ▁▁▁▁▁▁▁▁▁▁▁▁▁▁▁▁▁▁▁▁▁▁▁▁▁▁▁▁▁▁\")"
      ]
    },
    {
      "cell_type": "code",
      "execution_count": null,
      "id": "51af9e5d",
      "metadata": {
        "id": "51af9e5d",
        "outputId": "b18c7043-a7e0-468c-ecde-8c5ac5b04eec"
      },
      "outputs": [
        {
          "name": "stdout",
          "output_type": "stream",
          "text": [
            "[2, 809, 8071, 774, 777, 5585, 1730, 108, 809, 6263, 55150, 235265, 37189, 1730, 109, 3249, 3097, 3022, 1236, 612, 108, 139, 773, 591, 108, 141, 235322, 927, 5060, 627, 55150, 235290, 927, 768, 108, 143, 235322, 14789, 5060, 627, 7773, 58367, 2915, 67594, 235290, 55150, 235281, 4881, 627, 235274, 235276, 235276, 40018, 5721, 627, 235274, 235276, 235276, 235281, 2116, 3207, 627, 235276, 235248, 235276, 235248, 235274, 235276, 235276, 235248, 235274, 235276, 235284, 235281, 26271, 145417, 627, 10763, 768, 108, 147, 235322, 2222, 499, 627, 235296, 235276, 235248, 235276, 629, 235276, 235248, 235274, 235276, 235276, 629, 235324, 235276, 235248, 235276, 629, 235274, 235276, 235276, 235248, 235274, 235276, 235276, 629, 235274, 235276, 235276, 235248, 235276, 1271, 235281, 4224, 108, 143, 727, 14789, 235313, 108, 143, 235322, 235259, 235284, 5060, 627, 55150, 235290, 5351, 768, 43629, 193, 108, 143, 235322, 235263, 5060, 627, 55150, 474, 4526, 768, 108, 147, 95661, 235283, 988, 235318, 8071, 139738, 13116, 17852, 94776, 81690, 37466, 10210, 235265, 2833, 188629, 82780, 713, 3626, 4791, 33354, 7904, 3626, 64831, 42556, 130278, 43965, 4556, 1779, 22812, 1021, 13566, 235283, 10882, 108, 143, 727, 235263, 235313, 108, 145, 235322, 3716, 5060, 627, 3716, 6086, 794, 1677, 506, 6086, 794, 157550, 7841, 235290, 5012, 768, 108, 147, 1358, 2961, 968, 235252, 5060, 627, 1072, 1210, 235290, 8384, 7841, 235290, 8384, 768, 211, 235322, 235250, 5060, 627, 55150, 235290, 5012, 235290, 235250, 235281, 6017, 627, 2468, 1336, 1920, 235265, 8384, 235265, 872, 235283, 18734, 120608, 235281, 4408, 31253, 18574, 7710, 235250, 235313, 108, 145, 727, 3716, 235313, 108, 141, 727, 927, 235313, 108, 139, 594, 108, 235270, 108]\n"
          ]
        }
      ],
      "source": [
        "encoded = original.encode(code)\n",
        "print(encoded)"
      ]
    },
    {
      "cell_type": "code",
      "execution_count": null,
      "id": "beb4863e",
      "metadata": {
        "id": "beb4863e",
        "outputId": "2b666fc0-3c9d-4b45-9815-3f40ae2c144b"
      },
      "outputs": [
        {
          "name": "stdout",
          "output_type": "stream",
          "text": [
            "[2, 809, 8071, 774, 777, 5585, 1730, 108, 809, 6263, 55150, 235265, 37189, 1730, 109, 3249, 3097, 3022, 1236, 612, 108, 139, 773, 591, 108, 141, 235322, 927, 5060, 627, 55150, 235290, 927, 768, 108, 143, 235322, 14789, 5060, 627, 7773, 58367, 2915, 67594, 235290, 55150, 235281, 4881, 627, 235274, 235276, 235276, 40018, 5721, 627, 235274, 235276, 235276, 235281, 2116, 3207, 627, 235276, 235248, 235276, 235248, 235274, 235276, 235276, 235248, 235274, 235276, 235284, 235281, 26271, 145417, 627, 10763, 768, 108, 147, 235322, 2222, 499, 627, 235296, 235276, 235248, 235276, 629, 235276, 235248, 235274, 235276, 235276, 629, 235324, 235276, 235248, 235276, 629, 235274, 235276, 235276, 235248, 235274, 235276, 235276, 629, 235274, 235276, 235276, 235248, 235276, 1271, 235281, 4224, 108, 143, 727, 14789, 235313, 108, 143, 235322, 235259, 235284, 5060, 627, 55150, 235290, 5351, 768, 43629, 727, 235259, 235284, 235313, 108, 143, 235322, 235263, 5060, 627, 55150, 474, 4526, 768, 108, 147, 95661, 235283, 988, 235318, 8071, 139738, 13116, 17852, 94776, 81690, 37466, 10210, 235265, 2833, 188629, 82780, 713, 3626, 4791, 33354, 7904, 3626, 64831, 42556, 130278, 43965, 4556, 1779, 22812, 1021, 13566, 235283, 10882, 108, 143, 727, 235263, 235313, 108, 145, 235322, 3716, 5060, 627, 3716, 6086, 794, 1677, 506, 6086, 794, 157550, 7841, 235290, 5012, 768, 108, 147, 1358, 2961, 968, 235252, 5060, 627, 1072, 1210, 235290, 8384, 7841, 235290, 8384, 7710, 235252, 2577, 235250, 5060, 627, 55150, 235290, 5012, 235290, 235250, 235281, 6017, 627, 2468, 1336, 1920, 235265, 8384, 235265, 872, 235283, 18734, 120608, 235281, 4408, 31253, 18574, 7710, 235250, 235313, 108, 145, 727, 3716, 235313, 108, 141, 727, 927, 235313, 108, 139, 594, 108, 235270, 108]\n"
          ]
        }
      ],
      "source": [
        "fast_encoded = t_fast.encode(code)\n",
        "print(fast_encoded)"
      ]
    },
    {
      "cell_type": "code",
      "execution_count": null,
      "id": "a2add490",
      "metadata": {
        "id": "a2add490",
        "outputId": "87542f58-cfae-48e5-c23f-e1d8c80146f1"
      },
      "outputs": [
        {
          "data": {
            "text/plain": [
              "(265, 268)"
            ]
          },
          "execution_count": 78,
          "metadata": {},
          "output_type": "execute_result"
        }
      ],
      "source": [
        "len(encoded), len(fast_encoded)"
      ]
    },
    {
      "cell_type": "code",
      "execution_count": null,
      "id": "c8061bf8",
      "metadata": {
        "id": "c8061bf8",
        "outputId": "580f318a-17d6-405c-ceeb-5a66941cb6c4"
      },
      "outputs": [
        {
          "name": "stdout",
          "output_type": "stream",
          "text": [
            "Mismatch at 134: 193 != 727\n",
            "Mismatch at 135: 108 != 235259\n",
            "Mismatch at 136: 143 != 235284\n",
            "Mismatch at 137: 235322 != 235313\n",
            "Mismatch at 138: 235263 != 108\n",
            "Mismatch at 139: 5060 != 143\n",
            "Mismatch at 140: 627 != 235322\n",
            "Mismatch at 141: 55150 != 235263\n",
            "Mismatch at 142: 474 != 5060\n",
            "Mismatch at 143: 4526 != 627\n",
            "Mismatch at 144: 768 != 55150\n",
            "Mismatch at 145: 108 != 474\n",
            "Mismatch at 146: 147 != 4526\n",
            "Mismatch at 147: 95661 != 768\n",
            "Mismatch at 148: 235283 != 108\n",
            "Mismatch at 149: 988 != 147\n",
            "Mismatch at 150: 235318 != 95661\n",
            "Mismatch at 151: 8071 != 235283\n",
            "Mismatch at 152: 139738 != 988\n",
            "Mismatch at 153: 13116 != 235318\n",
            "Mismatch at 154: 17852 != 8071\n",
            "Mismatch at 155: 94776 != 139738\n",
            "Mismatch at 156: 81690 != 13116\n",
            "Mismatch at 157: 37466 != 17852\n",
            "Mismatch at 158: 10210 != 94776\n",
            "Mismatch at 159: 235265 != 81690\n",
            "Mismatch at 160: 2833 != 37466\n",
            "Mismatch at 161: 188629 != 10210\n",
            "Mismatch at 162: 82780 != 235265\n",
            "Mismatch at 163: 713 != 2833\n",
            "Mismatch at 164: 3626 != 188629\n",
            "Mismatch at 165: 4791 != 82780\n",
            "Mismatch at 166: 33354 != 713\n",
            "Mismatch at 167: 7904 != 3626\n",
            "Mismatch at 168: 3626 != 4791\n",
            "Mismatch at 169: 64831 != 33354\n",
            "Mismatch at 170: 42556 != 7904\n",
            "Mismatch at 171: 130278 != 3626\n",
            "Mismatch at 172: 43965 != 64831\n",
            "Mismatch at 173: 4556 != 42556\n",
            "Mismatch at 174: 1779 != 130278\n",
            "Mismatch at 175: 22812 != 43965\n",
            "Mismatch at 176: 1021 != 4556\n",
            "Mismatch at 177: 13566 != 1779\n",
            "Mismatch at 178: 235283 != 22812\n",
            "Mismatch at 179: 10882 != 1021\n",
            "Mismatch at 180: 108 != 13566\n",
            "Mismatch at 181: 143 != 235283\n",
            "Mismatch at 182: 727 != 10882\n",
            "Mismatch at 183: 235263 != 108\n",
            "Mismatch at 184: 235313 != 143\n",
            "Mismatch at 185: 108 != 727\n",
            "Mismatch at 186: 145 != 235263\n",
            "Mismatch at 187: 235322 != 235313\n",
            "Mismatch at 188: 3716 != 108\n",
            "Mismatch at 189: 5060 != 145\n",
            "Mismatch at 190: 627 != 235322\n",
            "Mismatch at 192: 6086 != 5060\n",
            "Mismatch at 193: 794 != 627\n",
            "Mismatch at 194: 1677 != 3716\n",
            "Mismatch at 195: 506 != 6086\n",
            "Mismatch at 196: 6086 != 794\n",
            "Mismatch at 197: 794 != 1677\n",
            "Mismatch at 198: 157550 != 506\n",
            "Mismatch at 199: 7841 != 6086\n",
            "Mismatch at 200: 235290 != 794\n",
            "Mismatch at 201: 5012 != 157550\n",
            "Mismatch at 202: 768 != 7841\n",
            "Mismatch at 203: 108 != 235290\n",
            "Mismatch at 204: 147 != 5012\n",
            "Mismatch at 205: 1358 != 768\n",
            "Mismatch at 206: 2961 != 108\n",
            "Mismatch at 207: 968 != 147\n",
            "Mismatch at 208: 235252 != 1358\n",
            "Mismatch at 209: 5060 != 2961\n",
            "Mismatch at 210: 627 != 968\n",
            "Mismatch at 211: 1072 != 235252\n",
            "Mismatch at 212: 1210 != 5060\n",
            "Mismatch at 213: 235290 != 627\n",
            "Mismatch at 214: 8384 != 1072\n",
            "Mismatch at 215: 7841 != 1210\n",
            "Mismatch at 218: 768 != 7841\n",
            "Mismatch at 219: 211 != 235290\n",
            "Mismatch at 220: 235322 != 8384\n",
            "Mismatch at 221: 235250 != 7710\n",
            "Mismatch at 222: 5060 != 235252\n",
            "Mismatch at 223: 627 != 2577\n",
            "Mismatch at 224: 55150 != 235250\n",
            "Mismatch at 225: 235290 != 5060\n",
            "Mismatch at 226: 5012 != 627\n",
            "Mismatch at 227: 235290 != 55150\n",
            "Mismatch at 228: 235250 != 235290\n",
            "Mismatch at 229: 235281 != 5012\n",
            "Mismatch at 230: 6017 != 235290\n",
            "Mismatch at 231: 627 != 235250\n",
            "Mismatch at 232: 2468 != 235281\n",
            "Mismatch at 233: 1336 != 6017\n",
            "Mismatch at 234: 1920 != 627\n",
            "Mismatch at 235: 235265 != 2468\n",
            "Mismatch at 236: 8384 != 1336\n",
            "Mismatch at 237: 235265 != 1920\n",
            "Mismatch at 238: 872 != 235265\n",
            "Mismatch at 239: 235283 != 8384\n",
            "Mismatch at 240: 18734 != 235265\n",
            "Mismatch at 241: 120608 != 872\n",
            "Mismatch at 242: 235281 != 235283\n",
            "Mismatch at 243: 4408 != 18734\n",
            "Mismatch at 244: 31253 != 120608\n",
            "Mismatch at 245: 18574 != 235281\n",
            "Mismatch at 246: 7710 != 4408\n",
            "Mismatch at 247: 235250 != 31253\n",
            "Mismatch at 248: 235313 != 18574\n",
            "Mismatch at 249: 108 != 7710\n",
            "Mismatch at 250: 145 != 235250\n",
            "Mismatch at 251: 727 != 235313\n",
            "Mismatch at 252: 3716 != 108\n",
            "Mismatch at 253: 235313 != 145\n",
            "Mismatch at 254: 108 != 727\n",
            "Mismatch at 255: 141 != 3716\n",
            "Mismatch at 256: 727 != 235313\n",
            "Mismatch at 257: 927 != 108\n",
            "Mismatch at 258: 235313 != 141\n",
            "Mismatch at 259: 108 != 727\n",
            "Mismatch at 260: 139 != 927\n",
            "Mismatch at 261: 594 != 235313\n",
            "Mismatch at 263: 235270 != 139\n",
            "Mismatch at 264: 108 != 594\n"
          ]
        }
      ],
      "source": [
        "for i, (x, y) in enumerate(zip(encoded, fast_encoded)):\n",
        "    if x != y:\n",
        "        print(f\"Mismatch at {i}: {x} != {y}\")"
      ]
    },
    {
      "cell_type": "code",
      "execution_count": null,
      "id": "0fa3f838",
      "metadata": {
        "id": "0fa3f838"
      },
      "outputs": [],
      "source": [
        "correct_fast = AutoTokenizer.from_pretrained(\"google/recurrentgemma-2b\", revision=\"refs/pr/6\")"
      ]
    },
    {
      "cell_type": "code",
      "execution_count": null,
      "id": "64eaed45",
      "metadata": {
        "id": "64eaed45",
        "outputId": "68d91785-1ce7-4460-bb13-a5e2d4737f83"
      },
      "outputs": [
        {
          "data": {
            "text/plain": [
              "True"
            ]
          },
          "execution_count": 82,
          "metadata": {},
          "output_type": "execute_result"
        }
      ],
      "source": [
        "correct_fast.encode(code) == encoded"
      ]
    },
    {
      "cell_type": "markdown",
      "id": "c0180a27",
      "metadata": {
        "id": "c0180a27"
      },
      "source": [
        "-----"
      ]
    },
    {
      "cell_type": "markdown",
      "id": "4aaa843a",
      "metadata": {
        "id": "4aaa843a"
      },
      "source": [
        "This is a genuine problem with the fast tokenizer from the PR. A long sequence of spaces is encoded to two different tokens."
      ]
    },
    {
      "cell_type": "code",
      "execution_count": null,
      "id": "701c816b",
      "metadata": {
        "id": "701c816b",
        "outputId": "3d3314f1-7ccb-4209-8654-b5231759d958"
      },
      "outputs": [
        {
          "data": {
            "text/plain": [
              "'                               '"
            ]
          },
          "execution_count": 54,
          "metadata": {},
          "output_type": "execute_result"
        }
      ],
      "source": [
        "original.decode([168])"
      ]
    },
    {
      "cell_type": "code",
      "execution_count": null,
      "id": "ac1a682a",
      "metadata": {
        "id": "ac1a682a",
        "outputId": "81677c96-97ec-4b76-ac23-163ac3c44ae3"
      },
      "outputs": [
        {
          "data": {
            "text/plain": [
              "'                '"
            ]
          },
          "execution_count": 55,
          "metadata": {},
          "output_type": "execute_result"
        }
      ],
      "source": [
        "original.decode([153])"
      ]
    },
    {
      "cell_type": "code",
      "execution_count": null,
      "id": "6bcf7f36",
      "metadata": {
        "id": "6bcf7f36",
        "outputId": "fc83c402-d48e-46e5-ebfa-1bdcff53eae8"
      },
      "outputs": [
        {
          "data": {
            "text/plain": [
              "'                               '"
            ]
          },
          "execution_count": 56,
          "metadata": {},
          "output_type": "execute_result"
        }
      ],
      "source": [
        "t_fast.decode([168])"
      ]
    },
    {
      "cell_type": "code",
      "execution_count": null,
      "id": "125c792a",
      "metadata": {
        "id": "125c792a",
        "outputId": "a3c98259-15e8-44fe-a9f3-3896d9f6b6fc"
      },
      "outputs": [
        {
          "data": {
            "text/plain": [
              "'                '"
            ]
          },
          "execution_count": 57,
          "metadata": {},
          "output_type": "execute_result"
        }
      ],
      "source": [
        "t_fast.decode([153])"
      ]
    },
    {
      "cell_type": "code",
      "execution_count": null,
      "id": "2c0f8679",
      "metadata": {
        "id": "2c0f8679",
        "outputId": "9a4029e4-c303-4143-cd79-820cc1141553"
      },
      "outputs": [
        {
          "data": {
            "text/plain": [
              "[168]"
            ]
          },
          "execution_count": 60,
          "metadata": {},
          "output_type": "execute_result"
        }
      ],
      "source": [
        "original.encode('                               ', bos=False)"
      ]
    },
    {
      "cell_type": "code",
      "execution_count": null,
      "id": "37843088",
      "metadata": {
        "id": "37843088",
        "outputId": "6bb25d5d-23a9-4a07-c1bc-35c579bab700"
      },
      "outputs": [
        {
          "data": {
            "text/plain": [
              "[168]"
            ]
          },
          "execution_count": 62,
          "metadata": {},
          "output_type": "execute_result"
        }
      ],
      "source": [
        "t_fast.encode('                               ', add_special_tokens=False)"
      ]
    },
    {
      "cell_type": "code",
      "execution_count": null,
      "id": "9f959c58",
      "metadata": {
        "id": "9f959c58",
        "outputId": "28e8607e-c316-49f3-d461-a167827fae98"
      },
      "outputs": [
        {
          "data": {
            "text/plain": [
              "240"
            ]
          },
          "execution_count": 63,
          "metadata": {},
          "output_type": "execute_result"
        }
      ],
      "source": [
        "len(encoded)"
      ]
    },
    {
      "cell_type": "code",
      "execution_count": null,
      "id": "3fbd0e27",
      "metadata": {
        "id": "3fbd0e27",
        "outputId": "e4739bfc-2c39-4b02-e379-0272aa3149fc"
      },
      "outputs": [
        {
          "data": {
            "text/plain": [
              "[153, 168]"
            ]
          },
          "execution_count": 65,
          "metadata": {},
          "output_type": "execute_result"
        }
      ],
      "source": [
        "t_fast.encode(\"                                               \", add_special_tokens=False)"
      ]
    },
    {
      "cell_type": "code",
      "execution_count": null,
      "id": "09e04d45",
      "metadata": {
        "id": "09e04d45",
        "outputId": "17d8ffde-6c58-47c0-e137-772edad97751"
      },
      "outputs": [
        {
          "data": {
            "text/plain": [
              "[168, 153]"
            ]
          },
          "execution_count": 67,
          "metadata": {},
          "output_type": "execute_result"
        }
      ],
      "source": [
        "original.encode(\"                                               \", bos=False)"
      ]
    },
    {
      "cell_type": "code",
      "execution_count": null,
      "id": "00ffb8b1",
      "metadata": {
        "id": "00ffb8b1",
        "outputId": "ff243a4d-1ede-4c7c-c189-46c9099c07f2"
      },
      "outputs": [
        {
          "data": {
            "text/plain": [
              "[168, 153]"
            ]
          },
          "execution_count": 69,
          "metadata": {},
          "output_type": "execute_result"
        }
      ],
      "source": [
        "t_slow.encode(\"                                               \", add_special_tokens=False)"
      ]
    },
    {
      "cell_type": "code",
      "execution_count": null,
      "id": "9ebaaf14",
      "metadata": {
        "id": "9ebaaf14",
        "outputId": "32dd1645-3f90-4ef8-af3f-d6a66ee36929"
      },
      "outputs": [
        {
          "data": {
            "text/plain": [
              "47"
            ]
          },
          "execution_count": 70,
          "metadata": {},
          "output_type": "execute_result"
        }
      ],
      "source": [
        "len(\"                                               \")"
      ]
    },
    {
      "cell_type": "code",
      "execution_count": null,
      "id": "0732d744",
      "metadata": {
        "id": "0732d744",
        "outputId": "b2179b7d-1b2c-4ad9-92f5-dd88e33b64ea"
      },
      "outputs": [
        {
          "data": {
            "text/plain": [
              "(31, 16)"
            ]
          },
          "execution_count": 71,
          "metadata": {},
          "output_type": "execute_result"
        }
      ],
      "source": [
        "len('                               '), len('                ')"
      ]
    },
    {
      "cell_type": "code",
      "execution_count": null,
      "id": "f9a4a4c7",
      "metadata": {
        "id": "f9a4a4c7",
        "outputId": "833d8b22-8e92-4993-8d9e-c3f66e5d8916"
      },
      "outputs": [
        {
          "name": "stdout",
          "output_type": "stream",
          "text": [
            "[2, 809, 11092, 235250, 235265, 8736, 685, 11092, 792, 89846, 108, 809, 11092, 235250, 235265, 3744, 5815, 685, 11092, 16437, 235266, 108, 809, 53649, 109, 1638, 4671, 2720, 7761, 235278, 51568, 235265, 28132, 1245, 108, 141, 1293, 33826, 235278, 1053, 1245, 108, 145, 1053, 235265, 7363, 589, 11092, 16437, 235266, 235265, 3744, 5815, 235278, 108, 149, 235281, 16833, 235283, 2195, 235298, 1259, 235283, 26154, 235265, 3327, 824, 108, 149, 9766, 48020, 235298, 2222, 1192, 664, 16833, 235283, 2195, 235298, 1259, 235283, 5490, 12990, 108, 145, 235275, 108, 145, 1053, 235265, 8578, 235298, 1701, 589, 892, 108, 147, 235281, 14214, 235265, 3028, 824, 108, 147, 235281, 235267, 85897, 477, 235265, 6001, 824, 108, 147, 235281, 8840, 4996, 553, 31524, 574, 4996, 553, 620, 235259, 1014, 235265, 4405, 235262, 235281, 108, 145, 235307, 109, 141, 1293, 2121, 235298, 7591, 480, 183853, 235278, 1053, 1245, 108, 145, 1053, 235265, 20658, 885, 14214, 235265, 3028, 235281, 780, 575, 108, 161, 95062, 8736, 235265, 6395, 18648, 235278, 1053, 235265, 8578, 235298, 1701, 235269, 108, 168, 153, 1053, 235265, 7363, 1269, 108, 145, 1053, 235265, 20658, 885, 235267, 85897, 477, 235265, 6001, 235281, 575, 108, 161, 95062, 8736, 235265, 6395, 18648, 235278, 1053, 235265, 8578, 235298, 1701, 235269, 108, 168, 153, 1053, 235265, 7363, 1269, 109, 141, 1293, 2121, 235298, 90415, 3886, 235278, 1053, 1245, 108, 145, 1053, 235265, 23661, 235278, 235276, 235269, 4574, 235278, 95062, 8736, 235265, 6395, 18648, 116382, 2011, 235265, 7363, 10199, 108]\n"
          ]
        }
      ],
      "source": [
        "slow_encoded = t_slow.encode(code)\n",
        "print(slow_encoded)"
      ]
    },
    {
      "cell_type": "code",
      "execution_count": null,
      "id": "d19f1f93",
      "metadata": {
        "scrolled": false,
        "id": "d19f1f93",
        "outputId": "93fe6605-0645-49d4-bed6-d9e7ac0839b5"
      },
      "outputs": [
        {
          "data": {
            "text/plain": [
              "(False, True)"
            ]
          },
          "execution_count": 48,
          "metadata": {},
          "output_type": "execute_result"
        }
      ],
      "source": [
        "fast_encoded == encoded, slow_encoded == encoded"
      ]
    },
    {
      "cell_type": "code",
      "execution_count": null,
      "id": "c95b0fef",
      "metadata": {
        "id": "c95b0fef"
      },
      "outputs": [],
      "source": [
        "manually_manipulated_fast = AutoTokenizer.from_pretrained(\"/data/models/gemma/from_hub/tokenizer_bug/recurrentgemma-2b\")"
      ]
    },
    {
      "cell_type": "code",
      "execution_count": null,
      "id": "c7ef7759",
      "metadata": {
        "id": "c7ef7759",
        "outputId": "e17b7cdc-926b-4463-a19d-610edaa23c9e"
      },
      "outputs": [
        {
          "data": {
            "text/plain": [
              "[153, 168]"
            ]
          },
          "execution_count": 85,
          "metadata": {},
          "output_type": "execute_result"
        }
      ],
      "source": [
        "manually_manipulated_fast.encode(\"                                               \", add_special_tokens=False)"
      ]
    },
    {
      "cell_type": "code",
      "execution_count": null,
      "id": "5b8b3fc1",
      "metadata": {
        "id": "5b8b3fc1"
      },
      "outputs": [],
      "source": []
    }
  ],
  "metadata": {
    "kernelspec": {
      "display_name": "Python 3 (ipykernel)",
      "language": "python",
      "name": "python3"
    },
    "language_info": {
      "codemirror_mode": {
        "name": "ipython",
        "version": 3
      },
      "file_extension": ".py",
      "mimetype": "text/x-python",
      "name": "python",
      "nbconvert_exporter": "python",
      "pygments_lexer": "ipython3",
      "version": "3.10.12"
    },
    "colab": {
      "provenance": [],
      "include_colab_link": true
    },
    "widgets": {
      "application/vnd.jupyter.widget-state+json": {
        "3ad769aa67914453a6324907e6bc15df": {
          "model_module": "@jupyter-widgets/controls",
          "model_name": "HBoxModel",
          "model_module_version": "1.5.0",
          "state": {
            "_dom_classes": [],
            "_model_module": "@jupyter-widgets/controls",
            "_model_module_version": "1.5.0",
            "_model_name": "HBoxModel",
            "_view_count": null,
            "_view_module": "@jupyter-widgets/controls",
            "_view_module_version": "1.5.0",
            "_view_name": "HBoxView",
            "box_style": "",
            "children": [
              "IPY_MODEL_389edb0338f7456da2203fd255d26252",
              "IPY_MODEL_f0467713e4144bc9aa34e6001e259e12",
              "IPY_MODEL_068061598ae44be89a7df3ddc264c3c3"
            ],
            "layout": "IPY_MODEL_184c4dbd71ed466b9b06240ce6994818"
          }
        },
        "389edb0338f7456da2203fd255d26252": {
          "model_module": "@jupyter-widgets/controls",
          "model_name": "HTMLModel",
          "model_module_version": "1.5.0",
          "state": {
            "_dom_classes": [],
            "_model_module": "@jupyter-widgets/controls",
            "_model_module_version": "1.5.0",
            "_model_name": "HTMLModel",
            "_view_count": null,
            "_view_module": "@jupyter-widgets/controls",
            "_view_module_version": "1.5.0",
            "_view_name": "HTMLView",
            "description": "",
            "description_tooltip": null,
            "layout": "IPY_MODEL_f8470c0f325f4f429f4c59812025a5f5",
            "placeholder": "​",
            "style": "IPY_MODEL_a9a85bbe483344ed929b46dc80ea8f3f",
            "value": "Downloading readme: 100%"
          }
        },
        "f0467713e4144bc9aa34e6001e259e12": {
          "model_module": "@jupyter-widgets/controls",
          "model_name": "FloatProgressModel",
          "model_module_version": "1.5.0",
          "state": {
            "_dom_classes": [],
            "_model_module": "@jupyter-widgets/controls",
            "_model_module_version": "1.5.0",
            "_model_name": "FloatProgressModel",
            "_view_count": null,
            "_view_module": "@jupyter-widgets/controls",
            "_view_module_version": "1.5.0",
            "_view_name": "ProgressView",
            "bar_style": "success",
            "description": "",
            "description_tooltip": null,
            "layout": "IPY_MODEL_aee58b953c8d456b99defbea3053aa28",
            "max": 20789,
            "min": 0,
            "orientation": "horizontal",
            "style": "IPY_MODEL_f7f542b583af4da697fada7918f597ad",
            "value": 20789
          }
        },
        "068061598ae44be89a7df3ddc264c3c3": {
          "model_module": "@jupyter-widgets/controls",
          "model_name": "HTMLModel",
          "model_module_version": "1.5.0",
          "state": {
            "_dom_classes": [],
            "_model_module": "@jupyter-widgets/controls",
            "_model_module_version": "1.5.0",
            "_model_name": "HTMLModel",
            "_view_count": null,
            "_view_module": "@jupyter-widgets/controls",
            "_view_module_version": "1.5.0",
            "_view_name": "HTMLView",
            "description": "",
            "description_tooltip": null,
            "layout": "IPY_MODEL_a56d6f8f591346da81920a829f6052c0",
            "placeholder": "​",
            "style": "IPY_MODEL_02bad0a7d2f24bb786b9976d1784e242",
            "value": " 20.8k/20.8k [00:00&lt;00:00, 886kB/s]"
          }
        },
        "184c4dbd71ed466b9b06240ce6994818": {
          "model_module": "@jupyter-widgets/base",
          "model_name": "LayoutModel",
          "model_module_version": "1.2.0",
          "state": {
            "_model_module": "@jupyter-widgets/base",
            "_model_module_version": "1.2.0",
            "_model_name": "LayoutModel",
            "_view_count": null,
            "_view_module": "@jupyter-widgets/base",
            "_view_module_version": "1.2.0",
            "_view_name": "LayoutView",
            "align_content": null,
            "align_items": null,
            "align_self": null,
            "border": null,
            "bottom": null,
            "display": null,
            "flex": null,
            "flex_flow": null,
            "grid_area": null,
            "grid_auto_columns": null,
            "grid_auto_flow": null,
            "grid_auto_rows": null,
            "grid_column": null,
            "grid_gap": null,
            "grid_row": null,
            "grid_template_areas": null,
            "grid_template_columns": null,
            "grid_template_rows": null,
            "height": null,
            "justify_content": null,
            "justify_items": null,
            "left": null,
            "margin": null,
            "max_height": null,
            "max_width": null,
            "min_height": null,
            "min_width": null,
            "object_fit": null,
            "object_position": null,
            "order": null,
            "overflow": null,
            "overflow_x": null,
            "overflow_y": null,
            "padding": null,
            "right": null,
            "top": null,
            "visibility": null,
            "width": null
          }
        },
        "f8470c0f325f4f429f4c59812025a5f5": {
          "model_module": "@jupyter-widgets/base",
          "model_name": "LayoutModel",
          "model_module_version": "1.2.0",
          "state": {
            "_model_module": "@jupyter-widgets/base",
            "_model_module_version": "1.2.0",
            "_model_name": "LayoutModel",
            "_view_count": null,
            "_view_module": "@jupyter-widgets/base",
            "_view_module_version": "1.2.0",
            "_view_name": "LayoutView",
            "align_content": null,
            "align_items": null,
            "align_self": null,
            "border": null,
            "bottom": null,
            "display": null,
            "flex": null,
            "flex_flow": null,
            "grid_area": null,
            "grid_auto_columns": null,
            "grid_auto_flow": null,
            "grid_auto_rows": null,
            "grid_column": null,
            "grid_gap": null,
            "grid_row": null,
            "grid_template_areas": null,
            "grid_template_columns": null,
            "grid_template_rows": null,
            "height": null,
            "justify_content": null,
            "justify_items": null,
            "left": null,
            "margin": null,
            "max_height": null,
            "max_width": null,
            "min_height": null,
            "min_width": null,
            "object_fit": null,
            "object_position": null,
            "order": null,
            "overflow": null,
            "overflow_x": null,
            "overflow_y": null,
            "padding": null,
            "right": null,
            "top": null,
            "visibility": null,
            "width": null
          }
        },
        "a9a85bbe483344ed929b46dc80ea8f3f": {
          "model_module": "@jupyter-widgets/controls",
          "model_name": "DescriptionStyleModel",
          "model_module_version": "1.5.0",
          "state": {
            "_model_module": "@jupyter-widgets/controls",
            "_model_module_version": "1.5.0",
            "_model_name": "DescriptionStyleModel",
            "_view_count": null,
            "_view_module": "@jupyter-widgets/base",
            "_view_module_version": "1.2.0",
            "_view_name": "StyleView",
            "description_width": ""
          }
        },
        "aee58b953c8d456b99defbea3053aa28": {
          "model_module": "@jupyter-widgets/base",
          "model_name": "LayoutModel",
          "model_module_version": "1.2.0",
          "state": {
            "_model_module": "@jupyter-widgets/base",
            "_model_module_version": "1.2.0",
            "_model_name": "LayoutModel",
            "_view_count": null,
            "_view_module": "@jupyter-widgets/base",
            "_view_module_version": "1.2.0",
            "_view_name": "LayoutView",
            "align_content": null,
            "align_items": null,
            "align_self": null,
            "border": null,
            "bottom": null,
            "display": null,
            "flex": null,
            "flex_flow": null,
            "grid_area": null,
            "grid_auto_columns": null,
            "grid_auto_flow": null,
            "grid_auto_rows": null,
            "grid_column": null,
            "grid_gap": null,
            "grid_row": null,
            "grid_template_areas": null,
            "grid_template_columns": null,
            "grid_template_rows": null,
            "height": null,
            "justify_content": null,
            "justify_items": null,
            "left": null,
            "margin": null,
            "max_height": null,
            "max_width": null,
            "min_height": null,
            "min_width": null,
            "object_fit": null,
            "object_position": null,
            "order": null,
            "overflow": null,
            "overflow_x": null,
            "overflow_y": null,
            "padding": null,
            "right": null,
            "top": null,
            "visibility": null,
            "width": null
          }
        },
        "f7f542b583af4da697fada7918f597ad": {
          "model_module": "@jupyter-widgets/controls",
          "model_name": "ProgressStyleModel",
          "model_module_version": "1.5.0",
          "state": {
            "_model_module": "@jupyter-widgets/controls",
            "_model_module_version": "1.5.0",
            "_model_name": "ProgressStyleModel",
            "_view_count": null,
            "_view_module": "@jupyter-widgets/base",
            "_view_module_version": "1.2.0",
            "_view_name": "StyleView",
            "bar_color": null,
            "description_width": ""
          }
        },
        "a56d6f8f591346da81920a829f6052c0": {
          "model_module": "@jupyter-widgets/base",
          "model_name": "LayoutModel",
          "model_module_version": "1.2.0",
          "state": {
            "_model_module": "@jupyter-widgets/base",
            "_model_module_version": "1.2.0",
            "_model_name": "LayoutModel",
            "_view_count": null,
            "_view_module": "@jupyter-widgets/base",
            "_view_module_version": "1.2.0",
            "_view_name": "LayoutView",
            "align_content": null,
            "align_items": null,
            "align_self": null,
            "border": null,
            "bottom": null,
            "display": null,
            "flex": null,
            "flex_flow": null,
            "grid_area": null,
            "grid_auto_columns": null,
            "grid_auto_flow": null,
            "grid_auto_rows": null,
            "grid_column": null,
            "grid_gap": null,
            "grid_row": null,
            "grid_template_areas": null,
            "grid_template_columns": null,
            "grid_template_rows": null,
            "height": null,
            "justify_content": null,
            "justify_items": null,
            "left": null,
            "margin": null,
            "max_height": null,
            "max_width": null,
            "min_height": null,
            "min_width": null,
            "object_fit": null,
            "object_position": null,
            "order": null,
            "overflow": null,
            "overflow_x": null,
            "overflow_y": null,
            "padding": null,
            "right": null,
            "top": null,
            "visibility": null,
            "width": null
          }
        },
        "02bad0a7d2f24bb786b9976d1784e242": {
          "model_module": "@jupyter-widgets/controls",
          "model_name": "DescriptionStyleModel",
          "model_module_version": "1.5.0",
          "state": {
            "_model_module": "@jupyter-widgets/controls",
            "_model_module_version": "1.5.0",
            "_model_name": "DescriptionStyleModel",
            "_view_count": null,
            "_view_module": "@jupyter-widgets/base",
            "_view_module_version": "1.2.0",
            "_view_name": "StyleView",
            "description_width": ""
          }
        },
        "5f98a1868cef42429e6b1f9e6ce51d7b": {
          "model_module": "@jupyter-widgets/controls",
          "model_name": "HBoxModel",
          "model_module_version": "1.5.0",
          "state": {
            "_dom_classes": [],
            "_model_module": "@jupyter-widgets/controls",
            "_model_module_version": "1.5.0",
            "_model_name": "HBoxModel",
            "_view_count": null,
            "_view_module": "@jupyter-widgets/controls",
            "_view_module_version": "1.5.0",
            "_view_name": "HBoxView",
            "box_style": "",
            "children": [
              "IPY_MODEL_6bdd9f143d414f988a44d1ecd7894f4d",
              "IPY_MODEL_a85eb58ec60946769eddef7d21980334",
              "IPY_MODEL_1ce363273fb3495c9461bfb2605201ee"
            ],
            "layout": "IPY_MODEL_3c9cf8ebb2e94d5f9fe1fe0dc313c068"
          }
        },
        "6bdd9f143d414f988a44d1ecd7894f4d": {
          "model_module": "@jupyter-widgets/controls",
          "model_name": "HTMLModel",
          "model_module_version": "1.5.0",
          "state": {
            "_dom_classes": [],
            "_model_module": "@jupyter-widgets/controls",
            "_model_module_version": "1.5.0",
            "_model_name": "HTMLModel",
            "_view_count": null,
            "_view_module": "@jupyter-widgets/controls",
            "_view_module_version": "1.5.0",
            "_view_name": "HTMLView",
            "description": "",
            "description_tooltip": null,
            "layout": "IPY_MODEL_7d291e5294aa495197da96c98d221f36",
            "placeholder": "​",
            "style": "IPY_MODEL_507e164844f94e4cbd90a4a140a0a1b4",
            "value": "Downloading data: 100%"
          }
        },
        "a85eb58ec60946769eddef7d21980334": {
          "model_module": "@jupyter-widgets/controls",
          "model_name": "FloatProgressModel",
          "model_module_version": "1.5.0",
          "state": {
            "_dom_classes": [],
            "_model_module": "@jupyter-widgets/controls",
            "_model_module_version": "1.5.0",
            "_model_name": "FloatProgressModel",
            "_view_count": null,
            "_view_module": "@jupyter-widgets/controls",
            "_view_module_version": "1.5.0",
            "_view_name": "ProgressView",
            "bar_style": "success",
            "description": "",
            "description_tooltip": null,
            "layout": "IPY_MODEL_6e84480fffc94f91b7d4261908d3a547",
            "max": 237658468,
            "min": 0,
            "orientation": "horizontal",
            "style": "IPY_MODEL_f5c6431996494422b8966d9f985f4f6a",
            "value": 237658468
          }
        },
        "1ce363273fb3495c9461bfb2605201ee": {
          "model_module": "@jupyter-widgets/controls",
          "model_name": "HTMLModel",
          "model_module_version": "1.5.0",
          "state": {
            "_dom_classes": [],
            "_model_module": "@jupyter-widgets/controls",
            "_model_module_version": "1.5.0",
            "_model_name": "HTMLModel",
            "_view_count": null,
            "_view_module": "@jupyter-widgets/controls",
            "_view_module_version": "1.5.0",
            "_view_name": "HTMLView",
            "description": "",
            "description_tooltip": null,
            "layout": "IPY_MODEL_deca871b098441cdae5c6198bcd7e16b",
            "placeholder": "​",
            "style": "IPY_MODEL_cbf010c31f5f45be9d7f3c19a56cf503",
            "value": " 238M/238M [00:02&lt;00:00, 173MB/s]"
          }
        },
        "3c9cf8ebb2e94d5f9fe1fe0dc313c068": {
          "model_module": "@jupyter-widgets/base",
          "model_name": "LayoutModel",
          "model_module_version": "1.2.0",
          "state": {
            "_model_module": "@jupyter-widgets/base",
            "_model_module_version": "1.2.0",
            "_model_name": "LayoutModel",
            "_view_count": null,
            "_view_module": "@jupyter-widgets/base",
            "_view_module_version": "1.2.0",
            "_view_name": "LayoutView",
            "align_content": null,
            "align_items": null,
            "align_self": null,
            "border": null,
            "bottom": null,
            "display": null,
            "flex": null,
            "flex_flow": null,
            "grid_area": null,
            "grid_auto_columns": null,
            "grid_auto_flow": null,
            "grid_auto_rows": null,
            "grid_column": null,
            "grid_gap": null,
            "grid_row": null,
            "grid_template_areas": null,
            "grid_template_columns": null,
            "grid_template_rows": null,
            "height": null,
            "justify_content": null,
            "justify_items": null,
            "left": null,
            "margin": null,
            "max_height": null,
            "max_width": null,
            "min_height": null,
            "min_width": null,
            "object_fit": null,
            "object_position": null,
            "order": null,
            "overflow": null,
            "overflow_x": null,
            "overflow_y": null,
            "padding": null,
            "right": null,
            "top": null,
            "visibility": null,
            "width": null
          }
        },
        "7d291e5294aa495197da96c98d221f36": {
          "model_module": "@jupyter-widgets/base",
          "model_name": "LayoutModel",
          "model_module_version": "1.2.0",
          "state": {
            "_model_module": "@jupyter-widgets/base",
            "_model_module_version": "1.2.0",
            "_model_name": "LayoutModel",
            "_view_count": null,
            "_view_module": "@jupyter-widgets/base",
            "_view_module_version": "1.2.0",
            "_view_name": "LayoutView",
            "align_content": null,
            "align_items": null,
            "align_self": null,
            "border": null,
            "bottom": null,
            "display": null,
            "flex": null,
            "flex_flow": null,
            "grid_area": null,
            "grid_auto_columns": null,
            "grid_auto_flow": null,
            "grid_auto_rows": null,
            "grid_column": null,
            "grid_gap": null,
            "grid_row": null,
            "grid_template_areas": null,
            "grid_template_columns": null,
            "grid_template_rows": null,
            "height": null,
            "justify_content": null,
            "justify_items": null,
            "left": null,
            "margin": null,
            "max_height": null,
            "max_width": null,
            "min_height": null,
            "min_width": null,
            "object_fit": null,
            "object_position": null,
            "order": null,
            "overflow": null,
            "overflow_x": null,
            "overflow_y": null,
            "padding": null,
            "right": null,
            "top": null,
            "visibility": null,
            "width": null
          }
        },
        "507e164844f94e4cbd90a4a140a0a1b4": {
          "model_module": "@jupyter-widgets/controls",
          "model_name": "DescriptionStyleModel",
          "model_module_version": "1.5.0",
          "state": {
            "_model_module": "@jupyter-widgets/controls",
            "_model_module_version": "1.5.0",
            "_model_name": "DescriptionStyleModel",
            "_view_count": null,
            "_view_module": "@jupyter-widgets/base",
            "_view_module_version": "1.2.0",
            "_view_name": "StyleView",
            "description_width": ""
          }
        },
        "6e84480fffc94f91b7d4261908d3a547": {
          "model_module": "@jupyter-widgets/base",
          "model_name": "LayoutModel",
          "model_module_version": "1.2.0",
          "state": {
            "_model_module": "@jupyter-widgets/base",
            "_model_module_version": "1.2.0",
            "_model_name": "LayoutModel",
            "_view_count": null,
            "_view_module": "@jupyter-widgets/base",
            "_view_module_version": "1.2.0",
            "_view_name": "LayoutView",
            "align_content": null,
            "align_items": null,
            "align_self": null,
            "border": null,
            "bottom": null,
            "display": null,
            "flex": null,
            "flex_flow": null,
            "grid_area": null,
            "grid_auto_columns": null,
            "grid_auto_flow": null,
            "grid_auto_rows": null,
            "grid_column": null,
            "grid_gap": null,
            "grid_row": null,
            "grid_template_areas": null,
            "grid_template_columns": null,
            "grid_template_rows": null,
            "height": null,
            "justify_content": null,
            "justify_items": null,
            "left": null,
            "margin": null,
            "max_height": null,
            "max_width": null,
            "min_height": null,
            "min_width": null,
            "object_fit": null,
            "object_position": null,
            "order": null,
            "overflow": null,
            "overflow_x": null,
            "overflow_y": null,
            "padding": null,
            "right": null,
            "top": null,
            "visibility": null,
            "width": null
          }
        },
        "f5c6431996494422b8966d9f985f4f6a": {
          "model_module": "@jupyter-widgets/controls",
          "model_name": "ProgressStyleModel",
          "model_module_version": "1.5.0",
          "state": {
            "_model_module": "@jupyter-widgets/controls",
            "_model_module_version": "1.5.0",
            "_model_name": "ProgressStyleModel",
            "_view_count": null,
            "_view_module": "@jupyter-widgets/base",
            "_view_module_version": "1.2.0",
            "_view_name": "StyleView",
            "bar_color": null,
            "description_width": ""
          }
        },
        "deca871b098441cdae5c6198bcd7e16b": {
          "model_module": "@jupyter-widgets/base",
          "model_name": "LayoutModel",
          "model_module_version": "1.2.0",
          "state": {
            "_model_module": "@jupyter-widgets/base",
            "_model_module_version": "1.2.0",
            "_model_name": "LayoutModel",
            "_view_count": null,
            "_view_module": "@jupyter-widgets/base",
            "_view_module_version": "1.2.0",
            "_view_name": "LayoutView",
            "align_content": null,
            "align_items": null,
            "align_self": null,
            "border": null,
            "bottom": null,
            "display": null,
            "flex": null,
            "flex_flow": null,
            "grid_area": null,
            "grid_auto_columns": null,
            "grid_auto_flow": null,
            "grid_auto_rows": null,
            "grid_column": null,
            "grid_gap": null,
            "grid_row": null,
            "grid_template_areas": null,
            "grid_template_columns": null,
            "grid_template_rows": null,
            "height": null,
            "justify_content": null,
            "justify_items": null,
            "left": null,
            "margin": null,
            "max_height": null,
            "max_width": null,
            "min_height": null,
            "min_width": null,
            "object_fit": null,
            "object_position": null,
            "order": null,
            "overflow": null,
            "overflow_x": null,
            "overflow_y": null,
            "padding": null,
            "right": null,
            "top": null,
            "visibility": null,
            "width": null
          }
        },
        "cbf010c31f5f45be9d7f3c19a56cf503": {
          "model_module": "@jupyter-widgets/controls",
          "model_name": "DescriptionStyleModel",
          "model_module_version": "1.5.0",
          "state": {
            "_model_module": "@jupyter-widgets/controls",
            "_model_module_version": "1.5.0",
            "_model_name": "DescriptionStyleModel",
            "_view_count": null,
            "_view_module": "@jupyter-widgets/base",
            "_view_module_version": "1.2.0",
            "_view_name": "StyleView",
            "description_width": ""
          }
        },
        "4fc2f8050dc64924810cbf974794b5f2": {
          "model_module": "@jupyter-widgets/controls",
          "model_name": "HBoxModel",
          "model_module_version": "1.5.0",
          "state": {
            "_dom_classes": [],
            "_model_module": "@jupyter-widgets/controls",
            "_model_module_version": "1.5.0",
            "_model_name": "HBoxModel",
            "_view_count": null,
            "_view_module": "@jupyter-widgets/controls",
            "_view_module_version": "1.5.0",
            "_view_name": "HBoxView",
            "box_style": "",
            "children": [
              "IPY_MODEL_f42b7908aedc44f986d7e3964eb03389",
              "IPY_MODEL_35984dbe4c9d4186a1bea529302fde8f",
              "IPY_MODEL_32ef61893f394d8a9ffddcbe8ba5938f"
            ],
            "layout": "IPY_MODEL_9a70a716e3374e18a75a78e9c262a059"
          }
        },
        "f42b7908aedc44f986d7e3964eb03389": {
          "model_module": "@jupyter-widgets/controls",
          "model_name": "HTMLModel",
          "model_module_version": "1.5.0",
          "state": {
            "_dom_classes": [],
            "_model_module": "@jupyter-widgets/controls",
            "_model_module_version": "1.5.0",
            "_model_name": "HTMLModel",
            "_view_count": null,
            "_view_module": "@jupyter-widgets/controls",
            "_view_module_version": "1.5.0",
            "_view_name": "HTMLView",
            "description": "",
            "description_tooltip": null,
            "layout": "IPY_MODEL_f62fbecab30549a9a822dec7ad5c5c30",
            "placeholder": "​",
            "style": "IPY_MODEL_065befd3d93d4db5a6deefbbd186c9e6",
            "value": "Downloading data: 100%"
          }
        },
        "35984dbe4c9d4186a1bea529302fde8f": {
          "model_module": "@jupyter-widgets/controls",
          "model_name": "FloatProgressModel",
          "model_module_version": "1.5.0",
          "state": {
            "_dom_classes": [],
            "_model_module": "@jupyter-widgets/controls",
            "_model_module_version": "1.5.0",
            "_model_name": "FloatProgressModel",
            "_view_count": null,
            "_view_module": "@jupyter-widgets/controls",
            "_view_module_version": "1.5.0",
            "_view_name": "ProgressView",
            "bar_style": "success",
            "description": "",
            "description_tooltip": null,
            "layout": "IPY_MODEL_afcb1a40839146d7ae06d4e0570a4ac2",
            "max": 238583683,
            "min": 0,
            "orientation": "horizontal",
            "style": "IPY_MODEL_0a70f8cfa1ce40068055a62f780c9339",
            "value": 238583683
          }
        },
        "32ef61893f394d8a9ffddcbe8ba5938f": {
          "model_module": "@jupyter-widgets/controls",
          "model_name": "HTMLModel",
          "model_module_version": "1.5.0",
          "state": {
            "_dom_classes": [],
            "_model_module": "@jupyter-widgets/controls",
            "_model_module_version": "1.5.0",
            "_model_name": "HTMLModel",
            "_view_count": null,
            "_view_module": "@jupyter-widgets/controls",
            "_view_module_version": "1.5.0",
            "_view_name": "HTMLView",
            "description": "",
            "description_tooltip": null,
            "layout": "IPY_MODEL_ce379b8ebe6d47bc84023c2f408eb953",
            "placeholder": "​",
            "style": "IPY_MODEL_c9a859763cc0430cae80467c4b57f23c",
            "value": " 239M/239M [00:02&lt;00:00, 167MB/s]"
          }
        },
        "9a70a716e3374e18a75a78e9c262a059": {
          "model_module": "@jupyter-widgets/base",
          "model_name": "LayoutModel",
          "model_module_version": "1.2.0",
          "state": {
            "_model_module": "@jupyter-widgets/base",
            "_model_module_version": "1.2.0",
            "_model_name": "LayoutModel",
            "_view_count": null,
            "_view_module": "@jupyter-widgets/base",
            "_view_module_version": "1.2.0",
            "_view_name": "LayoutView",
            "align_content": null,
            "align_items": null,
            "align_self": null,
            "border": null,
            "bottom": null,
            "display": null,
            "flex": null,
            "flex_flow": null,
            "grid_area": null,
            "grid_auto_columns": null,
            "grid_auto_flow": null,
            "grid_auto_rows": null,
            "grid_column": null,
            "grid_gap": null,
            "grid_row": null,
            "grid_template_areas": null,
            "grid_template_columns": null,
            "grid_template_rows": null,
            "height": null,
            "justify_content": null,
            "justify_items": null,
            "left": null,
            "margin": null,
            "max_height": null,
            "max_width": null,
            "min_height": null,
            "min_width": null,
            "object_fit": null,
            "object_position": null,
            "order": null,
            "overflow": null,
            "overflow_x": null,
            "overflow_y": null,
            "padding": null,
            "right": null,
            "top": null,
            "visibility": null,
            "width": null
          }
        },
        "f62fbecab30549a9a822dec7ad5c5c30": {
          "model_module": "@jupyter-widgets/base",
          "model_name": "LayoutModel",
          "model_module_version": "1.2.0",
          "state": {
            "_model_module": "@jupyter-widgets/base",
            "_model_module_version": "1.2.0",
            "_model_name": "LayoutModel",
            "_view_count": null,
            "_view_module": "@jupyter-widgets/base",
            "_view_module_version": "1.2.0",
            "_view_name": "LayoutView",
            "align_content": null,
            "align_items": null,
            "align_self": null,
            "border": null,
            "bottom": null,
            "display": null,
            "flex": null,
            "flex_flow": null,
            "grid_area": null,
            "grid_auto_columns": null,
            "grid_auto_flow": null,
            "grid_auto_rows": null,
            "grid_column": null,
            "grid_gap": null,
            "grid_row": null,
            "grid_template_areas": null,
            "grid_template_columns": null,
            "grid_template_rows": null,
            "height": null,
            "justify_content": null,
            "justify_items": null,
            "left": null,
            "margin": null,
            "max_height": null,
            "max_width": null,
            "min_height": null,
            "min_width": null,
            "object_fit": null,
            "object_position": null,
            "order": null,
            "overflow": null,
            "overflow_x": null,
            "overflow_y": null,
            "padding": null,
            "right": null,
            "top": null,
            "visibility": null,
            "width": null
          }
        },
        "065befd3d93d4db5a6deefbbd186c9e6": {
          "model_module": "@jupyter-widgets/controls",
          "model_name": "DescriptionStyleModel",
          "model_module_version": "1.5.0",
          "state": {
            "_model_module": "@jupyter-widgets/controls",
            "_model_module_version": "1.5.0",
            "_model_name": "DescriptionStyleModel",
            "_view_count": null,
            "_view_module": "@jupyter-widgets/base",
            "_view_module_version": "1.2.0",
            "_view_name": "StyleView",
            "description_width": ""
          }
        },
        "afcb1a40839146d7ae06d4e0570a4ac2": {
          "model_module": "@jupyter-widgets/base",
          "model_name": "LayoutModel",
          "model_module_version": "1.2.0",
          "state": {
            "_model_module": "@jupyter-widgets/base",
            "_model_module_version": "1.2.0",
            "_model_name": "LayoutModel",
            "_view_count": null,
            "_view_module": "@jupyter-widgets/base",
            "_view_module_version": "1.2.0",
            "_view_name": "LayoutView",
            "align_content": null,
            "align_items": null,
            "align_self": null,
            "border": null,
            "bottom": null,
            "display": null,
            "flex": null,
            "flex_flow": null,
            "grid_area": null,
            "grid_auto_columns": null,
            "grid_auto_flow": null,
            "grid_auto_rows": null,
            "grid_column": null,
            "grid_gap": null,
            "grid_row": null,
            "grid_template_areas": null,
            "grid_template_columns": null,
            "grid_template_rows": null,
            "height": null,
            "justify_content": null,
            "justify_items": null,
            "left": null,
            "margin": null,
            "max_height": null,
            "max_width": null,
            "min_height": null,
            "min_width": null,
            "object_fit": null,
            "object_position": null,
            "order": null,
            "overflow": null,
            "overflow_x": null,
            "overflow_y": null,
            "padding": null,
            "right": null,
            "top": null,
            "visibility": null,
            "width": null
          }
        },
        "0a70f8cfa1ce40068055a62f780c9339": {
          "model_module": "@jupyter-widgets/controls",
          "model_name": "ProgressStyleModel",
          "model_module_version": "1.5.0",
          "state": {
            "_model_module": "@jupyter-widgets/controls",
            "_model_module_version": "1.5.0",
            "_model_name": "ProgressStyleModel",
            "_view_count": null,
            "_view_module": "@jupyter-widgets/base",
            "_view_module_version": "1.2.0",
            "_view_name": "StyleView",
            "bar_color": null,
            "description_width": ""
          }
        },
        "ce379b8ebe6d47bc84023c2f408eb953": {
          "model_module": "@jupyter-widgets/base",
          "model_name": "LayoutModel",
          "model_module_version": "1.2.0",
          "state": {
            "_model_module": "@jupyter-widgets/base",
            "_model_module_version": "1.2.0",
            "_model_name": "LayoutModel",
            "_view_count": null,
            "_view_module": "@jupyter-widgets/base",
            "_view_module_version": "1.2.0",
            "_view_name": "LayoutView",
            "align_content": null,
            "align_items": null,
            "align_self": null,
            "border": null,
            "bottom": null,
            "display": null,
            "flex": null,
            "flex_flow": null,
            "grid_area": null,
            "grid_auto_columns": null,
            "grid_auto_flow": null,
            "grid_auto_rows": null,
            "grid_column": null,
            "grid_gap": null,
            "grid_row": null,
            "grid_template_areas": null,
            "grid_template_columns": null,
            "grid_template_rows": null,
            "height": null,
            "justify_content": null,
            "justify_items": null,
            "left": null,
            "margin": null,
            "max_height": null,
            "max_width": null,
            "min_height": null,
            "min_width": null,
            "object_fit": null,
            "object_position": null,
            "order": null,
            "overflow": null,
            "overflow_x": null,
            "overflow_y": null,
            "padding": null,
            "right": null,
            "top": null,
            "visibility": null,
            "width": null
          }
        },
        "c9a859763cc0430cae80467c4b57f23c": {
          "model_module": "@jupyter-widgets/controls",
          "model_name": "DescriptionStyleModel",
          "model_module_version": "1.5.0",
          "state": {
            "_model_module": "@jupyter-widgets/controls",
            "_model_module_version": "1.5.0",
            "_model_name": "DescriptionStyleModel",
            "_view_count": null,
            "_view_module": "@jupyter-widgets/base",
            "_view_module_version": "1.2.0",
            "_view_name": "StyleView",
            "description_width": ""
          }
        },
        "d67a0ba4f95c4396ac53a6bd6518e463": {
          "model_module": "@jupyter-widgets/controls",
          "model_name": "HBoxModel",
          "model_module_version": "1.5.0",
          "state": {
            "_dom_classes": [],
            "_model_module": "@jupyter-widgets/controls",
            "_model_module_version": "1.5.0",
            "_model_name": "HBoxModel",
            "_view_count": null,
            "_view_module": "@jupyter-widgets/controls",
            "_view_module_version": "1.5.0",
            "_view_name": "HBoxView",
            "box_style": "",
            "children": [
              "IPY_MODEL_59e0f4f9d82c43998398f71b3c107a85",
              "IPY_MODEL_6abb847058f548d5a3e6ef204b00d42a",
              "IPY_MODEL_86c64f5b73b44384a2a48d24ee5841a3"
            ],
            "layout": "IPY_MODEL_84b3fb31d1a341189eac62e642b7fded"
          }
        },
        "59e0f4f9d82c43998398f71b3c107a85": {
          "model_module": "@jupyter-widgets/controls",
          "model_name": "HTMLModel",
          "model_module_version": "1.5.0",
          "state": {
            "_dom_classes": [],
            "_model_module": "@jupyter-widgets/controls",
            "_model_module_version": "1.5.0",
            "_model_name": "HTMLModel",
            "_view_count": null,
            "_view_module": "@jupyter-widgets/controls",
            "_view_module_version": "1.5.0",
            "_view_name": "HTMLView",
            "description": "",
            "description_tooltip": null,
            "layout": "IPY_MODEL_24380698dd6644d1ae575e4e7efaf0f1",
            "placeholder": "​",
            "style": "IPY_MODEL_2ce1e1128aa64557ae72f4fc195bddba",
            "value": "Downloading data: 100%"
          }
        },
        "6abb847058f548d5a3e6ef204b00d42a": {
          "model_module": "@jupyter-widgets/controls",
          "model_name": "FloatProgressModel",
          "model_module_version": "1.5.0",
          "state": {
            "_dom_classes": [],
            "_model_module": "@jupyter-widgets/controls",
            "_model_module_version": "1.5.0",
            "_model_name": "FloatProgressModel",
            "_view_count": null,
            "_view_module": "@jupyter-widgets/controls",
            "_view_module_version": "1.5.0",
            "_view_name": "ProgressView",
            "bar_style": "success",
            "description": "",
            "description_tooltip": null,
            "layout": "IPY_MODEL_b12bad52eefd40f5b56aeb435ae044e3",
            "max": 238115767,
            "min": 0,
            "orientation": "horizontal",
            "style": "IPY_MODEL_f2eef149361d49eaa719dc91a9062191",
            "value": 238115767
          }
        },
        "86c64f5b73b44384a2a48d24ee5841a3": {
          "model_module": "@jupyter-widgets/controls",
          "model_name": "HTMLModel",
          "model_module_version": "1.5.0",
          "state": {
            "_dom_classes": [],
            "_model_module": "@jupyter-widgets/controls",
            "_model_module_version": "1.5.0",
            "_model_name": "HTMLModel",
            "_view_count": null,
            "_view_module": "@jupyter-widgets/controls",
            "_view_module_version": "1.5.0",
            "_view_name": "HTMLView",
            "description": "",
            "description_tooltip": null,
            "layout": "IPY_MODEL_1532d8ee33ad4189b646252932b910af",
            "placeholder": "​",
            "style": "IPY_MODEL_3bdab142468b43a4970f95e7702501fb",
            "value": " 238M/238M [00:02&lt;00:00, 178MB/s]"
          }
        },
        "84b3fb31d1a341189eac62e642b7fded": {
          "model_module": "@jupyter-widgets/base",
          "model_name": "LayoutModel",
          "model_module_version": "1.2.0",
          "state": {
            "_model_module": "@jupyter-widgets/base",
            "_model_module_version": "1.2.0",
            "_model_name": "LayoutModel",
            "_view_count": null,
            "_view_module": "@jupyter-widgets/base",
            "_view_module_version": "1.2.0",
            "_view_name": "LayoutView",
            "align_content": null,
            "align_items": null,
            "align_self": null,
            "border": null,
            "bottom": null,
            "display": null,
            "flex": null,
            "flex_flow": null,
            "grid_area": null,
            "grid_auto_columns": null,
            "grid_auto_flow": null,
            "grid_auto_rows": null,
            "grid_column": null,
            "grid_gap": null,
            "grid_row": null,
            "grid_template_areas": null,
            "grid_template_columns": null,
            "grid_template_rows": null,
            "height": null,
            "justify_content": null,
            "justify_items": null,
            "left": null,
            "margin": null,
            "max_height": null,
            "max_width": null,
            "min_height": null,
            "min_width": null,
            "object_fit": null,
            "object_position": null,
            "order": null,
            "overflow": null,
            "overflow_x": null,
            "overflow_y": null,
            "padding": null,
            "right": null,
            "top": null,
            "visibility": null,
            "width": null
          }
        },
        "24380698dd6644d1ae575e4e7efaf0f1": {
          "model_module": "@jupyter-widgets/base",
          "model_name": "LayoutModel",
          "model_module_version": "1.2.0",
          "state": {
            "_model_module": "@jupyter-widgets/base",
            "_model_module_version": "1.2.0",
            "_model_name": "LayoutModel",
            "_view_count": null,
            "_view_module": "@jupyter-widgets/base",
            "_view_module_version": "1.2.0",
            "_view_name": "LayoutView",
            "align_content": null,
            "align_items": null,
            "align_self": null,
            "border": null,
            "bottom": null,
            "display": null,
            "flex": null,
            "flex_flow": null,
            "grid_area": null,
            "grid_auto_columns": null,
            "grid_auto_flow": null,
            "grid_auto_rows": null,
            "grid_column": null,
            "grid_gap": null,
            "grid_row": null,
            "grid_template_areas": null,
            "grid_template_columns": null,
            "grid_template_rows": null,
            "height": null,
            "justify_content": null,
            "justify_items": null,
            "left": null,
            "margin": null,
            "max_height": null,
            "max_width": null,
            "min_height": null,
            "min_width": null,
            "object_fit": null,
            "object_position": null,
            "order": null,
            "overflow": null,
            "overflow_x": null,
            "overflow_y": null,
            "padding": null,
            "right": null,
            "top": null,
            "visibility": null,
            "width": null
          }
        },
        "2ce1e1128aa64557ae72f4fc195bddba": {
          "model_module": "@jupyter-widgets/controls",
          "model_name": "DescriptionStyleModel",
          "model_module_version": "1.5.0",
          "state": {
            "_model_module": "@jupyter-widgets/controls",
            "_model_module_version": "1.5.0",
            "_model_name": "DescriptionStyleModel",
            "_view_count": null,
            "_view_module": "@jupyter-widgets/base",
            "_view_module_version": "1.2.0",
            "_view_name": "StyleView",
            "description_width": ""
          }
        },
        "b12bad52eefd40f5b56aeb435ae044e3": {
          "model_module": "@jupyter-widgets/base",
          "model_name": "LayoutModel",
          "model_module_version": "1.2.0",
          "state": {
            "_model_module": "@jupyter-widgets/base",
            "_model_module_version": "1.2.0",
            "_model_name": "LayoutModel",
            "_view_count": null,
            "_view_module": "@jupyter-widgets/base",
            "_view_module_version": "1.2.0",
            "_view_name": "LayoutView",
            "align_content": null,
            "align_items": null,
            "align_self": null,
            "border": null,
            "bottom": null,
            "display": null,
            "flex": null,
            "flex_flow": null,
            "grid_area": null,
            "grid_auto_columns": null,
            "grid_auto_flow": null,
            "grid_auto_rows": null,
            "grid_column": null,
            "grid_gap": null,
            "grid_row": null,
            "grid_template_areas": null,
            "grid_template_columns": null,
            "grid_template_rows": null,
            "height": null,
            "justify_content": null,
            "justify_items": null,
            "left": null,
            "margin": null,
            "max_height": null,
            "max_width": null,
            "min_height": null,
            "min_width": null,
            "object_fit": null,
            "object_position": null,
            "order": null,
            "overflow": null,
            "overflow_x": null,
            "overflow_y": null,
            "padding": null,
            "right": null,
            "top": null,
            "visibility": null,
            "width": null
          }
        },
        "f2eef149361d49eaa719dc91a9062191": {
          "model_module": "@jupyter-widgets/controls",
          "model_name": "ProgressStyleModel",
          "model_module_version": "1.5.0",
          "state": {
            "_model_module": "@jupyter-widgets/controls",
            "_model_module_version": "1.5.0",
            "_model_name": "ProgressStyleModel",
            "_view_count": null,
            "_view_module": "@jupyter-widgets/base",
            "_view_module_version": "1.2.0",
            "_view_name": "StyleView",
            "bar_color": null,
            "description_width": ""
          }
        },
        "1532d8ee33ad4189b646252932b910af": {
          "model_module": "@jupyter-widgets/base",
          "model_name": "LayoutModel",
          "model_module_version": "1.2.0",
          "state": {
            "_model_module": "@jupyter-widgets/base",
            "_model_module_version": "1.2.0",
            "_model_name": "LayoutModel",
            "_view_count": null,
            "_view_module": "@jupyter-widgets/base",
            "_view_module_version": "1.2.0",
            "_view_name": "LayoutView",
            "align_content": null,
            "align_items": null,
            "align_self": null,
            "border": null,
            "bottom": null,
            "display": null,
            "flex": null,
            "flex_flow": null,
            "grid_area": null,
            "grid_auto_columns": null,
            "grid_auto_flow": null,
            "grid_auto_rows": null,
            "grid_column": null,
            "grid_gap": null,
            "grid_row": null,
            "grid_template_areas": null,
            "grid_template_columns": null,
            "grid_template_rows": null,
            "height": null,
            "justify_content": null,
            "justify_items": null,
            "left": null,
            "margin": null,
            "max_height": null,
            "max_width": null,
            "min_height": null,
            "min_width": null,
            "object_fit": null,
            "object_position": null,
            "order": null,
            "overflow": null,
            "overflow_x": null,
            "overflow_y": null,
            "padding": null,
            "right": null,
            "top": null,
            "visibility": null,
            "width": null
          }
        },
        "3bdab142468b43a4970f95e7702501fb": {
          "model_module": "@jupyter-widgets/controls",
          "model_name": "DescriptionStyleModel",
          "model_module_version": "1.5.0",
          "state": {
            "_model_module": "@jupyter-widgets/controls",
            "_model_module_version": "1.5.0",
            "_model_name": "DescriptionStyleModel",
            "_view_count": null,
            "_view_module": "@jupyter-widgets/base",
            "_view_module_version": "1.2.0",
            "_view_name": "StyleView",
            "description_width": ""
          }
        },
        "64514725fb7f40caa59d5aa9f4e330c3": {
          "model_module": "@jupyter-widgets/controls",
          "model_name": "HBoxModel",
          "model_module_version": "1.5.0",
          "state": {
            "_dom_classes": [],
            "_model_module": "@jupyter-widgets/controls",
            "_model_module_version": "1.5.0",
            "_model_name": "HBoxModel",
            "_view_count": null,
            "_view_module": "@jupyter-widgets/controls",
            "_view_module_version": "1.5.0",
            "_view_name": "HBoxView",
            "box_style": "",
            "children": [
              "IPY_MODEL_01d22240b740483fad47f147d20f8456",
              "IPY_MODEL_ebb615b3c8d54a4d8606e2db27862f7a",
              "IPY_MODEL_0b02bd9789ee461b9f5d88e119f7d530"
            ],
            "layout": "IPY_MODEL_02d48b79027540e5b1987ad79e10caad"
          }
        },
        "01d22240b740483fad47f147d20f8456": {
          "model_module": "@jupyter-widgets/controls",
          "model_name": "HTMLModel",
          "model_module_version": "1.5.0",
          "state": {
            "_dom_classes": [],
            "_model_module": "@jupyter-widgets/controls",
            "_model_module_version": "1.5.0",
            "_model_name": "HTMLModel",
            "_view_count": null,
            "_view_module": "@jupyter-widgets/controls",
            "_view_module_version": "1.5.0",
            "_view_name": "HTMLView",
            "description": "",
            "description_tooltip": null,
            "layout": "IPY_MODEL_d837980261584548b26e20617ef5f12c",
            "placeholder": "​",
            "style": "IPY_MODEL_e6f4fcc72ee6464ab7f1f04ae115cbdd",
            "value": "Downloading data: 100%"
          }
        },
        "ebb615b3c8d54a4d8606e2db27862f7a": {
          "model_module": "@jupyter-widgets/controls",
          "model_name": "FloatProgressModel",
          "model_module_version": "1.5.0",
          "state": {
            "_dom_classes": [],
            "_model_module": "@jupyter-widgets/controls",
            "_model_module_version": "1.5.0",
            "_model_name": "FloatProgressModel",
            "_view_count": null,
            "_view_module": "@jupyter-widgets/controls",
            "_view_module_version": "1.5.0",
            "_view_name": "ProgressView",
            "bar_style": "success",
            "description": "",
            "description_tooltip": null,
            "layout": "IPY_MODEL_639ec26cd96f4a92bb365fe18732ef3a",
            "max": 239422128,
            "min": 0,
            "orientation": "horizontal",
            "style": "IPY_MODEL_3375dc50a1374263a9faccc16488e28b",
            "value": 239422128
          }
        },
        "0b02bd9789ee461b9f5d88e119f7d530": {
          "model_module": "@jupyter-widgets/controls",
          "model_name": "HTMLModel",
          "model_module_version": "1.5.0",
          "state": {
            "_dom_classes": [],
            "_model_module": "@jupyter-widgets/controls",
            "_model_module_version": "1.5.0",
            "_model_name": "HTMLModel",
            "_view_count": null,
            "_view_module": "@jupyter-widgets/controls",
            "_view_module_version": "1.5.0",
            "_view_name": "HTMLView",
            "description": "",
            "description_tooltip": null,
            "layout": "IPY_MODEL_3c7e689bc87a4a19b67e97376ed72551",
            "placeholder": "​",
            "style": "IPY_MODEL_38de7b05635a4948a8ebf742f31b1e28",
            "value": " 239M/239M [00:02&lt;00:00, 175MB/s]"
          }
        },
        "02d48b79027540e5b1987ad79e10caad": {
          "model_module": "@jupyter-widgets/base",
          "model_name": "LayoutModel",
          "model_module_version": "1.2.0",
          "state": {
            "_model_module": "@jupyter-widgets/base",
            "_model_module_version": "1.2.0",
            "_model_name": "LayoutModel",
            "_view_count": null,
            "_view_module": "@jupyter-widgets/base",
            "_view_module_version": "1.2.0",
            "_view_name": "LayoutView",
            "align_content": null,
            "align_items": null,
            "align_self": null,
            "border": null,
            "bottom": null,
            "display": null,
            "flex": null,
            "flex_flow": null,
            "grid_area": null,
            "grid_auto_columns": null,
            "grid_auto_flow": null,
            "grid_auto_rows": null,
            "grid_column": null,
            "grid_gap": null,
            "grid_row": null,
            "grid_template_areas": null,
            "grid_template_columns": null,
            "grid_template_rows": null,
            "height": null,
            "justify_content": null,
            "justify_items": null,
            "left": null,
            "margin": null,
            "max_height": null,
            "max_width": null,
            "min_height": null,
            "min_width": null,
            "object_fit": null,
            "object_position": null,
            "order": null,
            "overflow": null,
            "overflow_x": null,
            "overflow_y": null,
            "padding": null,
            "right": null,
            "top": null,
            "visibility": null,
            "width": null
          }
        },
        "d837980261584548b26e20617ef5f12c": {
          "model_module": "@jupyter-widgets/base",
          "model_name": "LayoutModel",
          "model_module_version": "1.2.0",
          "state": {
            "_model_module": "@jupyter-widgets/base",
            "_model_module_version": "1.2.0",
            "_model_name": "LayoutModel",
            "_view_count": null,
            "_view_module": "@jupyter-widgets/base",
            "_view_module_version": "1.2.0",
            "_view_name": "LayoutView",
            "align_content": null,
            "align_items": null,
            "align_self": null,
            "border": null,
            "bottom": null,
            "display": null,
            "flex": null,
            "flex_flow": null,
            "grid_area": null,
            "grid_auto_columns": null,
            "grid_auto_flow": null,
            "grid_auto_rows": null,
            "grid_column": null,
            "grid_gap": null,
            "grid_row": null,
            "grid_template_areas": null,
            "grid_template_columns": null,
            "grid_template_rows": null,
            "height": null,
            "justify_content": null,
            "justify_items": null,
            "left": null,
            "margin": null,
            "max_height": null,
            "max_width": null,
            "min_height": null,
            "min_width": null,
            "object_fit": null,
            "object_position": null,
            "order": null,
            "overflow": null,
            "overflow_x": null,
            "overflow_y": null,
            "padding": null,
            "right": null,
            "top": null,
            "visibility": null,
            "width": null
          }
        },
        "e6f4fcc72ee6464ab7f1f04ae115cbdd": {
          "model_module": "@jupyter-widgets/controls",
          "model_name": "DescriptionStyleModel",
          "model_module_version": "1.5.0",
          "state": {
            "_model_module": "@jupyter-widgets/controls",
            "_model_module_version": "1.5.0",
            "_model_name": "DescriptionStyleModel",
            "_view_count": null,
            "_view_module": "@jupyter-widgets/base",
            "_view_module_version": "1.2.0",
            "_view_name": "StyleView",
            "description_width": ""
          }
        },
        "639ec26cd96f4a92bb365fe18732ef3a": {
          "model_module": "@jupyter-widgets/base",
          "model_name": "LayoutModel",
          "model_module_version": "1.2.0",
          "state": {
            "_model_module": "@jupyter-widgets/base",
            "_model_module_version": "1.2.0",
            "_model_name": "LayoutModel",
            "_view_count": null,
            "_view_module": "@jupyter-widgets/base",
            "_view_module_version": "1.2.0",
            "_view_name": "LayoutView",
            "align_content": null,
            "align_items": null,
            "align_self": null,
            "border": null,
            "bottom": null,
            "display": null,
            "flex": null,
            "flex_flow": null,
            "grid_area": null,
            "grid_auto_columns": null,
            "grid_auto_flow": null,
            "grid_auto_rows": null,
            "grid_column": null,
            "grid_gap": null,
            "grid_row": null,
            "grid_template_areas": null,
            "grid_template_columns": null,
            "grid_template_rows": null,
            "height": null,
            "justify_content": null,
            "justify_items": null,
            "left": null,
            "margin": null,
            "max_height": null,
            "max_width": null,
            "min_height": null,
            "min_width": null,
            "object_fit": null,
            "object_position": null,
            "order": null,
            "overflow": null,
            "overflow_x": null,
            "overflow_y": null,
            "padding": null,
            "right": null,
            "top": null,
            "visibility": null,
            "width": null
          }
        },
        "3375dc50a1374263a9faccc16488e28b": {
          "model_module": "@jupyter-widgets/controls",
          "model_name": "ProgressStyleModel",
          "model_module_version": "1.5.0",
          "state": {
            "_model_module": "@jupyter-widgets/controls",
            "_model_module_version": "1.5.0",
            "_model_name": "ProgressStyleModel",
            "_view_count": null,
            "_view_module": "@jupyter-widgets/base",
            "_view_module_version": "1.2.0",
            "_view_name": "StyleView",
            "bar_color": null,
            "description_width": ""
          }
        },
        "3c7e689bc87a4a19b67e97376ed72551": {
          "model_module": "@jupyter-widgets/base",
          "model_name": "LayoutModel",
          "model_module_version": "1.2.0",
          "state": {
            "_model_module": "@jupyter-widgets/base",
            "_model_module_version": "1.2.0",
            "_model_name": "LayoutModel",
            "_view_count": null,
            "_view_module": "@jupyter-widgets/base",
            "_view_module_version": "1.2.0",
            "_view_name": "LayoutView",
            "align_content": null,
            "align_items": null,
            "align_self": null,
            "border": null,
            "bottom": null,
            "display": null,
            "flex": null,
            "flex_flow": null,
            "grid_area": null,
            "grid_auto_columns": null,
            "grid_auto_flow": null,
            "grid_auto_rows": null,
            "grid_column": null,
            "grid_gap": null,
            "grid_row": null,
            "grid_template_areas": null,
            "grid_template_columns": null,
            "grid_template_rows": null,
            "height": null,
            "justify_content": null,
            "justify_items": null,
            "left": null,
            "margin": null,
            "max_height": null,
            "max_width": null,
            "min_height": null,
            "min_width": null,
            "object_fit": null,
            "object_position": null,
            "order": null,
            "overflow": null,
            "overflow_x": null,
            "overflow_y": null,
            "padding": null,
            "right": null,
            "top": null,
            "visibility": null,
            "width": null
          }
        },
        "38de7b05635a4948a8ebf742f31b1e28": {
          "model_module": "@jupyter-widgets/controls",
          "model_name": "DescriptionStyleModel",
          "model_module_version": "1.5.0",
          "state": {
            "_model_module": "@jupyter-widgets/controls",
            "_model_module_version": "1.5.0",
            "_model_name": "DescriptionStyleModel",
            "_view_count": null,
            "_view_module": "@jupyter-widgets/base",
            "_view_module_version": "1.2.0",
            "_view_name": "StyleView",
            "description_width": ""
          }
        },
        "f34466515c6f48328ef8656ba6422963": {
          "model_module": "@jupyter-widgets/controls",
          "model_name": "HBoxModel",
          "model_module_version": "1.5.0",
          "state": {
            "_dom_classes": [],
            "_model_module": "@jupyter-widgets/controls",
            "_model_module_version": "1.5.0",
            "_model_name": "HBoxModel",
            "_view_count": null,
            "_view_module": "@jupyter-widgets/controls",
            "_view_module_version": "1.5.0",
            "_view_name": "HBoxView",
            "box_style": "",
            "children": [
              "IPY_MODEL_30c00bc4792c425c88a5e83613eaea43",
              "IPY_MODEL_5afc1073fc754a8ebdc38a2c0be4ae80",
              "IPY_MODEL_2b59cde16970431b8527fc9b49857a78"
            ],
            "layout": "IPY_MODEL_bdaf57c5d750478a9e06cb3cafb45712"
          }
        },
        "30c00bc4792c425c88a5e83613eaea43": {
          "model_module": "@jupyter-widgets/controls",
          "model_name": "HTMLModel",
          "model_module_version": "1.5.0",
          "state": {
            "_dom_classes": [],
            "_model_module": "@jupyter-widgets/controls",
            "_model_module_version": "1.5.0",
            "_model_name": "HTMLModel",
            "_view_count": null,
            "_view_module": "@jupyter-widgets/controls",
            "_view_module_version": "1.5.0",
            "_view_name": "HTMLView",
            "description": "",
            "description_tooltip": null,
            "layout": "IPY_MODEL_0f89eb225e834943a986fcbd507b8c8b",
            "placeholder": "​",
            "style": "IPY_MODEL_fc586343f3cc43a4bf0db4689e610da0",
            "value": "Downloading data: 100%"
          }
        },
        "5afc1073fc754a8ebdc38a2c0be4ae80": {
          "model_module": "@jupyter-widgets/controls",
          "model_name": "FloatProgressModel",
          "model_module_version": "1.5.0",
          "state": {
            "_dom_classes": [],
            "_model_module": "@jupyter-widgets/controls",
            "_model_module_version": "1.5.0",
            "_model_name": "FloatProgressModel",
            "_view_count": null,
            "_view_module": "@jupyter-widgets/controls",
            "_view_module_version": "1.5.0",
            "_view_name": "ProgressView",
            "bar_style": "success",
            "description": "",
            "description_tooltip": null,
            "layout": "IPY_MODEL_733f318b773c4f5cb8832144e12389b7",
            "max": 6769722,
            "min": 0,
            "orientation": "horizontal",
            "style": "IPY_MODEL_d6f572f46d4e43899b00145ab737a214",
            "value": 6769722
          }
        },
        "2b59cde16970431b8527fc9b49857a78": {
          "model_module": "@jupyter-widgets/controls",
          "model_name": "HTMLModel",
          "model_module_version": "1.5.0",
          "state": {
            "_dom_classes": [],
            "_model_module": "@jupyter-widgets/controls",
            "_model_module_version": "1.5.0",
            "_model_name": "HTMLModel",
            "_view_count": null,
            "_view_module": "@jupyter-widgets/controls",
            "_view_module_version": "1.5.0",
            "_view_name": "HTMLView",
            "description": "",
            "description_tooltip": null,
            "layout": "IPY_MODEL_8afe2354624f4767ac1aa4c5cb6cf7db",
            "placeholder": "​",
            "style": "IPY_MODEL_ab4f8d20e3f844938f343f472b05406f",
            "value": " 6.77M/6.77M [00:00&lt;00:00, 10.1MB/s]"
          }
        },
        "bdaf57c5d750478a9e06cb3cafb45712": {
          "model_module": "@jupyter-widgets/base",
          "model_name": "LayoutModel",
          "model_module_version": "1.2.0",
          "state": {
            "_model_module": "@jupyter-widgets/base",
            "_model_module_version": "1.2.0",
            "_model_name": "LayoutModel",
            "_view_count": null,
            "_view_module": "@jupyter-widgets/base",
            "_view_module_version": "1.2.0",
            "_view_name": "LayoutView",
            "align_content": null,
            "align_items": null,
            "align_self": null,
            "border": null,
            "bottom": null,
            "display": null,
            "flex": null,
            "flex_flow": null,
            "grid_area": null,
            "grid_auto_columns": null,
            "grid_auto_flow": null,
            "grid_auto_rows": null,
            "grid_column": null,
            "grid_gap": null,
            "grid_row": null,
            "grid_template_areas": null,
            "grid_template_columns": null,
            "grid_template_rows": null,
            "height": null,
            "justify_content": null,
            "justify_items": null,
            "left": null,
            "margin": null,
            "max_height": null,
            "max_width": null,
            "min_height": null,
            "min_width": null,
            "object_fit": null,
            "object_position": null,
            "order": null,
            "overflow": null,
            "overflow_x": null,
            "overflow_y": null,
            "padding": null,
            "right": null,
            "top": null,
            "visibility": null,
            "width": null
          }
        },
        "0f89eb225e834943a986fcbd507b8c8b": {
          "model_module": "@jupyter-widgets/base",
          "model_name": "LayoutModel",
          "model_module_version": "1.2.0",
          "state": {
            "_model_module": "@jupyter-widgets/base",
            "_model_module_version": "1.2.0",
            "_model_name": "LayoutModel",
            "_view_count": null,
            "_view_module": "@jupyter-widgets/base",
            "_view_module_version": "1.2.0",
            "_view_name": "LayoutView",
            "align_content": null,
            "align_items": null,
            "align_self": null,
            "border": null,
            "bottom": null,
            "display": null,
            "flex": null,
            "flex_flow": null,
            "grid_area": null,
            "grid_auto_columns": null,
            "grid_auto_flow": null,
            "grid_auto_rows": null,
            "grid_column": null,
            "grid_gap": null,
            "grid_row": null,
            "grid_template_areas": null,
            "grid_template_columns": null,
            "grid_template_rows": null,
            "height": null,
            "justify_content": null,
            "justify_items": null,
            "left": null,
            "margin": null,
            "max_height": null,
            "max_width": null,
            "min_height": null,
            "min_width": null,
            "object_fit": null,
            "object_position": null,
            "order": null,
            "overflow": null,
            "overflow_x": null,
            "overflow_y": null,
            "padding": null,
            "right": null,
            "top": null,
            "visibility": null,
            "width": null
          }
        },
        "fc586343f3cc43a4bf0db4689e610da0": {
          "model_module": "@jupyter-widgets/controls",
          "model_name": "DescriptionStyleModel",
          "model_module_version": "1.5.0",
          "state": {
            "_model_module": "@jupyter-widgets/controls",
            "_model_module_version": "1.5.0",
            "_model_name": "DescriptionStyleModel",
            "_view_count": null,
            "_view_module": "@jupyter-widgets/base",
            "_view_module_version": "1.2.0",
            "_view_name": "StyleView",
            "description_width": ""
          }
        },
        "733f318b773c4f5cb8832144e12389b7": {
          "model_module": "@jupyter-widgets/base",
          "model_name": "LayoutModel",
          "model_module_version": "1.2.0",
          "state": {
            "_model_module": "@jupyter-widgets/base",
            "_model_module_version": "1.2.0",
            "_model_name": "LayoutModel",
            "_view_count": null,
            "_view_module": "@jupyter-widgets/base",
            "_view_module_version": "1.2.0",
            "_view_name": "LayoutView",
            "align_content": null,
            "align_items": null,
            "align_self": null,
            "border": null,
            "bottom": null,
            "display": null,
            "flex": null,
            "flex_flow": null,
            "grid_area": null,
            "grid_auto_columns": null,
            "grid_auto_flow": null,
            "grid_auto_rows": null,
            "grid_column": null,
            "grid_gap": null,
            "grid_row": null,
            "grid_template_areas": null,
            "grid_template_columns": null,
            "grid_template_rows": null,
            "height": null,
            "justify_content": null,
            "justify_items": null,
            "left": null,
            "margin": null,
            "max_height": null,
            "max_width": null,
            "min_height": null,
            "min_width": null,
            "object_fit": null,
            "object_position": null,
            "order": null,
            "overflow": null,
            "overflow_x": null,
            "overflow_y": null,
            "padding": null,
            "right": null,
            "top": null,
            "visibility": null,
            "width": null
          }
        },
        "d6f572f46d4e43899b00145ab737a214": {
          "model_module": "@jupyter-widgets/controls",
          "model_name": "ProgressStyleModel",
          "model_module_version": "1.5.0",
          "state": {
            "_model_module": "@jupyter-widgets/controls",
            "_model_module_version": "1.5.0",
            "_model_name": "ProgressStyleModel",
            "_view_count": null,
            "_view_module": "@jupyter-widgets/base",
            "_view_module_version": "1.2.0",
            "_view_name": "StyleView",
            "bar_color": null,
            "description_width": ""
          }
        },
        "8afe2354624f4767ac1aa4c5cb6cf7db": {
          "model_module": "@jupyter-widgets/base",
          "model_name": "LayoutModel",
          "model_module_version": "1.2.0",
          "state": {
            "_model_module": "@jupyter-widgets/base",
            "_model_module_version": "1.2.0",
            "_model_name": "LayoutModel",
            "_view_count": null,
            "_view_module": "@jupyter-widgets/base",
            "_view_module_version": "1.2.0",
            "_view_name": "LayoutView",
            "align_content": null,
            "align_items": null,
            "align_self": null,
            "border": null,
            "bottom": null,
            "display": null,
            "flex": null,
            "flex_flow": null,
            "grid_area": null,
            "grid_auto_columns": null,
            "grid_auto_flow": null,
            "grid_auto_rows": null,
            "grid_column": null,
            "grid_gap": null,
            "grid_row": null,
            "grid_template_areas": null,
            "grid_template_columns": null,
            "grid_template_rows": null,
            "height": null,
            "justify_content": null,
            "justify_items": null,
            "left": null,
            "margin": null,
            "max_height": null,
            "max_width": null,
            "min_height": null,
            "min_width": null,
            "object_fit": null,
            "object_position": null,
            "order": null,
            "overflow": null,
            "overflow_x": null,
            "overflow_y": null,
            "padding": null,
            "right": null,
            "top": null,
            "visibility": null,
            "width": null
          }
        },
        "ab4f8d20e3f844938f343f472b05406f": {
          "model_module": "@jupyter-widgets/controls",
          "model_name": "DescriptionStyleModel",
          "model_module_version": "1.5.0",
          "state": {
            "_model_module": "@jupyter-widgets/controls",
            "_model_module_version": "1.5.0",
            "_model_name": "DescriptionStyleModel",
            "_view_count": null,
            "_view_module": "@jupyter-widgets/base",
            "_view_module_version": "1.2.0",
            "_view_name": "StyleView",
            "description_width": ""
          }
        },
        "b14cd8d2a5c842e39585fd0ec8695877": {
          "model_module": "@jupyter-widgets/controls",
          "model_name": "HBoxModel",
          "model_module_version": "1.5.0",
          "state": {
            "_dom_classes": [],
            "_model_module": "@jupyter-widgets/controls",
            "_model_module_version": "1.5.0",
            "_model_name": "HBoxModel",
            "_view_count": null,
            "_view_module": "@jupyter-widgets/controls",
            "_view_module_version": "1.5.0",
            "_view_name": "HBoxView",
            "box_style": "",
            "children": [
              "IPY_MODEL_f0b8fe48f44a4f97b37e58834f36ce5e",
              "IPY_MODEL_0055b4df94fb40809d0b2e561f2c60c6",
              "IPY_MODEL_e5446cabf38343a0a5071fe7ce524454"
            ],
            "layout": "IPY_MODEL_a34bf59c97c84f08a62a64c1750b2f6c"
          }
        },
        "f0b8fe48f44a4f97b37e58834f36ce5e": {
          "model_module": "@jupyter-widgets/controls",
          "model_name": "HTMLModel",
          "model_module_version": "1.5.0",
          "state": {
            "_dom_classes": [],
            "_model_module": "@jupyter-widgets/controls",
            "_model_module_version": "1.5.0",
            "_model_name": "HTMLModel",
            "_view_count": null,
            "_view_module": "@jupyter-widgets/controls",
            "_view_module_version": "1.5.0",
            "_view_name": "HTMLView",
            "description": "",
            "description_tooltip": null,
            "layout": "IPY_MODEL_c7f8a0c2d00243abbba9fb8dafc62fb5",
            "placeholder": "​",
            "style": "IPY_MODEL_af3b0afab7ac46c5bd34ea9d2a900d90",
            "value": "Downloading data: 100%"
          }
        },
        "0055b4df94fb40809d0b2e561f2c60c6": {
          "model_module": "@jupyter-widgets/controls",
          "model_name": "FloatProgressModel",
          "model_module_version": "1.5.0",
          "state": {
            "_dom_classes": [],
            "_model_module": "@jupyter-widgets/controls",
            "_model_module_version": "1.5.0",
            "_model_name": "FloatProgressModel",
            "_view_count": null,
            "_view_module": "@jupyter-widgets/controls",
            "_view_module_version": "1.5.0",
            "_view_name": "ProgressView",
            "bar_style": "success",
            "description": "",
            "description_tooltip": null,
            "layout": "IPY_MODEL_c4ebe1cbbdde417a9da6ef94dba2da4c",
            "max": 3392503,
            "min": 0,
            "orientation": "horizontal",
            "style": "IPY_MODEL_96874c93b4b94c63aa4d82c9f6932ba3",
            "value": 3392503
          }
        },
        "e5446cabf38343a0a5071fe7ce524454": {
          "model_module": "@jupyter-widgets/controls",
          "model_name": "HTMLModel",
          "model_module_version": "1.5.0",
          "state": {
            "_dom_classes": [],
            "_model_module": "@jupyter-widgets/controls",
            "_model_module_version": "1.5.0",
            "_model_name": "HTMLModel",
            "_view_count": null,
            "_view_module": "@jupyter-widgets/controls",
            "_view_module_version": "1.5.0",
            "_view_name": "HTMLView",
            "description": "",
            "description_tooltip": null,
            "layout": "IPY_MODEL_06e174cabd0a42bdba56fa59c86c964d",
            "placeholder": "​",
            "style": "IPY_MODEL_9943638753c34ab6b7e10280cb6f7a10",
            "value": " 3.39M/3.39M [00:00&lt;00:00, 5.09MB/s]"
          }
        },
        "a34bf59c97c84f08a62a64c1750b2f6c": {
          "model_module": "@jupyter-widgets/base",
          "model_name": "LayoutModel",
          "model_module_version": "1.2.0",
          "state": {
            "_model_module": "@jupyter-widgets/base",
            "_model_module_version": "1.2.0",
            "_model_name": "LayoutModel",
            "_view_count": null,
            "_view_module": "@jupyter-widgets/base",
            "_view_module_version": "1.2.0",
            "_view_name": "LayoutView",
            "align_content": null,
            "align_items": null,
            "align_self": null,
            "border": null,
            "bottom": null,
            "display": null,
            "flex": null,
            "flex_flow": null,
            "grid_area": null,
            "grid_auto_columns": null,
            "grid_auto_flow": null,
            "grid_auto_rows": null,
            "grid_column": null,
            "grid_gap": null,
            "grid_row": null,
            "grid_template_areas": null,
            "grid_template_columns": null,
            "grid_template_rows": null,
            "height": null,
            "justify_content": null,
            "justify_items": null,
            "left": null,
            "margin": null,
            "max_height": null,
            "max_width": null,
            "min_height": null,
            "min_width": null,
            "object_fit": null,
            "object_position": null,
            "order": null,
            "overflow": null,
            "overflow_x": null,
            "overflow_y": null,
            "padding": null,
            "right": null,
            "top": null,
            "visibility": null,
            "width": null
          }
        },
        "c7f8a0c2d00243abbba9fb8dafc62fb5": {
          "model_module": "@jupyter-widgets/base",
          "model_name": "LayoutModel",
          "model_module_version": "1.2.0",
          "state": {
            "_model_module": "@jupyter-widgets/base",
            "_model_module_version": "1.2.0",
            "_model_name": "LayoutModel",
            "_view_count": null,
            "_view_module": "@jupyter-widgets/base",
            "_view_module_version": "1.2.0",
            "_view_name": "LayoutView",
            "align_content": null,
            "align_items": null,
            "align_self": null,
            "border": null,
            "bottom": null,
            "display": null,
            "flex": null,
            "flex_flow": null,
            "grid_area": null,
            "grid_auto_columns": null,
            "grid_auto_flow": null,
            "grid_auto_rows": null,
            "grid_column": null,
            "grid_gap": null,
            "grid_row": null,
            "grid_template_areas": null,
            "grid_template_columns": null,
            "grid_template_rows": null,
            "height": null,
            "justify_content": null,
            "justify_items": null,
            "left": null,
            "margin": null,
            "max_height": null,
            "max_width": null,
            "min_height": null,
            "min_width": null,
            "object_fit": null,
            "object_position": null,
            "order": null,
            "overflow": null,
            "overflow_x": null,
            "overflow_y": null,
            "padding": null,
            "right": null,
            "top": null,
            "visibility": null,
            "width": null
          }
        },
        "af3b0afab7ac46c5bd34ea9d2a900d90": {
          "model_module": "@jupyter-widgets/controls",
          "model_name": "DescriptionStyleModel",
          "model_module_version": "1.5.0",
          "state": {
            "_model_module": "@jupyter-widgets/controls",
            "_model_module_version": "1.5.0",
            "_model_name": "DescriptionStyleModel",
            "_view_count": null,
            "_view_module": "@jupyter-widgets/base",
            "_view_module_version": "1.2.0",
            "_view_name": "StyleView",
            "description_width": ""
          }
        },
        "c4ebe1cbbdde417a9da6ef94dba2da4c": {
          "model_module": "@jupyter-widgets/base",
          "model_name": "LayoutModel",
          "model_module_version": "1.2.0",
          "state": {
            "_model_module": "@jupyter-widgets/base",
            "_model_module_version": "1.2.0",
            "_model_name": "LayoutModel",
            "_view_count": null,
            "_view_module": "@jupyter-widgets/base",
            "_view_module_version": "1.2.0",
            "_view_name": "LayoutView",
            "align_content": null,
            "align_items": null,
            "align_self": null,
            "border": null,
            "bottom": null,
            "display": null,
            "flex": null,
            "flex_flow": null,
            "grid_area": null,
            "grid_auto_columns": null,
            "grid_auto_flow": null,
            "grid_auto_rows": null,
            "grid_column": null,
            "grid_gap": null,
            "grid_row": null,
            "grid_template_areas": null,
            "grid_template_columns": null,
            "grid_template_rows": null,
            "height": null,
            "justify_content": null,
            "justify_items": null,
            "left": null,
            "margin": null,
            "max_height": null,
            "max_width": null,
            "min_height": null,
            "min_width": null,
            "object_fit": null,
            "object_position": null,
            "order": null,
            "overflow": null,
            "overflow_x": null,
            "overflow_y": null,
            "padding": null,
            "right": null,
            "top": null,
            "visibility": null,
            "width": null
          }
        },
        "96874c93b4b94c63aa4d82c9f6932ba3": {
          "model_module": "@jupyter-widgets/controls",
          "model_name": "ProgressStyleModel",
          "model_module_version": "1.5.0",
          "state": {
            "_model_module": "@jupyter-widgets/controls",
            "_model_module_version": "1.5.0",
            "_model_name": "ProgressStyleModel",
            "_view_count": null,
            "_view_module": "@jupyter-widgets/base",
            "_view_module_version": "1.2.0",
            "_view_name": "StyleView",
            "bar_color": null,
            "description_width": ""
          }
        },
        "06e174cabd0a42bdba56fa59c86c964d": {
          "model_module": "@jupyter-widgets/base",
          "model_name": "LayoutModel",
          "model_module_version": "1.2.0",
          "state": {
            "_model_module": "@jupyter-widgets/base",
            "_model_module_version": "1.2.0",
            "_model_name": "LayoutModel",
            "_view_count": null,
            "_view_module": "@jupyter-widgets/base",
            "_view_module_version": "1.2.0",
            "_view_name": "LayoutView",
            "align_content": null,
            "align_items": null,
            "align_self": null,
            "border": null,
            "bottom": null,
            "display": null,
            "flex": null,
            "flex_flow": null,
            "grid_area": null,
            "grid_auto_columns": null,
            "grid_auto_flow": null,
            "grid_auto_rows": null,
            "grid_column": null,
            "grid_gap": null,
            "grid_row": null,
            "grid_template_areas": null,
            "grid_template_columns": null,
            "grid_template_rows": null,
            "height": null,
            "justify_content": null,
            "justify_items": null,
            "left": null,
            "margin": null,
            "max_height": null,
            "max_width": null,
            "min_height": null,
            "min_width": null,
            "object_fit": null,
            "object_position": null,
            "order": null,
            "overflow": null,
            "overflow_x": null,
            "overflow_y": null,
            "padding": null,
            "right": null,
            "top": null,
            "visibility": null,
            "width": null
          }
        },
        "9943638753c34ab6b7e10280cb6f7a10": {
          "model_module": "@jupyter-widgets/controls",
          "model_name": "DescriptionStyleModel",
          "model_module_version": "1.5.0",
          "state": {
            "_model_module": "@jupyter-widgets/controls",
            "_model_module_version": "1.5.0",
            "_model_name": "DescriptionStyleModel",
            "_view_count": null,
            "_view_module": "@jupyter-widgets/base",
            "_view_module_version": "1.2.0",
            "_view_name": "StyleView",
            "description_width": ""
          }
        },
        "d0eb3b589396449d94b61321fe74257d": {
          "model_module": "@jupyter-widgets/controls",
          "model_name": "HBoxModel",
          "model_module_version": "1.5.0",
          "state": {
            "_dom_classes": [],
            "_model_module": "@jupyter-widgets/controls",
            "_model_module_version": "1.5.0",
            "_model_name": "HBoxModel",
            "_view_count": null,
            "_view_module": "@jupyter-widgets/controls",
            "_view_module_version": "1.5.0",
            "_view_name": "HBoxView",
            "box_style": "",
            "children": [
              "IPY_MODEL_38af220011f44128802af108e9cf5b96",
              "IPY_MODEL_b88642c970284448af309461003e29e6",
              "IPY_MODEL_0b8c0cc3a16643dbb180673a33f31e8d"
            ],
            "layout": "IPY_MODEL_bb49d414697f4512ab9492f17d178bf6"
          }
        },
        "38af220011f44128802af108e9cf5b96": {
          "model_module": "@jupyter-widgets/controls",
          "model_name": "HTMLModel",
          "model_module_version": "1.5.0",
          "state": {
            "_dom_classes": [],
            "_model_module": "@jupyter-widgets/controls",
            "_model_module_version": "1.5.0",
            "_model_name": "HTMLModel",
            "_view_count": null,
            "_view_module": "@jupyter-widgets/controls",
            "_view_module_version": "1.5.0",
            "_view_name": "HTMLView",
            "description": "",
            "description_tooltip": null,
            "layout": "IPY_MODEL_77283a1bfbb34ad28ed534838a6f1736",
            "placeholder": "​",
            "style": "IPY_MODEL_3ffeb1b951404e51909897ba697796a3",
            "value": "Generating train split: 100%"
          }
        },
        "b88642c970284448af309461003e29e6": {
          "model_module": "@jupyter-widgets/controls",
          "model_name": "FloatProgressModel",
          "model_module_version": "1.5.0",
          "state": {
            "_dom_classes": [],
            "_model_module": "@jupyter-widgets/controls",
            "_model_module_version": "1.5.0",
            "_model_name": "FloatProgressModel",
            "_view_count": null,
            "_view_module": "@jupyter-widgets/controls",
            "_view_module_version": "1.5.0",
            "_view_name": "ProgressView",
            "bar_style": "success",
            "description": "",
            "description_tooltip": null,
            "layout": "IPY_MODEL_adde66da2c43486e9401e64639284b38",
            "max": 392702,
            "min": 0,
            "orientation": "horizontal",
            "style": "IPY_MODEL_c6811283b57c464c99a55ed3e6b6ae7e",
            "value": 392702
          }
        },
        "0b8c0cc3a16643dbb180673a33f31e8d": {
          "model_module": "@jupyter-widgets/controls",
          "model_name": "HTMLModel",
          "model_module_version": "1.5.0",
          "state": {
            "_dom_classes": [],
            "_model_module": "@jupyter-widgets/controls",
            "_model_module_version": "1.5.0",
            "_model_name": "HTMLModel",
            "_view_count": null,
            "_view_module": "@jupyter-widgets/controls",
            "_view_module_version": "1.5.0",
            "_view_name": "HTMLView",
            "description": "",
            "description_tooltip": null,
            "layout": "IPY_MODEL_f076fb4c1a9040ad926ee9c7ca85d82f",
            "placeholder": "​",
            "style": "IPY_MODEL_9b2f7ad8c22b417b86fd1e92d117dffb",
            "value": " 392702/392702 [00:11&lt;00:00, 33458.78 examples/s]"
          }
        },
        "bb49d414697f4512ab9492f17d178bf6": {
          "model_module": "@jupyter-widgets/base",
          "model_name": "LayoutModel",
          "model_module_version": "1.2.0",
          "state": {
            "_model_module": "@jupyter-widgets/base",
            "_model_module_version": "1.2.0",
            "_model_name": "LayoutModel",
            "_view_count": null,
            "_view_module": "@jupyter-widgets/base",
            "_view_module_version": "1.2.0",
            "_view_name": "LayoutView",
            "align_content": null,
            "align_items": null,
            "align_self": null,
            "border": null,
            "bottom": null,
            "display": null,
            "flex": null,
            "flex_flow": null,
            "grid_area": null,
            "grid_auto_columns": null,
            "grid_auto_flow": null,
            "grid_auto_rows": null,
            "grid_column": null,
            "grid_gap": null,
            "grid_row": null,
            "grid_template_areas": null,
            "grid_template_columns": null,
            "grid_template_rows": null,
            "height": null,
            "justify_content": null,
            "justify_items": null,
            "left": null,
            "margin": null,
            "max_height": null,
            "max_width": null,
            "min_height": null,
            "min_width": null,
            "object_fit": null,
            "object_position": null,
            "order": null,
            "overflow": null,
            "overflow_x": null,
            "overflow_y": null,
            "padding": null,
            "right": null,
            "top": null,
            "visibility": null,
            "width": null
          }
        },
        "77283a1bfbb34ad28ed534838a6f1736": {
          "model_module": "@jupyter-widgets/base",
          "model_name": "LayoutModel",
          "model_module_version": "1.2.0",
          "state": {
            "_model_module": "@jupyter-widgets/base",
            "_model_module_version": "1.2.0",
            "_model_name": "LayoutModel",
            "_view_count": null,
            "_view_module": "@jupyter-widgets/base",
            "_view_module_version": "1.2.0",
            "_view_name": "LayoutView",
            "align_content": null,
            "align_items": null,
            "align_self": null,
            "border": null,
            "bottom": null,
            "display": null,
            "flex": null,
            "flex_flow": null,
            "grid_area": null,
            "grid_auto_columns": null,
            "grid_auto_flow": null,
            "grid_auto_rows": null,
            "grid_column": null,
            "grid_gap": null,
            "grid_row": null,
            "grid_template_areas": null,
            "grid_template_columns": null,
            "grid_template_rows": null,
            "height": null,
            "justify_content": null,
            "justify_items": null,
            "left": null,
            "margin": null,
            "max_height": null,
            "max_width": null,
            "min_height": null,
            "min_width": null,
            "object_fit": null,
            "object_position": null,
            "order": null,
            "overflow": null,
            "overflow_x": null,
            "overflow_y": null,
            "padding": null,
            "right": null,
            "top": null,
            "visibility": null,
            "width": null
          }
        },
        "3ffeb1b951404e51909897ba697796a3": {
          "model_module": "@jupyter-widgets/controls",
          "model_name": "DescriptionStyleModel",
          "model_module_version": "1.5.0",
          "state": {
            "_model_module": "@jupyter-widgets/controls",
            "_model_module_version": "1.5.0",
            "_model_name": "DescriptionStyleModel",
            "_view_count": null,
            "_view_module": "@jupyter-widgets/base",
            "_view_module_version": "1.2.0",
            "_view_name": "StyleView",
            "description_width": ""
          }
        },
        "adde66da2c43486e9401e64639284b38": {
          "model_module": "@jupyter-widgets/base",
          "model_name": "LayoutModel",
          "model_module_version": "1.2.0",
          "state": {
            "_model_module": "@jupyter-widgets/base",
            "_model_module_version": "1.2.0",
            "_model_name": "LayoutModel",
            "_view_count": null,
            "_view_module": "@jupyter-widgets/base",
            "_view_module_version": "1.2.0",
            "_view_name": "LayoutView",
            "align_content": null,
            "align_items": null,
            "align_self": null,
            "border": null,
            "bottom": null,
            "display": null,
            "flex": null,
            "flex_flow": null,
            "grid_area": null,
            "grid_auto_columns": null,
            "grid_auto_flow": null,
            "grid_auto_rows": null,
            "grid_column": null,
            "grid_gap": null,
            "grid_row": null,
            "grid_template_areas": null,
            "grid_template_columns": null,
            "grid_template_rows": null,
            "height": null,
            "justify_content": null,
            "justify_items": null,
            "left": null,
            "margin": null,
            "max_height": null,
            "max_width": null,
            "min_height": null,
            "min_width": null,
            "object_fit": null,
            "object_position": null,
            "order": null,
            "overflow": null,
            "overflow_x": null,
            "overflow_y": null,
            "padding": null,
            "right": null,
            "top": null,
            "visibility": null,
            "width": null
          }
        },
        "c6811283b57c464c99a55ed3e6b6ae7e": {
          "model_module": "@jupyter-widgets/controls",
          "model_name": "ProgressStyleModel",
          "model_module_version": "1.5.0",
          "state": {
            "_model_module": "@jupyter-widgets/controls",
            "_model_module_version": "1.5.0",
            "_model_name": "ProgressStyleModel",
            "_view_count": null,
            "_view_module": "@jupyter-widgets/base",
            "_view_module_version": "1.2.0",
            "_view_name": "StyleView",
            "bar_color": null,
            "description_width": ""
          }
        },
        "f076fb4c1a9040ad926ee9c7ca85d82f": {
          "model_module": "@jupyter-widgets/base",
          "model_name": "LayoutModel",
          "model_module_version": "1.2.0",
          "state": {
            "_model_module": "@jupyter-widgets/base",
            "_model_module_version": "1.2.0",
            "_model_name": "LayoutModel",
            "_view_count": null,
            "_view_module": "@jupyter-widgets/base",
            "_view_module_version": "1.2.0",
            "_view_name": "LayoutView",
            "align_content": null,
            "align_items": null,
            "align_self": null,
            "border": null,
            "bottom": null,
            "display": null,
            "flex": null,
            "flex_flow": null,
            "grid_area": null,
            "grid_auto_columns": null,
            "grid_auto_flow": null,
            "grid_auto_rows": null,
            "grid_column": null,
            "grid_gap": null,
            "grid_row": null,
            "grid_template_areas": null,
            "grid_template_columns": null,
            "grid_template_rows": null,
            "height": null,
            "justify_content": null,
            "justify_items": null,
            "left": null,
            "margin": null,
            "max_height": null,
            "max_width": null,
            "min_height": null,
            "min_width": null,
            "object_fit": null,
            "object_position": null,
            "order": null,
            "overflow": null,
            "overflow_x": null,
            "overflow_y": null,
            "padding": null,
            "right": null,
            "top": null,
            "visibility": null,
            "width": null
          }
        },
        "9b2f7ad8c22b417b86fd1e92d117dffb": {
          "model_module": "@jupyter-widgets/controls",
          "model_name": "DescriptionStyleModel",
          "model_module_version": "1.5.0",
          "state": {
            "_model_module": "@jupyter-widgets/controls",
            "_model_module_version": "1.5.0",
            "_model_name": "DescriptionStyleModel",
            "_view_count": null,
            "_view_module": "@jupyter-widgets/base",
            "_view_module_version": "1.2.0",
            "_view_name": "StyleView",
            "description_width": ""
          }
        },
        "cd7c0fed850e4265af7942915072fcfb": {
          "model_module": "@jupyter-widgets/controls",
          "model_name": "HBoxModel",
          "model_module_version": "1.5.0",
          "state": {
            "_dom_classes": [],
            "_model_module": "@jupyter-widgets/controls",
            "_model_module_version": "1.5.0",
            "_model_name": "HBoxModel",
            "_view_count": null,
            "_view_module": "@jupyter-widgets/controls",
            "_view_module_version": "1.5.0",
            "_view_name": "HBoxView",
            "box_style": "",
            "children": [
              "IPY_MODEL_86e0afee612c496d89a94e84625311df",
              "IPY_MODEL_76f3a30379764d84ab794a490703c6f8",
              "IPY_MODEL_4fe56282a2e0491481b851c424b1058f"
            ],
            "layout": "IPY_MODEL_62d38ddfd5f04a468439820230e4c144"
          }
        },
        "86e0afee612c496d89a94e84625311df": {
          "model_module": "@jupyter-widgets/controls",
          "model_name": "HTMLModel",
          "model_module_version": "1.5.0",
          "state": {
            "_dom_classes": [],
            "_model_module": "@jupyter-widgets/controls",
            "_model_module_version": "1.5.0",
            "_model_name": "HTMLModel",
            "_view_count": null,
            "_view_module": "@jupyter-widgets/controls",
            "_view_module_version": "1.5.0",
            "_view_name": "HTMLView",
            "description": "",
            "description_tooltip": null,
            "layout": "IPY_MODEL_04f2540c5053494cb31e4d34307d72b2",
            "placeholder": "​",
            "style": "IPY_MODEL_4a5443a3953342048fea8305dd88f9cc",
            "value": "Generating test split: 100%"
          }
        },
        "76f3a30379764d84ab794a490703c6f8": {
          "model_module": "@jupyter-widgets/controls",
          "model_name": "FloatProgressModel",
          "model_module_version": "1.5.0",
          "state": {
            "_dom_classes": [],
            "_model_module": "@jupyter-widgets/controls",
            "_model_module_version": "1.5.0",
            "_model_name": "FloatProgressModel",
            "_view_count": null,
            "_view_module": "@jupyter-widgets/controls",
            "_view_module_version": "1.5.0",
            "_view_name": "ProgressView",
            "bar_style": "success",
            "description": "",
            "description_tooltip": null,
            "layout": "IPY_MODEL_197bc48cbedd465bb2e9831cbe38b28a",
            "max": 5010,
            "min": 0,
            "orientation": "horizontal",
            "style": "IPY_MODEL_330babef78454c3e8da266b128bf978a",
            "value": 5010
          }
        },
        "4fe56282a2e0491481b851c424b1058f": {
          "model_module": "@jupyter-widgets/controls",
          "model_name": "HTMLModel",
          "model_module_version": "1.5.0",
          "state": {
            "_dom_classes": [],
            "_model_module": "@jupyter-widgets/controls",
            "_model_module_version": "1.5.0",
            "_model_name": "HTMLModel",
            "_view_count": null,
            "_view_module": "@jupyter-widgets/controls",
            "_view_module_version": "1.5.0",
            "_view_name": "HTMLView",
            "description": "",
            "description_tooltip": null,
            "layout": "IPY_MODEL_fd9cf5102b77414785d239e3442e3181",
            "placeholder": "​",
            "style": "IPY_MODEL_dd673cbf62ff44689118d42e7b70f44d",
            "value": " 5010/5010 [00:00&lt;00:00, 40991.88 examples/s]"
          }
        },
        "62d38ddfd5f04a468439820230e4c144": {
          "model_module": "@jupyter-widgets/base",
          "model_name": "LayoutModel",
          "model_module_version": "1.2.0",
          "state": {
            "_model_module": "@jupyter-widgets/base",
            "_model_module_version": "1.2.0",
            "_model_name": "LayoutModel",
            "_view_count": null,
            "_view_module": "@jupyter-widgets/base",
            "_view_module_version": "1.2.0",
            "_view_name": "LayoutView",
            "align_content": null,
            "align_items": null,
            "align_self": null,
            "border": null,
            "bottom": null,
            "display": null,
            "flex": null,
            "flex_flow": null,
            "grid_area": null,
            "grid_auto_columns": null,
            "grid_auto_flow": null,
            "grid_auto_rows": null,
            "grid_column": null,
            "grid_gap": null,
            "grid_row": null,
            "grid_template_areas": null,
            "grid_template_columns": null,
            "grid_template_rows": null,
            "height": null,
            "justify_content": null,
            "justify_items": null,
            "left": null,
            "margin": null,
            "max_height": null,
            "max_width": null,
            "min_height": null,
            "min_width": null,
            "object_fit": null,
            "object_position": null,
            "order": null,
            "overflow": null,
            "overflow_x": null,
            "overflow_y": null,
            "padding": null,
            "right": null,
            "top": null,
            "visibility": null,
            "width": null
          }
        },
        "04f2540c5053494cb31e4d34307d72b2": {
          "model_module": "@jupyter-widgets/base",
          "model_name": "LayoutModel",
          "model_module_version": "1.2.0",
          "state": {
            "_model_module": "@jupyter-widgets/base",
            "_model_module_version": "1.2.0",
            "_model_name": "LayoutModel",
            "_view_count": null,
            "_view_module": "@jupyter-widgets/base",
            "_view_module_version": "1.2.0",
            "_view_name": "LayoutView",
            "align_content": null,
            "align_items": null,
            "align_self": null,
            "border": null,
            "bottom": null,
            "display": null,
            "flex": null,
            "flex_flow": null,
            "grid_area": null,
            "grid_auto_columns": null,
            "grid_auto_flow": null,
            "grid_auto_rows": null,
            "grid_column": null,
            "grid_gap": null,
            "grid_row": null,
            "grid_template_areas": null,
            "grid_template_columns": null,
            "grid_template_rows": null,
            "height": null,
            "justify_content": null,
            "justify_items": null,
            "left": null,
            "margin": null,
            "max_height": null,
            "max_width": null,
            "min_height": null,
            "min_width": null,
            "object_fit": null,
            "object_position": null,
            "order": null,
            "overflow": null,
            "overflow_x": null,
            "overflow_y": null,
            "padding": null,
            "right": null,
            "top": null,
            "visibility": null,
            "width": null
          }
        },
        "4a5443a3953342048fea8305dd88f9cc": {
          "model_module": "@jupyter-widgets/controls",
          "model_name": "DescriptionStyleModel",
          "model_module_version": "1.5.0",
          "state": {
            "_model_module": "@jupyter-widgets/controls",
            "_model_module_version": "1.5.0",
            "_model_name": "DescriptionStyleModel",
            "_view_count": null,
            "_view_module": "@jupyter-widgets/base",
            "_view_module_version": "1.2.0",
            "_view_name": "StyleView",
            "description_width": ""
          }
        },
        "197bc48cbedd465bb2e9831cbe38b28a": {
          "model_module": "@jupyter-widgets/base",
          "model_name": "LayoutModel",
          "model_module_version": "1.2.0",
          "state": {
            "_model_module": "@jupyter-widgets/base",
            "_model_module_version": "1.2.0",
            "_model_name": "LayoutModel",
            "_view_count": null,
            "_view_module": "@jupyter-widgets/base",
            "_view_module_version": "1.2.0",
            "_view_name": "LayoutView",
            "align_content": null,
            "align_items": null,
            "align_self": null,
            "border": null,
            "bottom": null,
            "display": null,
            "flex": null,
            "flex_flow": null,
            "grid_area": null,
            "grid_auto_columns": null,
            "grid_auto_flow": null,
            "grid_auto_rows": null,
            "grid_column": null,
            "grid_gap": null,
            "grid_row": null,
            "grid_template_areas": null,
            "grid_template_columns": null,
            "grid_template_rows": null,
            "height": null,
            "justify_content": null,
            "justify_items": null,
            "left": null,
            "margin": null,
            "max_height": null,
            "max_width": null,
            "min_height": null,
            "min_width": null,
            "object_fit": null,
            "object_position": null,
            "order": null,
            "overflow": null,
            "overflow_x": null,
            "overflow_y": null,
            "padding": null,
            "right": null,
            "top": null,
            "visibility": null,
            "width": null
          }
        },
        "330babef78454c3e8da266b128bf978a": {
          "model_module": "@jupyter-widgets/controls",
          "model_name": "ProgressStyleModel",
          "model_module_version": "1.5.0",
          "state": {
            "_model_module": "@jupyter-widgets/controls",
            "_model_module_version": "1.5.0",
            "_model_name": "ProgressStyleModel",
            "_view_count": null,
            "_view_module": "@jupyter-widgets/base",
            "_view_module_version": "1.2.0",
            "_view_name": "StyleView",
            "bar_color": null,
            "description_width": ""
          }
        },
        "fd9cf5102b77414785d239e3442e3181": {
          "model_module": "@jupyter-widgets/base",
          "model_name": "LayoutModel",
          "model_module_version": "1.2.0",
          "state": {
            "_model_module": "@jupyter-widgets/base",
            "_model_module_version": "1.2.0",
            "_model_name": "LayoutModel",
            "_view_count": null,
            "_view_module": "@jupyter-widgets/base",
            "_view_module_version": "1.2.0",
            "_view_name": "LayoutView",
            "align_content": null,
            "align_items": null,
            "align_self": null,
            "border": null,
            "bottom": null,
            "display": null,
            "flex": null,
            "flex_flow": null,
            "grid_area": null,
            "grid_auto_columns": null,
            "grid_auto_flow": null,
            "grid_auto_rows": null,
            "grid_column": null,
            "grid_gap": null,
            "grid_row": null,
            "grid_template_areas": null,
            "grid_template_columns": null,
            "grid_template_rows": null,
            "height": null,
            "justify_content": null,
            "justify_items": null,
            "left": null,
            "margin": null,
            "max_height": null,
            "max_width": null,
            "min_height": null,
            "min_width": null,
            "object_fit": null,
            "object_position": null,
            "order": null,
            "overflow": null,
            "overflow_x": null,
            "overflow_y": null,
            "padding": null,
            "right": null,
            "top": null,
            "visibility": null,
            "width": null
          }
        },
        "dd673cbf62ff44689118d42e7b70f44d": {
          "model_module": "@jupyter-widgets/controls",
          "model_name": "DescriptionStyleModel",
          "model_module_version": "1.5.0",
          "state": {
            "_model_module": "@jupyter-widgets/controls",
            "_model_module_version": "1.5.0",
            "_model_name": "DescriptionStyleModel",
            "_view_count": null,
            "_view_module": "@jupyter-widgets/base",
            "_view_module_version": "1.2.0",
            "_view_name": "StyleView",
            "description_width": ""
          }
        },
        "d90a2edf0a2c462aa0aa371599eaea80": {
          "model_module": "@jupyter-widgets/controls",
          "model_name": "HBoxModel",
          "model_module_version": "1.5.0",
          "state": {
            "_dom_classes": [],
            "_model_module": "@jupyter-widgets/controls",
            "_model_module_version": "1.5.0",
            "_model_name": "HBoxModel",
            "_view_count": null,
            "_view_module": "@jupyter-widgets/controls",
            "_view_module_version": "1.5.0",
            "_view_name": "HBoxView",
            "box_style": "",
            "children": [
              "IPY_MODEL_c5ad666a95e441e6b7bd0a26d15c225c",
              "IPY_MODEL_463c4d8f59e5444883995720e587310a",
              "IPY_MODEL_8e77c0f3eeb14938824ec9072016032f"
            ],
            "layout": "IPY_MODEL_dfeb5ff7e38f4ea28f5050edbc2438e5"
          }
        },
        "c5ad666a95e441e6b7bd0a26d15c225c": {
          "model_module": "@jupyter-widgets/controls",
          "model_name": "HTMLModel",
          "model_module_version": "1.5.0",
          "state": {
            "_dom_classes": [],
            "_model_module": "@jupyter-widgets/controls",
            "_model_module_version": "1.5.0",
            "_model_name": "HTMLModel",
            "_view_count": null,
            "_view_module": "@jupyter-widgets/controls",
            "_view_module_version": "1.5.0",
            "_view_name": "HTMLView",
            "description": "",
            "description_tooltip": null,
            "layout": "IPY_MODEL_46f291bf68d145ca9f2f6c1ffc91d63f",
            "placeholder": "​",
            "style": "IPY_MODEL_e59df3d54b824c5db6c5b4b5256cfe58",
            "value": "Generating validation split: 100%"
          }
        },
        "463c4d8f59e5444883995720e587310a": {
          "model_module": "@jupyter-widgets/controls",
          "model_name": "FloatProgressModel",
          "model_module_version": "1.5.0",
          "state": {
            "_dom_classes": [],
            "_model_module": "@jupyter-widgets/controls",
            "_model_module_version": "1.5.0",
            "_model_name": "FloatProgressModel",
            "_view_count": null,
            "_view_module": "@jupyter-widgets/controls",
            "_view_module_version": "1.5.0",
            "_view_name": "ProgressView",
            "bar_style": "success",
            "description": "",
            "description_tooltip": null,
            "layout": "IPY_MODEL_312c95c7c8f842b785b0c3a3b4797072",
            "max": 2490,
            "min": 0,
            "orientation": "horizontal",
            "style": "IPY_MODEL_2bd49bd13d5b4908b31548fb03dcf121",
            "value": 2490
          }
        },
        "8e77c0f3eeb14938824ec9072016032f": {
          "model_module": "@jupyter-widgets/controls",
          "model_name": "HTMLModel",
          "model_module_version": "1.5.0",
          "state": {
            "_dom_classes": [],
            "_model_module": "@jupyter-widgets/controls",
            "_model_module_version": "1.5.0",
            "_model_name": "HTMLModel",
            "_view_count": null,
            "_view_module": "@jupyter-widgets/controls",
            "_view_module_version": "1.5.0",
            "_view_name": "HTMLView",
            "description": "",
            "description_tooltip": null,
            "layout": "IPY_MODEL_503c6bd77ee646119450e5705630f496",
            "placeholder": "​",
            "style": "IPY_MODEL_e3657cbb2ed2491186ab9e5fbc59867c",
            "value": " 2490/2490 [00:00&lt;00:00, 33906.07 examples/s]"
          }
        },
        "dfeb5ff7e38f4ea28f5050edbc2438e5": {
          "model_module": "@jupyter-widgets/base",
          "model_name": "LayoutModel",
          "model_module_version": "1.2.0",
          "state": {
            "_model_module": "@jupyter-widgets/base",
            "_model_module_version": "1.2.0",
            "_model_name": "LayoutModel",
            "_view_count": null,
            "_view_module": "@jupyter-widgets/base",
            "_view_module_version": "1.2.0",
            "_view_name": "LayoutView",
            "align_content": null,
            "align_items": null,
            "align_self": null,
            "border": null,
            "bottom": null,
            "display": null,
            "flex": null,
            "flex_flow": null,
            "grid_area": null,
            "grid_auto_columns": null,
            "grid_auto_flow": null,
            "grid_auto_rows": null,
            "grid_column": null,
            "grid_gap": null,
            "grid_row": null,
            "grid_template_areas": null,
            "grid_template_columns": null,
            "grid_template_rows": null,
            "height": null,
            "justify_content": null,
            "justify_items": null,
            "left": null,
            "margin": null,
            "max_height": null,
            "max_width": null,
            "min_height": null,
            "min_width": null,
            "object_fit": null,
            "object_position": null,
            "order": null,
            "overflow": null,
            "overflow_x": null,
            "overflow_y": null,
            "padding": null,
            "right": null,
            "top": null,
            "visibility": null,
            "width": null
          }
        },
        "46f291bf68d145ca9f2f6c1ffc91d63f": {
          "model_module": "@jupyter-widgets/base",
          "model_name": "LayoutModel",
          "model_module_version": "1.2.0",
          "state": {
            "_model_module": "@jupyter-widgets/base",
            "_model_module_version": "1.2.0",
            "_model_name": "LayoutModel",
            "_view_count": null,
            "_view_module": "@jupyter-widgets/base",
            "_view_module_version": "1.2.0",
            "_view_name": "LayoutView",
            "align_content": null,
            "align_items": null,
            "align_self": null,
            "border": null,
            "bottom": null,
            "display": null,
            "flex": null,
            "flex_flow": null,
            "grid_area": null,
            "grid_auto_columns": null,
            "grid_auto_flow": null,
            "grid_auto_rows": null,
            "grid_column": null,
            "grid_gap": null,
            "grid_row": null,
            "grid_template_areas": null,
            "grid_template_columns": null,
            "grid_template_rows": null,
            "height": null,
            "justify_content": null,
            "justify_items": null,
            "left": null,
            "margin": null,
            "max_height": null,
            "max_width": null,
            "min_height": null,
            "min_width": null,
            "object_fit": null,
            "object_position": null,
            "order": null,
            "overflow": null,
            "overflow_x": null,
            "overflow_y": null,
            "padding": null,
            "right": null,
            "top": null,
            "visibility": null,
            "width": null
          }
        },
        "e59df3d54b824c5db6c5b4b5256cfe58": {
          "model_module": "@jupyter-widgets/controls",
          "model_name": "DescriptionStyleModel",
          "model_module_version": "1.5.0",
          "state": {
            "_model_module": "@jupyter-widgets/controls",
            "_model_module_version": "1.5.0",
            "_model_name": "DescriptionStyleModel",
            "_view_count": null,
            "_view_module": "@jupyter-widgets/base",
            "_view_module_version": "1.2.0",
            "_view_name": "StyleView",
            "description_width": ""
          }
        },
        "312c95c7c8f842b785b0c3a3b4797072": {
          "model_module": "@jupyter-widgets/base",
          "model_name": "LayoutModel",
          "model_module_version": "1.2.0",
          "state": {
            "_model_module": "@jupyter-widgets/base",
            "_model_module_version": "1.2.0",
            "_model_name": "LayoutModel",
            "_view_count": null,
            "_view_module": "@jupyter-widgets/base",
            "_view_module_version": "1.2.0",
            "_view_name": "LayoutView",
            "align_content": null,
            "align_items": null,
            "align_self": null,
            "border": null,
            "bottom": null,
            "display": null,
            "flex": null,
            "flex_flow": null,
            "grid_area": null,
            "grid_auto_columns": null,
            "grid_auto_flow": null,
            "grid_auto_rows": null,
            "grid_column": null,
            "grid_gap": null,
            "grid_row": null,
            "grid_template_areas": null,
            "grid_template_columns": null,
            "grid_template_rows": null,
            "height": null,
            "justify_content": null,
            "justify_items": null,
            "left": null,
            "margin": null,
            "max_height": null,
            "max_width": null,
            "min_height": null,
            "min_width": null,
            "object_fit": null,
            "object_position": null,
            "order": null,
            "overflow": null,
            "overflow_x": null,
            "overflow_y": null,
            "padding": null,
            "right": null,
            "top": null,
            "visibility": null,
            "width": null
          }
        },
        "2bd49bd13d5b4908b31548fb03dcf121": {
          "model_module": "@jupyter-widgets/controls",
          "model_name": "ProgressStyleModel",
          "model_module_version": "1.5.0",
          "state": {
            "_model_module": "@jupyter-widgets/controls",
            "_model_module_version": "1.5.0",
            "_model_name": "ProgressStyleModel",
            "_view_count": null,
            "_view_module": "@jupyter-widgets/base",
            "_view_module_version": "1.2.0",
            "_view_name": "StyleView",
            "bar_color": null,
            "description_width": ""
          }
        },
        "503c6bd77ee646119450e5705630f496": {
          "model_module": "@jupyter-widgets/base",
          "model_name": "LayoutModel",
          "model_module_version": "1.2.0",
          "state": {
            "_model_module": "@jupyter-widgets/base",
            "_model_module_version": "1.2.0",
            "_model_name": "LayoutModel",
            "_view_count": null,
            "_view_module": "@jupyter-widgets/base",
            "_view_module_version": "1.2.0",
            "_view_name": "LayoutView",
            "align_content": null,
            "align_items": null,
            "align_self": null,
            "border": null,
            "bottom": null,
            "display": null,
            "flex": null,
            "flex_flow": null,
            "grid_area": null,
            "grid_auto_columns": null,
            "grid_auto_flow": null,
            "grid_auto_rows": null,
            "grid_column": null,
            "grid_gap": null,
            "grid_row": null,
            "grid_template_areas": null,
            "grid_template_columns": null,
            "grid_template_rows": null,
            "height": null,
            "justify_content": null,
            "justify_items": null,
            "left": null,
            "margin": null,
            "max_height": null,
            "max_width": null,
            "min_height": null,
            "min_width": null,
            "object_fit": null,
            "object_position": null,
            "order": null,
            "overflow": null,
            "overflow_x": null,
            "overflow_y": null,
            "padding": null,
            "right": null,
            "top": null,
            "visibility": null,
            "width": null
          }
        },
        "e3657cbb2ed2491186ab9e5fbc59867c": {
          "model_module": "@jupyter-widgets/controls",
          "model_name": "DescriptionStyleModel",
          "model_module_version": "1.5.0",
          "state": {
            "_model_module": "@jupyter-widgets/controls",
            "_model_module_version": "1.5.0",
            "_model_name": "DescriptionStyleModel",
            "_view_count": null,
            "_view_module": "@jupyter-widgets/base",
            "_view_module_version": "1.2.0",
            "_view_name": "StyleView",
            "description_width": ""
          }
        }
      }
    }
  },
  "nbformat": 4,
  "nbformat_minor": 5
}