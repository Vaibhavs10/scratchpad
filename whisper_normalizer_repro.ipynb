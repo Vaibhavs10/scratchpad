{
  "nbformat": 4,
  "nbformat_minor": 0,
  "metadata": {
    "colab": {
      "provenance": [],
      "authorship_tag": "ABX9TyOzXF/ZUeqQKHa7MuOPfO53",
      "include_colab_link": true
    },
    "kernelspec": {
      "name": "python3",
      "display_name": "Python 3"
    },
    "language_info": {
      "name": "python"
    }
  },
  "cells": [
    {
      "cell_type": "markdown",
      "metadata": {
        "id": "view-in-github",
        "colab_type": "text"
      },
      "source": [
        "<a href=\"https://colab.research.google.com/github/Vaibhavs10/scratchpad/blob/main/whisper_normalizer_repro.ipynb\" target=\"_parent\"><img src=\"https://colab.research.google.com/assets/colab-badge.svg\" alt=\"Open In Colab\"/></a>"
      ]
    },
    {
      "cell_type": "code",
      "execution_count": 2,
      "metadata": {
        "colab": {
          "base_uri": "https://localhost:8080/"
        },
        "id": "S2mh5ETnJb2N",
        "outputId": "af86835c-7d05-4052-9cc4-3ab350f0d42c"
      },
      "outputs": [
        {
          "output_type": "stream",
          "name": "stdout",
          "text": [
            "\u001b[2K     \u001b[90m━━━━━━━━━━━━━━━━━━━━━━━━━━━━━━━━━━━━━━━━\u001b[0m \u001b[32m7.4/7.4 MB\u001b[0m \u001b[31m14.7 MB/s\u001b[0m eta \u001b[36m0:00:00\u001b[0m\n",
            "\u001b[2K     \u001b[90m━━━━━━━━━━━━━━━━━━━━━━━━━━━━━━━━━━━━━━\u001b[0m \u001b[32m268.8/268.8 kB\u001b[0m \u001b[31m17.0 MB/s\u001b[0m eta \u001b[36m0:00:00\u001b[0m\n",
            "\u001b[2K     \u001b[90m━━━━━━━━━━━━━━━━━━━━━━━━━━━━━━━━━━━━━━━━\u001b[0m \u001b[32m7.8/7.8 MB\u001b[0m \u001b[31m38.6 MB/s\u001b[0m eta \u001b[36m0:00:00\u001b[0m\n",
            "\u001b[2K     \u001b[90m━━━━━━━━━━━━━━━━━━━━━━━━━━━━━━━━━━━━━━━━\u001b[0m \u001b[32m1.3/1.3 MB\u001b[0m \u001b[31m44.5 MB/s\u001b[0m eta \u001b[36m0:00:00\u001b[0m\n",
            "\u001b[?25h"
          ]
        }
      ],
      "source": [
        "!pip install -q transformers"
      ]
    },
    {
      "cell_type": "code",
      "source": [
        "from transformers.models.whisper.english_normalizer import BasicTextNormalizer\n",
        "normalizer = BasicTextNormalizer()\n",
        "normalizer(\"hello. this. is a Test.\")"
      ],
      "metadata": {
        "colab": {
          "base_uri": "https://localhost:8080/",
          "height": 35
        },
        "id": "ZroaszDZJfgd",
        "outputId": "9b099538-e190-49cb-8ebf-9b1be236ea0b"
      },
      "execution_count": 5,
      "outputs": [
        {
          "output_type": "execute_result",
          "data": {
            "text/plain": [
              "'hello this is a test '"
            ],
            "application/vnd.google.colaboratory.intrinsic+json": {
              "type": "string"
            }
          },
          "metadata": {},
          "execution_count": 5
        }
      ]
    },
    {
      "cell_type": "code",
      "source": [
        "!wget \"https://huggingface.co/openai/whisper-base/resolve/main/normalizer.json\""
      ],
      "metadata": {
        "colab": {
          "base_uri": "https://localhost:8080/"
        },
        "id": "fC6Zn2kYNA4J",
        "outputId": "ed69d75f-5bee-47a3-892d-cf2a6924795d"
      },
      "execution_count": 6,
      "outputs": [
        {
          "output_type": "stream",
          "name": "stdout",
          "text": [
            "--2023-08-14 08:40:26--  https://huggingface.co/openai/whisper-base/resolve/main/normalizer.json\n",
            "Resolving huggingface.co (huggingface.co)... 65.8.178.27, 65.8.178.93, 65.8.178.118, ...\n",
            "Connecting to huggingface.co (huggingface.co)|65.8.178.27|:443... connected.\n",
            "HTTP request sent, awaiting response... 200 OK\n",
            "Length: 52666 (51K) [text/plain]\n",
            "Saving to: ‘normalizer.json’\n",
            "\n",
            "\rnormalizer.json       0%[                    ]       0  --.-KB/s               \rnormalizer.json     100%[===================>]  51.43K  --.-KB/s    in 0.02s   \n",
            "\n",
            "2023-08-14 08:40:26 (2.73 MB/s) - ‘normalizer.json’ saved [52666/52666]\n",
            "\n"
          ]
        }
      ]
    },
    {
      "cell_type": "code",
      "source": [
        "import json\n",
        "with open(\"normalizer.json\", encoding=\"utf-8\") as vocab_handle:\n",
        "    english_spelling_normalizer = json.load(vocab_handle)"
      ],
      "metadata": {
        "id": "w_95Nc7nMz6v"
      },
      "execution_count": 8,
      "outputs": []
    },
    {
      "cell_type": "code",
      "source": [
        "\n",
        "from transformers.models.whisper.english_normalizer import EnglishTextNormalizer\n",
        "normalizer = EnglishTextNormalizer(english_spelling_normalizer)\n",
        "normalizer(\"hello. this. is a Test.\")"
      ],
      "metadata": {
        "colab": {
          "base_uri": "https://localhost:8080/",
          "height": 35
        },
        "id": "Fq9sMmZeJwoO",
        "outputId": "241d9ab4-ee38-4610-bc5e-ca17ffc70972"
      },
      "execution_count": 9,
      "outputs": [
        {
          "output_type": "execute_result",
          "data": {
            "text/plain": [
              "'hello this is a test'"
            ],
            "application/vnd.google.colaboratory.intrinsic+json": {
              "type": "string"
            }
          },
          "metadata": {},
          "execution_count": 9
        }
      ]
    },
    {
      "cell_type": "code",
      "source": [],
      "metadata": {
        "id": "WX1WlXehMcoK"
      },
      "execution_count": null,
      "outputs": []
    }
  ]
}