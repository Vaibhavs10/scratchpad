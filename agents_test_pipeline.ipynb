{
  "nbformat": 4,
  "nbformat_minor": 0,
  "metadata": {
    "colab": {
      "provenance": [],
      "authorship_tag": "ABX9TyPpEEPtLU44mUw/tjYntBKr",
      "include_colab_link": true
    },
    "kernelspec": {
      "name": "python3",
      "display_name": "Python 3"
    },
    "language_info": {
      "name": "python"
    }
  },
  "cells": [
    {
      "cell_type": "markdown",
      "metadata": {
        "id": "view-in-github",
        "colab_type": "text"
      },
      "source": [
        "<a href=\"https://colab.research.google.com/github/Vaibhavs10/scratchpad/blob/main/agents_test_pipeline.ipynb\" target=\"_parent\"><img src=\"https://colab.research.google.com/assets/colab-badge.svg\" alt=\"Open In Colab\"/></a>"
      ]
    },
    {
      "cell_type": "code",
      "execution_count": null,
      "metadata": {
        "id": "2Sr2o-d1AnEq"
      },
      "outputs": [],
      "source": [
        "def transcribe_audio(audio_url):\n",
        "    pipe = pipeline(\"automatic-speech-recognition\", model=\"facebook/wav2vec2-base-960h\")\n",
        "    transcript = pipe(audio_url)\n",
        "    return transcipt\n"
      ]
    },
    {
      "cell_type": "code",
      "source": [
        "def test_transcript(transcript):\n",
        "    if assert type(transcript) == str:\n",
        "        return True\n",
        "\n",
        "def test_transcript_length(transcript):\n",
        "    if assert len(transcript) > 0:\n",
        "        return True"
      ],
      "metadata": {
        "id": "9PzKFZL5A1v-"
      },
      "execution_count": null,
      "outputs": []
    }
  ]
}