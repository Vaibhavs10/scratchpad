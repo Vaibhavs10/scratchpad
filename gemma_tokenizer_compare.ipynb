{
  "cells": [
    {
      "cell_type": "markdown",
      "metadata": {
        "id": "view-in-github",
        "colab_type": "text"
      },
      "source": [
        "<a href=\"https://colab.research.google.com/github/Vaibhavs10/scratchpad/blob/main/gemma_tokenizer_compare.ipynb\" target=\"_parent\"><img src=\"https://colab.research.google.com/assets/colab-badge.svg\" alt=\"Open In Colab\"/></a>"
      ]
    },
    {
      "cell_type": "code",
      "source": [
        "!pip install git+https://github.com/google/gemma_pytorch.git git+https://github.com/huggingface/transformers.git"
      ],
      "metadata": {
        "colab": {
          "base_uri": "https://localhost:8080/",
          "height": 1000
        },
        "id": "S_NiZpMhijvX",
        "outputId": "360a68d9-dc47-407d-fe8a-7660f080ffb5"
      },
      "id": "S_NiZpMhijvX",
      "execution_count": 7,
      "outputs": [
        {
          "output_type": "stream",
          "name": "stdout",
          "text": [
            "Collecting git+https://github.com/google/gemma_pytorch.git\n",
            "  Cloning https://github.com/google/gemma_pytorch.git to /tmp/pip-req-build-pttwm4i1\n",
            "  Running command git clone --filter=blob:none --quiet https://github.com/google/gemma_pytorch.git /tmp/pip-req-build-pttwm4i1\n",
            "  Resolved https://github.com/google/gemma_pytorch.git to commit 2e90350c992b01db56e211bc1db80b03dcb7375c\n",
            "  Preparing metadata (setup.py) ... \u001b[?25l\u001b[?25hdone\n",
            "Collecting git+https://github.com/huggingface/transformers.git\n",
            "  Cloning https://github.com/huggingface/transformers.git to /tmp/pip-req-build-fl3jbnil\n",
            "  Running command git clone --filter=blob:none --quiet https://github.com/huggingface/transformers.git /tmp/pip-req-build-fl3jbnil\n",
            "  Resolved https://github.com/huggingface/transformers.git to commit dcdda5324bcc7a750b5e40e11dd795442204ff27\n",
            "  Installing build dependencies ... \u001b[?25l\u001b[?25hdone\n",
            "  Getting requirements to build wheel ... \u001b[?25l\u001b[?25hdone\n",
            "  Preparing metadata (pyproject.toml) ... \u001b[?25l\u001b[?25hdone\n",
            "Collecting numpy==1.24.4 (from gemma==0.1)\n",
            "  Downloading numpy-1.24.4-cp310-cp310-manylinux_2_17_x86_64.manylinux2014_x86_64.whl (17.3 MB)\n",
            "\u001b[2K     \u001b[90m━━━━━━━━━━━━━━━━━━━━━━━━━━━━━━━━━━━━━━━━\u001b[0m \u001b[32m17.3/17.3 MB\u001b[0m \u001b[31m56.1 MB/s\u001b[0m eta \u001b[36m0:00:00\u001b[0m\n",
            "\u001b[?25hRequirement already satisfied: sentencepiece==0.1.99 in /usr/local/lib/python3.10/dist-packages (from gemma==0.1) (0.1.99)\n",
            "Requirement already satisfied: torch in /usr/local/lib/python3.10/dist-packages (from gemma==0.1) (2.3.0+cu121)\n",
            "Requirement already satisfied: filelock in /usr/local/lib/python3.10/dist-packages (from transformers==4.42.0.dev0) (3.14.0)\n",
            "Requirement already satisfied: huggingface-hub<1.0,>=0.23.0 in /usr/local/lib/python3.10/dist-packages (from transformers==4.42.0.dev0) (0.23.2)\n",
            "Requirement already satisfied: packaging>=20.0 in /usr/local/lib/python3.10/dist-packages (from transformers==4.42.0.dev0) (24.0)\n",
            "Requirement already satisfied: pyyaml>=5.1 in /usr/local/lib/python3.10/dist-packages (from transformers==4.42.0.dev0) (6.0.1)\n",
            "Requirement already satisfied: regex!=2019.12.17 in /usr/local/lib/python3.10/dist-packages (from transformers==4.42.0.dev0) (2024.5.15)\n",
            "Requirement already satisfied: requests in /usr/local/lib/python3.10/dist-packages (from transformers==4.42.0.dev0) (2.31.0)\n",
            "Requirement already satisfied: tokenizers<0.20,>=0.19 in /usr/local/lib/python3.10/dist-packages (from transformers==4.42.0.dev0) (0.19.1)\n",
            "Requirement already satisfied: safetensors>=0.4.1 in /usr/local/lib/python3.10/dist-packages (from transformers==4.42.0.dev0) (0.4.3)\n",
            "Requirement already satisfied: tqdm>=4.27 in /usr/local/lib/python3.10/dist-packages (from transformers==4.42.0.dev0) (4.66.4)\n",
            "Requirement already satisfied: fsspec>=2023.5.0 in /usr/local/lib/python3.10/dist-packages (from huggingface-hub<1.0,>=0.23.0->transformers==4.42.0.dev0) (2023.6.0)\n",
            "Requirement already satisfied: typing-extensions>=3.7.4.3 in /usr/local/lib/python3.10/dist-packages (from huggingface-hub<1.0,>=0.23.0->transformers==4.42.0.dev0) (4.12.1)\n",
            "Requirement already satisfied: charset-normalizer<4,>=2 in /usr/local/lib/python3.10/dist-packages (from requests->transformers==4.42.0.dev0) (3.3.2)\n",
            "Requirement already satisfied: idna<4,>=2.5 in /usr/local/lib/python3.10/dist-packages (from requests->transformers==4.42.0.dev0) (3.7)\n",
            "Requirement already satisfied: urllib3<3,>=1.21.1 in /usr/local/lib/python3.10/dist-packages (from requests->transformers==4.42.0.dev0) (2.0.7)\n",
            "Requirement already satisfied: certifi>=2017.4.17 in /usr/local/lib/python3.10/dist-packages (from requests->transformers==4.42.0.dev0) (2024.6.2)\n",
            "Requirement already satisfied: sympy in /usr/local/lib/python3.10/dist-packages (from torch->gemma==0.1) (1.12.1)\n",
            "Requirement already satisfied: networkx in /usr/local/lib/python3.10/dist-packages (from torch->gemma==0.1) (3.3)\n",
            "Requirement already satisfied: jinja2 in /usr/local/lib/python3.10/dist-packages (from torch->gemma==0.1) (3.1.4)\n",
            "Collecting nvidia-cuda-nvrtc-cu12==12.1.105 (from torch->gemma==0.1)\n",
            "  Using cached nvidia_cuda_nvrtc_cu12-12.1.105-py3-none-manylinux1_x86_64.whl (23.7 MB)\n",
            "Collecting nvidia-cuda-runtime-cu12==12.1.105 (from torch->gemma==0.1)\n",
            "  Using cached nvidia_cuda_runtime_cu12-12.1.105-py3-none-manylinux1_x86_64.whl (823 kB)\n",
            "Collecting nvidia-cuda-cupti-cu12==12.1.105 (from torch->gemma==0.1)\n",
            "  Using cached nvidia_cuda_cupti_cu12-12.1.105-py3-none-manylinux1_x86_64.whl (14.1 MB)\n",
            "Collecting nvidia-cudnn-cu12==8.9.2.26 (from torch->gemma==0.1)\n",
            "  Using cached nvidia_cudnn_cu12-8.9.2.26-py3-none-manylinux1_x86_64.whl (731.7 MB)\n",
            "Collecting nvidia-cublas-cu12==12.1.3.1 (from torch->gemma==0.1)\n",
            "  Using cached nvidia_cublas_cu12-12.1.3.1-py3-none-manylinux1_x86_64.whl (410.6 MB)\n",
            "Collecting nvidia-cufft-cu12==11.0.2.54 (from torch->gemma==0.1)\n",
            "  Using cached nvidia_cufft_cu12-11.0.2.54-py3-none-manylinux1_x86_64.whl (121.6 MB)\n",
            "Collecting nvidia-curand-cu12==10.3.2.106 (from torch->gemma==0.1)\n",
            "  Using cached nvidia_curand_cu12-10.3.2.106-py3-none-manylinux1_x86_64.whl (56.5 MB)\n",
            "Collecting nvidia-cusolver-cu12==11.4.5.107 (from torch->gemma==0.1)\n",
            "  Using cached nvidia_cusolver_cu12-11.4.5.107-py3-none-manylinux1_x86_64.whl (124.2 MB)\n",
            "Collecting nvidia-cusparse-cu12==12.1.0.106 (from torch->gemma==0.1)\n",
            "  Using cached nvidia_cusparse_cu12-12.1.0.106-py3-none-manylinux1_x86_64.whl (196.0 MB)\n",
            "Collecting nvidia-nccl-cu12==2.20.5 (from torch->gemma==0.1)\n",
            "  Using cached nvidia_nccl_cu12-2.20.5-py3-none-manylinux2014_x86_64.whl (176.2 MB)\n",
            "Collecting nvidia-nvtx-cu12==12.1.105 (from torch->gemma==0.1)\n",
            "  Using cached nvidia_nvtx_cu12-12.1.105-py3-none-manylinux1_x86_64.whl (99 kB)\n",
            "Requirement already satisfied: triton==2.3.0 in /usr/local/lib/python3.10/dist-packages (from torch->gemma==0.1) (2.3.0)\n",
            "Collecting nvidia-nvjitlink-cu12 (from nvidia-cusolver-cu12==11.4.5.107->torch->gemma==0.1)\n",
            "  Downloading nvidia_nvjitlink_cu12-12.5.40-py3-none-manylinux2014_x86_64.whl (21.3 MB)\n",
            "\u001b[2K     \u001b[90m━━━━━━━━━━━━━━━━━━━━━━━━━━━━━━━━━━━━━━━━\u001b[0m \u001b[32m21.3/21.3 MB\u001b[0m \u001b[31m34.8 MB/s\u001b[0m eta \u001b[36m0:00:00\u001b[0m\n",
            "\u001b[?25hRequirement already satisfied: MarkupSafe>=2.0 in /usr/local/lib/python3.10/dist-packages (from jinja2->torch->gemma==0.1) (2.1.5)\n",
            "Requirement already satisfied: mpmath<1.4.0,>=1.1.0 in /usr/local/lib/python3.10/dist-packages (from sympy->torch->gemma==0.1) (1.3.0)\n",
            "Building wheels for collected packages: gemma\n",
            "  Building wheel for gemma (setup.py) ... \u001b[?25l\u001b[?25hdone\n",
            "  Created wheel for gemma: filename=gemma-0.1-py3-none-any.whl size=24436 sha256=1935323406702531f85537236de09c09d81bba537070bd4c0662895a00821c1d\n",
            "  Stored in directory: /tmp/pip-ephem-wheel-cache-53rx5u44/wheels/24/c9/eb/2c63a7b3e4af84e50e2e75397638f8eda717aa8b31a1069445\n",
            "Successfully built gemma\n",
            "Installing collected packages: nvidia-nvtx-cu12, nvidia-nvjitlink-cu12, nvidia-nccl-cu12, nvidia-curand-cu12, nvidia-cufft-cu12, nvidia-cuda-runtime-cu12, nvidia-cuda-nvrtc-cu12, nvidia-cuda-cupti-cu12, nvidia-cublas-cu12, numpy, nvidia-cusparse-cu12, nvidia-cudnn-cu12, nvidia-cusolver-cu12, gemma\n",
            "  Attempting uninstall: numpy\n",
            "    Found existing installation: numpy 1.25.2\n",
            "    Uninstalling numpy-1.25.2:\n",
            "      Successfully uninstalled numpy-1.25.2\n",
            "  Attempting uninstall: gemma\n",
            "    Found existing installation: gemma 1.0.0\n",
            "    Uninstalling gemma-1.0.0:\n",
            "      Successfully uninstalled gemma-1.0.0\n",
            "\u001b[31mERROR: pip's dependency resolver does not currently take into account all the packages that are installed. This behaviour is the source of the following dependency conflicts.\n",
            "pandas-stubs 2.0.3.230814 requires numpy>=1.25.0; python_version >= \"3.9\", but you have numpy 1.24.4 which is incompatible.\u001b[0m\u001b[31m\n",
            "\u001b[0mSuccessfully installed gemma-0.1 numpy-1.24.4 nvidia-cublas-cu12-12.1.3.1 nvidia-cuda-cupti-cu12-12.1.105 nvidia-cuda-nvrtc-cu12-12.1.105 nvidia-cuda-runtime-cu12-12.1.105 nvidia-cudnn-cu12-8.9.2.26 nvidia-cufft-cu12-11.0.2.54 nvidia-curand-cu12-10.3.2.106 nvidia-cusolver-cu12-11.4.5.107 nvidia-cusparse-cu12-12.1.0.106 nvidia-nccl-cu12-2.20.5 nvidia-nvjitlink-cu12-12.5.40 nvidia-nvtx-cu12-12.1.105\n"
          ]
        },
        {
          "output_type": "display_data",
          "data": {
            "application/vnd.colab-display-data+json": {
              "pip_warning": {
                "packages": [
                  "gemma",
                  "numpy"
                ]
              },
              "id": "cc3b592c64d64bbd850ba395d87c9f1c"
            }
          },
          "metadata": {}
        }
      ]
    },
    {
      "cell_type": "code",
      "execution_count": 2,
      "id": "04eafdc4",
      "metadata": {
        "id": "04eafdc4"
      },
      "outputs": [],
      "source": [
        "from gemma.tokenizer import Tokenizer"
      ]
    },
    {
      "cell_type": "code",
      "execution_count": 3,
      "id": "aae9d9de",
      "metadata": {
        "id": "aae9d9de"
      },
      "outputs": [],
      "source": [
        "original = Tokenizer(\"tokenizer-2.model\")"
      ]
    },
    {
      "cell_type": "code",
      "execution_count": 4,
      "id": "465f8b83",
      "metadata": {
        "colab": {
          "base_uri": "https://localhost:8080/"
        },
        "id": "465f8b83",
        "outputId": "40401524-9438-4b18-f75a-ddc1d583d920"
      },
      "outputs": [
        {
          "output_type": "execute_result",
          "data": {
            "text/plain": [
              "[74498]"
            ]
          },
          "metadata": {},
          "execution_count": 4
        }
      ],
      "source": [
        "original.encode(\"whatever\", bos=False)"
      ]
    },
    {
      "cell_type": "code",
      "execution_count": 5,
      "id": "06b063cf",
      "metadata": {
        "id": "06b063cf"
      },
      "outputs": [],
      "source": [
        "from transformers import GemmaTokenizer, AutoTokenizer"
      ]
    },
    {
      "cell_type": "code",
      "execution_count": 15,
      "id": "a584d69f",
      "metadata": {
        "colab": {
          "base_uri": "https://localhost:8080/",
          "height": 92,
          "referenced_widgets": [
            "16c1b214c084456c892f84c790b2d925",
            "e61405a3f7374f5aa20f31a3e14dde8d",
            "c38d6812c8154f8c89f995692ae32545",
            "a1831d9dfcfa47189f0559ba258fcfdf",
            "68d4eb3a25c14e5e8845b99bc866f603",
            "440350c2c03c4081a0a489f67c914677",
            "91ac5995f474418798564cfd085eff98",
            "a8fedc7991734d1ea01fbddb10125aa3",
            "1cdbbd2ad7cb431098b5b87d05060e82",
            "25bc28d1e7084219b5958eeb9ae0af76",
            "bc642d17aea2425baf50abf87efe5aaf",
            "78dd678bc91b43fc8affb402cc638e06",
            "6baf14242d9c4811af1041c5fea0ae94",
            "1dee26d2dcc94db891aa36fdb80dc5e7",
            "1692d56fb15640e1adc767dc036186cb",
            "d1e912e683014756a444a184fa482fe7",
            "e774a192aac24917b6e56152ba05a850",
            "fccb1a7e26b84855bf172addeb30208d",
            "a382930fa0f6453791e19e0cb14a461e",
            "8f1b6e3bcb43447a8f3b06d84c9602b8",
            "f2613ca9c8664d68b7dc4335062a49ce",
            "bd418c1f9c9b4705869a58747b1bede2"
          ]
        },
        "id": "a584d69f",
        "outputId": "e62995a1-a14b-49f0-f747-9fcbbe07fde3"
      },
      "outputs": [
        {
          "output_type": "display_data",
          "data": {
            "text/plain": [
              "tokenizer_config.json:   0%|          | 0.00/33.6k [00:00<?, ?B/s]"
            ],
            "application/vnd.jupyter.widget-view+json": {
              "version_major": 2,
              "version_minor": 0,
              "model_id": "16c1b214c084456c892f84c790b2d925"
            }
          },
          "metadata": {}
        },
        {
          "output_type": "display_data",
          "data": {
            "text/plain": [
              "tokenizer.json:   0%|          | 0.00/17.5M [00:00<?, ?B/s]"
            ],
            "application/vnd.jupyter.widget-view+json": {
              "version_major": 2,
              "version_minor": 0,
              "model_id": "78dd678bc91b43fc8affb402cc638e06"
            }
          },
          "metadata": {}
        }
      ],
      "source": [
        "t_fast = AutoTokenizer.from_pretrained(\"gg-hf/recurrentgemma-9b-hf\", revision=\"pr/2\")\n",
        "t_slow = GemmaTokenizer.from_pretrained(\"gg-hf/recurrentgemma-9b-hf\", revision=\"pr/2\")\n",
        "\n",
        "# t_fast = AutoTokenizer.from_pretrained(\"google/recurrentgemma-2b\", revision=\"main\")\n",
        "# t_slow = GemmaTokenizer.from_pretrained(\"google/recurrentgemma-2b\", revision=\"main\")"
      ]
    },
    {
      "cell_type": "code",
      "execution_count": 7,
      "id": "0160405a",
      "metadata": {
        "id": "0160405a"
      },
      "outputs": [],
      "source": [
        "from datasets import load_dataset"
      ]
    },
    {
      "cell_type": "code",
      "execution_count": 8,
      "id": "a743115c",
      "metadata": {
        "colab": {
          "base_uri": "https://localhost:8080/",
          "height": 390,
          "referenced_widgets": [
            "a89763f4e5e34381ad1a27ad5c6c5c1c",
            "2e850a7c4ccc442780c01ad97c23deb4",
            "9f0a96f719bd4151b3339855d1cee5ad",
            "871dc644d66b4cb6be8924ed167fc65c",
            "e274e3a5b57a4fa8966eeada011656be",
            "01bf55ef271f4de0891f6e911c5cee2a",
            "741f53cf4dda4bf6b2013d370d0fd207",
            "8e53c8a0a76346cd8c61def742729597",
            "956d1f33af0d4b88b2c12b3267deddce",
            "b50d0b458046416f9865baf3a23cd9cf",
            "4cfb44a9879b4a86b279c5a04846c4cb",
            "28448c69943f4fbb8d9b9733568983e0",
            "f33316354a8a4504a613e05d009bc896",
            "4b9ae42571fc49b2838cd8e810224bff",
            "e646ab2f2ce9471cbb2488894f58ed30",
            "04044f89536f41bc89f88940af1c5b47",
            "5eecf7960eb94c32b18436418e97794b",
            "65fbcea4a6a042cc8fd6a0d90d25fab6",
            "62772bc8110447ca9337e26a182fedbc",
            "0960feaee5424deb8766006b4f016316",
            "54c2c935dc3d43bcbedc82542789d7e2",
            "7aed5b50500d4ced84bb71f03fe0ca8c",
            "fae4ff6ddafb4c0d885cae0955061282",
            "2554882893504269a833a989c3cebf24",
            "c9d9929a3d8344ceb9103278c693baca",
            "b063a7982c7147fe88d80e0928f30419",
            "b56dc59cb57b434288bc652a2c9f0690",
            "d5f68fd065714efa965574b046f6f5eb",
            "f023a1792b31416a8dd6f510e5c9eaf1",
            "6d65fe18bca642d58c11646f0c8c92f4",
            "f8552807b83c41fd95b1832c0531e41d",
            "e693e7a6c00b49dca01a89ec2b403a4b",
            "43fa75be273b4477b0f875d41982bc77",
            "56f28d053b2c4b1997b1eeb73a0dc619",
            "329a8475d8594812891739c8f0d54419",
            "d0c7513b2f30461ea3e89f809f642f32",
            "3c74b9c3c912447c9d0c704821f46bda",
            "15b3a5ed899d452ba0afc4c606a71261",
            "cb64aaa7f5554bce88fd49fe0d6ed8ef",
            "3f07a4a5c7ff407da90936d9e886e840",
            "eba2c2cd3de24a09959ee147ddb3fddb",
            "f34b1664c031453599b23ee0eb42da96",
            "5bdc2267750b4ca69c8206664bcde118",
            "177aa3ca65644e148d28017b36319e0a",
            "084fd1da25434b68ade2fac4e5d55bdb",
            "102fdb2e4b6548f781a679128557a238",
            "acd5a5a03da544f1a93edcc700697f9e",
            "90147b7ff6c548b7a6d8fa88f33bd8b8",
            "ce7f2c6ebbc54f3ba7fcc673dee8345f",
            "71134a3d74104960bd7c6c21fdf49893",
            "7868fe32baad430aae0fb7147e98493c",
            "c948c0c6b7104f118d08801144279d9d",
            "6058879b1ae44d78bfa2bd6d2b602a51",
            "c4189fc901df43b9b9509a0f403a8137",
            "38967356c37945fe9bc70f29dc436557",
            "17086072533c4dac92a2bb883e370176",
            "827f4615f55a4c7e97134ebd5575f597",
            "f97206e3516c4625b059409b9de318cb",
            "dab5245210f54121bb4326f23bc1fd1c",
            "84c37356f7a242269aa09c3ccf7fa78b",
            "48a6e8fbe95f4fac85e2cf40a169fb75",
            "3cf9c953759848649322cc42697f1124",
            "34535893ce044aceab221ecd0977e879",
            "141efad980384d2cbc43b12b32509e7e",
            "a1efd078cc3f431292eb6f74c7f1fdcb",
            "f05c6eec333942369b5d8fe15177df72",
            "2268439eed2f4a10a00d98097a8804c3",
            "8f164cd5fdc04d34bd65573d695241e5",
            "657df8eb4b3141849d7dd7501974f429",
            "002bfd66702d4513a0a8b283fd02e478",
            "76a4fec3d8f84b83bf3656ee32802e0b",
            "032005bf09d143a1ac21b4be24d18cee",
            "bdf587fca99347a5935cd59734593145",
            "712d2ab02a2848a2922c0215cd65ea3d",
            "c4da0e5af07b4259b09de4b62eaa5d00",
            "50c7f4de30e64260b8cbefe56aed2a52",
            "caecbcccc78a4cc5bcb3043e63a81c51",
            "8e8b614026c645e78aca6e98d5f778ed",
            "5a6c95c9274d477cbb72345c3db7c1f3",
            "7d79937dad49445cbda45d705daa4686",
            "4d29b88cd673484ba46f416986af58cb",
            "e997f766149344b69f79c7bf6d6a32ec",
            "df1f35b3c0f84b119c01d74347f54c03",
            "75caa021975f4dc08af9fd1a2b89cf05",
            "754259b9f58f44dea925e0db860e57e7",
            "4da7c4fcd1cb4242b66cf0d5047bb21c",
            "8b397839fa1b4c82a655a738be0ccdc4",
            "5f97409da900447f89b1aadf1a7e281f",
            "b25faa9953fa493b84dba60ca5dff187",
            "782e96879dda43679ec6aca203f0861b",
            "bc67d41aad0142e79a3d0e68de6f89c8",
            "4821b5bd06b34df8a2a5b8c03dcb1c54",
            "e980ad5da708475697a16b610c4c084d",
            "233dc8a3309440e18783ede19c7c6c17",
            "58d3e1665c8b4bdb9aea9d80bf513c89",
            "ca9d4118a7dc4caa849ec9115f9436cd",
            "6f4db9bb1e6d40c996ca258e38e4e794",
            "cb258c60b3804902bdd98b2d60203ab4",
            "1daa8500c6f14e6988efde55a4105b8f",
            "ea621b4421da45b892e5e29cfe64a5b6",
            "1b4f7f1165cc41ae8744388bb9df562a",
            "c4a224bb4e5d4a2a947dc350fd3cc569",
            "9a08fff0588c4bfc90e4af4417f27c85",
            "d2b7a9072955427189f477a48892c07a",
            "de963aeff00f4b438605370a110be3dd",
            "3f13df9ee2f2434e9e959bc04462ac36",
            "d1c62d39b542409c93f7c02ee60094d3",
            "92f8361250a042569d81166d202b463c",
            "c8ad4a7be46e4f51b4dfa0c6d0719c4d",
            "0a3b9291bd654a5c9c8f18db2cad216a"
          ]
        },
        "id": "a743115c",
        "outputId": "3835dd5e-f9b2-4726-d1d6-0eb1d33f9b9e"
      },
      "outputs": [
        {
          "output_type": "display_data",
          "data": {
            "text/plain": [
              "Downloading readme:   0%|          | 0.00/20.8k [00:00<?, ?B/s]"
            ],
            "application/vnd.jupyter.widget-view+json": {
              "version_major": 2,
              "version_minor": 0,
              "model_id": "a89763f4e5e34381ad1a27ad5c6c5c1c"
            }
          },
          "metadata": {}
        },
        {
          "output_type": "display_data",
          "data": {
            "text/plain": [
              "Downloading data:   0%|          | 0.00/238M [00:00<?, ?B/s]"
            ],
            "application/vnd.jupyter.widget-view+json": {
              "version_major": 2,
              "version_minor": 0,
              "model_id": "28448c69943f4fbb8d9b9733568983e0"
            }
          },
          "metadata": {}
        },
        {
          "output_type": "display_data",
          "data": {
            "text/plain": [
              "Downloading data:   0%|          | 0.00/239M [00:00<?, ?B/s]"
            ],
            "application/vnd.jupyter.widget-view+json": {
              "version_major": 2,
              "version_minor": 0,
              "model_id": "fae4ff6ddafb4c0d885cae0955061282"
            }
          },
          "metadata": {}
        },
        {
          "output_type": "display_data",
          "data": {
            "text/plain": [
              "Downloading data:   0%|          | 0.00/238M [00:00<?, ?B/s]"
            ],
            "application/vnd.jupyter.widget-view+json": {
              "version_major": 2,
              "version_minor": 0,
              "model_id": "56f28d053b2c4b1997b1eeb73a0dc619"
            }
          },
          "metadata": {}
        },
        {
          "output_type": "display_data",
          "data": {
            "text/plain": [
              "Downloading data:   0%|          | 0.00/239M [00:00<?, ?B/s]"
            ],
            "application/vnd.jupyter.widget-view+json": {
              "version_major": 2,
              "version_minor": 0,
              "model_id": "084fd1da25434b68ade2fac4e5d55bdb"
            }
          },
          "metadata": {}
        },
        {
          "output_type": "display_data",
          "data": {
            "text/plain": [
              "Downloading data:   0%|          | 0.00/6.77M [00:00<?, ?B/s]"
            ],
            "application/vnd.jupyter.widget-view+json": {
              "version_major": 2,
              "version_minor": 0,
              "model_id": "17086072533c4dac92a2bb883e370176"
            }
          },
          "metadata": {}
        },
        {
          "output_type": "display_data",
          "data": {
            "text/plain": [
              "Downloading data:   0%|          | 0.00/3.39M [00:00<?, ?B/s]"
            ],
            "application/vnd.jupyter.widget-view+json": {
              "version_major": 2,
              "version_minor": 0,
              "model_id": "2268439eed2f4a10a00d98097a8804c3"
            }
          },
          "metadata": {}
        },
        {
          "output_type": "display_data",
          "data": {
            "text/plain": [
              "Generating train split:   0%|          | 0/392702 [00:00<?, ? examples/s]"
            ],
            "application/vnd.jupyter.widget-view+json": {
              "version_major": 2,
              "version_minor": 0,
              "model_id": "8e8b614026c645e78aca6e98d5f778ed"
            }
          },
          "metadata": {}
        },
        {
          "output_type": "display_data",
          "data": {
            "text/plain": [
              "Generating test split:   0%|          | 0/5010 [00:00<?, ? examples/s]"
            ],
            "application/vnd.jupyter.widget-view+json": {
              "version_major": 2,
              "version_minor": 0,
              "model_id": "b25faa9953fa493b84dba60ca5dff187"
            }
          },
          "metadata": {}
        },
        {
          "output_type": "display_data",
          "data": {
            "text/plain": [
              "Generating validation split:   0%|          | 0/2490 [00:00<?, ? examples/s]"
            ],
            "application/vnd.jupyter.widget-view+json": {
              "version_major": 2,
              "version_minor": 0,
              "model_id": "ea621b4421da45b892e5e29cfe64a5b6"
            }
          },
          "metadata": {}
        }
      ],
      "source": [
        "xnli = load_dataset(\"xnli\", \"all_languages\", split=\"validation\")"
      ]
    },
    {
      "cell_type": "code",
      "execution_count": 9,
      "id": "ab230921",
      "metadata": {
        "id": "ab230921"
      },
      "outputs": [],
      "source": [
        "p = next(iter(xnli[\"premise\"]))"
      ]
    },
    {
      "cell_type": "code",
      "execution_count": 16,
      "id": "ce5450df",
      "metadata": {
        "id": "ce5450df"
      },
      "outputs": [],
      "source": [
        "for lang, text in p.items():\n",
        "    encoded_original = original.encode(text, bos=True, eos=False)\n",
        "    encoded_fast = t_fast.encode(text)\n",
        "    encoded_slow = t_slow.encode(text)\n",
        "    assert encoded_fast == encoded_original, f\"Fast encode error: {lang} - {text}\"\n",
        "    assert encoded_slow == encoded_original, f\"Slow encode error: {lang} - {text}\"\n",
        "    decoded = original.decode(encoded_original)\n",
        "    decoded_fast = t_fast.decode(encoded_fast, skip_special_tokens=True)\n",
        "    decoded_slow = t_slow.decode(encoded_slow, skip_special_tokens=True)\n",
        "    assert decoded_fast == decoded, f\"Fast decode error: {lang} - {text}\"\n",
        "    assert decoded_slow == decoded, f\"Slow decode error: {lang} - {text}\""
      ]
    },
    {
      "cell_type": "code",
      "execution_count": 11,
      "id": "111bd93b",
      "metadata": {
        "id": "111bd93b"
      },
      "outputs": [],
      "source": [
        "from tqdm import tqdm"
      ]
    },
    {
      "cell_type": "code",
      "execution_count": 17,
      "id": "9a52691b",
      "metadata": {
        "id": "9a52691b"
      },
      "outputs": [],
      "source": [
        "def verify(lang, text):\n",
        "    encoded_original = original.encode(text, bos=True, eos=False)\n",
        "    encoded_fast = t_fast.encode(text)\n",
        "    encoded_slow = t_slow.encode(text)\n",
        "#     assert encoded_fast == encoded_original, f\"Fast encode error: {lang} - {text}\"\n",
        "    assert encoded_slow == encoded_original, f\"Slow encode error: {lang} - {text}\"\n",
        "    decoded = original.decode(encoded_original)\n",
        "    decoded_fast = t_fast.decode(encoded_fast, skip_special_tokens=True)\n",
        "    decoded_slow = t_slow.decode(encoded_slow, skip_special_tokens=True)\n",
        "#     assert decoded_fast == decoded, f\"Fast decode error: {lang} - {text}\"\n",
        "    assert decoded_slow == decoded, f\"Slow decode error: {lang} - {text}\""
      ]
    },
    {
      "cell_type": "code",
      "execution_count": 18,
      "id": "f3123ffd",
      "metadata": {
        "colab": {
          "base_uri": "https://localhost:8080/"
        },
        "id": "f3123ffd",
        "outputId": "e998ae78-5be4-4e3b-d47b-7d61cabd4311"
      },
      "outputs": [
        {
          "output_type": "stream",
          "name": "stderr",
          "text": [
            "100%|██████████| 2490/2490 [01:41<00:00, 24.52it/s]\n"
          ]
        }
      ],
      "source": [
        "for p in tqdm(xnli[\"premise\"]):\n",
        "    for lang, text in p.items():\n",
        "        verify(lang, text)"
      ]
    },
    {
      "cell_type": "code",
      "execution_count": null,
      "id": "2625fa6b",
      "metadata": {
        "id": "2625fa6b"
      },
      "outputs": [],
      "source": [
        "ds = load_dataset(\"codeparrot/github-code\", streaming=True, split=\"train\")"
      ]
    },
    {
      "cell_type": "code",
      "execution_count": null,
      "id": "d6262a7d",
      "metadata": {
        "id": "d6262a7d",
        "outputId": "6b9ce454-1247-41c1-b6ed-a00d6610c4e2"
      },
      "outputs": [
        {
          "data": {
            "text/plain": [
              "{'code': '\\'use strict\\';\\n\\nvar clear          = require(\\'es5-ext/array/#/clear\\')\\n  , eIndexOf       = require(\\'es5-ext/array/#/e-index-of\\')\\n  , setPrototypeOf = require(\\'es5-ext/object/set-prototype-of\\')\\n  , callable       = require(\\'es5-ext/object/valid-callable\\')\\n  , d              = require(\\'d\\')\\n  , ee             = require(\\'event-emitter\\')\\n  , Symbol         = require(\\'es6-symbol\\')\\n  , iterator       = require(\\'es6-iterator/valid-iterable\\')\\n  , forOf          = require(\\'es6-iterator/for-of\\')\\n  , Iterator       = require(\\'./lib/iterator\\')\\n  , isNative       = require(\\'./is-native-implemented\\')\\n\\n  , call = Function.prototype.call, defineProperty = Object.defineProperty\\n  , SetPoly, getValues;\\n\\nmodule.exports = SetPoly = function (/*iterable*/) {\\n\\tvar iterable = arguments[0];\\n\\tif (!(this instanceof SetPoly)) return new SetPoly(iterable);\\n\\tif (this.__setData__ !== undefined) {\\n\\t\\tthrow new TypeError(this + \" cannot be reinitialized\");\\n\\t}\\n\\tif (iterable != null) iterator(iterable);\\n\\tdefineProperty(this, \\'__setData__\\', d(\\'c\\', []));\\n\\tif (!iterable) return;\\n\\tforOf(iterable, function (value) {\\n\\t\\tif (eIndexOf.call(this, value) !== -1) return;\\n\\t\\tthis.push(value);\\n\\t}, this.__setData__);\\n};\\n\\nif (isNative) {\\n\\tif (setPrototypeOf) setPrototypeOf(SetPoly, Set);\\n\\tSetPoly.prototype = Object.create(Set.prototype, {\\n\\t\\tconstructor: d(SetPoly)\\n\\t});\\n}\\n\\nee(Object.defineProperties(SetPoly.prototype, {\\n\\tadd: d(function (value) {\\n\\t\\tif (this.has(value)) return this;\\n\\t\\tthis.emit(\\'_add\\', this.__setData__.push(value) - 1, value);\\n\\t\\treturn this;\\n\\t}),\\n\\tclear: d(function () {\\n\\t\\tif (!this.__setData__.length) return;\\n\\t\\tclear.call(this.__setData__);\\n\\t\\tthis.emit(\\'_clear\\');\\n\\t}),\\n\\tdelete: d(function (value) {\\n\\t\\tvar index = eIndexOf.call(this.__setData__, value);\\n\\t\\tif (index === -1) return false;\\n\\t\\tthis.__setData__.splice(index, 1);\\n\\t\\tthis.emit(\\'_delete\\', index, value);\\n\\t\\treturn true;\\n\\t}),\\n\\tentries: d(function () { return new Iterator(this, \\'key+value\\'); }),\\n\\tforEach: d(function (cb/*, thisArg*/) {\\n\\t\\tvar thisArg = arguments[1], iterator, result, value;\\n\\t\\tcallable(cb);\\n\\t\\titerator = this.values();\\n\\t\\tresult = iterator._next();\\n\\t\\twhile (result !== undefined) {\\n\\t\\t\\tvalue = iterator._resolve(result);\\n\\t\\t\\tcall.call(cb, thisArg, value, value, this);\\n\\t\\t\\tresult = iterator._next();\\n\\t\\t}\\n\\t}),\\n\\thas: d(function (value) {\\n\\t\\treturn (eIndexOf.call(this.__setData__, value) !== -1);\\n\\t}),\\n\\tkeys: d(getValues = function () { return this.values(); }),\\n\\tsize: d.gs(function () { return this.__setData__.length; }),\\n\\tvalues: d(function () { return new Iterator(this); }),\\n\\ttoString: d(function () { return \\'[object Set]\\'; })\\n}));\\ndefineProperty(SetPoly.prototype, Symbol.iterator, d(getValues));\\ndefineProperty(SetPoly.prototype, Symbol.toStringTag, d(\\'c\\', \\'Set\\'));\\n',\n",
              " 'repo_name': 'Socratacom/socrata-europe',\n",
              " 'path': 'wp-content/themes/sage/node_modules/asset-builder/node_modules/main-bower-files/node_modules/vinyl-fs/node_modules/glob-stream/node_modules/unique-stream/node_modules/es6-set/polyfill.js',\n",
              " 'language': 'JavaScript',\n",
              " 'license': 'gpl-2.0',\n",
              " 'size': 2730}"
            ]
          },
          "execution_count": 89,
          "metadata": {},
          "output_type": "execute_result"
        }
      ],
      "source": [
        "next(iter(ds))"
      ]
    },
    {
      "cell_type": "code",
      "execution_count": null,
      "id": "d983c5e8",
      "metadata": {
        "id": "d983c5e8",
        "outputId": "cd7fde42-7f4e-41d3-ed08-8245434e7250"
      },
      "outputs": [
        {
          "name": "stderr",
          "output_type": "stream",
          "text": [
            "100%|██████████████████████████████████████████████████████████████████████████████████████| 1000/1000 [00:46<00:00, 21.29it/s]\n"
          ]
        }
      ],
      "source": [
        "skipped = 0\n",
        "iterator = iter(ds)\n",
        "for _ in tqdm(range(1000)):\n",
        "    item = next(iterator)\n",
        "    code = item[\"code\"]\n",
        "    lang = item[\"language\"]\n",
        "    if False and item[\"size\"] > 1000:\n",
        "        skipped += 1\n",
        "        continue\n",
        "    verify(lang, code)"
      ]
    },
    {
      "cell_type": "code",
      "execution_count": null,
      "id": "ebf3e43a",
      "metadata": {
        "id": "ebf3e43a",
        "outputId": "d9964df5-a178-4a14-d194-5b3de7af5579"
      },
      "outputs": [
        {
          "data": {
            "text/plain": [
              "0"
            ]
          },
          "execution_count": 93,
          "metadata": {},
          "output_type": "execute_result"
        }
      ],
      "source": [
        "skipped"
      ]
    },
    {
      "cell_type": "code",
      "execution_count": null,
      "id": "3f2314c5",
      "metadata": {
        "id": "3f2314c5",
        "outputId": "c3baab01-8b8d-48c8-bca5-72b48a55754e"
      },
      "outputs": [
        {
          "data": {
            "text/plain": [
              "32"
            ]
          },
          "execution_count": 95,
          "metadata": {},
          "output_type": "execute_result"
        }
      ],
      "source": [
        "len(\"▁ ▁▁▁▁▁▁▁▁▁▁▁▁▁▁▁▁▁▁▁▁▁▁▁▁▁▁▁▁▁▁\")"
      ]
    },
    {
      "cell_type": "code",
      "execution_count": null,
      "id": "51af9e5d",
      "metadata": {
        "id": "51af9e5d",
        "outputId": "b18c7043-a7e0-468c-ecde-8c5ac5b04eec"
      },
      "outputs": [
        {
          "name": "stdout",
          "output_type": "stream",
          "text": [
            "[2, 809, 8071, 774, 777, 5585, 1730, 108, 809, 6263, 55150, 235265, 37189, 1730, 109, 3249, 3097, 3022, 1236, 612, 108, 139, 773, 591, 108, 141, 235322, 927, 5060, 627, 55150, 235290, 927, 768, 108, 143, 235322, 14789, 5060, 627, 7773, 58367, 2915, 67594, 235290, 55150, 235281, 4881, 627, 235274, 235276, 235276, 40018, 5721, 627, 235274, 235276, 235276, 235281, 2116, 3207, 627, 235276, 235248, 235276, 235248, 235274, 235276, 235276, 235248, 235274, 235276, 235284, 235281, 26271, 145417, 627, 10763, 768, 108, 147, 235322, 2222, 499, 627, 235296, 235276, 235248, 235276, 629, 235276, 235248, 235274, 235276, 235276, 629, 235324, 235276, 235248, 235276, 629, 235274, 235276, 235276, 235248, 235274, 235276, 235276, 629, 235274, 235276, 235276, 235248, 235276, 1271, 235281, 4224, 108, 143, 727, 14789, 235313, 108, 143, 235322, 235259, 235284, 5060, 627, 55150, 235290, 5351, 768, 43629, 193, 108, 143, 235322, 235263, 5060, 627, 55150, 474, 4526, 768, 108, 147, 95661, 235283, 988, 235318, 8071, 139738, 13116, 17852, 94776, 81690, 37466, 10210, 235265, 2833, 188629, 82780, 713, 3626, 4791, 33354, 7904, 3626, 64831, 42556, 130278, 43965, 4556, 1779, 22812, 1021, 13566, 235283, 10882, 108, 143, 727, 235263, 235313, 108, 145, 235322, 3716, 5060, 627, 3716, 6086, 794, 1677, 506, 6086, 794, 157550, 7841, 235290, 5012, 768, 108, 147, 1358, 2961, 968, 235252, 5060, 627, 1072, 1210, 235290, 8384, 7841, 235290, 8384, 768, 211, 235322, 235250, 5060, 627, 55150, 235290, 5012, 235290, 235250, 235281, 6017, 627, 2468, 1336, 1920, 235265, 8384, 235265, 872, 235283, 18734, 120608, 235281, 4408, 31253, 18574, 7710, 235250, 235313, 108, 145, 727, 3716, 235313, 108, 141, 727, 927, 235313, 108, 139, 594, 108, 235270, 108]\n"
          ]
        }
      ],
      "source": [
        "encoded = original.encode(code)\n",
        "print(encoded)"
      ]
    },
    {
      "cell_type": "code",
      "execution_count": null,
      "id": "beb4863e",
      "metadata": {
        "id": "beb4863e",
        "outputId": "2b666fc0-3c9d-4b45-9815-3f40ae2c144b"
      },
      "outputs": [
        {
          "name": "stdout",
          "output_type": "stream",
          "text": [
            "[2, 809, 8071, 774, 777, 5585, 1730, 108, 809, 6263, 55150, 235265, 37189, 1730, 109, 3249, 3097, 3022, 1236, 612, 108, 139, 773, 591, 108, 141, 235322, 927, 5060, 627, 55150, 235290, 927, 768, 108, 143, 235322, 14789, 5060, 627, 7773, 58367, 2915, 67594, 235290, 55150, 235281, 4881, 627, 235274, 235276, 235276, 40018, 5721, 627, 235274, 235276, 235276, 235281, 2116, 3207, 627, 235276, 235248, 235276, 235248, 235274, 235276, 235276, 235248, 235274, 235276, 235284, 235281, 26271, 145417, 627, 10763, 768, 108, 147, 235322, 2222, 499, 627, 235296, 235276, 235248, 235276, 629, 235276, 235248, 235274, 235276, 235276, 629, 235324, 235276, 235248, 235276, 629, 235274, 235276, 235276, 235248, 235274, 235276, 235276, 629, 235274, 235276, 235276, 235248, 235276, 1271, 235281, 4224, 108, 143, 727, 14789, 235313, 108, 143, 235322, 235259, 235284, 5060, 627, 55150, 235290, 5351, 768, 43629, 727, 235259, 235284, 235313, 108, 143, 235322, 235263, 5060, 627, 55150, 474, 4526, 768, 108, 147, 95661, 235283, 988, 235318, 8071, 139738, 13116, 17852, 94776, 81690, 37466, 10210, 235265, 2833, 188629, 82780, 713, 3626, 4791, 33354, 7904, 3626, 64831, 42556, 130278, 43965, 4556, 1779, 22812, 1021, 13566, 235283, 10882, 108, 143, 727, 235263, 235313, 108, 145, 235322, 3716, 5060, 627, 3716, 6086, 794, 1677, 506, 6086, 794, 157550, 7841, 235290, 5012, 768, 108, 147, 1358, 2961, 968, 235252, 5060, 627, 1072, 1210, 235290, 8384, 7841, 235290, 8384, 7710, 235252, 2577, 235250, 5060, 627, 55150, 235290, 5012, 235290, 235250, 235281, 6017, 627, 2468, 1336, 1920, 235265, 8384, 235265, 872, 235283, 18734, 120608, 235281, 4408, 31253, 18574, 7710, 235250, 235313, 108, 145, 727, 3716, 235313, 108, 141, 727, 927, 235313, 108, 139, 594, 108, 235270, 108]\n"
          ]
        }
      ],
      "source": [
        "fast_encoded = t_fast.encode(code)\n",
        "print(fast_encoded)"
      ]
    },
    {
      "cell_type": "code",
      "execution_count": null,
      "id": "a2add490",
      "metadata": {
        "id": "a2add490",
        "outputId": "87542f58-cfae-48e5-c23f-e1d8c80146f1"
      },
      "outputs": [
        {
          "data": {
            "text/plain": [
              "(265, 268)"
            ]
          },
          "execution_count": 78,
          "metadata": {},
          "output_type": "execute_result"
        }
      ],
      "source": [
        "len(encoded), len(fast_encoded)"
      ]
    },
    {
      "cell_type": "code",
      "execution_count": null,
      "id": "c8061bf8",
      "metadata": {
        "id": "c8061bf8",
        "outputId": "580f318a-17d6-405c-ceeb-5a66941cb6c4"
      },
      "outputs": [
        {
          "name": "stdout",
          "output_type": "stream",
          "text": [
            "Mismatch at 134: 193 != 727\n",
            "Mismatch at 135: 108 != 235259\n",
            "Mismatch at 136: 143 != 235284\n",
            "Mismatch at 137: 235322 != 235313\n",
            "Mismatch at 138: 235263 != 108\n",
            "Mismatch at 139: 5060 != 143\n",
            "Mismatch at 140: 627 != 235322\n",
            "Mismatch at 141: 55150 != 235263\n",
            "Mismatch at 142: 474 != 5060\n",
            "Mismatch at 143: 4526 != 627\n",
            "Mismatch at 144: 768 != 55150\n",
            "Mismatch at 145: 108 != 474\n",
            "Mismatch at 146: 147 != 4526\n",
            "Mismatch at 147: 95661 != 768\n",
            "Mismatch at 148: 235283 != 108\n",
            "Mismatch at 149: 988 != 147\n",
            "Mismatch at 150: 235318 != 95661\n",
            "Mismatch at 151: 8071 != 235283\n",
            "Mismatch at 152: 139738 != 988\n",
            "Mismatch at 153: 13116 != 235318\n",
            "Mismatch at 154: 17852 != 8071\n",
            "Mismatch at 155: 94776 != 139738\n",
            "Mismatch at 156: 81690 != 13116\n",
            "Mismatch at 157: 37466 != 17852\n",
            "Mismatch at 158: 10210 != 94776\n",
            "Mismatch at 159: 235265 != 81690\n",
            "Mismatch at 160: 2833 != 37466\n",
            "Mismatch at 161: 188629 != 10210\n",
            "Mismatch at 162: 82780 != 235265\n",
            "Mismatch at 163: 713 != 2833\n",
            "Mismatch at 164: 3626 != 188629\n",
            "Mismatch at 165: 4791 != 82780\n",
            "Mismatch at 166: 33354 != 713\n",
            "Mismatch at 167: 7904 != 3626\n",
            "Mismatch at 168: 3626 != 4791\n",
            "Mismatch at 169: 64831 != 33354\n",
            "Mismatch at 170: 42556 != 7904\n",
            "Mismatch at 171: 130278 != 3626\n",
            "Mismatch at 172: 43965 != 64831\n",
            "Mismatch at 173: 4556 != 42556\n",
            "Mismatch at 174: 1779 != 130278\n",
            "Mismatch at 175: 22812 != 43965\n",
            "Mismatch at 176: 1021 != 4556\n",
            "Mismatch at 177: 13566 != 1779\n",
            "Mismatch at 178: 235283 != 22812\n",
            "Mismatch at 179: 10882 != 1021\n",
            "Mismatch at 180: 108 != 13566\n",
            "Mismatch at 181: 143 != 235283\n",
            "Mismatch at 182: 727 != 10882\n",
            "Mismatch at 183: 235263 != 108\n",
            "Mismatch at 184: 235313 != 143\n",
            "Mismatch at 185: 108 != 727\n",
            "Mismatch at 186: 145 != 235263\n",
            "Mismatch at 187: 235322 != 235313\n",
            "Mismatch at 188: 3716 != 108\n",
            "Mismatch at 189: 5060 != 145\n",
            "Mismatch at 190: 627 != 235322\n",
            "Mismatch at 192: 6086 != 5060\n",
            "Mismatch at 193: 794 != 627\n",
            "Mismatch at 194: 1677 != 3716\n",
            "Mismatch at 195: 506 != 6086\n",
            "Mismatch at 196: 6086 != 794\n",
            "Mismatch at 197: 794 != 1677\n",
            "Mismatch at 198: 157550 != 506\n",
            "Mismatch at 199: 7841 != 6086\n",
            "Mismatch at 200: 235290 != 794\n",
            "Mismatch at 201: 5012 != 157550\n",
            "Mismatch at 202: 768 != 7841\n",
            "Mismatch at 203: 108 != 235290\n",
            "Mismatch at 204: 147 != 5012\n",
            "Mismatch at 205: 1358 != 768\n",
            "Mismatch at 206: 2961 != 108\n",
            "Mismatch at 207: 968 != 147\n",
            "Mismatch at 208: 235252 != 1358\n",
            "Mismatch at 209: 5060 != 2961\n",
            "Mismatch at 210: 627 != 968\n",
            "Mismatch at 211: 1072 != 235252\n",
            "Mismatch at 212: 1210 != 5060\n",
            "Mismatch at 213: 235290 != 627\n",
            "Mismatch at 214: 8384 != 1072\n",
            "Mismatch at 215: 7841 != 1210\n",
            "Mismatch at 218: 768 != 7841\n",
            "Mismatch at 219: 211 != 235290\n",
            "Mismatch at 220: 235322 != 8384\n",
            "Mismatch at 221: 235250 != 7710\n",
            "Mismatch at 222: 5060 != 235252\n",
            "Mismatch at 223: 627 != 2577\n",
            "Mismatch at 224: 55150 != 235250\n",
            "Mismatch at 225: 235290 != 5060\n",
            "Mismatch at 226: 5012 != 627\n",
            "Mismatch at 227: 235290 != 55150\n",
            "Mismatch at 228: 235250 != 235290\n",
            "Mismatch at 229: 235281 != 5012\n",
            "Mismatch at 230: 6017 != 235290\n",
            "Mismatch at 231: 627 != 235250\n",
            "Mismatch at 232: 2468 != 235281\n",
            "Mismatch at 233: 1336 != 6017\n",
            "Mismatch at 234: 1920 != 627\n",
            "Mismatch at 235: 235265 != 2468\n",
            "Mismatch at 236: 8384 != 1336\n",
            "Mismatch at 237: 235265 != 1920\n",
            "Mismatch at 238: 872 != 235265\n",
            "Mismatch at 239: 235283 != 8384\n",
            "Mismatch at 240: 18734 != 235265\n",
            "Mismatch at 241: 120608 != 872\n",
            "Mismatch at 242: 235281 != 235283\n",
            "Mismatch at 243: 4408 != 18734\n",
            "Mismatch at 244: 31253 != 120608\n",
            "Mismatch at 245: 18574 != 235281\n",
            "Mismatch at 246: 7710 != 4408\n",
            "Mismatch at 247: 235250 != 31253\n",
            "Mismatch at 248: 235313 != 18574\n",
            "Mismatch at 249: 108 != 7710\n",
            "Mismatch at 250: 145 != 235250\n",
            "Mismatch at 251: 727 != 235313\n",
            "Mismatch at 252: 3716 != 108\n",
            "Mismatch at 253: 235313 != 145\n",
            "Mismatch at 254: 108 != 727\n",
            "Mismatch at 255: 141 != 3716\n",
            "Mismatch at 256: 727 != 235313\n",
            "Mismatch at 257: 927 != 108\n",
            "Mismatch at 258: 235313 != 141\n",
            "Mismatch at 259: 108 != 727\n",
            "Mismatch at 260: 139 != 927\n",
            "Mismatch at 261: 594 != 235313\n",
            "Mismatch at 263: 235270 != 139\n",
            "Mismatch at 264: 108 != 594\n"
          ]
        }
      ],
      "source": [
        "for i, (x, y) in enumerate(zip(encoded, fast_encoded)):\n",
        "    if x != y:\n",
        "        print(f\"Mismatch at {i}: {x} != {y}\")"
      ]
    },
    {
      "cell_type": "code",
      "execution_count": null,
      "id": "0fa3f838",
      "metadata": {
        "id": "0fa3f838"
      },
      "outputs": [],
      "source": [
        "correct_fast = AutoTokenizer.from_pretrained(\"google/recurrentgemma-2b\", revision=\"refs/pr/6\")"
      ]
    },
    {
      "cell_type": "code",
      "execution_count": null,
      "id": "64eaed45",
      "metadata": {
        "id": "64eaed45",
        "outputId": "68d91785-1ce7-4460-bb13-a5e2d4737f83"
      },
      "outputs": [
        {
          "data": {
            "text/plain": [
              "True"
            ]
          },
          "execution_count": 82,
          "metadata": {},
          "output_type": "execute_result"
        }
      ],
      "source": [
        "correct_fast.encode(code) == encoded"
      ]
    },
    {
      "cell_type": "markdown",
      "id": "c0180a27",
      "metadata": {
        "id": "c0180a27"
      },
      "source": [
        "-----"
      ]
    },
    {
      "cell_type": "markdown",
      "id": "4aaa843a",
      "metadata": {
        "id": "4aaa843a"
      },
      "source": [
        "This is a genuine problem with the fast tokenizer from the PR. A long sequence of spaces is encoded to two different tokens."
      ]
    },
    {
      "cell_type": "code",
      "execution_count": null,
      "id": "701c816b",
      "metadata": {
        "id": "701c816b",
        "outputId": "3d3314f1-7ccb-4209-8654-b5231759d958"
      },
      "outputs": [
        {
          "data": {
            "text/plain": [
              "'                               '"
            ]
          },
          "execution_count": 54,
          "metadata": {},
          "output_type": "execute_result"
        }
      ],
      "source": [
        "original.decode([168])"
      ]
    },
    {
      "cell_type": "code",
      "execution_count": null,
      "id": "ac1a682a",
      "metadata": {
        "id": "ac1a682a",
        "outputId": "81677c96-97ec-4b76-ac23-163ac3c44ae3"
      },
      "outputs": [
        {
          "data": {
            "text/plain": [
              "'                '"
            ]
          },
          "execution_count": 55,
          "metadata": {},
          "output_type": "execute_result"
        }
      ],
      "source": [
        "original.decode([153])"
      ]
    },
    {
      "cell_type": "code",
      "execution_count": null,
      "id": "6bcf7f36",
      "metadata": {
        "id": "6bcf7f36",
        "outputId": "fc83c402-d48e-46e5-ebfa-1bdcff53eae8"
      },
      "outputs": [
        {
          "data": {
            "text/plain": [
              "'                               '"
            ]
          },
          "execution_count": 56,
          "metadata": {},
          "output_type": "execute_result"
        }
      ],
      "source": [
        "t_fast.decode([168])"
      ]
    },
    {
      "cell_type": "code",
      "execution_count": null,
      "id": "125c792a",
      "metadata": {
        "id": "125c792a",
        "outputId": "a3c98259-15e8-44fe-a9f3-3896d9f6b6fc"
      },
      "outputs": [
        {
          "data": {
            "text/plain": [
              "'                '"
            ]
          },
          "execution_count": 57,
          "metadata": {},
          "output_type": "execute_result"
        }
      ],
      "source": [
        "t_fast.decode([153])"
      ]
    },
    {
      "cell_type": "code",
      "execution_count": null,
      "id": "2c0f8679",
      "metadata": {
        "id": "2c0f8679",
        "outputId": "9a4029e4-c303-4143-cd79-820cc1141553"
      },
      "outputs": [
        {
          "data": {
            "text/plain": [
              "[168]"
            ]
          },
          "execution_count": 60,
          "metadata": {},
          "output_type": "execute_result"
        }
      ],
      "source": [
        "original.encode('                               ', bos=False)"
      ]
    },
    {
      "cell_type": "code",
      "execution_count": null,
      "id": "37843088",
      "metadata": {
        "id": "37843088",
        "outputId": "6bb25d5d-23a9-4a07-c1bc-35c579bab700"
      },
      "outputs": [
        {
          "data": {
            "text/plain": [
              "[168]"
            ]
          },
          "execution_count": 62,
          "metadata": {},
          "output_type": "execute_result"
        }
      ],
      "source": [
        "t_fast.encode('                               ', add_special_tokens=False)"
      ]
    },
    {
      "cell_type": "code",
      "execution_count": null,
      "id": "9f959c58",
      "metadata": {
        "id": "9f959c58",
        "outputId": "28e8607e-c316-49f3-d461-a167827fae98"
      },
      "outputs": [
        {
          "data": {
            "text/plain": [
              "240"
            ]
          },
          "execution_count": 63,
          "metadata": {},
          "output_type": "execute_result"
        }
      ],
      "source": [
        "len(encoded)"
      ]
    },
    {
      "cell_type": "code",
      "execution_count": null,
      "id": "3fbd0e27",
      "metadata": {
        "id": "3fbd0e27",
        "outputId": "e4739bfc-2c39-4b02-e379-0272aa3149fc"
      },
      "outputs": [
        {
          "data": {
            "text/plain": [
              "[153, 168]"
            ]
          },
          "execution_count": 65,
          "metadata": {},
          "output_type": "execute_result"
        }
      ],
      "source": [
        "t_fast.encode(\"                                               \", add_special_tokens=False)"
      ]
    },
    {
      "cell_type": "code",
      "execution_count": null,
      "id": "09e04d45",
      "metadata": {
        "id": "09e04d45",
        "outputId": "17d8ffde-6c58-47c0-e137-772edad97751"
      },
      "outputs": [
        {
          "data": {
            "text/plain": [
              "[168, 153]"
            ]
          },
          "execution_count": 67,
          "metadata": {},
          "output_type": "execute_result"
        }
      ],
      "source": [
        "original.encode(\"                                               \", bos=False)"
      ]
    },
    {
      "cell_type": "code",
      "execution_count": null,
      "id": "00ffb8b1",
      "metadata": {
        "id": "00ffb8b1",
        "outputId": "ff243a4d-1ede-4c7c-c189-46c9099c07f2"
      },
      "outputs": [
        {
          "data": {
            "text/plain": [
              "[168, 153]"
            ]
          },
          "execution_count": 69,
          "metadata": {},
          "output_type": "execute_result"
        }
      ],
      "source": [
        "t_slow.encode(\"                                               \", add_special_tokens=False)"
      ]
    },
    {
      "cell_type": "code",
      "execution_count": null,
      "id": "9ebaaf14",
      "metadata": {
        "id": "9ebaaf14",
        "outputId": "32dd1645-3f90-4ef8-af3f-d6a66ee36929"
      },
      "outputs": [
        {
          "data": {
            "text/plain": [
              "47"
            ]
          },
          "execution_count": 70,
          "metadata": {},
          "output_type": "execute_result"
        }
      ],
      "source": [
        "len(\"                                               \")"
      ]
    },
    {
      "cell_type": "code",
      "execution_count": null,
      "id": "0732d744",
      "metadata": {
        "id": "0732d744",
        "outputId": "b2179b7d-1b2c-4ad9-92f5-dd88e33b64ea"
      },
      "outputs": [
        {
          "data": {
            "text/plain": [
              "(31, 16)"
            ]
          },
          "execution_count": 71,
          "metadata": {},
          "output_type": "execute_result"
        }
      ],
      "source": [
        "len('                               '), len('                ')"
      ]
    },
    {
      "cell_type": "code",
      "execution_count": null,
      "id": "f9a4a4c7",
      "metadata": {
        "id": "f9a4a4c7",
        "outputId": "833d8b22-8e92-4993-8d9e-c3f66e5d8916"
      },
      "outputs": [
        {
          "name": "stdout",
          "output_type": "stream",
          "text": [
            "[2, 809, 11092, 235250, 235265, 8736, 685, 11092, 792, 89846, 108, 809, 11092, 235250, 235265, 3744, 5815, 685, 11092, 16437, 235266, 108, 809, 53649, 109, 1638, 4671, 2720, 7761, 235278, 51568, 235265, 28132, 1245, 108, 141, 1293, 33826, 235278, 1053, 1245, 108, 145, 1053, 235265, 7363, 589, 11092, 16437, 235266, 235265, 3744, 5815, 235278, 108, 149, 235281, 16833, 235283, 2195, 235298, 1259, 235283, 26154, 235265, 3327, 824, 108, 149, 9766, 48020, 235298, 2222, 1192, 664, 16833, 235283, 2195, 235298, 1259, 235283, 5490, 12990, 108, 145, 235275, 108, 145, 1053, 235265, 8578, 235298, 1701, 589, 892, 108, 147, 235281, 14214, 235265, 3028, 824, 108, 147, 235281, 235267, 85897, 477, 235265, 6001, 824, 108, 147, 235281, 8840, 4996, 553, 31524, 574, 4996, 553, 620, 235259, 1014, 235265, 4405, 235262, 235281, 108, 145, 235307, 109, 141, 1293, 2121, 235298, 7591, 480, 183853, 235278, 1053, 1245, 108, 145, 1053, 235265, 20658, 885, 14214, 235265, 3028, 235281, 780, 575, 108, 161, 95062, 8736, 235265, 6395, 18648, 235278, 1053, 235265, 8578, 235298, 1701, 235269, 108, 168, 153, 1053, 235265, 7363, 1269, 108, 145, 1053, 235265, 20658, 885, 235267, 85897, 477, 235265, 6001, 235281, 575, 108, 161, 95062, 8736, 235265, 6395, 18648, 235278, 1053, 235265, 8578, 235298, 1701, 235269, 108, 168, 153, 1053, 235265, 7363, 1269, 109, 141, 1293, 2121, 235298, 90415, 3886, 235278, 1053, 1245, 108, 145, 1053, 235265, 23661, 235278, 235276, 235269, 4574, 235278, 95062, 8736, 235265, 6395, 18648, 116382, 2011, 235265, 7363, 10199, 108]\n"
          ]
        }
      ],
      "source": [
        "slow_encoded = t_slow.encode(code)\n",
        "print(slow_encoded)"
      ]
    },
    {
      "cell_type": "code",
      "execution_count": null,
      "id": "d19f1f93",
      "metadata": {
        "scrolled": false,
        "id": "d19f1f93",
        "outputId": "93fe6605-0645-49d4-bed6-d9e7ac0839b5"
      },
      "outputs": [
        {
          "data": {
            "text/plain": [
              "(False, True)"
            ]
          },
          "execution_count": 48,
          "metadata": {},
          "output_type": "execute_result"
        }
      ],
      "source": [
        "fast_encoded == encoded, slow_encoded == encoded"
      ]
    },
    {
      "cell_type": "code",
      "execution_count": null,
      "id": "c95b0fef",
      "metadata": {
        "id": "c95b0fef"
      },
      "outputs": [],
      "source": [
        "manually_manipulated_fast = AutoTokenizer.from_pretrained(\"/data/models/gemma/from_hub/tokenizer_bug/recurrentgemma-2b\")"
      ]
    },
    {
      "cell_type": "code",
      "execution_count": null,
      "id": "c7ef7759",
      "metadata": {
        "id": "c7ef7759",
        "outputId": "e17b7cdc-926b-4463-a19d-610edaa23c9e"
      },
      "outputs": [
        {
          "data": {
            "text/plain": [
              "[153, 168]"
            ]
          },
          "execution_count": 85,
          "metadata": {},
          "output_type": "execute_result"
        }
      ],
      "source": [
        "manually_manipulated_fast.encode(\"                                               \", add_special_tokens=False)"
      ]
    },
    {
      "cell_type": "code",
      "execution_count": null,
      "id": "5b8b3fc1",
      "metadata": {
        "id": "5b8b3fc1"
      },
      "outputs": [],
      "source": []
    }
  ],
  "metadata": {
    "kernelspec": {
      "display_name": "Python 3 (ipykernel)",
      "language": "python",
      "name": "python3"
    },
    "language_info": {
      "codemirror_mode": {
        "name": "ipython",
        "version": 3
      },
      "file_extension": ".py",
      "mimetype": "text/x-python",
      "name": "python",
      "nbconvert_exporter": "python",
      "pygments_lexer": "ipython3",
      "version": "3.10.12"
    },
    "colab": {
      "provenance": [],
      "include_colab_link": true
    },
    "widgets": {
      "application/vnd.jupyter.widget-state+json": {
        "16c1b214c084456c892f84c790b2d925": {
          "model_module": "@jupyter-widgets/controls",
          "model_name": "HBoxModel",
          "model_module_version": "1.5.0",
          "state": {
            "_dom_classes": [],
            "_model_module": "@jupyter-widgets/controls",
            "_model_module_version": "1.5.0",
            "_model_name": "HBoxModel",
            "_view_count": null,
            "_view_module": "@jupyter-widgets/controls",
            "_view_module_version": "1.5.0",
            "_view_name": "HBoxView",
            "box_style": "",
            "children": [
              "IPY_MODEL_e61405a3f7374f5aa20f31a3e14dde8d",
              "IPY_MODEL_c38d6812c8154f8c89f995692ae32545",
              "IPY_MODEL_a1831d9dfcfa47189f0559ba258fcfdf"
            ],
            "layout": "IPY_MODEL_68d4eb3a25c14e5e8845b99bc866f603"
          }
        },
        "e61405a3f7374f5aa20f31a3e14dde8d": {
          "model_module": "@jupyter-widgets/controls",
          "model_name": "HTMLModel",
          "model_module_version": "1.5.0",
          "state": {
            "_dom_classes": [],
            "_model_module": "@jupyter-widgets/controls",
            "_model_module_version": "1.5.0",
            "_model_name": "HTMLModel",
            "_view_count": null,
            "_view_module": "@jupyter-widgets/controls",
            "_view_module_version": "1.5.0",
            "_view_name": "HTMLView",
            "description": "",
            "description_tooltip": null,
            "layout": "IPY_MODEL_440350c2c03c4081a0a489f67c914677",
            "placeholder": "​",
            "style": "IPY_MODEL_91ac5995f474418798564cfd085eff98",
            "value": "tokenizer_config.json: 100%"
          }
        },
        "c38d6812c8154f8c89f995692ae32545": {
          "model_module": "@jupyter-widgets/controls",
          "model_name": "FloatProgressModel",
          "model_module_version": "1.5.0",
          "state": {
            "_dom_classes": [],
            "_model_module": "@jupyter-widgets/controls",
            "_model_module_version": "1.5.0",
            "_model_name": "FloatProgressModel",
            "_view_count": null,
            "_view_module": "@jupyter-widgets/controls",
            "_view_module_version": "1.5.0",
            "_view_name": "ProgressView",
            "bar_style": "success",
            "description": "",
            "description_tooltip": null,
            "layout": "IPY_MODEL_a8fedc7991734d1ea01fbddb10125aa3",
            "max": 33556,
            "min": 0,
            "orientation": "horizontal",
            "style": "IPY_MODEL_1cdbbd2ad7cb431098b5b87d05060e82",
            "value": 33556
          }
        },
        "a1831d9dfcfa47189f0559ba258fcfdf": {
          "model_module": "@jupyter-widgets/controls",
          "model_name": "HTMLModel",
          "model_module_version": "1.5.0",
          "state": {
            "_dom_classes": [],
            "_model_module": "@jupyter-widgets/controls",
            "_model_module_version": "1.5.0",
            "_model_name": "HTMLModel",
            "_view_count": null,
            "_view_module": "@jupyter-widgets/controls",
            "_view_module_version": "1.5.0",
            "_view_name": "HTMLView",
            "description": "",
            "description_tooltip": null,
            "layout": "IPY_MODEL_25bc28d1e7084219b5958eeb9ae0af76",
            "placeholder": "​",
            "style": "IPY_MODEL_bc642d17aea2425baf50abf87efe5aaf",
            "value": " 33.6k/33.6k [00:00&lt;00:00, 627kB/s]"
          }
        },
        "68d4eb3a25c14e5e8845b99bc866f603": {
          "model_module": "@jupyter-widgets/base",
          "model_name": "LayoutModel",
          "model_module_version": "1.2.0",
          "state": {
            "_model_module": "@jupyter-widgets/base",
            "_model_module_version": "1.2.0",
            "_model_name": "LayoutModel",
            "_view_count": null,
            "_view_module": "@jupyter-widgets/base",
            "_view_module_version": "1.2.0",
            "_view_name": "LayoutView",
            "align_content": null,
            "align_items": null,
            "align_self": null,
            "border": null,
            "bottom": null,
            "display": null,
            "flex": null,
            "flex_flow": null,
            "grid_area": null,
            "grid_auto_columns": null,
            "grid_auto_flow": null,
            "grid_auto_rows": null,
            "grid_column": null,
            "grid_gap": null,
            "grid_row": null,
            "grid_template_areas": null,
            "grid_template_columns": null,
            "grid_template_rows": null,
            "height": null,
            "justify_content": null,
            "justify_items": null,
            "left": null,
            "margin": null,
            "max_height": null,
            "max_width": null,
            "min_height": null,
            "min_width": null,
            "object_fit": null,
            "object_position": null,
            "order": null,
            "overflow": null,
            "overflow_x": null,
            "overflow_y": null,
            "padding": null,
            "right": null,
            "top": null,
            "visibility": null,
            "width": null
          }
        },
        "440350c2c03c4081a0a489f67c914677": {
          "model_module": "@jupyter-widgets/base",
          "model_name": "LayoutModel",
          "model_module_version": "1.2.0",
          "state": {
            "_model_module": "@jupyter-widgets/base",
            "_model_module_version": "1.2.0",
            "_model_name": "LayoutModel",
            "_view_count": null,
            "_view_module": "@jupyter-widgets/base",
            "_view_module_version": "1.2.0",
            "_view_name": "LayoutView",
            "align_content": null,
            "align_items": null,
            "align_self": null,
            "border": null,
            "bottom": null,
            "display": null,
            "flex": null,
            "flex_flow": null,
            "grid_area": null,
            "grid_auto_columns": null,
            "grid_auto_flow": null,
            "grid_auto_rows": null,
            "grid_column": null,
            "grid_gap": null,
            "grid_row": null,
            "grid_template_areas": null,
            "grid_template_columns": null,
            "grid_template_rows": null,
            "height": null,
            "justify_content": null,
            "justify_items": null,
            "left": null,
            "margin": null,
            "max_height": null,
            "max_width": null,
            "min_height": null,
            "min_width": null,
            "object_fit": null,
            "object_position": null,
            "order": null,
            "overflow": null,
            "overflow_x": null,
            "overflow_y": null,
            "padding": null,
            "right": null,
            "top": null,
            "visibility": null,
            "width": null
          }
        },
        "91ac5995f474418798564cfd085eff98": {
          "model_module": "@jupyter-widgets/controls",
          "model_name": "DescriptionStyleModel",
          "model_module_version": "1.5.0",
          "state": {
            "_model_module": "@jupyter-widgets/controls",
            "_model_module_version": "1.5.0",
            "_model_name": "DescriptionStyleModel",
            "_view_count": null,
            "_view_module": "@jupyter-widgets/base",
            "_view_module_version": "1.2.0",
            "_view_name": "StyleView",
            "description_width": ""
          }
        },
        "a8fedc7991734d1ea01fbddb10125aa3": {
          "model_module": "@jupyter-widgets/base",
          "model_name": "LayoutModel",
          "model_module_version": "1.2.0",
          "state": {
            "_model_module": "@jupyter-widgets/base",
            "_model_module_version": "1.2.0",
            "_model_name": "LayoutModel",
            "_view_count": null,
            "_view_module": "@jupyter-widgets/base",
            "_view_module_version": "1.2.0",
            "_view_name": "LayoutView",
            "align_content": null,
            "align_items": null,
            "align_self": null,
            "border": null,
            "bottom": null,
            "display": null,
            "flex": null,
            "flex_flow": null,
            "grid_area": null,
            "grid_auto_columns": null,
            "grid_auto_flow": null,
            "grid_auto_rows": null,
            "grid_column": null,
            "grid_gap": null,
            "grid_row": null,
            "grid_template_areas": null,
            "grid_template_columns": null,
            "grid_template_rows": null,
            "height": null,
            "justify_content": null,
            "justify_items": null,
            "left": null,
            "margin": null,
            "max_height": null,
            "max_width": null,
            "min_height": null,
            "min_width": null,
            "object_fit": null,
            "object_position": null,
            "order": null,
            "overflow": null,
            "overflow_x": null,
            "overflow_y": null,
            "padding": null,
            "right": null,
            "top": null,
            "visibility": null,
            "width": null
          }
        },
        "1cdbbd2ad7cb431098b5b87d05060e82": {
          "model_module": "@jupyter-widgets/controls",
          "model_name": "ProgressStyleModel",
          "model_module_version": "1.5.0",
          "state": {
            "_model_module": "@jupyter-widgets/controls",
            "_model_module_version": "1.5.0",
            "_model_name": "ProgressStyleModel",
            "_view_count": null,
            "_view_module": "@jupyter-widgets/base",
            "_view_module_version": "1.2.0",
            "_view_name": "StyleView",
            "bar_color": null,
            "description_width": ""
          }
        },
        "25bc28d1e7084219b5958eeb9ae0af76": {
          "model_module": "@jupyter-widgets/base",
          "model_name": "LayoutModel",
          "model_module_version": "1.2.0",
          "state": {
            "_model_module": "@jupyter-widgets/base",
            "_model_module_version": "1.2.0",
            "_model_name": "LayoutModel",
            "_view_count": null,
            "_view_module": "@jupyter-widgets/base",
            "_view_module_version": "1.2.0",
            "_view_name": "LayoutView",
            "align_content": null,
            "align_items": null,
            "align_self": null,
            "border": null,
            "bottom": null,
            "display": null,
            "flex": null,
            "flex_flow": null,
            "grid_area": null,
            "grid_auto_columns": null,
            "grid_auto_flow": null,
            "grid_auto_rows": null,
            "grid_column": null,
            "grid_gap": null,
            "grid_row": null,
            "grid_template_areas": null,
            "grid_template_columns": null,
            "grid_template_rows": null,
            "height": null,
            "justify_content": null,
            "justify_items": null,
            "left": null,
            "margin": null,
            "max_height": null,
            "max_width": null,
            "min_height": null,
            "min_width": null,
            "object_fit": null,
            "object_position": null,
            "order": null,
            "overflow": null,
            "overflow_x": null,
            "overflow_y": null,
            "padding": null,
            "right": null,
            "top": null,
            "visibility": null,
            "width": null
          }
        },
        "bc642d17aea2425baf50abf87efe5aaf": {
          "model_module": "@jupyter-widgets/controls",
          "model_name": "DescriptionStyleModel",
          "model_module_version": "1.5.0",
          "state": {
            "_model_module": "@jupyter-widgets/controls",
            "_model_module_version": "1.5.0",
            "_model_name": "DescriptionStyleModel",
            "_view_count": null,
            "_view_module": "@jupyter-widgets/base",
            "_view_module_version": "1.2.0",
            "_view_name": "StyleView",
            "description_width": ""
          }
        },
        "78dd678bc91b43fc8affb402cc638e06": {
          "model_module": "@jupyter-widgets/controls",
          "model_name": "HBoxModel",
          "model_module_version": "1.5.0",
          "state": {
            "_dom_classes": [],
            "_model_module": "@jupyter-widgets/controls",
            "_model_module_version": "1.5.0",
            "_model_name": "HBoxModel",
            "_view_count": null,
            "_view_module": "@jupyter-widgets/controls",
            "_view_module_version": "1.5.0",
            "_view_name": "HBoxView",
            "box_style": "",
            "children": [
              "IPY_MODEL_6baf14242d9c4811af1041c5fea0ae94",
              "IPY_MODEL_1dee26d2dcc94db891aa36fdb80dc5e7",
              "IPY_MODEL_1692d56fb15640e1adc767dc036186cb"
            ],
            "layout": "IPY_MODEL_d1e912e683014756a444a184fa482fe7"
          }
        },
        "6baf14242d9c4811af1041c5fea0ae94": {
          "model_module": "@jupyter-widgets/controls",
          "model_name": "HTMLModel",
          "model_module_version": "1.5.0",
          "state": {
            "_dom_classes": [],
            "_model_module": "@jupyter-widgets/controls",
            "_model_module_version": "1.5.0",
            "_model_name": "HTMLModel",
            "_view_count": null,
            "_view_module": "@jupyter-widgets/controls",
            "_view_module_version": "1.5.0",
            "_view_name": "HTMLView",
            "description": "",
            "description_tooltip": null,
            "layout": "IPY_MODEL_e774a192aac24917b6e56152ba05a850",
            "placeholder": "​",
            "style": "IPY_MODEL_fccb1a7e26b84855bf172addeb30208d",
            "value": "tokenizer.json: 100%"
          }
        },
        "1dee26d2dcc94db891aa36fdb80dc5e7": {
          "model_module": "@jupyter-widgets/controls",
          "model_name": "FloatProgressModel",
          "model_module_version": "1.5.0",
          "state": {
            "_dom_classes": [],
            "_model_module": "@jupyter-widgets/controls",
            "_model_module_version": "1.5.0",
            "_model_name": "FloatProgressModel",
            "_view_count": null,
            "_view_module": "@jupyter-widgets/controls",
            "_view_module_version": "1.5.0",
            "_view_name": "ProgressView",
            "bar_style": "success",
            "description": "",
            "description_tooltip": null,
            "layout": "IPY_MODEL_a382930fa0f6453791e19e0cb14a461e",
            "max": 17518497,
            "min": 0,
            "orientation": "horizontal",
            "style": "IPY_MODEL_8f1b6e3bcb43447a8f3b06d84c9602b8",
            "value": 17518497
          }
        },
        "1692d56fb15640e1adc767dc036186cb": {
          "model_module": "@jupyter-widgets/controls",
          "model_name": "HTMLModel",
          "model_module_version": "1.5.0",
          "state": {
            "_dom_classes": [],
            "_model_module": "@jupyter-widgets/controls",
            "_model_module_version": "1.5.0",
            "_model_name": "HTMLModel",
            "_view_count": null,
            "_view_module": "@jupyter-widgets/controls",
            "_view_module_version": "1.5.0",
            "_view_name": "HTMLView",
            "description": "",
            "description_tooltip": null,
            "layout": "IPY_MODEL_f2613ca9c8664d68b7dc4335062a49ce",
            "placeholder": "​",
            "style": "IPY_MODEL_bd418c1f9c9b4705869a58747b1bede2",
            "value": " 17.5M/17.5M [00:00&lt;00:00, 44.9MB/s]"
          }
        },
        "d1e912e683014756a444a184fa482fe7": {
          "model_module": "@jupyter-widgets/base",
          "model_name": "LayoutModel",
          "model_module_version": "1.2.0",
          "state": {
            "_model_module": "@jupyter-widgets/base",
            "_model_module_version": "1.2.0",
            "_model_name": "LayoutModel",
            "_view_count": null,
            "_view_module": "@jupyter-widgets/base",
            "_view_module_version": "1.2.0",
            "_view_name": "LayoutView",
            "align_content": null,
            "align_items": null,
            "align_self": null,
            "border": null,
            "bottom": null,
            "display": null,
            "flex": null,
            "flex_flow": null,
            "grid_area": null,
            "grid_auto_columns": null,
            "grid_auto_flow": null,
            "grid_auto_rows": null,
            "grid_column": null,
            "grid_gap": null,
            "grid_row": null,
            "grid_template_areas": null,
            "grid_template_columns": null,
            "grid_template_rows": null,
            "height": null,
            "justify_content": null,
            "justify_items": null,
            "left": null,
            "margin": null,
            "max_height": null,
            "max_width": null,
            "min_height": null,
            "min_width": null,
            "object_fit": null,
            "object_position": null,
            "order": null,
            "overflow": null,
            "overflow_x": null,
            "overflow_y": null,
            "padding": null,
            "right": null,
            "top": null,
            "visibility": null,
            "width": null
          }
        },
        "e774a192aac24917b6e56152ba05a850": {
          "model_module": "@jupyter-widgets/base",
          "model_name": "LayoutModel",
          "model_module_version": "1.2.0",
          "state": {
            "_model_module": "@jupyter-widgets/base",
            "_model_module_version": "1.2.0",
            "_model_name": "LayoutModel",
            "_view_count": null,
            "_view_module": "@jupyter-widgets/base",
            "_view_module_version": "1.2.0",
            "_view_name": "LayoutView",
            "align_content": null,
            "align_items": null,
            "align_self": null,
            "border": null,
            "bottom": null,
            "display": null,
            "flex": null,
            "flex_flow": null,
            "grid_area": null,
            "grid_auto_columns": null,
            "grid_auto_flow": null,
            "grid_auto_rows": null,
            "grid_column": null,
            "grid_gap": null,
            "grid_row": null,
            "grid_template_areas": null,
            "grid_template_columns": null,
            "grid_template_rows": null,
            "height": null,
            "justify_content": null,
            "justify_items": null,
            "left": null,
            "margin": null,
            "max_height": null,
            "max_width": null,
            "min_height": null,
            "min_width": null,
            "object_fit": null,
            "object_position": null,
            "order": null,
            "overflow": null,
            "overflow_x": null,
            "overflow_y": null,
            "padding": null,
            "right": null,
            "top": null,
            "visibility": null,
            "width": null
          }
        },
        "fccb1a7e26b84855bf172addeb30208d": {
          "model_module": "@jupyter-widgets/controls",
          "model_name": "DescriptionStyleModel",
          "model_module_version": "1.5.0",
          "state": {
            "_model_module": "@jupyter-widgets/controls",
            "_model_module_version": "1.5.0",
            "_model_name": "DescriptionStyleModel",
            "_view_count": null,
            "_view_module": "@jupyter-widgets/base",
            "_view_module_version": "1.2.0",
            "_view_name": "StyleView",
            "description_width": ""
          }
        },
        "a382930fa0f6453791e19e0cb14a461e": {
          "model_module": "@jupyter-widgets/base",
          "model_name": "LayoutModel",
          "model_module_version": "1.2.0",
          "state": {
            "_model_module": "@jupyter-widgets/base",
            "_model_module_version": "1.2.0",
            "_model_name": "LayoutModel",
            "_view_count": null,
            "_view_module": "@jupyter-widgets/base",
            "_view_module_version": "1.2.0",
            "_view_name": "LayoutView",
            "align_content": null,
            "align_items": null,
            "align_self": null,
            "border": null,
            "bottom": null,
            "display": null,
            "flex": null,
            "flex_flow": null,
            "grid_area": null,
            "grid_auto_columns": null,
            "grid_auto_flow": null,
            "grid_auto_rows": null,
            "grid_column": null,
            "grid_gap": null,
            "grid_row": null,
            "grid_template_areas": null,
            "grid_template_columns": null,
            "grid_template_rows": null,
            "height": null,
            "justify_content": null,
            "justify_items": null,
            "left": null,
            "margin": null,
            "max_height": null,
            "max_width": null,
            "min_height": null,
            "min_width": null,
            "object_fit": null,
            "object_position": null,
            "order": null,
            "overflow": null,
            "overflow_x": null,
            "overflow_y": null,
            "padding": null,
            "right": null,
            "top": null,
            "visibility": null,
            "width": null
          }
        },
        "8f1b6e3bcb43447a8f3b06d84c9602b8": {
          "model_module": "@jupyter-widgets/controls",
          "model_name": "ProgressStyleModel",
          "model_module_version": "1.5.0",
          "state": {
            "_model_module": "@jupyter-widgets/controls",
            "_model_module_version": "1.5.0",
            "_model_name": "ProgressStyleModel",
            "_view_count": null,
            "_view_module": "@jupyter-widgets/base",
            "_view_module_version": "1.2.0",
            "_view_name": "StyleView",
            "bar_color": null,
            "description_width": ""
          }
        },
        "f2613ca9c8664d68b7dc4335062a49ce": {
          "model_module": "@jupyter-widgets/base",
          "model_name": "LayoutModel",
          "model_module_version": "1.2.0",
          "state": {
            "_model_module": "@jupyter-widgets/base",
            "_model_module_version": "1.2.0",
            "_model_name": "LayoutModel",
            "_view_count": null,
            "_view_module": "@jupyter-widgets/base",
            "_view_module_version": "1.2.0",
            "_view_name": "LayoutView",
            "align_content": null,
            "align_items": null,
            "align_self": null,
            "border": null,
            "bottom": null,
            "display": null,
            "flex": null,
            "flex_flow": null,
            "grid_area": null,
            "grid_auto_columns": null,
            "grid_auto_flow": null,
            "grid_auto_rows": null,
            "grid_column": null,
            "grid_gap": null,
            "grid_row": null,
            "grid_template_areas": null,
            "grid_template_columns": null,
            "grid_template_rows": null,
            "height": null,
            "justify_content": null,
            "justify_items": null,
            "left": null,
            "margin": null,
            "max_height": null,
            "max_width": null,
            "min_height": null,
            "min_width": null,
            "object_fit": null,
            "object_position": null,
            "order": null,
            "overflow": null,
            "overflow_x": null,
            "overflow_y": null,
            "padding": null,
            "right": null,
            "top": null,
            "visibility": null,
            "width": null
          }
        },
        "bd418c1f9c9b4705869a58747b1bede2": {
          "model_module": "@jupyter-widgets/controls",
          "model_name": "DescriptionStyleModel",
          "model_module_version": "1.5.0",
          "state": {
            "_model_module": "@jupyter-widgets/controls",
            "_model_module_version": "1.5.0",
            "_model_name": "DescriptionStyleModel",
            "_view_count": null,
            "_view_module": "@jupyter-widgets/base",
            "_view_module_version": "1.2.0",
            "_view_name": "StyleView",
            "description_width": ""
          }
        },
        "a89763f4e5e34381ad1a27ad5c6c5c1c": {
          "model_module": "@jupyter-widgets/controls",
          "model_name": "HBoxModel",
          "model_module_version": "1.5.0",
          "state": {
            "_dom_classes": [],
            "_model_module": "@jupyter-widgets/controls",
            "_model_module_version": "1.5.0",
            "_model_name": "HBoxModel",
            "_view_count": null,
            "_view_module": "@jupyter-widgets/controls",
            "_view_module_version": "1.5.0",
            "_view_name": "HBoxView",
            "box_style": "",
            "children": [
              "IPY_MODEL_2e850a7c4ccc442780c01ad97c23deb4",
              "IPY_MODEL_9f0a96f719bd4151b3339855d1cee5ad",
              "IPY_MODEL_871dc644d66b4cb6be8924ed167fc65c"
            ],
            "layout": "IPY_MODEL_e274e3a5b57a4fa8966eeada011656be"
          }
        },
        "2e850a7c4ccc442780c01ad97c23deb4": {
          "model_module": "@jupyter-widgets/controls",
          "model_name": "HTMLModel",
          "model_module_version": "1.5.0",
          "state": {
            "_dom_classes": [],
            "_model_module": "@jupyter-widgets/controls",
            "_model_module_version": "1.5.0",
            "_model_name": "HTMLModel",
            "_view_count": null,
            "_view_module": "@jupyter-widgets/controls",
            "_view_module_version": "1.5.0",
            "_view_name": "HTMLView",
            "description": "",
            "description_tooltip": null,
            "layout": "IPY_MODEL_01bf55ef271f4de0891f6e911c5cee2a",
            "placeholder": "​",
            "style": "IPY_MODEL_741f53cf4dda4bf6b2013d370d0fd207",
            "value": "Downloading readme: 100%"
          }
        },
        "9f0a96f719bd4151b3339855d1cee5ad": {
          "model_module": "@jupyter-widgets/controls",
          "model_name": "FloatProgressModel",
          "model_module_version": "1.5.0",
          "state": {
            "_dom_classes": [],
            "_model_module": "@jupyter-widgets/controls",
            "_model_module_version": "1.5.0",
            "_model_name": "FloatProgressModel",
            "_view_count": null,
            "_view_module": "@jupyter-widgets/controls",
            "_view_module_version": "1.5.0",
            "_view_name": "ProgressView",
            "bar_style": "success",
            "description": "",
            "description_tooltip": null,
            "layout": "IPY_MODEL_8e53c8a0a76346cd8c61def742729597",
            "max": 20789,
            "min": 0,
            "orientation": "horizontal",
            "style": "IPY_MODEL_956d1f33af0d4b88b2c12b3267deddce",
            "value": 20789
          }
        },
        "871dc644d66b4cb6be8924ed167fc65c": {
          "model_module": "@jupyter-widgets/controls",
          "model_name": "HTMLModel",
          "model_module_version": "1.5.0",
          "state": {
            "_dom_classes": [],
            "_model_module": "@jupyter-widgets/controls",
            "_model_module_version": "1.5.0",
            "_model_name": "HTMLModel",
            "_view_count": null,
            "_view_module": "@jupyter-widgets/controls",
            "_view_module_version": "1.5.0",
            "_view_name": "HTMLView",
            "description": "",
            "description_tooltip": null,
            "layout": "IPY_MODEL_b50d0b458046416f9865baf3a23cd9cf",
            "placeholder": "​",
            "style": "IPY_MODEL_4cfb44a9879b4a86b279c5a04846c4cb",
            "value": " 20.8k/20.8k [00:00&lt;00:00, 411kB/s]"
          }
        },
        "e274e3a5b57a4fa8966eeada011656be": {
          "model_module": "@jupyter-widgets/base",
          "model_name": "LayoutModel",
          "model_module_version": "1.2.0",
          "state": {
            "_model_module": "@jupyter-widgets/base",
            "_model_module_version": "1.2.0",
            "_model_name": "LayoutModel",
            "_view_count": null,
            "_view_module": "@jupyter-widgets/base",
            "_view_module_version": "1.2.0",
            "_view_name": "LayoutView",
            "align_content": null,
            "align_items": null,
            "align_self": null,
            "border": null,
            "bottom": null,
            "display": null,
            "flex": null,
            "flex_flow": null,
            "grid_area": null,
            "grid_auto_columns": null,
            "grid_auto_flow": null,
            "grid_auto_rows": null,
            "grid_column": null,
            "grid_gap": null,
            "grid_row": null,
            "grid_template_areas": null,
            "grid_template_columns": null,
            "grid_template_rows": null,
            "height": null,
            "justify_content": null,
            "justify_items": null,
            "left": null,
            "margin": null,
            "max_height": null,
            "max_width": null,
            "min_height": null,
            "min_width": null,
            "object_fit": null,
            "object_position": null,
            "order": null,
            "overflow": null,
            "overflow_x": null,
            "overflow_y": null,
            "padding": null,
            "right": null,
            "top": null,
            "visibility": null,
            "width": null
          }
        },
        "01bf55ef271f4de0891f6e911c5cee2a": {
          "model_module": "@jupyter-widgets/base",
          "model_name": "LayoutModel",
          "model_module_version": "1.2.0",
          "state": {
            "_model_module": "@jupyter-widgets/base",
            "_model_module_version": "1.2.0",
            "_model_name": "LayoutModel",
            "_view_count": null,
            "_view_module": "@jupyter-widgets/base",
            "_view_module_version": "1.2.0",
            "_view_name": "LayoutView",
            "align_content": null,
            "align_items": null,
            "align_self": null,
            "border": null,
            "bottom": null,
            "display": null,
            "flex": null,
            "flex_flow": null,
            "grid_area": null,
            "grid_auto_columns": null,
            "grid_auto_flow": null,
            "grid_auto_rows": null,
            "grid_column": null,
            "grid_gap": null,
            "grid_row": null,
            "grid_template_areas": null,
            "grid_template_columns": null,
            "grid_template_rows": null,
            "height": null,
            "justify_content": null,
            "justify_items": null,
            "left": null,
            "margin": null,
            "max_height": null,
            "max_width": null,
            "min_height": null,
            "min_width": null,
            "object_fit": null,
            "object_position": null,
            "order": null,
            "overflow": null,
            "overflow_x": null,
            "overflow_y": null,
            "padding": null,
            "right": null,
            "top": null,
            "visibility": null,
            "width": null
          }
        },
        "741f53cf4dda4bf6b2013d370d0fd207": {
          "model_module": "@jupyter-widgets/controls",
          "model_name": "DescriptionStyleModel",
          "model_module_version": "1.5.0",
          "state": {
            "_model_module": "@jupyter-widgets/controls",
            "_model_module_version": "1.5.0",
            "_model_name": "DescriptionStyleModel",
            "_view_count": null,
            "_view_module": "@jupyter-widgets/base",
            "_view_module_version": "1.2.0",
            "_view_name": "StyleView",
            "description_width": ""
          }
        },
        "8e53c8a0a76346cd8c61def742729597": {
          "model_module": "@jupyter-widgets/base",
          "model_name": "LayoutModel",
          "model_module_version": "1.2.0",
          "state": {
            "_model_module": "@jupyter-widgets/base",
            "_model_module_version": "1.2.0",
            "_model_name": "LayoutModel",
            "_view_count": null,
            "_view_module": "@jupyter-widgets/base",
            "_view_module_version": "1.2.0",
            "_view_name": "LayoutView",
            "align_content": null,
            "align_items": null,
            "align_self": null,
            "border": null,
            "bottom": null,
            "display": null,
            "flex": null,
            "flex_flow": null,
            "grid_area": null,
            "grid_auto_columns": null,
            "grid_auto_flow": null,
            "grid_auto_rows": null,
            "grid_column": null,
            "grid_gap": null,
            "grid_row": null,
            "grid_template_areas": null,
            "grid_template_columns": null,
            "grid_template_rows": null,
            "height": null,
            "justify_content": null,
            "justify_items": null,
            "left": null,
            "margin": null,
            "max_height": null,
            "max_width": null,
            "min_height": null,
            "min_width": null,
            "object_fit": null,
            "object_position": null,
            "order": null,
            "overflow": null,
            "overflow_x": null,
            "overflow_y": null,
            "padding": null,
            "right": null,
            "top": null,
            "visibility": null,
            "width": null
          }
        },
        "956d1f33af0d4b88b2c12b3267deddce": {
          "model_module": "@jupyter-widgets/controls",
          "model_name": "ProgressStyleModel",
          "model_module_version": "1.5.0",
          "state": {
            "_model_module": "@jupyter-widgets/controls",
            "_model_module_version": "1.5.0",
            "_model_name": "ProgressStyleModel",
            "_view_count": null,
            "_view_module": "@jupyter-widgets/base",
            "_view_module_version": "1.2.0",
            "_view_name": "StyleView",
            "bar_color": null,
            "description_width": ""
          }
        },
        "b50d0b458046416f9865baf3a23cd9cf": {
          "model_module": "@jupyter-widgets/base",
          "model_name": "LayoutModel",
          "model_module_version": "1.2.0",
          "state": {
            "_model_module": "@jupyter-widgets/base",
            "_model_module_version": "1.2.0",
            "_model_name": "LayoutModel",
            "_view_count": null,
            "_view_module": "@jupyter-widgets/base",
            "_view_module_version": "1.2.0",
            "_view_name": "LayoutView",
            "align_content": null,
            "align_items": null,
            "align_self": null,
            "border": null,
            "bottom": null,
            "display": null,
            "flex": null,
            "flex_flow": null,
            "grid_area": null,
            "grid_auto_columns": null,
            "grid_auto_flow": null,
            "grid_auto_rows": null,
            "grid_column": null,
            "grid_gap": null,
            "grid_row": null,
            "grid_template_areas": null,
            "grid_template_columns": null,
            "grid_template_rows": null,
            "height": null,
            "justify_content": null,
            "justify_items": null,
            "left": null,
            "margin": null,
            "max_height": null,
            "max_width": null,
            "min_height": null,
            "min_width": null,
            "object_fit": null,
            "object_position": null,
            "order": null,
            "overflow": null,
            "overflow_x": null,
            "overflow_y": null,
            "padding": null,
            "right": null,
            "top": null,
            "visibility": null,
            "width": null
          }
        },
        "4cfb44a9879b4a86b279c5a04846c4cb": {
          "model_module": "@jupyter-widgets/controls",
          "model_name": "DescriptionStyleModel",
          "model_module_version": "1.5.0",
          "state": {
            "_model_module": "@jupyter-widgets/controls",
            "_model_module_version": "1.5.0",
            "_model_name": "DescriptionStyleModel",
            "_view_count": null,
            "_view_module": "@jupyter-widgets/base",
            "_view_module_version": "1.2.0",
            "_view_name": "StyleView",
            "description_width": ""
          }
        },
        "28448c69943f4fbb8d9b9733568983e0": {
          "model_module": "@jupyter-widgets/controls",
          "model_name": "HBoxModel",
          "model_module_version": "1.5.0",
          "state": {
            "_dom_classes": [],
            "_model_module": "@jupyter-widgets/controls",
            "_model_module_version": "1.5.0",
            "_model_name": "HBoxModel",
            "_view_count": null,
            "_view_module": "@jupyter-widgets/controls",
            "_view_module_version": "1.5.0",
            "_view_name": "HBoxView",
            "box_style": "",
            "children": [
              "IPY_MODEL_f33316354a8a4504a613e05d009bc896",
              "IPY_MODEL_4b9ae42571fc49b2838cd8e810224bff",
              "IPY_MODEL_e646ab2f2ce9471cbb2488894f58ed30"
            ],
            "layout": "IPY_MODEL_04044f89536f41bc89f88940af1c5b47"
          }
        },
        "f33316354a8a4504a613e05d009bc896": {
          "model_module": "@jupyter-widgets/controls",
          "model_name": "HTMLModel",
          "model_module_version": "1.5.0",
          "state": {
            "_dom_classes": [],
            "_model_module": "@jupyter-widgets/controls",
            "_model_module_version": "1.5.0",
            "_model_name": "HTMLModel",
            "_view_count": null,
            "_view_module": "@jupyter-widgets/controls",
            "_view_module_version": "1.5.0",
            "_view_name": "HTMLView",
            "description": "",
            "description_tooltip": null,
            "layout": "IPY_MODEL_5eecf7960eb94c32b18436418e97794b",
            "placeholder": "​",
            "style": "IPY_MODEL_65fbcea4a6a042cc8fd6a0d90d25fab6",
            "value": "Downloading data: 100%"
          }
        },
        "4b9ae42571fc49b2838cd8e810224bff": {
          "model_module": "@jupyter-widgets/controls",
          "model_name": "FloatProgressModel",
          "model_module_version": "1.5.0",
          "state": {
            "_dom_classes": [],
            "_model_module": "@jupyter-widgets/controls",
            "_model_module_version": "1.5.0",
            "_model_name": "FloatProgressModel",
            "_view_count": null,
            "_view_module": "@jupyter-widgets/controls",
            "_view_module_version": "1.5.0",
            "_view_name": "ProgressView",
            "bar_style": "success",
            "description": "",
            "description_tooltip": null,
            "layout": "IPY_MODEL_62772bc8110447ca9337e26a182fedbc",
            "max": 237658468,
            "min": 0,
            "orientation": "horizontal",
            "style": "IPY_MODEL_0960feaee5424deb8766006b4f016316",
            "value": 237658468
          }
        },
        "e646ab2f2ce9471cbb2488894f58ed30": {
          "model_module": "@jupyter-widgets/controls",
          "model_name": "HTMLModel",
          "model_module_version": "1.5.0",
          "state": {
            "_dom_classes": [],
            "_model_module": "@jupyter-widgets/controls",
            "_model_module_version": "1.5.0",
            "_model_name": "HTMLModel",
            "_view_count": null,
            "_view_module": "@jupyter-widgets/controls",
            "_view_module_version": "1.5.0",
            "_view_name": "HTMLView",
            "description": "",
            "description_tooltip": null,
            "layout": "IPY_MODEL_54c2c935dc3d43bcbedc82542789d7e2",
            "placeholder": "​",
            "style": "IPY_MODEL_7aed5b50500d4ced84bb71f03fe0ca8c",
            "value": " 238M/238M [00:05&lt;00:00, 35.6MB/s]"
          }
        },
        "04044f89536f41bc89f88940af1c5b47": {
          "model_module": "@jupyter-widgets/base",
          "model_name": "LayoutModel",
          "model_module_version": "1.2.0",
          "state": {
            "_model_module": "@jupyter-widgets/base",
            "_model_module_version": "1.2.0",
            "_model_name": "LayoutModel",
            "_view_count": null,
            "_view_module": "@jupyter-widgets/base",
            "_view_module_version": "1.2.0",
            "_view_name": "LayoutView",
            "align_content": null,
            "align_items": null,
            "align_self": null,
            "border": null,
            "bottom": null,
            "display": null,
            "flex": null,
            "flex_flow": null,
            "grid_area": null,
            "grid_auto_columns": null,
            "grid_auto_flow": null,
            "grid_auto_rows": null,
            "grid_column": null,
            "grid_gap": null,
            "grid_row": null,
            "grid_template_areas": null,
            "grid_template_columns": null,
            "grid_template_rows": null,
            "height": null,
            "justify_content": null,
            "justify_items": null,
            "left": null,
            "margin": null,
            "max_height": null,
            "max_width": null,
            "min_height": null,
            "min_width": null,
            "object_fit": null,
            "object_position": null,
            "order": null,
            "overflow": null,
            "overflow_x": null,
            "overflow_y": null,
            "padding": null,
            "right": null,
            "top": null,
            "visibility": null,
            "width": null
          }
        },
        "5eecf7960eb94c32b18436418e97794b": {
          "model_module": "@jupyter-widgets/base",
          "model_name": "LayoutModel",
          "model_module_version": "1.2.0",
          "state": {
            "_model_module": "@jupyter-widgets/base",
            "_model_module_version": "1.2.0",
            "_model_name": "LayoutModel",
            "_view_count": null,
            "_view_module": "@jupyter-widgets/base",
            "_view_module_version": "1.2.0",
            "_view_name": "LayoutView",
            "align_content": null,
            "align_items": null,
            "align_self": null,
            "border": null,
            "bottom": null,
            "display": null,
            "flex": null,
            "flex_flow": null,
            "grid_area": null,
            "grid_auto_columns": null,
            "grid_auto_flow": null,
            "grid_auto_rows": null,
            "grid_column": null,
            "grid_gap": null,
            "grid_row": null,
            "grid_template_areas": null,
            "grid_template_columns": null,
            "grid_template_rows": null,
            "height": null,
            "justify_content": null,
            "justify_items": null,
            "left": null,
            "margin": null,
            "max_height": null,
            "max_width": null,
            "min_height": null,
            "min_width": null,
            "object_fit": null,
            "object_position": null,
            "order": null,
            "overflow": null,
            "overflow_x": null,
            "overflow_y": null,
            "padding": null,
            "right": null,
            "top": null,
            "visibility": null,
            "width": null
          }
        },
        "65fbcea4a6a042cc8fd6a0d90d25fab6": {
          "model_module": "@jupyter-widgets/controls",
          "model_name": "DescriptionStyleModel",
          "model_module_version": "1.5.0",
          "state": {
            "_model_module": "@jupyter-widgets/controls",
            "_model_module_version": "1.5.0",
            "_model_name": "DescriptionStyleModel",
            "_view_count": null,
            "_view_module": "@jupyter-widgets/base",
            "_view_module_version": "1.2.0",
            "_view_name": "StyleView",
            "description_width": ""
          }
        },
        "62772bc8110447ca9337e26a182fedbc": {
          "model_module": "@jupyter-widgets/base",
          "model_name": "LayoutModel",
          "model_module_version": "1.2.0",
          "state": {
            "_model_module": "@jupyter-widgets/base",
            "_model_module_version": "1.2.0",
            "_model_name": "LayoutModel",
            "_view_count": null,
            "_view_module": "@jupyter-widgets/base",
            "_view_module_version": "1.2.0",
            "_view_name": "LayoutView",
            "align_content": null,
            "align_items": null,
            "align_self": null,
            "border": null,
            "bottom": null,
            "display": null,
            "flex": null,
            "flex_flow": null,
            "grid_area": null,
            "grid_auto_columns": null,
            "grid_auto_flow": null,
            "grid_auto_rows": null,
            "grid_column": null,
            "grid_gap": null,
            "grid_row": null,
            "grid_template_areas": null,
            "grid_template_columns": null,
            "grid_template_rows": null,
            "height": null,
            "justify_content": null,
            "justify_items": null,
            "left": null,
            "margin": null,
            "max_height": null,
            "max_width": null,
            "min_height": null,
            "min_width": null,
            "object_fit": null,
            "object_position": null,
            "order": null,
            "overflow": null,
            "overflow_x": null,
            "overflow_y": null,
            "padding": null,
            "right": null,
            "top": null,
            "visibility": null,
            "width": null
          }
        },
        "0960feaee5424deb8766006b4f016316": {
          "model_module": "@jupyter-widgets/controls",
          "model_name": "ProgressStyleModel",
          "model_module_version": "1.5.0",
          "state": {
            "_model_module": "@jupyter-widgets/controls",
            "_model_module_version": "1.5.0",
            "_model_name": "ProgressStyleModel",
            "_view_count": null,
            "_view_module": "@jupyter-widgets/base",
            "_view_module_version": "1.2.0",
            "_view_name": "StyleView",
            "bar_color": null,
            "description_width": ""
          }
        },
        "54c2c935dc3d43bcbedc82542789d7e2": {
          "model_module": "@jupyter-widgets/base",
          "model_name": "LayoutModel",
          "model_module_version": "1.2.0",
          "state": {
            "_model_module": "@jupyter-widgets/base",
            "_model_module_version": "1.2.0",
            "_model_name": "LayoutModel",
            "_view_count": null,
            "_view_module": "@jupyter-widgets/base",
            "_view_module_version": "1.2.0",
            "_view_name": "LayoutView",
            "align_content": null,
            "align_items": null,
            "align_self": null,
            "border": null,
            "bottom": null,
            "display": null,
            "flex": null,
            "flex_flow": null,
            "grid_area": null,
            "grid_auto_columns": null,
            "grid_auto_flow": null,
            "grid_auto_rows": null,
            "grid_column": null,
            "grid_gap": null,
            "grid_row": null,
            "grid_template_areas": null,
            "grid_template_columns": null,
            "grid_template_rows": null,
            "height": null,
            "justify_content": null,
            "justify_items": null,
            "left": null,
            "margin": null,
            "max_height": null,
            "max_width": null,
            "min_height": null,
            "min_width": null,
            "object_fit": null,
            "object_position": null,
            "order": null,
            "overflow": null,
            "overflow_x": null,
            "overflow_y": null,
            "padding": null,
            "right": null,
            "top": null,
            "visibility": null,
            "width": null
          }
        },
        "7aed5b50500d4ced84bb71f03fe0ca8c": {
          "model_module": "@jupyter-widgets/controls",
          "model_name": "DescriptionStyleModel",
          "model_module_version": "1.5.0",
          "state": {
            "_model_module": "@jupyter-widgets/controls",
            "_model_module_version": "1.5.0",
            "_model_name": "DescriptionStyleModel",
            "_view_count": null,
            "_view_module": "@jupyter-widgets/base",
            "_view_module_version": "1.2.0",
            "_view_name": "StyleView",
            "description_width": ""
          }
        },
        "fae4ff6ddafb4c0d885cae0955061282": {
          "model_module": "@jupyter-widgets/controls",
          "model_name": "HBoxModel",
          "model_module_version": "1.5.0",
          "state": {
            "_dom_classes": [],
            "_model_module": "@jupyter-widgets/controls",
            "_model_module_version": "1.5.0",
            "_model_name": "HBoxModel",
            "_view_count": null,
            "_view_module": "@jupyter-widgets/controls",
            "_view_module_version": "1.5.0",
            "_view_name": "HBoxView",
            "box_style": "",
            "children": [
              "IPY_MODEL_2554882893504269a833a989c3cebf24",
              "IPY_MODEL_c9d9929a3d8344ceb9103278c693baca",
              "IPY_MODEL_b063a7982c7147fe88d80e0928f30419"
            ],
            "layout": "IPY_MODEL_b56dc59cb57b434288bc652a2c9f0690"
          }
        },
        "2554882893504269a833a989c3cebf24": {
          "model_module": "@jupyter-widgets/controls",
          "model_name": "HTMLModel",
          "model_module_version": "1.5.0",
          "state": {
            "_dom_classes": [],
            "_model_module": "@jupyter-widgets/controls",
            "_model_module_version": "1.5.0",
            "_model_name": "HTMLModel",
            "_view_count": null,
            "_view_module": "@jupyter-widgets/controls",
            "_view_module_version": "1.5.0",
            "_view_name": "HTMLView",
            "description": "",
            "description_tooltip": null,
            "layout": "IPY_MODEL_d5f68fd065714efa965574b046f6f5eb",
            "placeholder": "​",
            "style": "IPY_MODEL_f023a1792b31416a8dd6f510e5c9eaf1",
            "value": "Downloading data: 100%"
          }
        },
        "c9d9929a3d8344ceb9103278c693baca": {
          "model_module": "@jupyter-widgets/controls",
          "model_name": "FloatProgressModel",
          "model_module_version": "1.5.0",
          "state": {
            "_dom_classes": [],
            "_model_module": "@jupyter-widgets/controls",
            "_model_module_version": "1.5.0",
            "_model_name": "FloatProgressModel",
            "_view_count": null,
            "_view_module": "@jupyter-widgets/controls",
            "_view_module_version": "1.5.0",
            "_view_name": "ProgressView",
            "bar_style": "success",
            "description": "",
            "description_tooltip": null,
            "layout": "IPY_MODEL_6d65fe18bca642d58c11646f0c8c92f4",
            "max": 238583683,
            "min": 0,
            "orientation": "horizontal",
            "style": "IPY_MODEL_f8552807b83c41fd95b1832c0531e41d",
            "value": 238583683
          }
        },
        "b063a7982c7147fe88d80e0928f30419": {
          "model_module": "@jupyter-widgets/controls",
          "model_name": "HTMLModel",
          "model_module_version": "1.5.0",
          "state": {
            "_dom_classes": [],
            "_model_module": "@jupyter-widgets/controls",
            "_model_module_version": "1.5.0",
            "_model_name": "HTMLModel",
            "_view_count": null,
            "_view_module": "@jupyter-widgets/controls",
            "_view_module_version": "1.5.0",
            "_view_name": "HTMLView",
            "description": "",
            "description_tooltip": null,
            "layout": "IPY_MODEL_e693e7a6c00b49dca01a89ec2b403a4b",
            "placeholder": "​",
            "style": "IPY_MODEL_43fa75be273b4477b0f875d41982bc77",
            "value": " 239M/239M [00:05&lt;00:00, 38.1MB/s]"
          }
        },
        "b56dc59cb57b434288bc652a2c9f0690": {
          "model_module": "@jupyter-widgets/base",
          "model_name": "LayoutModel",
          "model_module_version": "1.2.0",
          "state": {
            "_model_module": "@jupyter-widgets/base",
            "_model_module_version": "1.2.0",
            "_model_name": "LayoutModel",
            "_view_count": null,
            "_view_module": "@jupyter-widgets/base",
            "_view_module_version": "1.2.0",
            "_view_name": "LayoutView",
            "align_content": null,
            "align_items": null,
            "align_self": null,
            "border": null,
            "bottom": null,
            "display": null,
            "flex": null,
            "flex_flow": null,
            "grid_area": null,
            "grid_auto_columns": null,
            "grid_auto_flow": null,
            "grid_auto_rows": null,
            "grid_column": null,
            "grid_gap": null,
            "grid_row": null,
            "grid_template_areas": null,
            "grid_template_columns": null,
            "grid_template_rows": null,
            "height": null,
            "justify_content": null,
            "justify_items": null,
            "left": null,
            "margin": null,
            "max_height": null,
            "max_width": null,
            "min_height": null,
            "min_width": null,
            "object_fit": null,
            "object_position": null,
            "order": null,
            "overflow": null,
            "overflow_x": null,
            "overflow_y": null,
            "padding": null,
            "right": null,
            "top": null,
            "visibility": null,
            "width": null
          }
        },
        "d5f68fd065714efa965574b046f6f5eb": {
          "model_module": "@jupyter-widgets/base",
          "model_name": "LayoutModel",
          "model_module_version": "1.2.0",
          "state": {
            "_model_module": "@jupyter-widgets/base",
            "_model_module_version": "1.2.0",
            "_model_name": "LayoutModel",
            "_view_count": null,
            "_view_module": "@jupyter-widgets/base",
            "_view_module_version": "1.2.0",
            "_view_name": "LayoutView",
            "align_content": null,
            "align_items": null,
            "align_self": null,
            "border": null,
            "bottom": null,
            "display": null,
            "flex": null,
            "flex_flow": null,
            "grid_area": null,
            "grid_auto_columns": null,
            "grid_auto_flow": null,
            "grid_auto_rows": null,
            "grid_column": null,
            "grid_gap": null,
            "grid_row": null,
            "grid_template_areas": null,
            "grid_template_columns": null,
            "grid_template_rows": null,
            "height": null,
            "justify_content": null,
            "justify_items": null,
            "left": null,
            "margin": null,
            "max_height": null,
            "max_width": null,
            "min_height": null,
            "min_width": null,
            "object_fit": null,
            "object_position": null,
            "order": null,
            "overflow": null,
            "overflow_x": null,
            "overflow_y": null,
            "padding": null,
            "right": null,
            "top": null,
            "visibility": null,
            "width": null
          }
        },
        "f023a1792b31416a8dd6f510e5c9eaf1": {
          "model_module": "@jupyter-widgets/controls",
          "model_name": "DescriptionStyleModel",
          "model_module_version": "1.5.0",
          "state": {
            "_model_module": "@jupyter-widgets/controls",
            "_model_module_version": "1.5.0",
            "_model_name": "DescriptionStyleModel",
            "_view_count": null,
            "_view_module": "@jupyter-widgets/base",
            "_view_module_version": "1.2.0",
            "_view_name": "StyleView",
            "description_width": ""
          }
        },
        "6d65fe18bca642d58c11646f0c8c92f4": {
          "model_module": "@jupyter-widgets/base",
          "model_name": "LayoutModel",
          "model_module_version": "1.2.0",
          "state": {
            "_model_module": "@jupyter-widgets/base",
            "_model_module_version": "1.2.0",
            "_model_name": "LayoutModel",
            "_view_count": null,
            "_view_module": "@jupyter-widgets/base",
            "_view_module_version": "1.2.0",
            "_view_name": "LayoutView",
            "align_content": null,
            "align_items": null,
            "align_self": null,
            "border": null,
            "bottom": null,
            "display": null,
            "flex": null,
            "flex_flow": null,
            "grid_area": null,
            "grid_auto_columns": null,
            "grid_auto_flow": null,
            "grid_auto_rows": null,
            "grid_column": null,
            "grid_gap": null,
            "grid_row": null,
            "grid_template_areas": null,
            "grid_template_columns": null,
            "grid_template_rows": null,
            "height": null,
            "justify_content": null,
            "justify_items": null,
            "left": null,
            "margin": null,
            "max_height": null,
            "max_width": null,
            "min_height": null,
            "min_width": null,
            "object_fit": null,
            "object_position": null,
            "order": null,
            "overflow": null,
            "overflow_x": null,
            "overflow_y": null,
            "padding": null,
            "right": null,
            "top": null,
            "visibility": null,
            "width": null
          }
        },
        "f8552807b83c41fd95b1832c0531e41d": {
          "model_module": "@jupyter-widgets/controls",
          "model_name": "ProgressStyleModel",
          "model_module_version": "1.5.0",
          "state": {
            "_model_module": "@jupyter-widgets/controls",
            "_model_module_version": "1.5.0",
            "_model_name": "ProgressStyleModel",
            "_view_count": null,
            "_view_module": "@jupyter-widgets/base",
            "_view_module_version": "1.2.0",
            "_view_name": "StyleView",
            "bar_color": null,
            "description_width": ""
          }
        },
        "e693e7a6c00b49dca01a89ec2b403a4b": {
          "model_module": "@jupyter-widgets/base",
          "model_name": "LayoutModel",
          "model_module_version": "1.2.0",
          "state": {
            "_model_module": "@jupyter-widgets/base",
            "_model_module_version": "1.2.0",
            "_model_name": "LayoutModel",
            "_view_count": null,
            "_view_module": "@jupyter-widgets/base",
            "_view_module_version": "1.2.0",
            "_view_name": "LayoutView",
            "align_content": null,
            "align_items": null,
            "align_self": null,
            "border": null,
            "bottom": null,
            "display": null,
            "flex": null,
            "flex_flow": null,
            "grid_area": null,
            "grid_auto_columns": null,
            "grid_auto_flow": null,
            "grid_auto_rows": null,
            "grid_column": null,
            "grid_gap": null,
            "grid_row": null,
            "grid_template_areas": null,
            "grid_template_columns": null,
            "grid_template_rows": null,
            "height": null,
            "justify_content": null,
            "justify_items": null,
            "left": null,
            "margin": null,
            "max_height": null,
            "max_width": null,
            "min_height": null,
            "min_width": null,
            "object_fit": null,
            "object_position": null,
            "order": null,
            "overflow": null,
            "overflow_x": null,
            "overflow_y": null,
            "padding": null,
            "right": null,
            "top": null,
            "visibility": null,
            "width": null
          }
        },
        "43fa75be273b4477b0f875d41982bc77": {
          "model_module": "@jupyter-widgets/controls",
          "model_name": "DescriptionStyleModel",
          "model_module_version": "1.5.0",
          "state": {
            "_model_module": "@jupyter-widgets/controls",
            "_model_module_version": "1.5.0",
            "_model_name": "DescriptionStyleModel",
            "_view_count": null,
            "_view_module": "@jupyter-widgets/base",
            "_view_module_version": "1.2.0",
            "_view_name": "StyleView",
            "description_width": ""
          }
        },
        "56f28d053b2c4b1997b1eeb73a0dc619": {
          "model_module": "@jupyter-widgets/controls",
          "model_name": "HBoxModel",
          "model_module_version": "1.5.0",
          "state": {
            "_dom_classes": [],
            "_model_module": "@jupyter-widgets/controls",
            "_model_module_version": "1.5.0",
            "_model_name": "HBoxModel",
            "_view_count": null,
            "_view_module": "@jupyter-widgets/controls",
            "_view_module_version": "1.5.0",
            "_view_name": "HBoxView",
            "box_style": "",
            "children": [
              "IPY_MODEL_329a8475d8594812891739c8f0d54419",
              "IPY_MODEL_d0c7513b2f30461ea3e89f809f642f32",
              "IPY_MODEL_3c74b9c3c912447c9d0c704821f46bda"
            ],
            "layout": "IPY_MODEL_15b3a5ed899d452ba0afc4c606a71261"
          }
        },
        "329a8475d8594812891739c8f0d54419": {
          "model_module": "@jupyter-widgets/controls",
          "model_name": "HTMLModel",
          "model_module_version": "1.5.0",
          "state": {
            "_dom_classes": [],
            "_model_module": "@jupyter-widgets/controls",
            "_model_module_version": "1.5.0",
            "_model_name": "HTMLModel",
            "_view_count": null,
            "_view_module": "@jupyter-widgets/controls",
            "_view_module_version": "1.5.0",
            "_view_name": "HTMLView",
            "description": "",
            "description_tooltip": null,
            "layout": "IPY_MODEL_cb64aaa7f5554bce88fd49fe0d6ed8ef",
            "placeholder": "​",
            "style": "IPY_MODEL_3f07a4a5c7ff407da90936d9e886e840",
            "value": "Downloading data: 100%"
          }
        },
        "d0c7513b2f30461ea3e89f809f642f32": {
          "model_module": "@jupyter-widgets/controls",
          "model_name": "FloatProgressModel",
          "model_module_version": "1.5.0",
          "state": {
            "_dom_classes": [],
            "_model_module": "@jupyter-widgets/controls",
            "_model_module_version": "1.5.0",
            "_model_name": "FloatProgressModel",
            "_view_count": null,
            "_view_module": "@jupyter-widgets/controls",
            "_view_module_version": "1.5.0",
            "_view_name": "ProgressView",
            "bar_style": "success",
            "description": "",
            "description_tooltip": null,
            "layout": "IPY_MODEL_eba2c2cd3de24a09959ee147ddb3fddb",
            "max": 238115767,
            "min": 0,
            "orientation": "horizontal",
            "style": "IPY_MODEL_f34b1664c031453599b23ee0eb42da96",
            "value": 238115767
          }
        },
        "3c74b9c3c912447c9d0c704821f46bda": {
          "model_module": "@jupyter-widgets/controls",
          "model_name": "HTMLModel",
          "model_module_version": "1.5.0",
          "state": {
            "_dom_classes": [],
            "_model_module": "@jupyter-widgets/controls",
            "_model_module_version": "1.5.0",
            "_model_name": "HTMLModel",
            "_view_count": null,
            "_view_module": "@jupyter-widgets/controls",
            "_view_module_version": "1.5.0",
            "_view_name": "HTMLView",
            "description": "",
            "description_tooltip": null,
            "layout": "IPY_MODEL_5bdc2267750b4ca69c8206664bcde118",
            "placeholder": "​",
            "style": "IPY_MODEL_177aa3ca65644e148d28017b36319e0a",
            "value": " 238M/238M [00:04&lt;00:00, 50.0MB/s]"
          }
        },
        "15b3a5ed899d452ba0afc4c606a71261": {
          "model_module": "@jupyter-widgets/base",
          "model_name": "LayoutModel",
          "model_module_version": "1.2.0",
          "state": {
            "_model_module": "@jupyter-widgets/base",
            "_model_module_version": "1.2.0",
            "_model_name": "LayoutModel",
            "_view_count": null,
            "_view_module": "@jupyter-widgets/base",
            "_view_module_version": "1.2.0",
            "_view_name": "LayoutView",
            "align_content": null,
            "align_items": null,
            "align_self": null,
            "border": null,
            "bottom": null,
            "display": null,
            "flex": null,
            "flex_flow": null,
            "grid_area": null,
            "grid_auto_columns": null,
            "grid_auto_flow": null,
            "grid_auto_rows": null,
            "grid_column": null,
            "grid_gap": null,
            "grid_row": null,
            "grid_template_areas": null,
            "grid_template_columns": null,
            "grid_template_rows": null,
            "height": null,
            "justify_content": null,
            "justify_items": null,
            "left": null,
            "margin": null,
            "max_height": null,
            "max_width": null,
            "min_height": null,
            "min_width": null,
            "object_fit": null,
            "object_position": null,
            "order": null,
            "overflow": null,
            "overflow_x": null,
            "overflow_y": null,
            "padding": null,
            "right": null,
            "top": null,
            "visibility": null,
            "width": null
          }
        },
        "cb64aaa7f5554bce88fd49fe0d6ed8ef": {
          "model_module": "@jupyter-widgets/base",
          "model_name": "LayoutModel",
          "model_module_version": "1.2.0",
          "state": {
            "_model_module": "@jupyter-widgets/base",
            "_model_module_version": "1.2.0",
            "_model_name": "LayoutModel",
            "_view_count": null,
            "_view_module": "@jupyter-widgets/base",
            "_view_module_version": "1.2.0",
            "_view_name": "LayoutView",
            "align_content": null,
            "align_items": null,
            "align_self": null,
            "border": null,
            "bottom": null,
            "display": null,
            "flex": null,
            "flex_flow": null,
            "grid_area": null,
            "grid_auto_columns": null,
            "grid_auto_flow": null,
            "grid_auto_rows": null,
            "grid_column": null,
            "grid_gap": null,
            "grid_row": null,
            "grid_template_areas": null,
            "grid_template_columns": null,
            "grid_template_rows": null,
            "height": null,
            "justify_content": null,
            "justify_items": null,
            "left": null,
            "margin": null,
            "max_height": null,
            "max_width": null,
            "min_height": null,
            "min_width": null,
            "object_fit": null,
            "object_position": null,
            "order": null,
            "overflow": null,
            "overflow_x": null,
            "overflow_y": null,
            "padding": null,
            "right": null,
            "top": null,
            "visibility": null,
            "width": null
          }
        },
        "3f07a4a5c7ff407da90936d9e886e840": {
          "model_module": "@jupyter-widgets/controls",
          "model_name": "DescriptionStyleModel",
          "model_module_version": "1.5.0",
          "state": {
            "_model_module": "@jupyter-widgets/controls",
            "_model_module_version": "1.5.0",
            "_model_name": "DescriptionStyleModel",
            "_view_count": null,
            "_view_module": "@jupyter-widgets/base",
            "_view_module_version": "1.2.0",
            "_view_name": "StyleView",
            "description_width": ""
          }
        },
        "eba2c2cd3de24a09959ee147ddb3fddb": {
          "model_module": "@jupyter-widgets/base",
          "model_name": "LayoutModel",
          "model_module_version": "1.2.0",
          "state": {
            "_model_module": "@jupyter-widgets/base",
            "_model_module_version": "1.2.0",
            "_model_name": "LayoutModel",
            "_view_count": null,
            "_view_module": "@jupyter-widgets/base",
            "_view_module_version": "1.2.0",
            "_view_name": "LayoutView",
            "align_content": null,
            "align_items": null,
            "align_self": null,
            "border": null,
            "bottom": null,
            "display": null,
            "flex": null,
            "flex_flow": null,
            "grid_area": null,
            "grid_auto_columns": null,
            "grid_auto_flow": null,
            "grid_auto_rows": null,
            "grid_column": null,
            "grid_gap": null,
            "grid_row": null,
            "grid_template_areas": null,
            "grid_template_columns": null,
            "grid_template_rows": null,
            "height": null,
            "justify_content": null,
            "justify_items": null,
            "left": null,
            "margin": null,
            "max_height": null,
            "max_width": null,
            "min_height": null,
            "min_width": null,
            "object_fit": null,
            "object_position": null,
            "order": null,
            "overflow": null,
            "overflow_x": null,
            "overflow_y": null,
            "padding": null,
            "right": null,
            "top": null,
            "visibility": null,
            "width": null
          }
        },
        "f34b1664c031453599b23ee0eb42da96": {
          "model_module": "@jupyter-widgets/controls",
          "model_name": "ProgressStyleModel",
          "model_module_version": "1.5.0",
          "state": {
            "_model_module": "@jupyter-widgets/controls",
            "_model_module_version": "1.5.0",
            "_model_name": "ProgressStyleModel",
            "_view_count": null,
            "_view_module": "@jupyter-widgets/base",
            "_view_module_version": "1.2.0",
            "_view_name": "StyleView",
            "bar_color": null,
            "description_width": ""
          }
        },
        "5bdc2267750b4ca69c8206664bcde118": {
          "model_module": "@jupyter-widgets/base",
          "model_name": "LayoutModel",
          "model_module_version": "1.2.0",
          "state": {
            "_model_module": "@jupyter-widgets/base",
            "_model_module_version": "1.2.0",
            "_model_name": "LayoutModel",
            "_view_count": null,
            "_view_module": "@jupyter-widgets/base",
            "_view_module_version": "1.2.0",
            "_view_name": "LayoutView",
            "align_content": null,
            "align_items": null,
            "align_self": null,
            "border": null,
            "bottom": null,
            "display": null,
            "flex": null,
            "flex_flow": null,
            "grid_area": null,
            "grid_auto_columns": null,
            "grid_auto_flow": null,
            "grid_auto_rows": null,
            "grid_column": null,
            "grid_gap": null,
            "grid_row": null,
            "grid_template_areas": null,
            "grid_template_columns": null,
            "grid_template_rows": null,
            "height": null,
            "justify_content": null,
            "justify_items": null,
            "left": null,
            "margin": null,
            "max_height": null,
            "max_width": null,
            "min_height": null,
            "min_width": null,
            "object_fit": null,
            "object_position": null,
            "order": null,
            "overflow": null,
            "overflow_x": null,
            "overflow_y": null,
            "padding": null,
            "right": null,
            "top": null,
            "visibility": null,
            "width": null
          }
        },
        "177aa3ca65644e148d28017b36319e0a": {
          "model_module": "@jupyter-widgets/controls",
          "model_name": "DescriptionStyleModel",
          "model_module_version": "1.5.0",
          "state": {
            "_model_module": "@jupyter-widgets/controls",
            "_model_module_version": "1.5.0",
            "_model_name": "DescriptionStyleModel",
            "_view_count": null,
            "_view_module": "@jupyter-widgets/base",
            "_view_module_version": "1.2.0",
            "_view_name": "StyleView",
            "description_width": ""
          }
        },
        "084fd1da25434b68ade2fac4e5d55bdb": {
          "model_module": "@jupyter-widgets/controls",
          "model_name": "HBoxModel",
          "model_module_version": "1.5.0",
          "state": {
            "_dom_classes": [],
            "_model_module": "@jupyter-widgets/controls",
            "_model_module_version": "1.5.0",
            "_model_name": "HBoxModel",
            "_view_count": null,
            "_view_module": "@jupyter-widgets/controls",
            "_view_module_version": "1.5.0",
            "_view_name": "HBoxView",
            "box_style": "",
            "children": [
              "IPY_MODEL_102fdb2e4b6548f781a679128557a238",
              "IPY_MODEL_acd5a5a03da544f1a93edcc700697f9e",
              "IPY_MODEL_90147b7ff6c548b7a6d8fa88f33bd8b8"
            ],
            "layout": "IPY_MODEL_ce7f2c6ebbc54f3ba7fcc673dee8345f"
          }
        },
        "102fdb2e4b6548f781a679128557a238": {
          "model_module": "@jupyter-widgets/controls",
          "model_name": "HTMLModel",
          "model_module_version": "1.5.0",
          "state": {
            "_dom_classes": [],
            "_model_module": "@jupyter-widgets/controls",
            "_model_module_version": "1.5.0",
            "_model_name": "HTMLModel",
            "_view_count": null,
            "_view_module": "@jupyter-widgets/controls",
            "_view_module_version": "1.5.0",
            "_view_name": "HTMLView",
            "description": "",
            "description_tooltip": null,
            "layout": "IPY_MODEL_71134a3d74104960bd7c6c21fdf49893",
            "placeholder": "​",
            "style": "IPY_MODEL_7868fe32baad430aae0fb7147e98493c",
            "value": "Downloading data: 100%"
          }
        },
        "acd5a5a03da544f1a93edcc700697f9e": {
          "model_module": "@jupyter-widgets/controls",
          "model_name": "FloatProgressModel",
          "model_module_version": "1.5.0",
          "state": {
            "_dom_classes": [],
            "_model_module": "@jupyter-widgets/controls",
            "_model_module_version": "1.5.0",
            "_model_name": "FloatProgressModel",
            "_view_count": null,
            "_view_module": "@jupyter-widgets/controls",
            "_view_module_version": "1.5.0",
            "_view_name": "ProgressView",
            "bar_style": "success",
            "description": "",
            "description_tooltip": null,
            "layout": "IPY_MODEL_c948c0c6b7104f118d08801144279d9d",
            "max": 239422128,
            "min": 0,
            "orientation": "horizontal",
            "style": "IPY_MODEL_6058879b1ae44d78bfa2bd6d2b602a51",
            "value": 239422128
          }
        },
        "90147b7ff6c548b7a6d8fa88f33bd8b8": {
          "model_module": "@jupyter-widgets/controls",
          "model_name": "HTMLModel",
          "model_module_version": "1.5.0",
          "state": {
            "_dom_classes": [],
            "_model_module": "@jupyter-widgets/controls",
            "_model_module_version": "1.5.0",
            "_model_name": "HTMLModel",
            "_view_count": null,
            "_view_module": "@jupyter-widgets/controls",
            "_view_module_version": "1.5.0",
            "_view_name": "HTMLView",
            "description": "",
            "description_tooltip": null,
            "layout": "IPY_MODEL_c4189fc901df43b9b9509a0f403a8137",
            "placeholder": "​",
            "style": "IPY_MODEL_38967356c37945fe9bc70f29dc436557",
            "value": " 239M/239M [00:06&lt;00:00, 45.9MB/s]"
          }
        },
        "ce7f2c6ebbc54f3ba7fcc673dee8345f": {
          "model_module": "@jupyter-widgets/base",
          "model_name": "LayoutModel",
          "model_module_version": "1.2.0",
          "state": {
            "_model_module": "@jupyter-widgets/base",
            "_model_module_version": "1.2.0",
            "_model_name": "LayoutModel",
            "_view_count": null,
            "_view_module": "@jupyter-widgets/base",
            "_view_module_version": "1.2.0",
            "_view_name": "LayoutView",
            "align_content": null,
            "align_items": null,
            "align_self": null,
            "border": null,
            "bottom": null,
            "display": null,
            "flex": null,
            "flex_flow": null,
            "grid_area": null,
            "grid_auto_columns": null,
            "grid_auto_flow": null,
            "grid_auto_rows": null,
            "grid_column": null,
            "grid_gap": null,
            "grid_row": null,
            "grid_template_areas": null,
            "grid_template_columns": null,
            "grid_template_rows": null,
            "height": null,
            "justify_content": null,
            "justify_items": null,
            "left": null,
            "margin": null,
            "max_height": null,
            "max_width": null,
            "min_height": null,
            "min_width": null,
            "object_fit": null,
            "object_position": null,
            "order": null,
            "overflow": null,
            "overflow_x": null,
            "overflow_y": null,
            "padding": null,
            "right": null,
            "top": null,
            "visibility": null,
            "width": null
          }
        },
        "71134a3d74104960bd7c6c21fdf49893": {
          "model_module": "@jupyter-widgets/base",
          "model_name": "LayoutModel",
          "model_module_version": "1.2.0",
          "state": {
            "_model_module": "@jupyter-widgets/base",
            "_model_module_version": "1.2.0",
            "_model_name": "LayoutModel",
            "_view_count": null,
            "_view_module": "@jupyter-widgets/base",
            "_view_module_version": "1.2.0",
            "_view_name": "LayoutView",
            "align_content": null,
            "align_items": null,
            "align_self": null,
            "border": null,
            "bottom": null,
            "display": null,
            "flex": null,
            "flex_flow": null,
            "grid_area": null,
            "grid_auto_columns": null,
            "grid_auto_flow": null,
            "grid_auto_rows": null,
            "grid_column": null,
            "grid_gap": null,
            "grid_row": null,
            "grid_template_areas": null,
            "grid_template_columns": null,
            "grid_template_rows": null,
            "height": null,
            "justify_content": null,
            "justify_items": null,
            "left": null,
            "margin": null,
            "max_height": null,
            "max_width": null,
            "min_height": null,
            "min_width": null,
            "object_fit": null,
            "object_position": null,
            "order": null,
            "overflow": null,
            "overflow_x": null,
            "overflow_y": null,
            "padding": null,
            "right": null,
            "top": null,
            "visibility": null,
            "width": null
          }
        },
        "7868fe32baad430aae0fb7147e98493c": {
          "model_module": "@jupyter-widgets/controls",
          "model_name": "DescriptionStyleModel",
          "model_module_version": "1.5.0",
          "state": {
            "_model_module": "@jupyter-widgets/controls",
            "_model_module_version": "1.5.0",
            "_model_name": "DescriptionStyleModel",
            "_view_count": null,
            "_view_module": "@jupyter-widgets/base",
            "_view_module_version": "1.2.0",
            "_view_name": "StyleView",
            "description_width": ""
          }
        },
        "c948c0c6b7104f118d08801144279d9d": {
          "model_module": "@jupyter-widgets/base",
          "model_name": "LayoutModel",
          "model_module_version": "1.2.0",
          "state": {
            "_model_module": "@jupyter-widgets/base",
            "_model_module_version": "1.2.0",
            "_model_name": "LayoutModel",
            "_view_count": null,
            "_view_module": "@jupyter-widgets/base",
            "_view_module_version": "1.2.0",
            "_view_name": "LayoutView",
            "align_content": null,
            "align_items": null,
            "align_self": null,
            "border": null,
            "bottom": null,
            "display": null,
            "flex": null,
            "flex_flow": null,
            "grid_area": null,
            "grid_auto_columns": null,
            "grid_auto_flow": null,
            "grid_auto_rows": null,
            "grid_column": null,
            "grid_gap": null,
            "grid_row": null,
            "grid_template_areas": null,
            "grid_template_columns": null,
            "grid_template_rows": null,
            "height": null,
            "justify_content": null,
            "justify_items": null,
            "left": null,
            "margin": null,
            "max_height": null,
            "max_width": null,
            "min_height": null,
            "min_width": null,
            "object_fit": null,
            "object_position": null,
            "order": null,
            "overflow": null,
            "overflow_x": null,
            "overflow_y": null,
            "padding": null,
            "right": null,
            "top": null,
            "visibility": null,
            "width": null
          }
        },
        "6058879b1ae44d78bfa2bd6d2b602a51": {
          "model_module": "@jupyter-widgets/controls",
          "model_name": "ProgressStyleModel",
          "model_module_version": "1.5.0",
          "state": {
            "_model_module": "@jupyter-widgets/controls",
            "_model_module_version": "1.5.0",
            "_model_name": "ProgressStyleModel",
            "_view_count": null,
            "_view_module": "@jupyter-widgets/base",
            "_view_module_version": "1.2.0",
            "_view_name": "StyleView",
            "bar_color": null,
            "description_width": ""
          }
        },
        "c4189fc901df43b9b9509a0f403a8137": {
          "model_module": "@jupyter-widgets/base",
          "model_name": "LayoutModel",
          "model_module_version": "1.2.0",
          "state": {
            "_model_module": "@jupyter-widgets/base",
            "_model_module_version": "1.2.0",
            "_model_name": "LayoutModel",
            "_view_count": null,
            "_view_module": "@jupyter-widgets/base",
            "_view_module_version": "1.2.0",
            "_view_name": "LayoutView",
            "align_content": null,
            "align_items": null,
            "align_self": null,
            "border": null,
            "bottom": null,
            "display": null,
            "flex": null,
            "flex_flow": null,
            "grid_area": null,
            "grid_auto_columns": null,
            "grid_auto_flow": null,
            "grid_auto_rows": null,
            "grid_column": null,
            "grid_gap": null,
            "grid_row": null,
            "grid_template_areas": null,
            "grid_template_columns": null,
            "grid_template_rows": null,
            "height": null,
            "justify_content": null,
            "justify_items": null,
            "left": null,
            "margin": null,
            "max_height": null,
            "max_width": null,
            "min_height": null,
            "min_width": null,
            "object_fit": null,
            "object_position": null,
            "order": null,
            "overflow": null,
            "overflow_x": null,
            "overflow_y": null,
            "padding": null,
            "right": null,
            "top": null,
            "visibility": null,
            "width": null
          }
        },
        "38967356c37945fe9bc70f29dc436557": {
          "model_module": "@jupyter-widgets/controls",
          "model_name": "DescriptionStyleModel",
          "model_module_version": "1.5.0",
          "state": {
            "_model_module": "@jupyter-widgets/controls",
            "_model_module_version": "1.5.0",
            "_model_name": "DescriptionStyleModel",
            "_view_count": null,
            "_view_module": "@jupyter-widgets/base",
            "_view_module_version": "1.2.0",
            "_view_name": "StyleView",
            "description_width": ""
          }
        },
        "17086072533c4dac92a2bb883e370176": {
          "model_module": "@jupyter-widgets/controls",
          "model_name": "HBoxModel",
          "model_module_version": "1.5.0",
          "state": {
            "_dom_classes": [],
            "_model_module": "@jupyter-widgets/controls",
            "_model_module_version": "1.5.0",
            "_model_name": "HBoxModel",
            "_view_count": null,
            "_view_module": "@jupyter-widgets/controls",
            "_view_module_version": "1.5.0",
            "_view_name": "HBoxView",
            "box_style": "",
            "children": [
              "IPY_MODEL_827f4615f55a4c7e97134ebd5575f597",
              "IPY_MODEL_f97206e3516c4625b059409b9de318cb",
              "IPY_MODEL_dab5245210f54121bb4326f23bc1fd1c"
            ],
            "layout": "IPY_MODEL_84c37356f7a242269aa09c3ccf7fa78b"
          }
        },
        "827f4615f55a4c7e97134ebd5575f597": {
          "model_module": "@jupyter-widgets/controls",
          "model_name": "HTMLModel",
          "model_module_version": "1.5.0",
          "state": {
            "_dom_classes": [],
            "_model_module": "@jupyter-widgets/controls",
            "_model_module_version": "1.5.0",
            "_model_name": "HTMLModel",
            "_view_count": null,
            "_view_module": "@jupyter-widgets/controls",
            "_view_module_version": "1.5.0",
            "_view_name": "HTMLView",
            "description": "",
            "description_tooltip": null,
            "layout": "IPY_MODEL_48a6e8fbe95f4fac85e2cf40a169fb75",
            "placeholder": "​",
            "style": "IPY_MODEL_3cf9c953759848649322cc42697f1124",
            "value": "Downloading data: 100%"
          }
        },
        "f97206e3516c4625b059409b9de318cb": {
          "model_module": "@jupyter-widgets/controls",
          "model_name": "FloatProgressModel",
          "model_module_version": "1.5.0",
          "state": {
            "_dom_classes": [],
            "_model_module": "@jupyter-widgets/controls",
            "_model_module_version": "1.5.0",
            "_model_name": "FloatProgressModel",
            "_view_count": null,
            "_view_module": "@jupyter-widgets/controls",
            "_view_module_version": "1.5.0",
            "_view_name": "ProgressView",
            "bar_style": "success",
            "description": "",
            "description_tooltip": null,
            "layout": "IPY_MODEL_34535893ce044aceab221ecd0977e879",
            "max": 6769722,
            "min": 0,
            "orientation": "horizontal",
            "style": "IPY_MODEL_141efad980384d2cbc43b12b32509e7e",
            "value": 6769722
          }
        },
        "dab5245210f54121bb4326f23bc1fd1c": {
          "model_module": "@jupyter-widgets/controls",
          "model_name": "HTMLModel",
          "model_module_version": "1.5.0",
          "state": {
            "_dom_classes": [],
            "_model_module": "@jupyter-widgets/controls",
            "_model_module_version": "1.5.0",
            "_model_name": "HTMLModel",
            "_view_count": null,
            "_view_module": "@jupyter-widgets/controls",
            "_view_module_version": "1.5.0",
            "_view_name": "HTMLView",
            "description": "",
            "description_tooltip": null,
            "layout": "IPY_MODEL_a1efd078cc3f431292eb6f74c7f1fdcb",
            "placeholder": "​",
            "style": "IPY_MODEL_f05c6eec333942369b5d8fe15177df72",
            "value": " 6.77M/6.77M [00:00&lt;00:00, 9.29MB/s]"
          }
        },
        "84c37356f7a242269aa09c3ccf7fa78b": {
          "model_module": "@jupyter-widgets/base",
          "model_name": "LayoutModel",
          "model_module_version": "1.2.0",
          "state": {
            "_model_module": "@jupyter-widgets/base",
            "_model_module_version": "1.2.0",
            "_model_name": "LayoutModel",
            "_view_count": null,
            "_view_module": "@jupyter-widgets/base",
            "_view_module_version": "1.2.0",
            "_view_name": "LayoutView",
            "align_content": null,
            "align_items": null,
            "align_self": null,
            "border": null,
            "bottom": null,
            "display": null,
            "flex": null,
            "flex_flow": null,
            "grid_area": null,
            "grid_auto_columns": null,
            "grid_auto_flow": null,
            "grid_auto_rows": null,
            "grid_column": null,
            "grid_gap": null,
            "grid_row": null,
            "grid_template_areas": null,
            "grid_template_columns": null,
            "grid_template_rows": null,
            "height": null,
            "justify_content": null,
            "justify_items": null,
            "left": null,
            "margin": null,
            "max_height": null,
            "max_width": null,
            "min_height": null,
            "min_width": null,
            "object_fit": null,
            "object_position": null,
            "order": null,
            "overflow": null,
            "overflow_x": null,
            "overflow_y": null,
            "padding": null,
            "right": null,
            "top": null,
            "visibility": null,
            "width": null
          }
        },
        "48a6e8fbe95f4fac85e2cf40a169fb75": {
          "model_module": "@jupyter-widgets/base",
          "model_name": "LayoutModel",
          "model_module_version": "1.2.0",
          "state": {
            "_model_module": "@jupyter-widgets/base",
            "_model_module_version": "1.2.0",
            "_model_name": "LayoutModel",
            "_view_count": null,
            "_view_module": "@jupyter-widgets/base",
            "_view_module_version": "1.2.0",
            "_view_name": "LayoutView",
            "align_content": null,
            "align_items": null,
            "align_self": null,
            "border": null,
            "bottom": null,
            "display": null,
            "flex": null,
            "flex_flow": null,
            "grid_area": null,
            "grid_auto_columns": null,
            "grid_auto_flow": null,
            "grid_auto_rows": null,
            "grid_column": null,
            "grid_gap": null,
            "grid_row": null,
            "grid_template_areas": null,
            "grid_template_columns": null,
            "grid_template_rows": null,
            "height": null,
            "justify_content": null,
            "justify_items": null,
            "left": null,
            "margin": null,
            "max_height": null,
            "max_width": null,
            "min_height": null,
            "min_width": null,
            "object_fit": null,
            "object_position": null,
            "order": null,
            "overflow": null,
            "overflow_x": null,
            "overflow_y": null,
            "padding": null,
            "right": null,
            "top": null,
            "visibility": null,
            "width": null
          }
        },
        "3cf9c953759848649322cc42697f1124": {
          "model_module": "@jupyter-widgets/controls",
          "model_name": "DescriptionStyleModel",
          "model_module_version": "1.5.0",
          "state": {
            "_model_module": "@jupyter-widgets/controls",
            "_model_module_version": "1.5.0",
            "_model_name": "DescriptionStyleModel",
            "_view_count": null,
            "_view_module": "@jupyter-widgets/base",
            "_view_module_version": "1.2.0",
            "_view_name": "StyleView",
            "description_width": ""
          }
        },
        "34535893ce044aceab221ecd0977e879": {
          "model_module": "@jupyter-widgets/base",
          "model_name": "LayoutModel",
          "model_module_version": "1.2.0",
          "state": {
            "_model_module": "@jupyter-widgets/base",
            "_model_module_version": "1.2.0",
            "_model_name": "LayoutModel",
            "_view_count": null,
            "_view_module": "@jupyter-widgets/base",
            "_view_module_version": "1.2.0",
            "_view_name": "LayoutView",
            "align_content": null,
            "align_items": null,
            "align_self": null,
            "border": null,
            "bottom": null,
            "display": null,
            "flex": null,
            "flex_flow": null,
            "grid_area": null,
            "grid_auto_columns": null,
            "grid_auto_flow": null,
            "grid_auto_rows": null,
            "grid_column": null,
            "grid_gap": null,
            "grid_row": null,
            "grid_template_areas": null,
            "grid_template_columns": null,
            "grid_template_rows": null,
            "height": null,
            "justify_content": null,
            "justify_items": null,
            "left": null,
            "margin": null,
            "max_height": null,
            "max_width": null,
            "min_height": null,
            "min_width": null,
            "object_fit": null,
            "object_position": null,
            "order": null,
            "overflow": null,
            "overflow_x": null,
            "overflow_y": null,
            "padding": null,
            "right": null,
            "top": null,
            "visibility": null,
            "width": null
          }
        },
        "141efad980384d2cbc43b12b32509e7e": {
          "model_module": "@jupyter-widgets/controls",
          "model_name": "ProgressStyleModel",
          "model_module_version": "1.5.0",
          "state": {
            "_model_module": "@jupyter-widgets/controls",
            "_model_module_version": "1.5.0",
            "_model_name": "ProgressStyleModel",
            "_view_count": null,
            "_view_module": "@jupyter-widgets/base",
            "_view_module_version": "1.2.0",
            "_view_name": "StyleView",
            "bar_color": null,
            "description_width": ""
          }
        },
        "a1efd078cc3f431292eb6f74c7f1fdcb": {
          "model_module": "@jupyter-widgets/base",
          "model_name": "LayoutModel",
          "model_module_version": "1.2.0",
          "state": {
            "_model_module": "@jupyter-widgets/base",
            "_model_module_version": "1.2.0",
            "_model_name": "LayoutModel",
            "_view_count": null,
            "_view_module": "@jupyter-widgets/base",
            "_view_module_version": "1.2.0",
            "_view_name": "LayoutView",
            "align_content": null,
            "align_items": null,
            "align_self": null,
            "border": null,
            "bottom": null,
            "display": null,
            "flex": null,
            "flex_flow": null,
            "grid_area": null,
            "grid_auto_columns": null,
            "grid_auto_flow": null,
            "grid_auto_rows": null,
            "grid_column": null,
            "grid_gap": null,
            "grid_row": null,
            "grid_template_areas": null,
            "grid_template_columns": null,
            "grid_template_rows": null,
            "height": null,
            "justify_content": null,
            "justify_items": null,
            "left": null,
            "margin": null,
            "max_height": null,
            "max_width": null,
            "min_height": null,
            "min_width": null,
            "object_fit": null,
            "object_position": null,
            "order": null,
            "overflow": null,
            "overflow_x": null,
            "overflow_y": null,
            "padding": null,
            "right": null,
            "top": null,
            "visibility": null,
            "width": null
          }
        },
        "f05c6eec333942369b5d8fe15177df72": {
          "model_module": "@jupyter-widgets/controls",
          "model_name": "DescriptionStyleModel",
          "model_module_version": "1.5.0",
          "state": {
            "_model_module": "@jupyter-widgets/controls",
            "_model_module_version": "1.5.0",
            "_model_name": "DescriptionStyleModel",
            "_view_count": null,
            "_view_module": "@jupyter-widgets/base",
            "_view_module_version": "1.2.0",
            "_view_name": "StyleView",
            "description_width": ""
          }
        },
        "2268439eed2f4a10a00d98097a8804c3": {
          "model_module": "@jupyter-widgets/controls",
          "model_name": "HBoxModel",
          "model_module_version": "1.5.0",
          "state": {
            "_dom_classes": [],
            "_model_module": "@jupyter-widgets/controls",
            "_model_module_version": "1.5.0",
            "_model_name": "HBoxModel",
            "_view_count": null,
            "_view_module": "@jupyter-widgets/controls",
            "_view_module_version": "1.5.0",
            "_view_name": "HBoxView",
            "box_style": "",
            "children": [
              "IPY_MODEL_8f164cd5fdc04d34bd65573d695241e5",
              "IPY_MODEL_657df8eb4b3141849d7dd7501974f429",
              "IPY_MODEL_002bfd66702d4513a0a8b283fd02e478"
            ],
            "layout": "IPY_MODEL_76a4fec3d8f84b83bf3656ee32802e0b"
          }
        },
        "8f164cd5fdc04d34bd65573d695241e5": {
          "model_module": "@jupyter-widgets/controls",
          "model_name": "HTMLModel",
          "model_module_version": "1.5.0",
          "state": {
            "_dom_classes": [],
            "_model_module": "@jupyter-widgets/controls",
            "_model_module_version": "1.5.0",
            "_model_name": "HTMLModel",
            "_view_count": null,
            "_view_module": "@jupyter-widgets/controls",
            "_view_module_version": "1.5.0",
            "_view_name": "HTMLView",
            "description": "",
            "description_tooltip": null,
            "layout": "IPY_MODEL_032005bf09d143a1ac21b4be24d18cee",
            "placeholder": "​",
            "style": "IPY_MODEL_bdf587fca99347a5935cd59734593145",
            "value": "Downloading data: 100%"
          }
        },
        "657df8eb4b3141849d7dd7501974f429": {
          "model_module": "@jupyter-widgets/controls",
          "model_name": "FloatProgressModel",
          "model_module_version": "1.5.0",
          "state": {
            "_dom_classes": [],
            "_model_module": "@jupyter-widgets/controls",
            "_model_module_version": "1.5.0",
            "_model_name": "FloatProgressModel",
            "_view_count": null,
            "_view_module": "@jupyter-widgets/controls",
            "_view_module_version": "1.5.0",
            "_view_name": "ProgressView",
            "bar_style": "success",
            "description": "",
            "description_tooltip": null,
            "layout": "IPY_MODEL_712d2ab02a2848a2922c0215cd65ea3d",
            "max": 3392503,
            "min": 0,
            "orientation": "horizontal",
            "style": "IPY_MODEL_c4da0e5af07b4259b09de4b62eaa5d00",
            "value": 3392503
          }
        },
        "002bfd66702d4513a0a8b283fd02e478": {
          "model_module": "@jupyter-widgets/controls",
          "model_name": "HTMLModel",
          "model_module_version": "1.5.0",
          "state": {
            "_dom_classes": [],
            "_model_module": "@jupyter-widgets/controls",
            "_model_module_version": "1.5.0",
            "_model_name": "HTMLModel",
            "_view_count": null,
            "_view_module": "@jupyter-widgets/controls",
            "_view_module_version": "1.5.0",
            "_view_name": "HTMLView",
            "description": "",
            "description_tooltip": null,
            "layout": "IPY_MODEL_50c7f4de30e64260b8cbefe56aed2a52",
            "placeholder": "​",
            "style": "IPY_MODEL_caecbcccc78a4cc5bcb3043e63a81c51",
            "value": " 3.39M/3.39M [00:00&lt;00:00, 10.5MB/s]"
          }
        },
        "76a4fec3d8f84b83bf3656ee32802e0b": {
          "model_module": "@jupyter-widgets/base",
          "model_name": "LayoutModel",
          "model_module_version": "1.2.0",
          "state": {
            "_model_module": "@jupyter-widgets/base",
            "_model_module_version": "1.2.0",
            "_model_name": "LayoutModel",
            "_view_count": null,
            "_view_module": "@jupyter-widgets/base",
            "_view_module_version": "1.2.0",
            "_view_name": "LayoutView",
            "align_content": null,
            "align_items": null,
            "align_self": null,
            "border": null,
            "bottom": null,
            "display": null,
            "flex": null,
            "flex_flow": null,
            "grid_area": null,
            "grid_auto_columns": null,
            "grid_auto_flow": null,
            "grid_auto_rows": null,
            "grid_column": null,
            "grid_gap": null,
            "grid_row": null,
            "grid_template_areas": null,
            "grid_template_columns": null,
            "grid_template_rows": null,
            "height": null,
            "justify_content": null,
            "justify_items": null,
            "left": null,
            "margin": null,
            "max_height": null,
            "max_width": null,
            "min_height": null,
            "min_width": null,
            "object_fit": null,
            "object_position": null,
            "order": null,
            "overflow": null,
            "overflow_x": null,
            "overflow_y": null,
            "padding": null,
            "right": null,
            "top": null,
            "visibility": null,
            "width": null
          }
        },
        "032005bf09d143a1ac21b4be24d18cee": {
          "model_module": "@jupyter-widgets/base",
          "model_name": "LayoutModel",
          "model_module_version": "1.2.0",
          "state": {
            "_model_module": "@jupyter-widgets/base",
            "_model_module_version": "1.2.0",
            "_model_name": "LayoutModel",
            "_view_count": null,
            "_view_module": "@jupyter-widgets/base",
            "_view_module_version": "1.2.0",
            "_view_name": "LayoutView",
            "align_content": null,
            "align_items": null,
            "align_self": null,
            "border": null,
            "bottom": null,
            "display": null,
            "flex": null,
            "flex_flow": null,
            "grid_area": null,
            "grid_auto_columns": null,
            "grid_auto_flow": null,
            "grid_auto_rows": null,
            "grid_column": null,
            "grid_gap": null,
            "grid_row": null,
            "grid_template_areas": null,
            "grid_template_columns": null,
            "grid_template_rows": null,
            "height": null,
            "justify_content": null,
            "justify_items": null,
            "left": null,
            "margin": null,
            "max_height": null,
            "max_width": null,
            "min_height": null,
            "min_width": null,
            "object_fit": null,
            "object_position": null,
            "order": null,
            "overflow": null,
            "overflow_x": null,
            "overflow_y": null,
            "padding": null,
            "right": null,
            "top": null,
            "visibility": null,
            "width": null
          }
        },
        "bdf587fca99347a5935cd59734593145": {
          "model_module": "@jupyter-widgets/controls",
          "model_name": "DescriptionStyleModel",
          "model_module_version": "1.5.0",
          "state": {
            "_model_module": "@jupyter-widgets/controls",
            "_model_module_version": "1.5.0",
            "_model_name": "DescriptionStyleModel",
            "_view_count": null,
            "_view_module": "@jupyter-widgets/base",
            "_view_module_version": "1.2.0",
            "_view_name": "StyleView",
            "description_width": ""
          }
        },
        "712d2ab02a2848a2922c0215cd65ea3d": {
          "model_module": "@jupyter-widgets/base",
          "model_name": "LayoutModel",
          "model_module_version": "1.2.0",
          "state": {
            "_model_module": "@jupyter-widgets/base",
            "_model_module_version": "1.2.0",
            "_model_name": "LayoutModel",
            "_view_count": null,
            "_view_module": "@jupyter-widgets/base",
            "_view_module_version": "1.2.0",
            "_view_name": "LayoutView",
            "align_content": null,
            "align_items": null,
            "align_self": null,
            "border": null,
            "bottom": null,
            "display": null,
            "flex": null,
            "flex_flow": null,
            "grid_area": null,
            "grid_auto_columns": null,
            "grid_auto_flow": null,
            "grid_auto_rows": null,
            "grid_column": null,
            "grid_gap": null,
            "grid_row": null,
            "grid_template_areas": null,
            "grid_template_columns": null,
            "grid_template_rows": null,
            "height": null,
            "justify_content": null,
            "justify_items": null,
            "left": null,
            "margin": null,
            "max_height": null,
            "max_width": null,
            "min_height": null,
            "min_width": null,
            "object_fit": null,
            "object_position": null,
            "order": null,
            "overflow": null,
            "overflow_x": null,
            "overflow_y": null,
            "padding": null,
            "right": null,
            "top": null,
            "visibility": null,
            "width": null
          }
        },
        "c4da0e5af07b4259b09de4b62eaa5d00": {
          "model_module": "@jupyter-widgets/controls",
          "model_name": "ProgressStyleModel",
          "model_module_version": "1.5.0",
          "state": {
            "_model_module": "@jupyter-widgets/controls",
            "_model_module_version": "1.5.0",
            "_model_name": "ProgressStyleModel",
            "_view_count": null,
            "_view_module": "@jupyter-widgets/base",
            "_view_module_version": "1.2.0",
            "_view_name": "StyleView",
            "bar_color": null,
            "description_width": ""
          }
        },
        "50c7f4de30e64260b8cbefe56aed2a52": {
          "model_module": "@jupyter-widgets/base",
          "model_name": "LayoutModel",
          "model_module_version": "1.2.0",
          "state": {
            "_model_module": "@jupyter-widgets/base",
            "_model_module_version": "1.2.0",
            "_model_name": "LayoutModel",
            "_view_count": null,
            "_view_module": "@jupyter-widgets/base",
            "_view_module_version": "1.2.0",
            "_view_name": "LayoutView",
            "align_content": null,
            "align_items": null,
            "align_self": null,
            "border": null,
            "bottom": null,
            "display": null,
            "flex": null,
            "flex_flow": null,
            "grid_area": null,
            "grid_auto_columns": null,
            "grid_auto_flow": null,
            "grid_auto_rows": null,
            "grid_column": null,
            "grid_gap": null,
            "grid_row": null,
            "grid_template_areas": null,
            "grid_template_columns": null,
            "grid_template_rows": null,
            "height": null,
            "justify_content": null,
            "justify_items": null,
            "left": null,
            "margin": null,
            "max_height": null,
            "max_width": null,
            "min_height": null,
            "min_width": null,
            "object_fit": null,
            "object_position": null,
            "order": null,
            "overflow": null,
            "overflow_x": null,
            "overflow_y": null,
            "padding": null,
            "right": null,
            "top": null,
            "visibility": null,
            "width": null
          }
        },
        "caecbcccc78a4cc5bcb3043e63a81c51": {
          "model_module": "@jupyter-widgets/controls",
          "model_name": "DescriptionStyleModel",
          "model_module_version": "1.5.0",
          "state": {
            "_model_module": "@jupyter-widgets/controls",
            "_model_module_version": "1.5.0",
            "_model_name": "DescriptionStyleModel",
            "_view_count": null,
            "_view_module": "@jupyter-widgets/base",
            "_view_module_version": "1.2.0",
            "_view_name": "StyleView",
            "description_width": ""
          }
        },
        "8e8b614026c645e78aca6e98d5f778ed": {
          "model_module": "@jupyter-widgets/controls",
          "model_name": "HBoxModel",
          "model_module_version": "1.5.0",
          "state": {
            "_dom_classes": [],
            "_model_module": "@jupyter-widgets/controls",
            "_model_module_version": "1.5.0",
            "_model_name": "HBoxModel",
            "_view_count": null,
            "_view_module": "@jupyter-widgets/controls",
            "_view_module_version": "1.5.0",
            "_view_name": "HBoxView",
            "box_style": "",
            "children": [
              "IPY_MODEL_5a6c95c9274d477cbb72345c3db7c1f3",
              "IPY_MODEL_7d79937dad49445cbda45d705daa4686",
              "IPY_MODEL_4d29b88cd673484ba46f416986af58cb"
            ],
            "layout": "IPY_MODEL_e997f766149344b69f79c7bf6d6a32ec"
          }
        },
        "5a6c95c9274d477cbb72345c3db7c1f3": {
          "model_module": "@jupyter-widgets/controls",
          "model_name": "HTMLModel",
          "model_module_version": "1.5.0",
          "state": {
            "_dom_classes": [],
            "_model_module": "@jupyter-widgets/controls",
            "_model_module_version": "1.5.0",
            "_model_name": "HTMLModel",
            "_view_count": null,
            "_view_module": "@jupyter-widgets/controls",
            "_view_module_version": "1.5.0",
            "_view_name": "HTMLView",
            "description": "",
            "description_tooltip": null,
            "layout": "IPY_MODEL_df1f35b3c0f84b119c01d74347f54c03",
            "placeholder": "​",
            "style": "IPY_MODEL_75caa021975f4dc08af9fd1a2b89cf05",
            "value": "Generating train split: 100%"
          }
        },
        "7d79937dad49445cbda45d705daa4686": {
          "model_module": "@jupyter-widgets/controls",
          "model_name": "FloatProgressModel",
          "model_module_version": "1.5.0",
          "state": {
            "_dom_classes": [],
            "_model_module": "@jupyter-widgets/controls",
            "_model_module_version": "1.5.0",
            "_model_name": "FloatProgressModel",
            "_view_count": null,
            "_view_module": "@jupyter-widgets/controls",
            "_view_module_version": "1.5.0",
            "_view_name": "ProgressView",
            "bar_style": "success",
            "description": "",
            "description_tooltip": null,
            "layout": "IPY_MODEL_754259b9f58f44dea925e0db860e57e7",
            "max": 392702,
            "min": 0,
            "orientation": "horizontal",
            "style": "IPY_MODEL_4da7c4fcd1cb4242b66cf0d5047bb21c",
            "value": 392702
          }
        },
        "4d29b88cd673484ba46f416986af58cb": {
          "model_module": "@jupyter-widgets/controls",
          "model_name": "HTMLModel",
          "model_module_version": "1.5.0",
          "state": {
            "_dom_classes": [],
            "_model_module": "@jupyter-widgets/controls",
            "_model_module_version": "1.5.0",
            "_model_name": "HTMLModel",
            "_view_count": null,
            "_view_module": "@jupyter-widgets/controls",
            "_view_module_version": "1.5.0",
            "_view_name": "HTMLView",
            "description": "",
            "description_tooltip": null,
            "layout": "IPY_MODEL_8b397839fa1b4c82a655a738be0ccdc4",
            "placeholder": "​",
            "style": "IPY_MODEL_5f97409da900447f89b1aadf1a7e281f",
            "value": " 392702/392702 [00:15&lt;00:00, 39474.57 examples/s]"
          }
        },
        "e997f766149344b69f79c7bf6d6a32ec": {
          "model_module": "@jupyter-widgets/base",
          "model_name": "LayoutModel",
          "model_module_version": "1.2.0",
          "state": {
            "_model_module": "@jupyter-widgets/base",
            "_model_module_version": "1.2.0",
            "_model_name": "LayoutModel",
            "_view_count": null,
            "_view_module": "@jupyter-widgets/base",
            "_view_module_version": "1.2.0",
            "_view_name": "LayoutView",
            "align_content": null,
            "align_items": null,
            "align_self": null,
            "border": null,
            "bottom": null,
            "display": null,
            "flex": null,
            "flex_flow": null,
            "grid_area": null,
            "grid_auto_columns": null,
            "grid_auto_flow": null,
            "grid_auto_rows": null,
            "grid_column": null,
            "grid_gap": null,
            "grid_row": null,
            "grid_template_areas": null,
            "grid_template_columns": null,
            "grid_template_rows": null,
            "height": null,
            "justify_content": null,
            "justify_items": null,
            "left": null,
            "margin": null,
            "max_height": null,
            "max_width": null,
            "min_height": null,
            "min_width": null,
            "object_fit": null,
            "object_position": null,
            "order": null,
            "overflow": null,
            "overflow_x": null,
            "overflow_y": null,
            "padding": null,
            "right": null,
            "top": null,
            "visibility": null,
            "width": null
          }
        },
        "df1f35b3c0f84b119c01d74347f54c03": {
          "model_module": "@jupyter-widgets/base",
          "model_name": "LayoutModel",
          "model_module_version": "1.2.0",
          "state": {
            "_model_module": "@jupyter-widgets/base",
            "_model_module_version": "1.2.0",
            "_model_name": "LayoutModel",
            "_view_count": null,
            "_view_module": "@jupyter-widgets/base",
            "_view_module_version": "1.2.0",
            "_view_name": "LayoutView",
            "align_content": null,
            "align_items": null,
            "align_self": null,
            "border": null,
            "bottom": null,
            "display": null,
            "flex": null,
            "flex_flow": null,
            "grid_area": null,
            "grid_auto_columns": null,
            "grid_auto_flow": null,
            "grid_auto_rows": null,
            "grid_column": null,
            "grid_gap": null,
            "grid_row": null,
            "grid_template_areas": null,
            "grid_template_columns": null,
            "grid_template_rows": null,
            "height": null,
            "justify_content": null,
            "justify_items": null,
            "left": null,
            "margin": null,
            "max_height": null,
            "max_width": null,
            "min_height": null,
            "min_width": null,
            "object_fit": null,
            "object_position": null,
            "order": null,
            "overflow": null,
            "overflow_x": null,
            "overflow_y": null,
            "padding": null,
            "right": null,
            "top": null,
            "visibility": null,
            "width": null
          }
        },
        "75caa021975f4dc08af9fd1a2b89cf05": {
          "model_module": "@jupyter-widgets/controls",
          "model_name": "DescriptionStyleModel",
          "model_module_version": "1.5.0",
          "state": {
            "_model_module": "@jupyter-widgets/controls",
            "_model_module_version": "1.5.0",
            "_model_name": "DescriptionStyleModel",
            "_view_count": null,
            "_view_module": "@jupyter-widgets/base",
            "_view_module_version": "1.2.0",
            "_view_name": "StyleView",
            "description_width": ""
          }
        },
        "754259b9f58f44dea925e0db860e57e7": {
          "model_module": "@jupyter-widgets/base",
          "model_name": "LayoutModel",
          "model_module_version": "1.2.0",
          "state": {
            "_model_module": "@jupyter-widgets/base",
            "_model_module_version": "1.2.0",
            "_model_name": "LayoutModel",
            "_view_count": null,
            "_view_module": "@jupyter-widgets/base",
            "_view_module_version": "1.2.0",
            "_view_name": "LayoutView",
            "align_content": null,
            "align_items": null,
            "align_self": null,
            "border": null,
            "bottom": null,
            "display": null,
            "flex": null,
            "flex_flow": null,
            "grid_area": null,
            "grid_auto_columns": null,
            "grid_auto_flow": null,
            "grid_auto_rows": null,
            "grid_column": null,
            "grid_gap": null,
            "grid_row": null,
            "grid_template_areas": null,
            "grid_template_columns": null,
            "grid_template_rows": null,
            "height": null,
            "justify_content": null,
            "justify_items": null,
            "left": null,
            "margin": null,
            "max_height": null,
            "max_width": null,
            "min_height": null,
            "min_width": null,
            "object_fit": null,
            "object_position": null,
            "order": null,
            "overflow": null,
            "overflow_x": null,
            "overflow_y": null,
            "padding": null,
            "right": null,
            "top": null,
            "visibility": null,
            "width": null
          }
        },
        "4da7c4fcd1cb4242b66cf0d5047bb21c": {
          "model_module": "@jupyter-widgets/controls",
          "model_name": "ProgressStyleModel",
          "model_module_version": "1.5.0",
          "state": {
            "_model_module": "@jupyter-widgets/controls",
            "_model_module_version": "1.5.0",
            "_model_name": "ProgressStyleModel",
            "_view_count": null,
            "_view_module": "@jupyter-widgets/base",
            "_view_module_version": "1.2.0",
            "_view_name": "StyleView",
            "bar_color": null,
            "description_width": ""
          }
        },
        "8b397839fa1b4c82a655a738be0ccdc4": {
          "model_module": "@jupyter-widgets/base",
          "model_name": "LayoutModel",
          "model_module_version": "1.2.0",
          "state": {
            "_model_module": "@jupyter-widgets/base",
            "_model_module_version": "1.2.0",
            "_model_name": "LayoutModel",
            "_view_count": null,
            "_view_module": "@jupyter-widgets/base",
            "_view_module_version": "1.2.0",
            "_view_name": "LayoutView",
            "align_content": null,
            "align_items": null,
            "align_self": null,
            "border": null,
            "bottom": null,
            "display": null,
            "flex": null,
            "flex_flow": null,
            "grid_area": null,
            "grid_auto_columns": null,
            "grid_auto_flow": null,
            "grid_auto_rows": null,
            "grid_column": null,
            "grid_gap": null,
            "grid_row": null,
            "grid_template_areas": null,
            "grid_template_columns": null,
            "grid_template_rows": null,
            "height": null,
            "justify_content": null,
            "justify_items": null,
            "left": null,
            "margin": null,
            "max_height": null,
            "max_width": null,
            "min_height": null,
            "min_width": null,
            "object_fit": null,
            "object_position": null,
            "order": null,
            "overflow": null,
            "overflow_x": null,
            "overflow_y": null,
            "padding": null,
            "right": null,
            "top": null,
            "visibility": null,
            "width": null
          }
        },
        "5f97409da900447f89b1aadf1a7e281f": {
          "model_module": "@jupyter-widgets/controls",
          "model_name": "DescriptionStyleModel",
          "model_module_version": "1.5.0",
          "state": {
            "_model_module": "@jupyter-widgets/controls",
            "_model_module_version": "1.5.0",
            "_model_name": "DescriptionStyleModel",
            "_view_count": null,
            "_view_module": "@jupyter-widgets/base",
            "_view_module_version": "1.2.0",
            "_view_name": "StyleView",
            "description_width": ""
          }
        },
        "b25faa9953fa493b84dba60ca5dff187": {
          "model_module": "@jupyter-widgets/controls",
          "model_name": "HBoxModel",
          "model_module_version": "1.5.0",
          "state": {
            "_dom_classes": [],
            "_model_module": "@jupyter-widgets/controls",
            "_model_module_version": "1.5.0",
            "_model_name": "HBoxModel",
            "_view_count": null,
            "_view_module": "@jupyter-widgets/controls",
            "_view_module_version": "1.5.0",
            "_view_name": "HBoxView",
            "box_style": "",
            "children": [
              "IPY_MODEL_782e96879dda43679ec6aca203f0861b",
              "IPY_MODEL_bc67d41aad0142e79a3d0e68de6f89c8",
              "IPY_MODEL_4821b5bd06b34df8a2a5b8c03dcb1c54"
            ],
            "layout": "IPY_MODEL_e980ad5da708475697a16b610c4c084d"
          }
        },
        "782e96879dda43679ec6aca203f0861b": {
          "model_module": "@jupyter-widgets/controls",
          "model_name": "HTMLModel",
          "model_module_version": "1.5.0",
          "state": {
            "_dom_classes": [],
            "_model_module": "@jupyter-widgets/controls",
            "_model_module_version": "1.5.0",
            "_model_name": "HTMLModel",
            "_view_count": null,
            "_view_module": "@jupyter-widgets/controls",
            "_view_module_version": "1.5.0",
            "_view_name": "HTMLView",
            "description": "",
            "description_tooltip": null,
            "layout": "IPY_MODEL_233dc8a3309440e18783ede19c7c6c17",
            "placeholder": "​",
            "style": "IPY_MODEL_58d3e1665c8b4bdb9aea9d80bf513c89",
            "value": "Generating test split: 100%"
          }
        },
        "bc67d41aad0142e79a3d0e68de6f89c8": {
          "model_module": "@jupyter-widgets/controls",
          "model_name": "FloatProgressModel",
          "model_module_version": "1.5.0",
          "state": {
            "_dom_classes": [],
            "_model_module": "@jupyter-widgets/controls",
            "_model_module_version": "1.5.0",
            "_model_name": "FloatProgressModel",
            "_view_count": null,
            "_view_module": "@jupyter-widgets/controls",
            "_view_module_version": "1.5.0",
            "_view_name": "ProgressView",
            "bar_style": "success",
            "description": "",
            "description_tooltip": null,
            "layout": "IPY_MODEL_ca9d4118a7dc4caa849ec9115f9436cd",
            "max": 5010,
            "min": 0,
            "orientation": "horizontal",
            "style": "IPY_MODEL_6f4db9bb1e6d40c996ca258e38e4e794",
            "value": 5010
          }
        },
        "4821b5bd06b34df8a2a5b8c03dcb1c54": {
          "model_module": "@jupyter-widgets/controls",
          "model_name": "HTMLModel",
          "model_module_version": "1.5.0",
          "state": {
            "_dom_classes": [],
            "_model_module": "@jupyter-widgets/controls",
            "_model_module_version": "1.5.0",
            "_model_name": "HTMLModel",
            "_view_count": null,
            "_view_module": "@jupyter-widgets/controls",
            "_view_module_version": "1.5.0",
            "_view_name": "HTMLView",
            "description": "",
            "description_tooltip": null,
            "layout": "IPY_MODEL_cb258c60b3804902bdd98b2d60203ab4",
            "placeholder": "​",
            "style": "IPY_MODEL_1daa8500c6f14e6988efde55a4105b8f",
            "value": " 5010/5010 [00:00&lt;00:00, 34826.46 examples/s]"
          }
        },
        "e980ad5da708475697a16b610c4c084d": {
          "model_module": "@jupyter-widgets/base",
          "model_name": "LayoutModel",
          "model_module_version": "1.2.0",
          "state": {
            "_model_module": "@jupyter-widgets/base",
            "_model_module_version": "1.2.0",
            "_model_name": "LayoutModel",
            "_view_count": null,
            "_view_module": "@jupyter-widgets/base",
            "_view_module_version": "1.2.0",
            "_view_name": "LayoutView",
            "align_content": null,
            "align_items": null,
            "align_self": null,
            "border": null,
            "bottom": null,
            "display": null,
            "flex": null,
            "flex_flow": null,
            "grid_area": null,
            "grid_auto_columns": null,
            "grid_auto_flow": null,
            "grid_auto_rows": null,
            "grid_column": null,
            "grid_gap": null,
            "grid_row": null,
            "grid_template_areas": null,
            "grid_template_columns": null,
            "grid_template_rows": null,
            "height": null,
            "justify_content": null,
            "justify_items": null,
            "left": null,
            "margin": null,
            "max_height": null,
            "max_width": null,
            "min_height": null,
            "min_width": null,
            "object_fit": null,
            "object_position": null,
            "order": null,
            "overflow": null,
            "overflow_x": null,
            "overflow_y": null,
            "padding": null,
            "right": null,
            "top": null,
            "visibility": null,
            "width": null
          }
        },
        "233dc8a3309440e18783ede19c7c6c17": {
          "model_module": "@jupyter-widgets/base",
          "model_name": "LayoutModel",
          "model_module_version": "1.2.0",
          "state": {
            "_model_module": "@jupyter-widgets/base",
            "_model_module_version": "1.2.0",
            "_model_name": "LayoutModel",
            "_view_count": null,
            "_view_module": "@jupyter-widgets/base",
            "_view_module_version": "1.2.0",
            "_view_name": "LayoutView",
            "align_content": null,
            "align_items": null,
            "align_self": null,
            "border": null,
            "bottom": null,
            "display": null,
            "flex": null,
            "flex_flow": null,
            "grid_area": null,
            "grid_auto_columns": null,
            "grid_auto_flow": null,
            "grid_auto_rows": null,
            "grid_column": null,
            "grid_gap": null,
            "grid_row": null,
            "grid_template_areas": null,
            "grid_template_columns": null,
            "grid_template_rows": null,
            "height": null,
            "justify_content": null,
            "justify_items": null,
            "left": null,
            "margin": null,
            "max_height": null,
            "max_width": null,
            "min_height": null,
            "min_width": null,
            "object_fit": null,
            "object_position": null,
            "order": null,
            "overflow": null,
            "overflow_x": null,
            "overflow_y": null,
            "padding": null,
            "right": null,
            "top": null,
            "visibility": null,
            "width": null
          }
        },
        "58d3e1665c8b4bdb9aea9d80bf513c89": {
          "model_module": "@jupyter-widgets/controls",
          "model_name": "DescriptionStyleModel",
          "model_module_version": "1.5.0",
          "state": {
            "_model_module": "@jupyter-widgets/controls",
            "_model_module_version": "1.5.0",
            "_model_name": "DescriptionStyleModel",
            "_view_count": null,
            "_view_module": "@jupyter-widgets/base",
            "_view_module_version": "1.2.0",
            "_view_name": "StyleView",
            "description_width": ""
          }
        },
        "ca9d4118a7dc4caa849ec9115f9436cd": {
          "model_module": "@jupyter-widgets/base",
          "model_name": "LayoutModel",
          "model_module_version": "1.2.0",
          "state": {
            "_model_module": "@jupyter-widgets/base",
            "_model_module_version": "1.2.0",
            "_model_name": "LayoutModel",
            "_view_count": null,
            "_view_module": "@jupyter-widgets/base",
            "_view_module_version": "1.2.0",
            "_view_name": "LayoutView",
            "align_content": null,
            "align_items": null,
            "align_self": null,
            "border": null,
            "bottom": null,
            "display": null,
            "flex": null,
            "flex_flow": null,
            "grid_area": null,
            "grid_auto_columns": null,
            "grid_auto_flow": null,
            "grid_auto_rows": null,
            "grid_column": null,
            "grid_gap": null,
            "grid_row": null,
            "grid_template_areas": null,
            "grid_template_columns": null,
            "grid_template_rows": null,
            "height": null,
            "justify_content": null,
            "justify_items": null,
            "left": null,
            "margin": null,
            "max_height": null,
            "max_width": null,
            "min_height": null,
            "min_width": null,
            "object_fit": null,
            "object_position": null,
            "order": null,
            "overflow": null,
            "overflow_x": null,
            "overflow_y": null,
            "padding": null,
            "right": null,
            "top": null,
            "visibility": null,
            "width": null
          }
        },
        "6f4db9bb1e6d40c996ca258e38e4e794": {
          "model_module": "@jupyter-widgets/controls",
          "model_name": "ProgressStyleModel",
          "model_module_version": "1.5.0",
          "state": {
            "_model_module": "@jupyter-widgets/controls",
            "_model_module_version": "1.5.0",
            "_model_name": "ProgressStyleModel",
            "_view_count": null,
            "_view_module": "@jupyter-widgets/base",
            "_view_module_version": "1.2.0",
            "_view_name": "StyleView",
            "bar_color": null,
            "description_width": ""
          }
        },
        "cb258c60b3804902bdd98b2d60203ab4": {
          "model_module": "@jupyter-widgets/base",
          "model_name": "LayoutModel",
          "model_module_version": "1.2.0",
          "state": {
            "_model_module": "@jupyter-widgets/base",
            "_model_module_version": "1.2.0",
            "_model_name": "LayoutModel",
            "_view_count": null,
            "_view_module": "@jupyter-widgets/base",
            "_view_module_version": "1.2.0",
            "_view_name": "LayoutView",
            "align_content": null,
            "align_items": null,
            "align_self": null,
            "border": null,
            "bottom": null,
            "display": null,
            "flex": null,
            "flex_flow": null,
            "grid_area": null,
            "grid_auto_columns": null,
            "grid_auto_flow": null,
            "grid_auto_rows": null,
            "grid_column": null,
            "grid_gap": null,
            "grid_row": null,
            "grid_template_areas": null,
            "grid_template_columns": null,
            "grid_template_rows": null,
            "height": null,
            "justify_content": null,
            "justify_items": null,
            "left": null,
            "margin": null,
            "max_height": null,
            "max_width": null,
            "min_height": null,
            "min_width": null,
            "object_fit": null,
            "object_position": null,
            "order": null,
            "overflow": null,
            "overflow_x": null,
            "overflow_y": null,
            "padding": null,
            "right": null,
            "top": null,
            "visibility": null,
            "width": null
          }
        },
        "1daa8500c6f14e6988efde55a4105b8f": {
          "model_module": "@jupyter-widgets/controls",
          "model_name": "DescriptionStyleModel",
          "model_module_version": "1.5.0",
          "state": {
            "_model_module": "@jupyter-widgets/controls",
            "_model_module_version": "1.5.0",
            "_model_name": "DescriptionStyleModel",
            "_view_count": null,
            "_view_module": "@jupyter-widgets/base",
            "_view_module_version": "1.2.0",
            "_view_name": "StyleView",
            "description_width": ""
          }
        },
        "ea621b4421da45b892e5e29cfe64a5b6": {
          "model_module": "@jupyter-widgets/controls",
          "model_name": "HBoxModel",
          "model_module_version": "1.5.0",
          "state": {
            "_dom_classes": [],
            "_model_module": "@jupyter-widgets/controls",
            "_model_module_version": "1.5.0",
            "_model_name": "HBoxModel",
            "_view_count": null,
            "_view_module": "@jupyter-widgets/controls",
            "_view_module_version": "1.5.0",
            "_view_name": "HBoxView",
            "box_style": "",
            "children": [
              "IPY_MODEL_1b4f7f1165cc41ae8744388bb9df562a",
              "IPY_MODEL_c4a224bb4e5d4a2a947dc350fd3cc569",
              "IPY_MODEL_9a08fff0588c4bfc90e4af4417f27c85"
            ],
            "layout": "IPY_MODEL_d2b7a9072955427189f477a48892c07a"
          }
        },
        "1b4f7f1165cc41ae8744388bb9df562a": {
          "model_module": "@jupyter-widgets/controls",
          "model_name": "HTMLModel",
          "model_module_version": "1.5.0",
          "state": {
            "_dom_classes": [],
            "_model_module": "@jupyter-widgets/controls",
            "_model_module_version": "1.5.0",
            "_model_name": "HTMLModel",
            "_view_count": null,
            "_view_module": "@jupyter-widgets/controls",
            "_view_module_version": "1.5.0",
            "_view_name": "HTMLView",
            "description": "",
            "description_tooltip": null,
            "layout": "IPY_MODEL_de963aeff00f4b438605370a110be3dd",
            "placeholder": "​",
            "style": "IPY_MODEL_3f13df9ee2f2434e9e959bc04462ac36",
            "value": "Generating validation split: 100%"
          }
        },
        "c4a224bb4e5d4a2a947dc350fd3cc569": {
          "model_module": "@jupyter-widgets/controls",
          "model_name": "FloatProgressModel",
          "model_module_version": "1.5.0",
          "state": {
            "_dom_classes": [],
            "_model_module": "@jupyter-widgets/controls",
            "_model_module_version": "1.5.0",
            "_model_name": "FloatProgressModel",
            "_view_count": null,
            "_view_module": "@jupyter-widgets/controls",
            "_view_module_version": "1.5.0",
            "_view_name": "ProgressView",
            "bar_style": "success",
            "description": "",
            "description_tooltip": null,
            "layout": "IPY_MODEL_d1c62d39b542409c93f7c02ee60094d3",
            "max": 2490,
            "min": 0,
            "orientation": "horizontal",
            "style": "IPY_MODEL_92f8361250a042569d81166d202b463c",
            "value": 2490
          }
        },
        "9a08fff0588c4bfc90e4af4417f27c85": {
          "model_module": "@jupyter-widgets/controls",
          "model_name": "HTMLModel",
          "model_module_version": "1.5.0",
          "state": {
            "_dom_classes": [],
            "_model_module": "@jupyter-widgets/controls",
            "_model_module_version": "1.5.0",
            "_model_name": "HTMLModel",
            "_view_count": null,
            "_view_module": "@jupyter-widgets/controls",
            "_view_module_version": "1.5.0",
            "_view_name": "HTMLView",
            "description": "",
            "description_tooltip": null,
            "layout": "IPY_MODEL_c8ad4a7be46e4f51b4dfa0c6d0719c4d",
            "placeholder": "​",
            "style": "IPY_MODEL_0a3b9291bd654a5c9c8f18db2cad216a",
            "value": " 2490/2490 [00:00&lt;00:00, 28724.40 examples/s]"
          }
        },
        "d2b7a9072955427189f477a48892c07a": {
          "model_module": "@jupyter-widgets/base",
          "model_name": "LayoutModel",
          "model_module_version": "1.2.0",
          "state": {
            "_model_module": "@jupyter-widgets/base",
            "_model_module_version": "1.2.0",
            "_model_name": "LayoutModel",
            "_view_count": null,
            "_view_module": "@jupyter-widgets/base",
            "_view_module_version": "1.2.0",
            "_view_name": "LayoutView",
            "align_content": null,
            "align_items": null,
            "align_self": null,
            "border": null,
            "bottom": null,
            "display": null,
            "flex": null,
            "flex_flow": null,
            "grid_area": null,
            "grid_auto_columns": null,
            "grid_auto_flow": null,
            "grid_auto_rows": null,
            "grid_column": null,
            "grid_gap": null,
            "grid_row": null,
            "grid_template_areas": null,
            "grid_template_columns": null,
            "grid_template_rows": null,
            "height": null,
            "justify_content": null,
            "justify_items": null,
            "left": null,
            "margin": null,
            "max_height": null,
            "max_width": null,
            "min_height": null,
            "min_width": null,
            "object_fit": null,
            "object_position": null,
            "order": null,
            "overflow": null,
            "overflow_x": null,
            "overflow_y": null,
            "padding": null,
            "right": null,
            "top": null,
            "visibility": null,
            "width": null
          }
        },
        "de963aeff00f4b438605370a110be3dd": {
          "model_module": "@jupyter-widgets/base",
          "model_name": "LayoutModel",
          "model_module_version": "1.2.0",
          "state": {
            "_model_module": "@jupyter-widgets/base",
            "_model_module_version": "1.2.0",
            "_model_name": "LayoutModel",
            "_view_count": null,
            "_view_module": "@jupyter-widgets/base",
            "_view_module_version": "1.2.0",
            "_view_name": "LayoutView",
            "align_content": null,
            "align_items": null,
            "align_self": null,
            "border": null,
            "bottom": null,
            "display": null,
            "flex": null,
            "flex_flow": null,
            "grid_area": null,
            "grid_auto_columns": null,
            "grid_auto_flow": null,
            "grid_auto_rows": null,
            "grid_column": null,
            "grid_gap": null,
            "grid_row": null,
            "grid_template_areas": null,
            "grid_template_columns": null,
            "grid_template_rows": null,
            "height": null,
            "justify_content": null,
            "justify_items": null,
            "left": null,
            "margin": null,
            "max_height": null,
            "max_width": null,
            "min_height": null,
            "min_width": null,
            "object_fit": null,
            "object_position": null,
            "order": null,
            "overflow": null,
            "overflow_x": null,
            "overflow_y": null,
            "padding": null,
            "right": null,
            "top": null,
            "visibility": null,
            "width": null
          }
        },
        "3f13df9ee2f2434e9e959bc04462ac36": {
          "model_module": "@jupyter-widgets/controls",
          "model_name": "DescriptionStyleModel",
          "model_module_version": "1.5.0",
          "state": {
            "_model_module": "@jupyter-widgets/controls",
            "_model_module_version": "1.5.0",
            "_model_name": "DescriptionStyleModel",
            "_view_count": null,
            "_view_module": "@jupyter-widgets/base",
            "_view_module_version": "1.2.0",
            "_view_name": "StyleView",
            "description_width": ""
          }
        },
        "d1c62d39b542409c93f7c02ee60094d3": {
          "model_module": "@jupyter-widgets/base",
          "model_name": "LayoutModel",
          "model_module_version": "1.2.0",
          "state": {
            "_model_module": "@jupyter-widgets/base",
            "_model_module_version": "1.2.0",
            "_model_name": "LayoutModel",
            "_view_count": null,
            "_view_module": "@jupyter-widgets/base",
            "_view_module_version": "1.2.0",
            "_view_name": "LayoutView",
            "align_content": null,
            "align_items": null,
            "align_self": null,
            "border": null,
            "bottom": null,
            "display": null,
            "flex": null,
            "flex_flow": null,
            "grid_area": null,
            "grid_auto_columns": null,
            "grid_auto_flow": null,
            "grid_auto_rows": null,
            "grid_column": null,
            "grid_gap": null,
            "grid_row": null,
            "grid_template_areas": null,
            "grid_template_columns": null,
            "grid_template_rows": null,
            "height": null,
            "justify_content": null,
            "justify_items": null,
            "left": null,
            "margin": null,
            "max_height": null,
            "max_width": null,
            "min_height": null,
            "min_width": null,
            "object_fit": null,
            "object_position": null,
            "order": null,
            "overflow": null,
            "overflow_x": null,
            "overflow_y": null,
            "padding": null,
            "right": null,
            "top": null,
            "visibility": null,
            "width": null
          }
        },
        "92f8361250a042569d81166d202b463c": {
          "model_module": "@jupyter-widgets/controls",
          "model_name": "ProgressStyleModel",
          "model_module_version": "1.5.0",
          "state": {
            "_model_module": "@jupyter-widgets/controls",
            "_model_module_version": "1.5.0",
            "_model_name": "ProgressStyleModel",
            "_view_count": null,
            "_view_module": "@jupyter-widgets/base",
            "_view_module_version": "1.2.0",
            "_view_name": "StyleView",
            "bar_color": null,
            "description_width": ""
          }
        },
        "c8ad4a7be46e4f51b4dfa0c6d0719c4d": {
          "model_module": "@jupyter-widgets/base",
          "model_name": "LayoutModel",
          "model_module_version": "1.2.0",
          "state": {
            "_model_module": "@jupyter-widgets/base",
            "_model_module_version": "1.2.0",
            "_model_name": "LayoutModel",
            "_view_count": null,
            "_view_module": "@jupyter-widgets/base",
            "_view_module_version": "1.2.0",
            "_view_name": "LayoutView",
            "align_content": null,
            "align_items": null,
            "align_self": null,
            "border": null,
            "bottom": null,
            "display": null,
            "flex": null,
            "flex_flow": null,
            "grid_area": null,
            "grid_auto_columns": null,
            "grid_auto_flow": null,
            "grid_auto_rows": null,
            "grid_column": null,
            "grid_gap": null,
            "grid_row": null,
            "grid_template_areas": null,
            "grid_template_columns": null,
            "grid_template_rows": null,
            "height": null,
            "justify_content": null,
            "justify_items": null,
            "left": null,
            "margin": null,
            "max_height": null,
            "max_width": null,
            "min_height": null,
            "min_width": null,
            "object_fit": null,
            "object_position": null,
            "order": null,
            "overflow": null,
            "overflow_x": null,
            "overflow_y": null,
            "padding": null,
            "right": null,
            "top": null,
            "visibility": null,
            "width": null
          }
        },
        "0a3b9291bd654a5c9c8f18db2cad216a": {
          "model_module": "@jupyter-widgets/controls",
          "model_name": "DescriptionStyleModel",
          "model_module_version": "1.5.0",
          "state": {
            "_model_module": "@jupyter-widgets/controls",
            "_model_module_version": "1.5.0",
            "_model_name": "DescriptionStyleModel",
            "_view_count": null,
            "_view_module": "@jupyter-widgets/base",
            "_view_module_version": "1.2.0",
            "_view_name": "StyleView",
            "description_width": ""
          }
        }
      }
    }
  },
  "nbformat": 4,
  "nbformat_minor": 5
}