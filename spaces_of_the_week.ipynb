{
  "nbformat": 4,
  "nbformat_minor": 0,
  "metadata": {
    "colab": {
      "provenance": [],
      "authorship_tag": "ABX9TyMbKQp45tgeTEZvw14cuGb5",
      "include_colab_link": true
    },
    "kernelspec": {
      "name": "python3",
      "display_name": "Python 3"
    },
    "language_info": {
      "name": "python"
    }
  },
  "cells": [
    {
      "cell_type": "markdown",
      "metadata": {
        "id": "view-in-github",
        "colab_type": "text"
      },
      "source": [
        "<a href=\"https://colab.research.google.com/github/Vaibhavs10/scratchpad/blob/main/spaces_of_the_week.ipynb\" target=\"_parent\"><img src=\"https://colab.research.google.com/assets/colab-badge.svg\" alt=\"Open In Colab\"/></a>"
      ]
    },
    {
      "cell_type": "code",
      "execution_count": null,
      "metadata": {
        "id": "TsTH1fQGpuN7"
      },
      "outputs": [],
      "source": [
        "import os\n",
        "from datetime import datetime, timedelta, timezone\n",
        "from huggingface_hub import HfApi\n",
        "\n",
        "# # Authenticate with Hugging Face\n",
        "# token = 'YOUR_HUGGING_FACE_TOKEN'\n",
        "api = HfApi()\n",
        "\n",
        "# Define the date range for the past week\n",
        "one_week_ago = datetime.now() - timedelta(weeks=1)\n"
      ]
    },
    {
      "cell_type": "code",
      "source": [
        "# Define the date range for the past week\n",
        "one_week_ago = datetime.now(timezone.utc) - timedelta(weeks=1)\n",
        "\n",
        "# Function to get spaces created in the past week with more than 5 likes\n",
        "def get_new_spaces_with_likes(api, one_week_ago, min_likes=5):\n",
        "    spaces = api.list_spaces()\n",
        "    new_spaces = []\n",
        "    for space in spaces:\n",
        "        if hasattr(space, 'created_at') and hasattr(space, 'likes'):\n",
        "            created_at = space.created_at\n",
        "            likes = space.likes\n",
        "            if created_at > one_week_ago and likes > min_likes:\n",
        "                new_spaces.append(space)\n",
        "    return new_spaces\n",
        "\n",
        "# Get the list of new spaces with more than 5 likes\n",
        "new_spaces = get_new_spaces_with_likes(api, one_week_ago)\n",
        "\n",
        "# Print the results\n",
        "for space in new_spaces:\n",
        "    if hasattr(space, 'created_at') and hasattr(space, 'likes'):\n",
        "        created_at = space.created_at\n",
        "        likes = space.likes\n",
        "        print(f\"Space: {space.id}, Created at: {created_at}, Likes: {likes}\")"
      ],
      "metadata": {
        "colab": {
          "base_uri": "https://localhost:8080/"
        },
        "id": "zJXlhJHEqguC",
        "outputId": "4e2314b7-8121-4f5a-d7e3-343ea71a7a9e"
      },
      "execution_count": null,
      "outputs": [
        {
          "output_type": "stream",
          "name": "stdout",
          "text": [
            "Space: stabilityai/stable-diffusion-3.5-large, Created at: 2024-10-22 08:39:39+00:00, Likes: 479\n",
            "Space: stabilityai/stable-diffusion-3.5-large-turbo, Created at: 2024-10-22 08:46:41+00:00, Likes: 119\n",
            "Space: lllyasviel/iclight-v2, Created at: 2024-10-26 23:25:35+00:00, Likes: 111\n",
            "Space: CohereForAI/aya_expanse, Created at: 2024-10-23 10:17:23+00:00, Likes: 82\n",
            "Space: opendatalab/DocLayout-YOLO, Created at: 2024-10-21 08:12:43+00:00, Likes: 40\n",
            "Space: neulab/Pangea, Created at: 2024-10-21 14:37:40+00:00, Likes: 28\n",
            "Space: TheAwakenOne/flux1-lite-8B-alpha, Created at: 2024-10-24 10:57:21+00:00, Likes: 23\n",
            "Space: Nymbo/Stable-Diffusion-3.5-Large-Serverless, Created at: 2024-10-22 19:57:45+00:00, Likes: 21\n",
            "Space: fffiloni/allegro-text2video, Created at: 2024-10-22 12:20:40+00:00, Likes: 19\n",
            "Space: gabrielchua/gradio-canvas, Created at: 2024-10-21 07:15:08+00:00, Likes: 12\n",
            "Space: kairunwen/LSM, Created at: 2024-10-21 08:38:08+00:00, Likes: 9\n",
            "Space: kayfahaarukku/fufufafa-makan-brem, Created at: 2024-10-22 14:49:26+00:00, Likes: 7\n",
            "Space: Nymbo/stable-diffusion-3.5-large-turbo, Created at: 2024-10-22 14:26:22+00:00, Likes: 6\n",
            "Space: PhelpsGG/stabilityai-stable-diffusion-3.5-large, Created at: 2024-10-22 18:42:43+00:00, Likes: 6\n"
          ]
        }
      ]
    },
    {
      "cell_type": "code",
      "source": [],
      "metadata": {
        "id": "ZCrerqqYwswQ"
      },
      "execution_count": null,
      "outputs": []
    }
  ]
}