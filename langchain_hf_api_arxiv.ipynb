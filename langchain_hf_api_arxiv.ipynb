{
  "nbformat": 4,
  "nbformat_minor": 0,
  "metadata": {
    "colab": {
      "provenance": [],
      "authorship_tag": "ABX9TyNnJIDRErBhNnjsAcWQPdUM",
      "include_colab_link": true
    },
    "kernelspec": {
      "name": "python3",
      "display_name": "Python 3"
    },
    "language_info": {
      "name": "python"
    }
  },
  "cells": [
    {
      "cell_type": "markdown",
      "metadata": {
        "id": "view-in-github",
        "colab_type": "text"
      },
      "source": [
        "<a href=\"https://colab.research.google.com/github/Vaibhavs10/scratchpad/blob/main/langchain_hf_api_arxiv.ipynb\" target=\"_parent\"><img src=\"https://colab.research.google.com/assets/colab-badge.svg\" alt=\"Open In Colab\"/></a>"
      ]
    },
    {
      "cell_type": "code",
      "execution_count": null,
      "metadata": {
        "id": "9OChkKRqDzip"
      },
      "outputs": [],
      "source": [
        "!pip install huggingface_hub chromadb langchain unstructured unstructured[local-inference]"
      ]
    },
    {
      "cell_type": "code",
      "source": [
        "from langchain.document_loaders import OnlinePDFLoader\n",
        "\n",
        "loader = OnlinePDFLoader(\"https://arxiv.org/pdf/2304.03757.pdf\")"
      ],
      "metadata": {
        "id": "8e9h64I2D2zY"
      },
      "execution_count": 2,
      "outputs": []
    },
    {
      "cell_type": "code",
      "source": [
        "documents = loader.load()"
      ],
      "metadata": {
        "colab": {
          "base_uri": "https://localhost:8080/"
        },
        "id": "A8IdKFE3EllP",
        "outputId": "45b02068-38b9-4503-b58f-ccb7b2ffc00d"
      },
      "execution_count": 3,
      "outputs": [
        {
          "output_type": "stream",
          "name": "stderr",
          "text": [
            "[nltk_data] Downloading package punkt to /root/nltk_data...\n",
            "[nltk_data]   Unzipping tokenizers/punkt.zip.\n",
            "[nltk_data] Downloading package averaged_perceptron_tagger to\n",
            "[nltk_data]     /root/nltk_data...\n",
            "[nltk_data]   Unzipping taggers/averaged_perceptron_tagger.zip.\n",
            "WARNING:unstructured:detectron2 is not installed. Cannot use the hi_res partitioning strategy. Falling back to partitioning with the fast strategy.\n"
          ]
        }
      ]
    },
    {
      "cell_type": "code",
      "source": [
        "from langchain.text_splitter import CharacterTextSplitter\n",
        "text_splitter = CharacterTextSplitter(chunk_size=350, chunk_overlap=0)\n",
        "texts = text_splitter.split_documents(documents)"
      ],
      "metadata": {
        "id": "quUA4zRWEniy"
      },
      "execution_count": 4,
      "outputs": []
    },
    {
      "cell_type": "code",
      "source": [
        "from langchain.llms import HuggingFaceHub\n",
        "\n",
        "flan_ul2 = HuggingFaceHub(repo_id=\"google/flan-ul2\", model_kwargs={\"temperature\":0.1, \"max_new_tokens\":300})"
      ],
      "metadata": {
        "id": "Qv_Tq-ovEqmz"
      },
      "execution_count": 7,
      "outputs": []
    },
    {
      "cell_type": "code",
      "source": [
        "from langchain.embeddings import HuggingFaceHubEmbeddings\n",
        "\n",
        "embeddings = HuggingFaceHubEmbeddings()"
      ],
      "metadata": {
        "colab": {
          "base_uri": "https://localhost:8080/"
        },
        "id": "S6W3GZ0CEy8P",
        "outputId": "1dbbd77f-8ce9-4a86-b9fe-a3e0291b9029"
      },
      "execution_count": 8,
      "outputs": [
        {
          "output_type": "stream",
          "name": "stderr",
          "text": [
            "You're using a different task than the one specified in the repository. Be sure to know what you're doing :)\n",
            "WARNING:huggingface_hub.inference_api:You're using a different task than the one specified in the repository. Be sure to know what you're doing :)\n"
          ]
        }
      ]
    },
    {
      "cell_type": "code",
      "source": [
        "from langchain.vectorstores import Chroma\n",
        "db = Chroma.from_documents(texts, embeddings)"
      ],
      "metadata": {
        "colab": {
          "base_uri": "https://localhost:8080/"
        },
        "id": "CZryVkHoE4x-",
        "outputId": "7571f6a4-8a3b-4589-baad-81c58c6e0f76"
      },
      "execution_count": 9,
      "outputs": [
        {
          "output_type": "stream",
          "name": "stderr",
          "text": [
            "WARNING:chromadb:Using embedded DuckDB without persistence: data will be transient\n"
          ]
        }
      ]
    },
    {
      "cell_type": "code",
      "source": [
        "retriever = db.as_retriever()"
      ],
      "metadata": {
        "id": "DDfZJWgsE8IB"
      },
      "execution_count": 10,
      "outputs": []
    },
    {
      "cell_type": "code",
      "source": [
        "from langchain.chains import RetrievalQA\n",
        "\n",
        "qa = RetrievalQA.from_chain_type(llm=flan_ul2, chain_type=\"stuff\", retriever=retriever, return_source_documents=True)"
      ],
      "metadata": {
        "id": "86SGbIotE-ox"
      },
      "execution_count": 14,
      "outputs": []
    },
    {
      "cell_type": "code",
      "source": [
        "query = \"What is the title of this paper?\"\n",
        "result = qa({\"query\": query})"
      ],
      "metadata": {
        "id": "31u_Og4sFBAQ"
      },
      "execution_count": 16,
      "outputs": []
    },
    {
      "cell_type": "code",
      "source": [
        "result"
      ],
      "metadata": {
        "colab": {
          "base_uri": "https://localhost:8080/"
        },
        "id": "4SHsVj6SYqJb",
        "outputId": "7be83e6b-7cf0-4473-90f4-b70415dbbffc"
      },
      "execution_count": 17,
      "outputs": [
        {
          "output_type": "execute_result",
          "data": {
            "text/plain": [
              "{'query': 'What is the title of this paper?',\n",
              " 'result': 'Global Stability of Learning',\n",
              " 'source_documents': [Document(page_content='number is deﬁned for every concept class H, even if H is not globally stable, whence\\n\\nρ(H) = 0. It is an asymptotic measure of how “stable” or “replicable” learning over\\n\\nH can potentially be. The larger the global stability parameter of H is, the more\\n\\n“replicable” learning over H can be.', metadata={'source': '/tmp/tmpz0wmwt06'}),\n",
              "  Document(page_content='Deﬁnition 6 (Instability witness). An instability witness of size k for H ⊆ {±}X is\\n\\na function W : [k] × {±} → X × {±}. The witness W is composed of two functions\\n\\nWX : [k] × {±} → X and W± : [k] × {±} → {±}. It satisﬁes two requirements:\\n\\n(1) For every σ ∈ {±1}k, there is h ∈ H so that h(WX (j, σj)) = W±(j, σj) for\\n\\nall j ∈ [k].', metadata={'source': '/tmp/tmpz0wmwt06'}),\n",
              "  Document(page_content='Let P denote the preﬁx of S consisting of the ﬁrst n1 examples.\\n\\nLet Q denote the suﬃx of S consisting of the remaining n2 examples.\\n\\n(1) Partition the examples in P to T batches, each of size n0.\\n\\n(2) Apply A on each of these batches.\\n\\n(3) Output an hypothesis h such that\\n\\n(a) h was outputted by A on at least (ρ − α\\n\\n(b) LQ(h) ≤ 3ε\\n\\n2 .', metadata={'source': '/tmp/tmpz0wmwt06'}),\n",
              "  Document(page_content='involve ﬁxing the randomness. An algorithm satisﬁes this form of replicability if\\n\\nit typically produces the same output when applied on two i.i.d inputs (without\\n\\nﬁxing the internal randomness). This variant is called global stability and was\\n\\nintroduced by Bun, Livni and Moran (’20) in the context of diﬀerential privacy.', metadata={'source': '/tmp/tmpz0wmwt06'})]}"
            ]
          },
          "metadata": {},
          "execution_count": 17
        }
      ]
    }
  ]
}