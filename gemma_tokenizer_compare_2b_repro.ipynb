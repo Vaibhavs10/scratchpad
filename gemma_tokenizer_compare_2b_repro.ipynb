{
  "cells": [
    {
      "cell_type": "markdown",
      "metadata": {
        "id": "view-in-github",
        "colab_type": "text"
      },
      "source": [
        "<a href=\"https://colab.research.google.com/github/Vaibhavs10/scratchpad/blob/main/gemma_tokenizer_compare_2b_repro.ipynb\" target=\"_parent\"><img src=\"https://colab.research.google.com/assets/colab-badge.svg\" alt=\"Open In Colab\"/></a>"
      ]
    },
    {
      "cell_type": "code",
      "source": [
        "!pip install git+https://github.com/google/gemma_pytorch.git git+https://github.com/huggingface/transformers.git datasets"
      ],
      "metadata": {
        "colab": {
          "base_uri": "https://localhost:8080/"
        },
        "id": "S_NiZpMhijvX",
        "outputId": "539e16b1-584a-4f07-b1df-b0ef12b09ff8"
      },
      "id": "S_NiZpMhijvX",
      "execution_count": 59,
      "outputs": [
        {
          "output_type": "stream",
          "name": "stdout",
          "text": [
            "Collecting git+https://github.com/google/gemma_pytorch.git\n",
            "  Cloning https://github.com/google/gemma_pytorch.git to /tmp/pip-req-build-87v3xwu6\n",
            "  Running command git clone --filter=blob:none --quiet https://github.com/google/gemma_pytorch.git /tmp/pip-req-build-87v3xwu6\n",
            "  Resolved https://github.com/google/gemma_pytorch.git to commit 36d303b08aed7f92c80e59969f6d929b8e69289b\n",
            "  Preparing metadata (setup.py) ... \u001b[?25l\u001b[?25hdone\n",
            "Collecting git+https://github.com/huggingface/transformers.git\n",
            "  Cloning https://github.com/huggingface/transformers.git to /tmp/pip-req-build-72cnc7wp\n",
            "  Running command git clone --filter=blob:none --quiet https://github.com/huggingface/transformers.git /tmp/pip-req-build-72cnc7wp\n",
            "  Resolved https://github.com/huggingface/transformers.git to commit 72fb02c47dbbe1999ae105319f24631cad6e2e00\n",
            "  Installing build dependencies ... \u001b[?25l\u001b[?25hdone\n",
            "  Getting requirements to build wheel ... \u001b[?25l\u001b[?25hdone\n",
            "  Preparing metadata (pyproject.toml) ... \u001b[?25l\u001b[?25hdone\n",
            "Requirement already satisfied: datasets in /usr/local/lib/python3.10/dist-packages (2.20.0)\n",
            "Requirement already satisfied: numpy==1.24.4 in /usr/local/lib/python3.10/dist-packages (from gemma==0.1) (1.24.4)\n",
            "Requirement already satisfied: sentencepiece==0.1.99 in /usr/local/lib/python3.10/dist-packages (from gemma==0.1) (0.1.99)\n",
            "Requirement already satisfied: torch in /usr/local/lib/python3.10/dist-packages (from gemma==0.1) (2.3.0+cu121)\n",
            "Requirement already satisfied: filelock in /usr/local/lib/python3.10/dist-packages (from transformers==4.43.0.dev0) (3.15.4)\n",
            "Requirement already satisfied: huggingface-hub<1.0,>=0.23.2 in /usr/local/lib/python3.10/dist-packages (from transformers==4.43.0.dev0) (0.23.4)\n",
            "Requirement already satisfied: packaging>=20.0 in /usr/local/lib/python3.10/dist-packages (from transformers==4.43.0.dev0) (24.1)\n",
            "Requirement already satisfied: pyyaml>=5.1 in /usr/local/lib/python3.10/dist-packages (from transformers==4.43.0.dev0) (6.0.1)\n",
            "Requirement already satisfied: regex!=2019.12.17 in /usr/local/lib/python3.10/dist-packages (from transformers==4.43.0.dev0) (2024.5.15)\n",
            "Requirement already satisfied: requests in /usr/local/lib/python3.10/dist-packages (from transformers==4.43.0.dev0) (2.32.3)\n",
            "Requirement already satisfied: tokenizers<0.20,>=0.19 in /usr/local/lib/python3.10/dist-packages (from transformers==4.43.0.dev0) (0.19.1)\n",
            "Requirement already satisfied: safetensors>=0.4.1 in /usr/local/lib/python3.10/dist-packages (from transformers==4.43.0.dev0) (0.4.3)\n",
            "Requirement already satisfied: tqdm>=4.27 in /usr/local/lib/python3.10/dist-packages (from transformers==4.43.0.dev0) (4.66.4)\n",
            "Requirement already satisfied: pyarrow>=15.0.0 in /usr/local/lib/python3.10/dist-packages (from datasets) (17.0.0)\n",
            "Requirement already satisfied: pyarrow-hotfix in /usr/local/lib/python3.10/dist-packages (from datasets) (0.6)\n",
            "Requirement already satisfied: dill<0.3.9,>=0.3.0 in /usr/local/lib/python3.10/dist-packages (from datasets) (0.3.8)\n",
            "Requirement already satisfied: pandas in /usr/local/lib/python3.10/dist-packages (from datasets) (2.0.3)\n",
            "Requirement already satisfied: xxhash in /usr/local/lib/python3.10/dist-packages (from datasets) (3.4.1)\n",
            "Requirement already satisfied: multiprocess in /usr/local/lib/python3.10/dist-packages (from datasets) (0.70.16)\n",
            "Requirement already satisfied: fsspec[http]<=2024.5.0,>=2023.1.0 in /usr/local/lib/python3.10/dist-packages (from datasets) (2023.6.0)\n",
            "Requirement already satisfied: aiohttp in /usr/local/lib/python3.10/dist-packages (from datasets) (3.9.5)\n",
            "Requirement already satisfied: aiosignal>=1.1.2 in /usr/local/lib/python3.10/dist-packages (from aiohttp->datasets) (1.3.1)\n",
            "Requirement already satisfied: attrs>=17.3.0 in /usr/local/lib/python3.10/dist-packages (from aiohttp->datasets) (23.2.0)\n",
            "Requirement already satisfied: frozenlist>=1.1.1 in /usr/local/lib/python3.10/dist-packages (from aiohttp->datasets) (1.4.1)\n",
            "Requirement already satisfied: multidict<7.0,>=4.5 in /usr/local/lib/python3.10/dist-packages (from aiohttp->datasets) (6.0.5)\n",
            "Requirement already satisfied: yarl<2.0,>=1.0 in /usr/local/lib/python3.10/dist-packages (from aiohttp->datasets) (1.9.4)\n",
            "Requirement already satisfied: async-timeout<5.0,>=4.0 in /usr/local/lib/python3.10/dist-packages (from aiohttp->datasets) (4.0.3)\n",
            "Requirement already satisfied: typing-extensions>=3.7.4.3 in /usr/local/lib/python3.10/dist-packages (from huggingface-hub<1.0,>=0.23.2->transformers==4.43.0.dev0) (4.12.2)\n",
            "Requirement already satisfied: charset-normalizer<4,>=2 in /usr/local/lib/python3.10/dist-packages (from requests->transformers==4.43.0.dev0) (3.3.2)\n",
            "Requirement already satisfied: idna<4,>=2.5 in /usr/local/lib/python3.10/dist-packages (from requests->transformers==4.43.0.dev0) (3.7)\n",
            "Requirement already satisfied: urllib3<3,>=1.21.1 in /usr/local/lib/python3.10/dist-packages (from requests->transformers==4.43.0.dev0) (2.0.7)\n",
            "Requirement already satisfied: certifi>=2017.4.17 in /usr/local/lib/python3.10/dist-packages (from requests->transformers==4.43.0.dev0) (2024.7.4)\n",
            "Requirement already satisfied: python-dateutil>=2.8.2 in /usr/local/lib/python3.10/dist-packages (from pandas->datasets) (2.8.2)\n",
            "Requirement already satisfied: pytz>=2020.1 in /usr/local/lib/python3.10/dist-packages (from pandas->datasets) (2023.4)\n",
            "Requirement already satisfied: tzdata>=2022.1 in /usr/local/lib/python3.10/dist-packages (from pandas->datasets) (2024.1)\n",
            "Requirement already satisfied: sympy in /usr/local/lib/python3.10/dist-packages (from torch->gemma==0.1) (1.13.0)\n",
            "Requirement already satisfied: networkx in /usr/local/lib/python3.10/dist-packages (from torch->gemma==0.1) (3.3)\n",
            "Requirement already satisfied: jinja2 in /usr/local/lib/python3.10/dist-packages (from torch->gemma==0.1) (3.1.4)\n",
            "Requirement already satisfied: nvidia-cuda-nvrtc-cu12==12.1.105 in /usr/local/lib/python3.10/dist-packages (from torch->gemma==0.1) (12.1.105)\n",
            "Requirement already satisfied: nvidia-cuda-runtime-cu12==12.1.105 in /usr/local/lib/python3.10/dist-packages (from torch->gemma==0.1) (12.1.105)\n",
            "Requirement already satisfied: nvidia-cuda-cupti-cu12==12.1.105 in /usr/local/lib/python3.10/dist-packages (from torch->gemma==0.1) (12.1.105)\n",
            "Requirement already satisfied: nvidia-cudnn-cu12==8.9.2.26 in /usr/local/lib/python3.10/dist-packages (from torch->gemma==0.1) (8.9.2.26)\n",
            "Requirement already satisfied: nvidia-cublas-cu12==12.1.3.1 in /usr/local/lib/python3.10/dist-packages (from torch->gemma==0.1) (12.1.3.1)\n",
            "Requirement already satisfied: nvidia-cufft-cu12==11.0.2.54 in /usr/local/lib/python3.10/dist-packages (from torch->gemma==0.1) (11.0.2.54)\n",
            "Requirement already satisfied: nvidia-curand-cu12==10.3.2.106 in /usr/local/lib/python3.10/dist-packages (from torch->gemma==0.1) (10.3.2.106)\n",
            "Requirement already satisfied: nvidia-cusolver-cu12==11.4.5.107 in /usr/local/lib/python3.10/dist-packages (from torch->gemma==0.1) (11.4.5.107)\n",
            "Requirement already satisfied: nvidia-cusparse-cu12==12.1.0.106 in /usr/local/lib/python3.10/dist-packages (from torch->gemma==0.1) (12.1.0.106)\n",
            "Requirement already satisfied: nvidia-nccl-cu12==2.20.5 in /usr/local/lib/python3.10/dist-packages (from torch->gemma==0.1) (2.20.5)\n",
            "Requirement already satisfied: nvidia-nvtx-cu12==12.1.105 in /usr/local/lib/python3.10/dist-packages (from torch->gemma==0.1) (12.1.105)\n",
            "Requirement already satisfied: triton==2.3.0 in /usr/local/lib/python3.10/dist-packages (from torch->gemma==0.1) (2.3.0)\n",
            "Requirement already satisfied: nvidia-nvjitlink-cu12 in /usr/local/lib/python3.10/dist-packages (from nvidia-cusolver-cu12==11.4.5.107->torch->gemma==0.1) (12.5.82)\n",
            "Requirement already satisfied: six>=1.5 in /usr/local/lib/python3.10/dist-packages (from python-dateutil>=2.8.2->pandas->datasets) (1.16.0)\n",
            "Requirement already satisfied: MarkupSafe>=2.0 in /usr/local/lib/python3.10/dist-packages (from jinja2->torch->gemma==0.1) (2.1.5)\n",
            "Requirement already satisfied: mpmath<1.4,>=1.1.0 in /usr/local/lib/python3.10/dist-packages (from sympy->torch->gemma==0.1) (1.3.0)\n"
          ]
        }
      ]
    },
    {
      "cell_type": "code",
      "execution_count": 60,
      "id": "04eafdc4",
      "metadata": {
        "id": "04eafdc4"
      },
      "outputs": [],
      "source": [
        "from gemma.tokenizer import Tokenizer"
      ]
    },
    {
      "cell_type": "code",
      "execution_count": 61,
      "id": "aae9d9de",
      "metadata": {
        "id": "aae9d9de"
      },
      "outputs": [],
      "source": [
        "original = Tokenizer(\"tokenizer-2.model\")"
      ]
    },
    {
      "cell_type": "code",
      "execution_count": 63,
      "id": "06b063cf",
      "metadata": {
        "id": "06b063cf"
      },
      "outputs": [],
      "source": [
        "from transformers import GemmaTokenizer, AutoTokenizer"
      ]
    },
    {
      "cell_type": "code",
      "execution_count": 64,
      "id": "a584d69f",
      "metadata": {
        "colab": {
          "base_uri": "https://localhost:8080/",
          "height": 54,
          "referenced_widgets": [
            "ebe1b9f88e744de697d85412e6c9b7ce",
            "12bc5a30e56642cfa77c20b24f76adf7",
            "ae8737da5fcd49b391c6332ff913a12c",
            "515034d192de4801b205cb236de5a362",
            "bb5abad3302d4af184385f4a87698fc7",
            "1a4f97e154da4410a5c4549a637533aa",
            "a34f1443a5ca49ceb6593ec2743e317d",
            "edfeb148c32b4bfcbadc8309b33f49d3",
            "4493a9b345934d1e8fba485a793012d7",
            "075e4c649a79451eb9034cef7a23092d",
            "325e2f2db09d4395bbf821b6c1213d1c"
          ]
        },
        "id": "a584d69f",
        "outputId": "10ede5fc-aaec-476e-8e1e-3fcb55d506d7"
      },
      "outputs": [
        {
          "output_type": "display_data",
          "data": {
            "text/plain": [
              "tokenizer_config.json:   0%|          | 0.00/39.9k [00:00<?, ?B/s]"
            ],
            "application/vnd.jupyter.widget-view+json": {
              "version_major": 2,
              "version_minor": 0,
              "model_id": "ebe1b9f88e744de697d85412e6c9b7ce"
            }
          },
          "metadata": {}
        }
      ],
      "source": [
        "t_fast = AutoTokenizer.from_pretrained(\"gg-hf/gemma2-2b\", revision=\"pr/4\")\n",
        "t_slow = GemmaTokenizer.from_pretrained(\"gg-hf/gemma2-2b\", revision=\"pr/4\")\n",
        "\n",
        "# t_fast = AutoTokenizer.from_pretrained(\"google/recurrentgemma-2b\", revision=\"main\")\n",
        "# t_slow = GemmaTokenizer.from_pretrained(\"google/recurrentgemma-2b\", revision=\"main\")"
      ]
    },
    {
      "cell_type": "code",
      "execution_count": 65,
      "id": "0160405a",
      "metadata": {
        "id": "0160405a"
      },
      "outputs": [],
      "source": [
        "from datasets import load_dataset"
      ]
    },
    {
      "cell_type": "code",
      "execution_count": 66,
      "id": "a743115c",
      "metadata": {
        "id": "a743115c"
      },
      "outputs": [],
      "source": [
        "xnli = load_dataset(\"xnli\", \"all_languages\", split=\"validation\")"
      ]
    },
    {
      "cell_type": "code",
      "execution_count": 67,
      "id": "ab230921",
      "metadata": {
        "id": "ab230921"
      },
      "outputs": [],
      "source": [
        "p = next(iter(xnli[\"premise\"]))"
      ]
    },
    {
      "cell_type": "code",
      "execution_count": 68,
      "id": "ce5450df",
      "metadata": {
        "id": "ce5450df"
      },
      "outputs": [],
      "source": [
        "for lang, text in p.items():\n",
        "    encoded_original = original.encode(text, bos=True, eos=False)\n",
        "    encoded_fast = t_fast.encode(text)\n",
        "    encoded_slow = t_slow.encode(text)\n",
        "    assert encoded_fast == encoded_original, f\"Fast encode error: {lang} - {text}\"\n",
        "    assert encoded_slow == encoded_original, f\"Slow encode error: {lang} - {text}\"\n",
        "    decoded = original.decode(encoded_original)\n",
        "    decoded_fast = t_fast.decode(encoded_fast, skip_special_tokens=True)\n",
        "    decoded_slow = t_slow.decode(encoded_slow, skip_special_tokens=True)\n",
        "    assert decoded_fast == decoded, f\"Fast decode error: {lang} - {text}\"\n",
        "    assert decoded_slow == decoded, f\"Slow decode error: {lang} - {text}\""
      ]
    },
    {
      "cell_type": "code",
      "execution_count": 69,
      "id": "111bd93b",
      "metadata": {
        "id": "111bd93b"
      },
      "outputs": [],
      "source": [
        "from tqdm import tqdm"
      ]
    },
    {
      "cell_type": "code",
      "execution_count": 70,
      "id": "9a52691b",
      "metadata": {
        "id": "9a52691b"
      },
      "outputs": [],
      "source": [
        "def verify(lang, text):\n",
        "    encoded_original = original.encode(text, bos=True, eos=False)\n",
        "    encoded_fast = t_fast.encode(text)\n",
        "    encoded_slow = t_slow.encode(text)\n",
        "#     assert encoded_fast == encoded_original, f\"Fast encode error: {lang} - {text}\"\n",
        "    assert encoded_slow == encoded_original, f\"Slow encode error: {lang} - {text}\"\n",
        "    decoded = original.decode(encoded_original)\n",
        "    decoded_fast = t_fast.decode(encoded_fast, skip_special_tokens=True)\n",
        "    decoded_slow = t_slow.decode(encoded_slow, skip_special_tokens=True)\n",
        "#     assert decoded_fast == decoded, f\"Fast decode error: {lang} - {text}\"\n",
        "    assert decoded_slow == decoded, f\"Slow decode error: {lang} - {text}\""
      ]
    },
    {
      "cell_type": "code",
      "execution_count": 71,
      "id": "f3123ffd",
      "metadata": {
        "colab": {
          "base_uri": "https://localhost:8080/"
        },
        "id": "f3123ffd",
        "outputId": "385ff29c-1b72-481d-bde6-5666fd93929c"
      },
      "outputs": [
        {
          "output_type": "stream",
          "name": "stderr",
          "text": [
            "100%|██████████| 2490/2490 [01:18<00:00, 31.75it/s]\n"
          ]
        }
      ],
      "source": [
        "for p in tqdm(xnli[\"premise\"]):\n",
        "    for lang, text in p.items():\n",
        "        verify(lang, text)"
      ]
    },
    {
      "cell_type": "code",
      "source": [
        "def verify(lang, text):\n",
        "    encoded_original = original.encode(text, bos=True, eos=False)\n",
        "    encoded_fast = t_fast.encode(text)\n",
        "    encoded_slow = t_slow.encode(text)\n",
        "    assert encoded_fast == encoded_original, f\"Fast encode error: {lang} - {text}\"\n",
        "    # assert encoded_slow == encoded_original, f\"Slow encode error: {lang} - {text}\"\n",
        "    decoded = original.decode(encoded_original)\n",
        "    decoded_fast = t_fast.decode(encoded_fast, skip_special_tokens=True)\n",
        "    decoded_slow = t_slow.decode(encoded_slow, skip_special_tokens=True)\n",
        "    assert decoded_fast == decoded, f\"Fast decode error: {lang} - {text}\"\n",
        "    # assert decoded_slow == decoded, f\"Slow decode error: {lang} - {text}\""
      ],
      "metadata": {
        "id": "S2DO5G7pONau"
      },
      "id": "S2DO5G7pONau",
      "execution_count": 72,
      "outputs": []
    },
    {
      "cell_type": "code",
      "source": [
        "for p in tqdm(xnli[\"premise\"]):\n",
        "    for lang, text in p.items():\n",
        "        verify(lang, text)"
      ],
      "metadata": {
        "colab": {
          "base_uri": "https://localhost:8080/"
        },
        "id": "-0lc9WPsOODx",
        "outputId": "011328bb-ceb6-438a-bfdc-8a8938ba4fca"
      },
      "id": "-0lc9WPsOODx",
      "execution_count": 73,
      "outputs": [
        {
          "output_type": "stream",
          "name": "stderr",
          "text": [
            "100%|██████████| 2490/2490 [01:15<00:00, 33.08it/s]\n"
          ]
        }
      ]
    },
    {
      "cell_type": "markdown",
      "source": [
        "# Irrelevant stuff below"
      ],
      "metadata": {
        "id": "TjJE-Vjx2vib"
      },
      "id": "TjJE-Vjx2vib"
    },
    {
      "cell_type": "code",
      "execution_count": null,
      "id": "2625fa6b",
      "metadata": {
        "id": "2625fa6b"
      },
      "outputs": [],
      "source": [
        "ds = load_dataset(\"codeparrot/github-code\", streaming=True, split=\"train\")"
      ]
    },
    {
      "cell_type": "code",
      "execution_count": null,
      "id": "d6262a7d",
      "metadata": {
        "id": "d6262a7d",
        "outputId": "6b9ce454-1247-41c1-b6ed-a00d6610c4e2"
      },
      "outputs": [
        {
          "data": {
            "text/plain": [
              "{'code': '\\'use strict\\';\\n\\nvar clear          = require(\\'es5-ext/array/#/clear\\')\\n  , eIndexOf       = require(\\'es5-ext/array/#/e-index-of\\')\\n  , setPrototypeOf = require(\\'es5-ext/object/set-prototype-of\\')\\n  , callable       = require(\\'es5-ext/object/valid-callable\\')\\n  , d              = require(\\'d\\')\\n  , ee             = require(\\'event-emitter\\')\\n  , Symbol         = require(\\'es6-symbol\\')\\n  , iterator       = require(\\'es6-iterator/valid-iterable\\')\\n  , forOf          = require(\\'es6-iterator/for-of\\')\\n  , Iterator       = require(\\'./lib/iterator\\')\\n  , isNative       = require(\\'./is-native-implemented\\')\\n\\n  , call = Function.prototype.call, defineProperty = Object.defineProperty\\n  , SetPoly, getValues;\\n\\nmodule.exports = SetPoly = function (/*iterable*/) {\\n\\tvar iterable = arguments[0];\\n\\tif (!(this instanceof SetPoly)) return new SetPoly(iterable);\\n\\tif (this.__setData__ !== undefined) {\\n\\t\\tthrow new TypeError(this + \" cannot be reinitialized\");\\n\\t}\\n\\tif (iterable != null) iterator(iterable);\\n\\tdefineProperty(this, \\'__setData__\\', d(\\'c\\', []));\\n\\tif (!iterable) return;\\n\\tforOf(iterable, function (value) {\\n\\t\\tif (eIndexOf.call(this, value) !== -1) return;\\n\\t\\tthis.push(value);\\n\\t}, this.__setData__);\\n};\\n\\nif (isNative) {\\n\\tif (setPrototypeOf) setPrototypeOf(SetPoly, Set);\\n\\tSetPoly.prototype = Object.create(Set.prototype, {\\n\\t\\tconstructor: d(SetPoly)\\n\\t});\\n}\\n\\nee(Object.defineProperties(SetPoly.prototype, {\\n\\tadd: d(function (value) {\\n\\t\\tif (this.has(value)) return this;\\n\\t\\tthis.emit(\\'_add\\', this.__setData__.push(value) - 1, value);\\n\\t\\treturn this;\\n\\t}),\\n\\tclear: d(function () {\\n\\t\\tif (!this.__setData__.length) return;\\n\\t\\tclear.call(this.__setData__);\\n\\t\\tthis.emit(\\'_clear\\');\\n\\t}),\\n\\tdelete: d(function (value) {\\n\\t\\tvar index = eIndexOf.call(this.__setData__, value);\\n\\t\\tif (index === -1) return false;\\n\\t\\tthis.__setData__.splice(index, 1);\\n\\t\\tthis.emit(\\'_delete\\', index, value);\\n\\t\\treturn true;\\n\\t}),\\n\\tentries: d(function () { return new Iterator(this, \\'key+value\\'); }),\\n\\tforEach: d(function (cb/*, thisArg*/) {\\n\\t\\tvar thisArg = arguments[1], iterator, result, value;\\n\\t\\tcallable(cb);\\n\\t\\titerator = this.values();\\n\\t\\tresult = iterator._next();\\n\\t\\twhile (result !== undefined) {\\n\\t\\t\\tvalue = iterator._resolve(result);\\n\\t\\t\\tcall.call(cb, thisArg, value, value, this);\\n\\t\\t\\tresult = iterator._next();\\n\\t\\t}\\n\\t}),\\n\\thas: d(function (value) {\\n\\t\\treturn (eIndexOf.call(this.__setData__, value) !== -1);\\n\\t}),\\n\\tkeys: d(getValues = function () { return this.values(); }),\\n\\tsize: d.gs(function () { return this.__setData__.length; }),\\n\\tvalues: d(function () { return new Iterator(this); }),\\n\\ttoString: d(function () { return \\'[object Set]\\'; })\\n}));\\ndefineProperty(SetPoly.prototype, Symbol.iterator, d(getValues));\\ndefineProperty(SetPoly.prototype, Symbol.toStringTag, d(\\'c\\', \\'Set\\'));\\n',\n",
              " 'repo_name': 'Socratacom/socrata-europe',\n",
              " 'path': 'wp-content/themes/sage/node_modules/asset-builder/node_modules/main-bower-files/node_modules/vinyl-fs/node_modules/glob-stream/node_modules/unique-stream/node_modules/es6-set/polyfill.js',\n",
              " 'language': 'JavaScript',\n",
              " 'license': 'gpl-2.0',\n",
              " 'size': 2730}"
            ]
          },
          "execution_count": 89,
          "metadata": {},
          "output_type": "execute_result"
        }
      ],
      "source": [
        "next(iter(ds))"
      ]
    },
    {
      "cell_type": "code",
      "execution_count": null,
      "id": "d983c5e8",
      "metadata": {
        "id": "d983c5e8",
        "outputId": "cd7fde42-7f4e-41d3-ed08-8245434e7250"
      },
      "outputs": [
        {
          "name": "stderr",
          "output_type": "stream",
          "text": [
            "100%|██████████████████████████████████████████████████████████████████████████████████████| 1000/1000 [00:46<00:00, 21.29it/s]\n"
          ]
        }
      ],
      "source": [
        "skipped = 0\n",
        "iterator = iter(ds)\n",
        "for _ in tqdm(range(1000)):\n",
        "    item = next(iterator)\n",
        "    code = item[\"code\"]\n",
        "    lang = item[\"language\"]\n",
        "    if False and item[\"size\"] > 1000:\n",
        "        skipped += 1\n",
        "        continue\n",
        "    verify(lang, code)"
      ]
    },
    {
      "cell_type": "code",
      "execution_count": null,
      "id": "ebf3e43a",
      "metadata": {
        "id": "ebf3e43a",
        "outputId": "d9964df5-a178-4a14-d194-5b3de7af5579"
      },
      "outputs": [
        {
          "data": {
            "text/plain": [
              "0"
            ]
          },
          "execution_count": 93,
          "metadata": {},
          "output_type": "execute_result"
        }
      ],
      "source": [
        "skipped"
      ]
    },
    {
      "cell_type": "code",
      "execution_count": null,
      "id": "3f2314c5",
      "metadata": {
        "id": "3f2314c5",
        "outputId": "c3baab01-8b8d-48c8-bca5-72b48a55754e"
      },
      "outputs": [
        {
          "data": {
            "text/plain": [
              "32"
            ]
          },
          "execution_count": 95,
          "metadata": {},
          "output_type": "execute_result"
        }
      ],
      "source": [
        "len(\"▁ ▁▁▁▁▁▁▁▁▁▁▁▁▁▁▁▁▁▁▁▁▁▁▁▁▁▁▁▁▁▁\")"
      ]
    },
    {
      "cell_type": "code",
      "execution_count": null,
      "id": "51af9e5d",
      "metadata": {
        "id": "51af9e5d",
        "outputId": "b18c7043-a7e0-468c-ecde-8c5ac5b04eec"
      },
      "outputs": [
        {
          "name": "stdout",
          "output_type": "stream",
          "text": [
            "[2, 809, 8071, 774, 777, 5585, 1730, 108, 809, 6263, 55150, 235265, 37189, 1730, 109, 3249, 3097, 3022, 1236, 612, 108, 139, 773, 591, 108, 141, 235322, 927, 5060, 627, 55150, 235290, 927, 768, 108, 143, 235322, 14789, 5060, 627, 7773, 58367, 2915, 67594, 235290, 55150, 235281, 4881, 627, 235274, 235276, 235276, 40018, 5721, 627, 235274, 235276, 235276, 235281, 2116, 3207, 627, 235276, 235248, 235276, 235248, 235274, 235276, 235276, 235248, 235274, 235276, 235284, 235281, 26271, 145417, 627, 10763, 768, 108, 147, 235322, 2222, 499, 627, 235296, 235276, 235248, 235276, 629, 235276, 235248, 235274, 235276, 235276, 629, 235324, 235276, 235248, 235276, 629, 235274, 235276, 235276, 235248, 235274, 235276, 235276, 629, 235274, 235276, 235276, 235248, 235276, 1271, 235281, 4224, 108, 143, 727, 14789, 235313, 108, 143, 235322, 235259, 235284, 5060, 627, 55150, 235290, 5351, 768, 43629, 193, 108, 143, 235322, 235263, 5060, 627, 55150, 474, 4526, 768, 108, 147, 95661, 235283, 988, 235318, 8071, 139738, 13116, 17852, 94776, 81690, 37466, 10210, 235265, 2833, 188629, 82780, 713, 3626, 4791, 33354, 7904, 3626, 64831, 42556, 130278, 43965, 4556, 1779, 22812, 1021, 13566, 235283, 10882, 108, 143, 727, 235263, 235313, 108, 145, 235322, 3716, 5060, 627, 3716, 6086, 794, 1677, 506, 6086, 794, 157550, 7841, 235290, 5012, 768, 108, 147, 1358, 2961, 968, 235252, 5060, 627, 1072, 1210, 235290, 8384, 7841, 235290, 8384, 768, 211, 235322, 235250, 5060, 627, 55150, 235290, 5012, 235290, 235250, 235281, 6017, 627, 2468, 1336, 1920, 235265, 8384, 235265, 872, 235283, 18734, 120608, 235281, 4408, 31253, 18574, 7710, 235250, 235313, 108, 145, 727, 3716, 235313, 108, 141, 727, 927, 235313, 108, 139, 594, 108, 235270, 108]\n"
          ]
        }
      ],
      "source": [
        "encoded = original.encode(code)\n",
        "print(encoded)"
      ]
    },
    {
      "cell_type": "code",
      "execution_count": null,
      "id": "beb4863e",
      "metadata": {
        "id": "beb4863e",
        "outputId": "2b666fc0-3c9d-4b45-9815-3f40ae2c144b"
      },
      "outputs": [
        {
          "name": "stdout",
          "output_type": "stream",
          "text": [
            "[2, 809, 8071, 774, 777, 5585, 1730, 108, 809, 6263, 55150, 235265, 37189, 1730, 109, 3249, 3097, 3022, 1236, 612, 108, 139, 773, 591, 108, 141, 235322, 927, 5060, 627, 55150, 235290, 927, 768, 108, 143, 235322, 14789, 5060, 627, 7773, 58367, 2915, 67594, 235290, 55150, 235281, 4881, 627, 235274, 235276, 235276, 40018, 5721, 627, 235274, 235276, 235276, 235281, 2116, 3207, 627, 235276, 235248, 235276, 235248, 235274, 235276, 235276, 235248, 235274, 235276, 235284, 235281, 26271, 145417, 627, 10763, 768, 108, 147, 235322, 2222, 499, 627, 235296, 235276, 235248, 235276, 629, 235276, 235248, 235274, 235276, 235276, 629, 235324, 235276, 235248, 235276, 629, 235274, 235276, 235276, 235248, 235274, 235276, 235276, 629, 235274, 235276, 235276, 235248, 235276, 1271, 235281, 4224, 108, 143, 727, 14789, 235313, 108, 143, 235322, 235259, 235284, 5060, 627, 55150, 235290, 5351, 768, 43629, 727, 235259, 235284, 235313, 108, 143, 235322, 235263, 5060, 627, 55150, 474, 4526, 768, 108, 147, 95661, 235283, 988, 235318, 8071, 139738, 13116, 17852, 94776, 81690, 37466, 10210, 235265, 2833, 188629, 82780, 713, 3626, 4791, 33354, 7904, 3626, 64831, 42556, 130278, 43965, 4556, 1779, 22812, 1021, 13566, 235283, 10882, 108, 143, 727, 235263, 235313, 108, 145, 235322, 3716, 5060, 627, 3716, 6086, 794, 1677, 506, 6086, 794, 157550, 7841, 235290, 5012, 768, 108, 147, 1358, 2961, 968, 235252, 5060, 627, 1072, 1210, 235290, 8384, 7841, 235290, 8384, 7710, 235252, 2577, 235250, 5060, 627, 55150, 235290, 5012, 235290, 235250, 235281, 6017, 627, 2468, 1336, 1920, 235265, 8384, 235265, 872, 235283, 18734, 120608, 235281, 4408, 31253, 18574, 7710, 235250, 235313, 108, 145, 727, 3716, 235313, 108, 141, 727, 927, 235313, 108, 139, 594, 108, 235270, 108]\n"
          ]
        }
      ],
      "source": [
        "fast_encoded = t_fast.encode(code)\n",
        "print(fast_encoded)"
      ]
    },
    {
      "cell_type": "code",
      "execution_count": null,
      "id": "a2add490",
      "metadata": {
        "id": "a2add490",
        "outputId": "87542f58-cfae-48e5-c23f-e1d8c80146f1"
      },
      "outputs": [
        {
          "data": {
            "text/plain": [
              "(265, 268)"
            ]
          },
          "execution_count": 78,
          "metadata": {},
          "output_type": "execute_result"
        }
      ],
      "source": [
        "len(encoded), len(fast_encoded)"
      ]
    },
    {
      "cell_type": "code",
      "execution_count": null,
      "id": "c8061bf8",
      "metadata": {
        "id": "c8061bf8",
        "outputId": "580f318a-17d6-405c-ceeb-5a66941cb6c4"
      },
      "outputs": [
        {
          "name": "stdout",
          "output_type": "stream",
          "text": [
            "Mismatch at 134: 193 != 727\n",
            "Mismatch at 135: 108 != 235259\n",
            "Mismatch at 136: 143 != 235284\n",
            "Mismatch at 137: 235322 != 235313\n",
            "Mismatch at 138: 235263 != 108\n",
            "Mismatch at 139: 5060 != 143\n",
            "Mismatch at 140: 627 != 235322\n",
            "Mismatch at 141: 55150 != 235263\n",
            "Mismatch at 142: 474 != 5060\n",
            "Mismatch at 143: 4526 != 627\n",
            "Mismatch at 144: 768 != 55150\n",
            "Mismatch at 145: 108 != 474\n",
            "Mismatch at 146: 147 != 4526\n",
            "Mismatch at 147: 95661 != 768\n",
            "Mismatch at 148: 235283 != 108\n",
            "Mismatch at 149: 988 != 147\n",
            "Mismatch at 150: 235318 != 95661\n",
            "Mismatch at 151: 8071 != 235283\n",
            "Mismatch at 152: 139738 != 988\n",
            "Mismatch at 153: 13116 != 235318\n",
            "Mismatch at 154: 17852 != 8071\n",
            "Mismatch at 155: 94776 != 139738\n",
            "Mismatch at 156: 81690 != 13116\n",
            "Mismatch at 157: 37466 != 17852\n",
            "Mismatch at 158: 10210 != 94776\n",
            "Mismatch at 159: 235265 != 81690\n",
            "Mismatch at 160: 2833 != 37466\n",
            "Mismatch at 161: 188629 != 10210\n",
            "Mismatch at 162: 82780 != 235265\n",
            "Mismatch at 163: 713 != 2833\n",
            "Mismatch at 164: 3626 != 188629\n",
            "Mismatch at 165: 4791 != 82780\n",
            "Mismatch at 166: 33354 != 713\n",
            "Mismatch at 167: 7904 != 3626\n",
            "Mismatch at 168: 3626 != 4791\n",
            "Mismatch at 169: 64831 != 33354\n",
            "Mismatch at 170: 42556 != 7904\n",
            "Mismatch at 171: 130278 != 3626\n",
            "Mismatch at 172: 43965 != 64831\n",
            "Mismatch at 173: 4556 != 42556\n",
            "Mismatch at 174: 1779 != 130278\n",
            "Mismatch at 175: 22812 != 43965\n",
            "Mismatch at 176: 1021 != 4556\n",
            "Mismatch at 177: 13566 != 1779\n",
            "Mismatch at 178: 235283 != 22812\n",
            "Mismatch at 179: 10882 != 1021\n",
            "Mismatch at 180: 108 != 13566\n",
            "Mismatch at 181: 143 != 235283\n",
            "Mismatch at 182: 727 != 10882\n",
            "Mismatch at 183: 235263 != 108\n",
            "Mismatch at 184: 235313 != 143\n",
            "Mismatch at 185: 108 != 727\n",
            "Mismatch at 186: 145 != 235263\n",
            "Mismatch at 187: 235322 != 235313\n",
            "Mismatch at 188: 3716 != 108\n",
            "Mismatch at 189: 5060 != 145\n",
            "Mismatch at 190: 627 != 235322\n",
            "Mismatch at 192: 6086 != 5060\n",
            "Mismatch at 193: 794 != 627\n",
            "Mismatch at 194: 1677 != 3716\n",
            "Mismatch at 195: 506 != 6086\n",
            "Mismatch at 196: 6086 != 794\n",
            "Mismatch at 197: 794 != 1677\n",
            "Mismatch at 198: 157550 != 506\n",
            "Mismatch at 199: 7841 != 6086\n",
            "Mismatch at 200: 235290 != 794\n",
            "Mismatch at 201: 5012 != 157550\n",
            "Mismatch at 202: 768 != 7841\n",
            "Mismatch at 203: 108 != 235290\n",
            "Mismatch at 204: 147 != 5012\n",
            "Mismatch at 205: 1358 != 768\n",
            "Mismatch at 206: 2961 != 108\n",
            "Mismatch at 207: 968 != 147\n",
            "Mismatch at 208: 235252 != 1358\n",
            "Mismatch at 209: 5060 != 2961\n",
            "Mismatch at 210: 627 != 968\n",
            "Mismatch at 211: 1072 != 235252\n",
            "Mismatch at 212: 1210 != 5060\n",
            "Mismatch at 213: 235290 != 627\n",
            "Mismatch at 214: 8384 != 1072\n",
            "Mismatch at 215: 7841 != 1210\n",
            "Mismatch at 218: 768 != 7841\n",
            "Mismatch at 219: 211 != 235290\n",
            "Mismatch at 220: 235322 != 8384\n",
            "Mismatch at 221: 235250 != 7710\n",
            "Mismatch at 222: 5060 != 235252\n",
            "Mismatch at 223: 627 != 2577\n",
            "Mismatch at 224: 55150 != 235250\n",
            "Mismatch at 225: 235290 != 5060\n",
            "Mismatch at 226: 5012 != 627\n",
            "Mismatch at 227: 235290 != 55150\n",
            "Mismatch at 228: 235250 != 235290\n",
            "Mismatch at 229: 235281 != 5012\n",
            "Mismatch at 230: 6017 != 235290\n",
            "Mismatch at 231: 627 != 235250\n",
            "Mismatch at 232: 2468 != 235281\n",
            "Mismatch at 233: 1336 != 6017\n",
            "Mismatch at 234: 1920 != 627\n",
            "Mismatch at 235: 235265 != 2468\n",
            "Mismatch at 236: 8384 != 1336\n",
            "Mismatch at 237: 235265 != 1920\n",
            "Mismatch at 238: 872 != 235265\n",
            "Mismatch at 239: 235283 != 8384\n",
            "Mismatch at 240: 18734 != 235265\n",
            "Mismatch at 241: 120608 != 872\n",
            "Mismatch at 242: 235281 != 235283\n",
            "Mismatch at 243: 4408 != 18734\n",
            "Mismatch at 244: 31253 != 120608\n",
            "Mismatch at 245: 18574 != 235281\n",
            "Mismatch at 246: 7710 != 4408\n",
            "Mismatch at 247: 235250 != 31253\n",
            "Mismatch at 248: 235313 != 18574\n",
            "Mismatch at 249: 108 != 7710\n",
            "Mismatch at 250: 145 != 235250\n",
            "Mismatch at 251: 727 != 235313\n",
            "Mismatch at 252: 3716 != 108\n",
            "Mismatch at 253: 235313 != 145\n",
            "Mismatch at 254: 108 != 727\n",
            "Mismatch at 255: 141 != 3716\n",
            "Mismatch at 256: 727 != 235313\n",
            "Mismatch at 257: 927 != 108\n",
            "Mismatch at 258: 235313 != 141\n",
            "Mismatch at 259: 108 != 727\n",
            "Mismatch at 260: 139 != 927\n",
            "Mismatch at 261: 594 != 235313\n",
            "Mismatch at 263: 235270 != 139\n",
            "Mismatch at 264: 108 != 594\n"
          ]
        }
      ],
      "source": [
        "for i, (x, y) in enumerate(zip(encoded, fast_encoded)):\n",
        "    if x != y:\n",
        "        print(f\"Mismatch at {i}: {x} != {y}\")"
      ]
    },
    {
      "cell_type": "code",
      "execution_count": null,
      "id": "0fa3f838",
      "metadata": {
        "id": "0fa3f838"
      },
      "outputs": [],
      "source": [
        "correct_fast = AutoTokenizer.from_pretrained(\"google/recurrentgemma-2b\", revision=\"refs/pr/6\")"
      ]
    },
    {
      "cell_type": "code",
      "execution_count": null,
      "id": "64eaed45",
      "metadata": {
        "id": "64eaed45",
        "outputId": "68d91785-1ce7-4460-bb13-a5e2d4737f83"
      },
      "outputs": [
        {
          "data": {
            "text/plain": [
              "True"
            ]
          },
          "execution_count": 82,
          "metadata": {},
          "output_type": "execute_result"
        }
      ],
      "source": [
        "correct_fast.encode(code) == encoded"
      ]
    },
    {
      "cell_type": "markdown",
      "id": "c0180a27",
      "metadata": {
        "id": "c0180a27"
      },
      "source": [
        "-----"
      ]
    },
    {
      "cell_type": "markdown",
      "id": "4aaa843a",
      "metadata": {
        "id": "4aaa843a"
      },
      "source": [
        "This is a genuine problem with the fast tokenizer from the PR. A long sequence of spaces is encoded to two different tokens."
      ]
    },
    {
      "cell_type": "code",
      "execution_count": null,
      "id": "701c816b",
      "metadata": {
        "id": "701c816b",
        "outputId": "3d3314f1-7ccb-4209-8654-b5231759d958"
      },
      "outputs": [
        {
          "data": {
            "text/plain": [
              "'                               '"
            ]
          },
          "execution_count": 54,
          "metadata": {},
          "output_type": "execute_result"
        }
      ],
      "source": [
        "original.decode([168])"
      ]
    },
    {
      "cell_type": "code",
      "execution_count": null,
      "id": "ac1a682a",
      "metadata": {
        "id": "ac1a682a",
        "outputId": "81677c96-97ec-4b76-ac23-163ac3c44ae3"
      },
      "outputs": [
        {
          "data": {
            "text/plain": [
              "'                '"
            ]
          },
          "execution_count": 55,
          "metadata": {},
          "output_type": "execute_result"
        }
      ],
      "source": [
        "original.decode([153])"
      ]
    },
    {
      "cell_type": "code",
      "execution_count": null,
      "id": "6bcf7f36",
      "metadata": {
        "id": "6bcf7f36",
        "outputId": "fc83c402-d48e-46e5-ebfa-1bdcff53eae8"
      },
      "outputs": [
        {
          "data": {
            "text/plain": [
              "'                               '"
            ]
          },
          "execution_count": 56,
          "metadata": {},
          "output_type": "execute_result"
        }
      ],
      "source": [
        "t_fast.decode([168])"
      ]
    },
    {
      "cell_type": "code",
      "execution_count": null,
      "id": "125c792a",
      "metadata": {
        "id": "125c792a",
        "outputId": "a3c98259-15e8-44fe-a9f3-3896d9f6b6fc"
      },
      "outputs": [
        {
          "data": {
            "text/plain": [
              "'                '"
            ]
          },
          "execution_count": 57,
          "metadata": {},
          "output_type": "execute_result"
        }
      ],
      "source": [
        "t_fast.decode([153])"
      ]
    },
    {
      "cell_type": "code",
      "execution_count": null,
      "id": "2c0f8679",
      "metadata": {
        "id": "2c0f8679",
        "outputId": "9a4029e4-c303-4143-cd79-820cc1141553"
      },
      "outputs": [
        {
          "data": {
            "text/plain": [
              "[168]"
            ]
          },
          "execution_count": 60,
          "metadata": {},
          "output_type": "execute_result"
        }
      ],
      "source": [
        "original.encode('                               ', bos=False)"
      ]
    },
    {
      "cell_type": "code",
      "execution_count": null,
      "id": "37843088",
      "metadata": {
        "id": "37843088",
        "outputId": "6bb25d5d-23a9-4a07-c1bc-35c579bab700"
      },
      "outputs": [
        {
          "data": {
            "text/plain": [
              "[168]"
            ]
          },
          "execution_count": 62,
          "metadata": {},
          "output_type": "execute_result"
        }
      ],
      "source": [
        "t_fast.encode('                               ', add_special_tokens=False)"
      ]
    },
    {
      "cell_type": "code",
      "execution_count": null,
      "id": "9f959c58",
      "metadata": {
        "id": "9f959c58",
        "outputId": "28e8607e-c316-49f3-d461-a167827fae98"
      },
      "outputs": [
        {
          "data": {
            "text/plain": [
              "240"
            ]
          },
          "execution_count": 63,
          "metadata": {},
          "output_type": "execute_result"
        }
      ],
      "source": [
        "len(encoded)"
      ]
    },
    {
      "cell_type": "code",
      "execution_count": null,
      "id": "3fbd0e27",
      "metadata": {
        "id": "3fbd0e27",
        "outputId": "e4739bfc-2c39-4b02-e379-0272aa3149fc"
      },
      "outputs": [
        {
          "data": {
            "text/plain": [
              "[153, 168]"
            ]
          },
          "execution_count": 65,
          "metadata": {},
          "output_type": "execute_result"
        }
      ],
      "source": [
        "t_fast.encode(\"                                               \", add_special_tokens=False)"
      ]
    },
    {
      "cell_type": "code",
      "execution_count": null,
      "id": "09e04d45",
      "metadata": {
        "id": "09e04d45",
        "outputId": "17d8ffde-6c58-47c0-e137-772edad97751"
      },
      "outputs": [
        {
          "data": {
            "text/plain": [
              "[168, 153]"
            ]
          },
          "execution_count": 67,
          "metadata": {},
          "output_type": "execute_result"
        }
      ],
      "source": [
        "original.encode(\"                                               \", bos=False)"
      ]
    },
    {
      "cell_type": "code",
      "execution_count": null,
      "id": "00ffb8b1",
      "metadata": {
        "id": "00ffb8b1",
        "outputId": "ff243a4d-1ede-4c7c-c189-46c9099c07f2"
      },
      "outputs": [
        {
          "data": {
            "text/plain": [
              "[168, 153]"
            ]
          },
          "execution_count": 69,
          "metadata": {},
          "output_type": "execute_result"
        }
      ],
      "source": [
        "t_slow.encode(\"                                               \", add_special_tokens=False)"
      ]
    },
    {
      "cell_type": "code",
      "execution_count": null,
      "id": "9ebaaf14",
      "metadata": {
        "id": "9ebaaf14",
        "outputId": "32dd1645-3f90-4ef8-af3f-d6a66ee36929"
      },
      "outputs": [
        {
          "data": {
            "text/plain": [
              "47"
            ]
          },
          "execution_count": 70,
          "metadata": {},
          "output_type": "execute_result"
        }
      ],
      "source": [
        "len(\"                                               \")"
      ]
    },
    {
      "cell_type": "code",
      "execution_count": null,
      "id": "0732d744",
      "metadata": {
        "id": "0732d744",
        "outputId": "b2179b7d-1b2c-4ad9-92f5-dd88e33b64ea"
      },
      "outputs": [
        {
          "data": {
            "text/plain": [
              "(31, 16)"
            ]
          },
          "execution_count": 71,
          "metadata": {},
          "output_type": "execute_result"
        }
      ],
      "source": [
        "len('                               '), len('                ')"
      ]
    },
    {
      "cell_type": "code",
      "execution_count": null,
      "id": "f9a4a4c7",
      "metadata": {
        "id": "f9a4a4c7",
        "outputId": "833d8b22-8e92-4993-8d9e-c3f66e5d8916"
      },
      "outputs": [
        {
          "name": "stdout",
          "output_type": "stream",
          "text": [
            "[2, 809, 11092, 235250, 235265, 8736, 685, 11092, 792, 89846, 108, 809, 11092, 235250, 235265, 3744, 5815, 685, 11092, 16437, 235266, 108, 809, 53649, 109, 1638, 4671, 2720, 7761, 235278, 51568, 235265, 28132, 1245, 108, 141, 1293, 33826, 235278, 1053, 1245, 108, 145, 1053, 235265, 7363, 589, 11092, 16437, 235266, 235265, 3744, 5815, 235278, 108, 149, 235281, 16833, 235283, 2195, 235298, 1259, 235283, 26154, 235265, 3327, 824, 108, 149, 9766, 48020, 235298, 2222, 1192, 664, 16833, 235283, 2195, 235298, 1259, 235283, 5490, 12990, 108, 145, 235275, 108, 145, 1053, 235265, 8578, 235298, 1701, 589, 892, 108, 147, 235281, 14214, 235265, 3028, 824, 108, 147, 235281, 235267, 85897, 477, 235265, 6001, 824, 108, 147, 235281, 8840, 4996, 553, 31524, 574, 4996, 553, 620, 235259, 1014, 235265, 4405, 235262, 235281, 108, 145, 235307, 109, 141, 1293, 2121, 235298, 7591, 480, 183853, 235278, 1053, 1245, 108, 145, 1053, 235265, 20658, 885, 14214, 235265, 3028, 235281, 780, 575, 108, 161, 95062, 8736, 235265, 6395, 18648, 235278, 1053, 235265, 8578, 235298, 1701, 235269, 108, 168, 153, 1053, 235265, 7363, 1269, 108, 145, 1053, 235265, 20658, 885, 235267, 85897, 477, 235265, 6001, 235281, 575, 108, 161, 95062, 8736, 235265, 6395, 18648, 235278, 1053, 235265, 8578, 235298, 1701, 235269, 108, 168, 153, 1053, 235265, 7363, 1269, 109, 141, 1293, 2121, 235298, 90415, 3886, 235278, 1053, 1245, 108, 145, 1053, 235265, 23661, 235278, 235276, 235269, 4574, 235278, 95062, 8736, 235265, 6395, 18648, 116382, 2011, 235265, 7363, 10199, 108]\n"
          ]
        }
      ],
      "source": [
        "slow_encoded = t_slow.encode(code)\n",
        "print(slow_encoded)"
      ]
    },
    {
      "cell_type": "code",
      "execution_count": null,
      "id": "d19f1f93",
      "metadata": {
        "scrolled": false,
        "id": "d19f1f93",
        "outputId": "93fe6605-0645-49d4-bed6-d9e7ac0839b5"
      },
      "outputs": [
        {
          "data": {
            "text/plain": [
              "(False, True)"
            ]
          },
          "execution_count": 48,
          "metadata": {},
          "output_type": "execute_result"
        }
      ],
      "source": [
        "fast_encoded == encoded, slow_encoded == encoded"
      ]
    },
    {
      "cell_type": "code",
      "execution_count": null,
      "id": "c95b0fef",
      "metadata": {
        "id": "c95b0fef"
      },
      "outputs": [],
      "source": [
        "manually_manipulated_fast = AutoTokenizer.from_pretrained(\"/data/models/gemma/from_hub/tokenizer_bug/recurrentgemma-2b\")"
      ]
    },
    {
      "cell_type": "code",
      "execution_count": null,
      "id": "c7ef7759",
      "metadata": {
        "id": "c7ef7759",
        "outputId": "e17b7cdc-926b-4463-a19d-610edaa23c9e"
      },
      "outputs": [
        {
          "data": {
            "text/plain": [
              "[153, 168]"
            ]
          },
          "execution_count": 85,
          "metadata": {},
          "output_type": "execute_result"
        }
      ],
      "source": [
        "manually_manipulated_fast.encode(\"                                               \", add_special_tokens=False)"
      ]
    },
    {
      "cell_type": "code",
      "execution_count": null,
      "id": "5b8b3fc1",
      "metadata": {
        "id": "5b8b3fc1"
      },
      "outputs": [],
      "source": []
    }
  ],
  "metadata": {
    "kernelspec": {
      "display_name": "Python 3 (ipykernel)",
      "language": "python",
      "name": "python3"
    },
    "language_info": {
      "codemirror_mode": {
        "name": "ipython",
        "version": 3
      },
      "file_extension": ".py",
      "mimetype": "text/x-python",
      "name": "python",
      "nbconvert_exporter": "python",
      "pygments_lexer": "ipython3",
      "version": "3.10.12"
    },
    "colab": {
      "provenance": [],
      "include_colab_link": true
    },
    "widgets": {
      "application/vnd.jupyter.widget-state+json": {
        "ebe1b9f88e744de697d85412e6c9b7ce": {
          "model_module": "@jupyter-widgets/controls",
          "model_name": "HBoxModel",
          "model_module_version": "1.5.0",
          "state": {
            "_dom_classes": [],
            "_model_module": "@jupyter-widgets/controls",
            "_model_module_version": "1.5.0",
            "_model_name": "HBoxModel",
            "_view_count": null,
            "_view_module": "@jupyter-widgets/controls",
            "_view_module_version": "1.5.0",
            "_view_name": "HBoxView",
            "box_style": "",
            "children": [
              "IPY_MODEL_12bc5a30e56642cfa77c20b24f76adf7",
              "IPY_MODEL_ae8737da5fcd49b391c6332ff913a12c",
              "IPY_MODEL_515034d192de4801b205cb236de5a362"
            ],
            "layout": "IPY_MODEL_bb5abad3302d4af184385f4a87698fc7"
          }
        },
        "12bc5a30e56642cfa77c20b24f76adf7": {
          "model_module": "@jupyter-widgets/controls",
          "model_name": "HTMLModel",
          "model_module_version": "1.5.0",
          "state": {
            "_dom_classes": [],
            "_model_module": "@jupyter-widgets/controls",
            "_model_module_version": "1.5.0",
            "_model_name": "HTMLModel",
            "_view_count": null,
            "_view_module": "@jupyter-widgets/controls",
            "_view_module_version": "1.5.0",
            "_view_name": "HTMLView",
            "description": "",
            "description_tooltip": null,
            "layout": "IPY_MODEL_1a4f97e154da4410a5c4549a637533aa",
            "placeholder": "​",
            "style": "IPY_MODEL_a34f1443a5ca49ceb6593ec2743e317d",
            "value": "tokenizer_config.json: 100%"
          }
        },
        "ae8737da5fcd49b391c6332ff913a12c": {
          "model_module": "@jupyter-widgets/controls",
          "model_name": "FloatProgressModel",
          "model_module_version": "1.5.0",
          "state": {
            "_dom_classes": [],
            "_model_module": "@jupyter-widgets/controls",
            "_model_module_version": "1.5.0",
            "_model_name": "FloatProgressModel",
            "_view_count": null,
            "_view_module": "@jupyter-widgets/controls",
            "_view_module_version": "1.5.0",
            "_view_name": "ProgressView",
            "bar_style": "success",
            "description": "",
            "description_tooltip": null,
            "layout": "IPY_MODEL_edfeb148c32b4bfcbadc8309b33f49d3",
            "max": 39865,
            "min": 0,
            "orientation": "horizontal",
            "style": "IPY_MODEL_4493a9b345934d1e8fba485a793012d7",
            "value": 39865
          }
        },
        "515034d192de4801b205cb236de5a362": {
          "model_module": "@jupyter-widgets/controls",
          "model_name": "HTMLModel",
          "model_module_version": "1.5.0",
          "state": {
            "_dom_classes": [],
            "_model_module": "@jupyter-widgets/controls",
            "_model_module_version": "1.5.0",
            "_model_name": "HTMLModel",
            "_view_count": null,
            "_view_module": "@jupyter-widgets/controls",
            "_view_module_version": "1.5.0",
            "_view_name": "HTMLView",
            "description": "",
            "description_tooltip": null,
            "layout": "IPY_MODEL_075e4c649a79451eb9034cef7a23092d",
            "placeholder": "​",
            "style": "IPY_MODEL_325e2f2db09d4395bbf821b6c1213d1c",
            "value": " 39.9k/39.9k [00:00&lt;00:00, 2.05MB/s]"
          }
        },
        "bb5abad3302d4af184385f4a87698fc7": {
          "model_module": "@jupyter-widgets/base",
          "model_name": "LayoutModel",
          "model_module_version": "1.2.0",
          "state": {
            "_model_module": "@jupyter-widgets/base",
            "_model_module_version": "1.2.0",
            "_model_name": "LayoutModel",
            "_view_count": null,
            "_view_module": "@jupyter-widgets/base",
            "_view_module_version": "1.2.0",
            "_view_name": "LayoutView",
            "align_content": null,
            "align_items": null,
            "align_self": null,
            "border": null,
            "bottom": null,
            "display": null,
            "flex": null,
            "flex_flow": null,
            "grid_area": null,
            "grid_auto_columns": null,
            "grid_auto_flow": null,
            "grid_auto_rows": null,
            "grid_column": null,
            "grid_gap": null,
            "grid_row": null,
            "grid_template_areas": null,
            "grid_template_columns": null,
            "grid_template_rows": null,
            "height": null,
            "justify_content": null,
            "justify_items": null,
            "left": null,
            "margin": null,
            "max_height": null,
            "max_width": null,
            "min_height": null,
            "min_width": null,
            "object_fit": null,
            "object_position": null,
            "order": null,
            "overflow": null,
            "overflow_x": null,
            "overflow_y": null,
            "padding": null,
            "right": null,
            "top": null,
            "visibility": null,
            "width": null
          }
        },
        "1a4f97e154da4410a5c4549a637533aa": {
          "model_module": "@jupyter-widgets/base",
          "model_name": "LayoutModel",
          "model_module_version": "1.2.0",
          "state": {
            "_model_module": "@jupyter-widgets/base",
            "_model_module_version": "1.2.0",
            "_model_name": "LayoutModel",
            "_view_count": null,
            "_view_module": "@jupyter-widgets/base",
            "_view_module_version": "1.2.0",
            "_view_name": "LayoutView",
            "align_content": null,
            "align_items": null,
            "align_self": null,
            "border": null,
            "bottom": null,
            "display": null,
            "flex": null,
            "flex_flow": null,
            "grid_area": null,
            "grid_auto_columns": null,
            "grid_auto_flow": null,
            "grid_auto_rows": null,
            "grid_column": null,
            "grid_gap": null,
            "grid_row": null,
            "grid_template_areas": null,
            "grid_template_columns": null,
            "grid_template_rows": null,
            "height": null,
            "justify_content": null,
            "justify_items": null,
            "left": null,
            "margin": null,
            "max_height": null,
            "max_width": null,
            "min_height": null,
            "min_width": null,
            "object_fit": null,
            "object_position": null,
            "order": null,
            "overflow": null,
            "overflow_x": null,
            "overflow_y": null,
            "padding": null,
            "right": null,
            "top": null,
            "visibility": null,
            "width": null
          }
        },
        "a34f1443a5ca49ceb6593ec2743e317d": {
          "model_module": "@jupyter-widgets/controls",
          "model_name": "DescriptionStyleModel",
          "model_module_version": "1.5.0",
          "state": {
            "_model_module": "@jupyter-widgets/controls",
            "_model_module_version": "1.5.0",
            "_model_name": "DescriptionStyleModel",
            "_view_count": null,
            "_view_module": "@jupyter-widgets/base",
            "_view_module_version": "1.2.0",
            "_view_name": "StyleView",
            "description_width": ""
          }
        },
        "edfeb148c32b4bfcbadc8309b33f49d3": {
          "model_module": "@jupyter-widgets/base",
          "model_name": "LayoutModel",
          "model_module_version": "1.2.0",
          "state": {
            "_model_module": "@jupyter-widgets/base",
            "_model_module_version": "1.2.0",
            "_model_name": "LayoutModel",
            "_view_count": null,
            "_view_module": "@jupyter-widgets/base",
            "_view_module_version": "1.2.0",
            "_view_name": "LayoutView",
            "align_content": null,
            "align_items": null,
            "align_self": null,
            "border": null,
            "bottom": null,
            "display": null,
            "flex": null,
            "flex_flow": null,
            "grid_area": null,
            "grid_auto_columns": null,
            "grid_auto_flow": null,
            "grid_auto_rows": null,
            "grid_column": null,
            "grid_gap": null,
            "grid_row": null,
            "grid_template_areas": null,
            "grid_template_columns": null,
            "grid_template_rows": null,
            "height": null,
            "justify_content": null,
            "justify_items": null,
            "left": null,
            "margin": null,
            "max_height": null,
            "max_width": null,
            "min_height": null,
            "min_width": null,
            "object_fit": null,
            "object_position": null,
            "order": null,
            "overflow": null,
            "overflow_x": null,
            "overflow_y": null,
            "padding": null,
            "right": null,
            "top": null,
            "visibility": null,
            "width": null
          }
        },
        "4493a9b345934d1e8fba485a793012d7": {
          "model_module": "@jupyter-widgets/controls",
          "model_name": "ProgressStyleModel",
          "model_module_version": "1.5.0",
          "state": {
            "_model_module": "@jupyter-widgets/controls",
            "_model_module_version": "1.5.0",
            "_model_name": "ProgressStyleModel",
            "_view_count": null,
            "_view_module": "@jupyter-widgets/base",
            "_view_module_version": "1.2.0",
            "_view_name": "StyleView",
            "bar_color": null,
            "description_width": ""
          }
        },
        "075e4c649a79451eb9034cef7a23092d": {
          "model_module": "@jupyter-widgets/base",
          "model_name": "LayoutModel",
          "model_module_version": "1.2.0",
          "state": {
            "_model_module": "@jupyter-widgets/base",
            "_model_module_version": "1.2.0",
            "_model_name": "LayoutModel",
            "_view_count": null,
            "_view_module": "@jupyter-widgets/base",
            "_view_module_version": "1.2.0",
            "_view_name": "LayoutView",
            "align_content": null,
            "align_items": null,
            "align_self": null,
            "border": null,
            "bottom": null,
            "display": null,
            "flex": null,
            "flex_flow": null,
            "grid_area": null,
            "grid_auto_columns": null,
            "grid_auto_flow": null,
            "grid_auto_rows": null,
            "grid_column": null,
            "grid_gap": null,
            "grid_row": null,
            "grid_template_areas": null,
            "grid_template_columns": null,
            "grid_template_rows": null,
            "height": null,
            "justify_content": null,
            "justify_items": null,
            "left": null,
            "margin": null,
            "max_height": null,
            "max_width": null,
            "min_height": null,
            "min_width": null,
            "object_fit": null,
            "object_position": null,
            "order": null,
            "overflow": null,
            "overflow_x": null,
            "overflow_y": null,
            "padding": null,
            "right": null,
            "top": null,
            "visibility": null,
            "width": null
          }
        },
        "325e2f2db09d4395bbf821b6c1213d1c": {
          "model_module": "@jupyter-widgets/controls",
          "model_name": "DescriptionStyleModel",
          "model_module_version": "1.5.0",
          "state": {
            "_model_module": "@jupyter-widgets/controls",
            "_model_module_version": "1.5.0",
            "_model_name": "DescriptionStyleModel",
            "_view_count": null,
            "_view_module": "@jupyter-widgets/base",
            "_view_module_version": "1.2.0",
            "_view_name": "StyleView",
            "description_width": ""
          }
        }
      }
    }
  },
  "nbformat": 4,
  "nbformat_minor": 5
}