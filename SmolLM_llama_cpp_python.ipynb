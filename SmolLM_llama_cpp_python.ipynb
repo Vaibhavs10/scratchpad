{
  "nbformat": 4,
  "nbformat_minor": 0,
  "metadata": {
    "colab": {
      "provenance": [],
      "authorship_tag": "ABX9TyOV0buHCzsC1YZ4q7k5ldKu",
      "include_colab_link": true
    },
    "kernelspec": {
      "name": "python3",
      "display_name": "Python 3"
    },
    "language_info": {
      "name": "python"
    }
  },
  "cells": [
    {
      "cell_type": "markdown",
      "metadata": {
        "id": "view-in-github",
        "colab_type": "text"
      },
      "source": [
        "<a href=\"https://colab.research.google.com/github/Vaibhavs10/scratchpad/blob/main/SmolLM_llama_cpp_python.ipynb\" target=\"_parent\"><img src=\"https://colab.research.google.com/assets/colab-badge.svg\" alt=\"Open In Colab\"/></a>"
      ]
    },
    {
      "cell_type": "code",
      "execution_count": 1,
      "metadata": {
        "colab": {
          "base_uri": "https://localhost:8080/"
        },
        "id": "29h6rR37WmUc",
        "outputId": "05f23d07-375a-49eb-8395-8d4ab869d6a8"
      },
      "outputs": [
        {
          "output_type": "stream",
          "name": "stdout",
          "text": [
            "Collecting llama-cpp-python\n",
            "  Downloading llama_cpp_python-0.3.1.tar.gz (63.9 MB)\n",
            "\u001b[2K     \u001b[90m━━━━━━━━━━━━━━━━━━━━━━━━━━━━━━━━━━━━━━━━\u001b[0m \u001b[32m63.9/63.9 MB\u001b[0m \u001b[31m8.2 MB/s\u001b[0m eta \u001b[36m0:00:00\u001b[0m\n",
            "\u001b[?25h  Installing build dependencies ... \u001b[?25l\u001b[?25hdone\n",
            "  Getting requirements to build wheel ... \u001b[?25l\u001b[?25hdone\n",
            "  Installing backend dependencies ... \u001b[?25l\u001b[?25hdone\n",
            "  Preparing metadata (pyproject.toml) ... \u001b[?25l\u001b[?25hdone\n",
            "Requirement already satisfied: typing-extensions>=4.5.0 in /usr/local/lib/python3.10/dist-packages (from llama-cpp-python) (4.12.2)\n",
            "Requirement already satisfied: numpy>=1.20.0 in /usr/local/lib/python3.10/dist-packages (from llama-cpp-python) (1.26.4)\n",
            "Collecting diskcache>=5.6.1 (from llama-cpp-python)\n",
            "  Downloading diskcache-5.6.3-py3-none-any.whl.metadata (20 kB)\n",
            "Requirement already satisfied: jinja2>=2.11.3 in /usr/local/lib/python3.10/dist-packages (from llama-cpp-python) (3.1.4)\n",
            "Requirement already satisfied: MarkupSafe>=2.0 in /usr/local/lib/python3.10/dist-packages (from jinja2>=2.11.3->llama-cpp-python) (3.0.2)\n",
            "Downloading diskcache-5.6.3-py3-none-any.whl (45 kB)\n",
            "\u001b[2K   \u001b[90m━━━━━━━━━━━━━━━━━━━━━━━━━━━━━━━━━━━━━━━━\u001b[0m \u001b[32m45.5/45.5 kB\u001b[0m \u001b[31m2.2 MB/s\u001b[0m eta \u001b[36m0:00:00\u001b[0m\n",
            "\u001b[?25hBuilding wheels for collected packages: llama-cpp-python\n",
            "  Building wheel for llama-cpp-python (pyproject.toml) ... \u001b[?25l\u001b[?25hdone\n",
            "  Created wheel for llama-cpp-python: filename=llama_cpp_python-0.3.1-cp310-cp310-linux_x86_64.whl size=3485367 sha256=3fd82d52faa3440b4039e3995b055a27d6240a360fe1746a36dc44c8cea8f6ef\n",
            "  Stored in directory: /root/.cache/pip/wheels/f8/b0/a2/f47d952aec7ab061b9e2a345e23a1e1e137beb7891259e3d0c\n",
            "Successfully built llama-cpp-python\n",
            "Installing collected packages: diskcache, llama-cpp-python\n",
            "Successfully installed diskcache-5.6.3 llama-cpp-python-0.3.1\n"
          ]
        }
      ],
      "source": [
        "!pip install llama-cpp-python"
      ]
    },
    {
      "cell_type": "code",
      "source": [
        "from llama_cpp import Llama\n",
        "llm = Llama.from_pretrained(\n",
        "    repo_id=\"HuggingFaceTB/smollm2-1b-numina-dpo-mix3-1e6-b50-Q8_0-GGUF\",\n",
        "    filename=\"*q8_0.gguf\",\n",
        ")\n",
        "llm.create_chat_completion(\n",
        "      messages = [\n",
        "          {\n",
        "              \"role\": \"user\",\n",
        "              \"content\": \"What is the capital of France?\"\n",
        "          }\n",
        "      ]\n",
        ")\n"
      ],
      "metadata": {
        "colab": {
          "base_uri": "https://localhost:8080/"
        },
        "id": "jxMPrRJJYcJ9",
        "outputId": "8a5b7ce4-668c-4cc1-e199-740dc77e3d36"
      },
      "execution_count": 3,
      "outputs": [
        {
          "output_type": "stream",
          "name": "stderr",
          "text": [
            "llama_model_loader: loaded meta data with 37 key-value pairs and 218 tensors from /root/.cache/huggingface/hub/models--HuggingFaceTB--smollm2-1b-numina-dpo-mix3-1e6-b50-Q8_0-GGUF/snapshots/666aa1c7b8f20d23810f04836ccf649cb947c293/./smollm2-1b-numina-dpo-mix3-1e6-b50-q8_0.gguf (version GGUF V3 (latest))\n",
            "llama_model_loader: Dumping metadata keys/values. Note: KV overrides do not apply in this output.\n",
            "llama_model_loader: - kv   0:                       general.architecture str              = llama\n",
            "llama_model_loader: - kv   1:                               general.type str              = model\n",
            "llama_model_loader: - kv   2:                               general.name str              = Smollm2 1.7B Mix4 3e4 Numina 100k Met...\n",
            "llama_model_loader: - kv   3:                       general.organization str              = Loubnabnl\n",
            "llama_model_loader: - kv   4:                           general.finetune str              = mix4-3e4-numina-100k-metam-100k\n",
            "llama_model_loader: - kv   5:                           general.basename str              = smollm2\n",
            "llama_model_loader: - kv   6:                         general.size_label str              = 1.7B\n",
            "llama_model_loader: - kv   7:                   general.base_model.count u32              = 1\n",
            "llama_model_loader: - kv   8:                  general.base_model.0.name str              = Smollm2 1.7B Mix4 3e4 Numina 100k Met...\n",
            "llama_model_loader: - kv   9:          general.base_model.0.organization str              = Loubnabnl\n",
            "llama_model_loader: - kv  10:              general.base_model.0.repo_url str              = https://huggingface.co/loubnabnl/smol...\n",
            "llama_model_loader: - kv  11:                               general.tags arr[str,7]       = [\"alignment-handbook\", \"trl\", \"dpo\", ...\n",
            "llama_model_loader: - kv  12:                           general.datasets arr[str,3]       = [\"HuggingFaceH4/ultrafeedback_binariz...\n",
            "llama_model_loader: - kv  13:                          llama.block_count u32              = 24\n",
            "llama_model_loader: - kv  14:                       llama.context_length u32              = 2048\n",
            "llama_model_loader: - kv  15:                     llama.embedding_length u32              = 2048\n",
            "llama_model_loader: - kv  16:                  llama.feed_forward_length u32              = 8192\n",
            "llama_model_loader: - kv  17:                 llama.attention.head_count u32              = 32\n",
            "llama_model_loader: - kv  18:              llama.attention.head_count_kv u32              = 32\n",
            "llama_model_loader: - kv  19:                       llama.rope.freq_base f32              = 10000.000000\n",
            "llama_model_loader: - kv  20:     llama.attention.layer_norm_rms_epsilon f32              = 0.000010\n",
            "llama_model_loader: - kv  21:                          general.file_type u32              = 7\n",
            "llama_model_loader: - kv  22:                           llama.vocab_size u32              = 49152\n",
            "llama_model_loader: - kv  23:                 llama.rope.dimension_count u32              = 64\n",
            "llama_model_loader: - kv  24:            tokenizer.ggml.add_space_prefix bool             = false\n",
            "llama_model_loader: - kv  25:               tokenizer.ggml.add_bos_token bool             = false\n",
            "llama_model_loader: - kv  26:                       tokenizer.ggml.model str              = gpt2\n",
            "llama_model_loader: - kv  27:                         tokenizer.ggml.pre str              = smollm\n",
            "llama_model_loader: - kv  28:                      tokenizer.ggml.tokens arr[str,49152]   = [\"<|endoftext|>\", \"<|im_start|>\", \"<|...\n",
            "llama_model_loader: - kv  29:                  tokenizer.ggml.token_type arr[i32,49152]   = [3, 3, 3, 3, 3, 3, 3, 3, 3, 3, 3, 3, ...\n",
            "llama_model_loader: - kv  30:                      tokenizer.ggml.merges arr[str,48900]   = [\"Ġ t\", \"Ġ a\", \"i n\", \"h e\", \"Ġ Ġ...\n",
            "llama_model_loader: - kv  31:                tokenizer.ggml.bos_token_id u32              = 1\n",
            "llama_model_loader: - kv  32:                tokenizer.ggml.eos_token_id u32              = 2\n",
            "llama_model_loader: - kv  33:            tokenizer.ggml.unknown_token_id u32              = 0\n",
            "llama_model_loader: - kv  34:            tokenizer.ggml.padding_token_id u32              = 2\n",
            "llama_model_loader: - kv  35:                    tokenizer.chat_template str              = {% for message in messages %}{{'<|im_...\n",
            "llama_model_loader: - kv  36:               general.quantization_version u32              = 2\n",
            "llama_model_loader: - type  f32:   49 tensors\n",
            "llama_model_loader: - type q8_0:  169 tensors\n",
            "llm_load_vocab: special tokens cache size = 17\n",
            "llm_load_vocab: token to piece cache size = 0.3170 MB\n",
            "llm_load_print_meta: format           = GGUF V3 (latest)\n",
            "llm_load_print_meta: arch             = llama\n",
            "llm_load_print_meta: vocab type       = BPE\n",
            "llm_load_print_meta: n_vocab          = 49152\n",
            "llm_load_print_meta: n_merges         = 48900\n",
            "llm_load_print_meta: vocab_only       = 0\n",
            "llm_load_print_meta: n_ctx_train      = 2048\n",
            "llm_load_print_meta: n_embd           = 2048\n",
            "llm_load_print_meta: n_layer          = 24\n",
            "llm_load_print_meta: n_head           = 32\n",
            "llm_load_print_meta: n_head_kv        = 32\n",
            "llm_load_print_meta: n_rot            = 64\n",
            "llm_load_print_meta: n_swa            = 0\n",
            "llm_load_print_meta: n_embd_head_k    = 64\n",
            "llm_load_print_meta: n_embd_head_v    = 64\n",
            "llm_load_print_meta: n_gqa            = 1\n",
            "llm_load_print_meta: n_embd_k_gqa     = 2048\n",
            "llm_load_print_meta: n_embd_v_gqa     = 2048\n",
            "llm_load_print_meta: f_norm_eps       = 0.0e+00\n",
            "llm_load_print_meta: f_norm_rms_eps   = 1.0e-05\n",
            "llm_load_print_meta: f_clamp_kqv      = 0.0e+00\n",
            "llm_load_print_meta: f_max_alibi_bias = 0.0e+00\n",
            "llm_load_print_meta: f_logit_scale    = 0.0e+00\n",
            "llm_load_print_meta: n_ff             = 8192\n",
            "llm_load_print_meta: n_expert         = 0\n",
            "llm_load_print_meta: n_expert_used    = 0\n",
            "llm_load_print_meta: causal attn      = 1\n",
            "llm_load_print_meta: pooling type     = 0\n",
            "llm_load_print_meta: rope type        = 0\n",
            "llm_load_print_meta: rope scaling     = linear\n",
            "llm_load_print_meta: freq_base_train  = 10000.0\n",
            "llm_load_print_meta: freq_scale_train = 1\n",
            "llm_load_print_meta: n_ctx_orig_yarn  = 2048\n",
            "llm_load_print_meta: rope_finetuned   = unknown\n",
            "llm_load_print_meta: ssm_d_conv       = 0\n",
            "llm_load_print_meta: ssm_d_inner      = 0\n",
            "llm_load_print_meta: ssm_d_state      = 0\n",
            "llm_load_print_meta: ssm_dt_rank      = 0\n",
            "llm_load_print_meta: ssm_dt_b_c_rms   = 0\n",
            "llm_load_print_meta: model type       = ?B\n",
            "llm_load_print_meta: model ftype      = Q8_0\n",
            "llm_load_print_meta: model params     = 1.71 B\n",
            "llm_load_print_meta: model size       = 1.69 GiB (8.50 BPW) \n",
            "llm_load_print_meta: general.name     = Smollm2 1.7B Mix4 3e4 Numina 100k Metam 100k\n",
            "llm_load_print_meta: BOS token        = 1 '<|im_start|>'\n",
            "llm_load_print_meta: EOS token        = 2 '<|im_end|>'\n",
            "llm_load_print_meta: UNK token        = 0 '<|endoftext|>'\n",
            "llm_load_print_meta: PAD token        = 2 '<|im_end|>'\n",
            "llm_load_print_meta: LF token         = 143 'Ä'\n",
            "llm_load_print_meta: EOT token        = 0 '<|endoftext|>'\n",
            "llm_load_print_meta: EOG token        = 0 '<|endoftext|>'\n",
            "llm_load_print_meta: EOG token        = 2 '<|im_end|>'\n",
            "llm_load_print_meta: max token length = 162\n",
            "llm_load_tensors: ggml ctx size =    0.10 MiB\n",
            "llm_load_tensors:        CPU buffer size =  1734.38 MiB\n",
            "...........................................................................................\n",
            "llama_new_context_with_model: n_ctx      = 512\n",
            "llama_new_context_with_model: n_batch    = 512\n",
            "llama_new_context_with_model: n_ubatch   = 512\n",
            "llama_new_context_with_model: flash_attn = 0\n",
            "llama_new_context_with_model: freq_base  = 10000.0\n",
            "llama_new_context_with_model: freq_scale = 1\n",
            "llama_kv_cache_init:        CPU KV buffer size =    96.00 MiB\n",
            "llama_new_context_with_model: KV self size  =   96.00 MiB, K (f16):   48.00 MiB, V (f16):   48.00 MiB\n",
            "llama_new_context_with_model:        CPU  output buffer size =     0.19 MiB\n",
            "llama_new_context_with_model:        CPU compute buffer size =   100.00 MiB\n",
            "llama_new_context_with_model: graph nodes  = 774\n",
            "llama_new_context_with_model: graph splits = 1\n",
            "AVX = 1 | AVX_VNNI = 0 | AVX2 = 1 | AVX512 = 0 | AVX512_VBMI = 0 | AVX512_VNNI = 0 | AVX512_BF16 = 0 | FMA = 1 | NEON = 0 | SVE = 0 | ARM_FMA = 0 | F16C = 1 | FP16_VA = 0 | RISCV_VECT = 0 | WASM_SIMD = 0 | BLAS = 0 | SSE3 = 1 | SSSE3 = 1 | VSX = 0 | MATMUL_INT8 = 0 | LLAMAFILE = 1 | \n",
            "Model metadata: {'general.quantization_version': '2', 'tokenizer.chat_template': \"{% for message in messages %}{{'<|im_start|>' + message['role'] + '\\n' + message['content'] + '<|im_end|>' + '\\n'}}{% endfor %}{% if add_generation_prompt %}{{ '<|im_start|>assistant\\n' }}{% endif %}\", 'tokenizer.ggml.padding_token_id': '2', 'general.type': 'model', 'general.base_model.0.repo_url': 'https://huggingface.co/loubnabnl/smollm2-1.7B-mix4-3e4-numina-100k-metam-100k', 'general.organization': 'Loubnabnl', 'general.base_model.0.name': 'Smollm2 1.7B Mix4 3e4 Numina 100k Metam 100k', 'llama.context_length': '2048', 'llama.embedding_length': '2048', 'general.size_label': '1.7B', 'tokenizer.ggml.add_bos_token': 'false', 'general.basename': 'smollm2', 'llama.attention.head_count_kv': '32', 'general.architecture': 'llama', 'general.base_model.count': '1', 'general.base_model.0.organization': 'Loubnabnl', 'llama.feed_forward_length': '8192', 'llama.block_count': '24', 'llama.attention.head_count': '32', 'general.name': 'Smollm2 1.7B Mix4 3e4 Numina 100k Metam 100k', 'tokenizer.ggml.bos_token_id': '1', 'llama.rope.freq_base': '10000.000000', 'general.finetune': 'mix4-3e4-numina-100k-metam-100k', 'general.file_type': '7', 'tokenizer.ggml.pre': 'smollm', 'llama.vocab_size': '49152', 'llama.rope.dimension_count': '64', 'tokenizer.ggml.add_space_prefix': 'false', 'tokenizer.ggml.model': 'gpt2', 'llama.attention.layer_norm_rms_epsilon': '0.000010', 'tokenizer.ggml.eos_token_id': '2', 'tokenizer.ggml.unknown_token_id': '0'}\n",
            "Available chat formats from metadata: chat_template.default\n",
            "Guessed chat format: chatml\n",
            "llama_perf_context_print:        load time =    2452.47 ms\n",
            "llama_perf_context_print: prompt eval time =       0.00 ms /    21 tokens (    0.00 ms per token,      inf tokens per second)\n",
            "llama_perf_context_print:        eval time =       0.00 ms /    79 runs   (    0.00 ms per token,      inf tokens per second)\n",
            "llama_perf_context_print:       total time =   21047.71 ms /   100 tokens\n"
          ]
        },
        {
          "output_type": "execute_result",
          "data": {
            "text/plain": [
              "{'id': 'chatcmpl-021096c9-2e5e-46ac-924a-6715197c4e86',\n",
              " 'object': 'chat.completion',\n",
              " 'created': 1730210250,\n",
              " 'model': '/root/.cache/huggingface/hub/models--HuggingFaceTB--smollm2-1b-numina-dpo-mix3-1e6-b50-Q8_0-GGUF/snapshots/666aa1c7b8f20d23810f04836ccf649cb947c293/./smollm2-1b-numina-dpo-mix3-1e6-b50-q8_0.gguf',\n",
              " 'choices': [{'index': 0,\n",
              "   'message': {'role': 'assistant',\n",
              "    'content': 'The capital of France is Paris. Paris is a city located in the northern part of the country and is known for its historical landmarks, cultural institutions, and romantic atmosphere. It is also the most populous city in France, with a population of approximately 2.2 million people. Paris is a major international center for art, fashion, gastronomy, and culture, attracting millions of visitors each year.'},\n",
              "   'logprobs': None,\n",
              "   'finish_reason': 'stop'}],\n",
              " 'usage': {'prompt_tokens': 21, 'completion_tokens': 79, 'total_tokens': 100}}"
            ]
          },
          "metadata": {},
          "execution_count": 3
        }
      ]
    },
    {
      "cell_type": "code",
      "source": [],
      "metadata": {
        "id": "oukC1iQTCeyl"
      },
      "execution_count": null,
      "outputs": []
    }
  ]
}