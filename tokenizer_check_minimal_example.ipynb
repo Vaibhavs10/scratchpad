{
  "cells": [
    {
      "cell_type": "markdown",
      "metadata": {
        "id": "view-in-github",
        "colab_type": "text"
      },
      "source": [
        "<a href=\"https://colab.research.google.com/github/Vaibhavs10/scratchpad/blob/main/tokenizer_check_minimal_example.ipynb\" target=\"_parent\"><img src=\"https://colab.research.google.com/assets/colab-badge.svg\" alt=\"Open In Colab\"/></a>"
      ]
    },
    {
      "cell_type": "code",
      "source": [
        "!pip install -q git+https://github.com/google/gemma_pytorch.git git+https://github.com/huggingface/transformers.git datasets"
      ],
      "metadata": {
        "colab": {
          "base_uri": "https://localhost:8080/"
        },
        "id": "S_NiZpMhijvX",
        "outputId": "36f10e2e-5ac7-4c6f-8cff-4688ce6df21b"
      },
      "id": "S_NiZpMhijvX",
      "execution_count": 1,
      "outputs": [
        {
          "output_type": "stream",
          "name": "stdout",
          "text": [
            "  Preparing metadata (setup.py) ... \u001b[?25l\u001b[?25hdone\n",
            "  Installing build dependencies ... \u001b[?25l\u001b[?25hdone\n",
            "  Getting requirements to build wheel ... \u001b[?25l\u001b[?25hdone\n",
            "  Preparing metadata (pyproject.toml) ... \u001b[?25l\u001b[?25hdone\n",
            "\u001b[2K   \u001b[90m━━━━━━━━━━━━━━━━━━━━━━━━━━━━━━━━━━━━━━━━\u001b[0m \u001b[32m17.3/17.3 MB\u001b[0m \u001b[31m27.4 MB/s\u001b[0m eta \u001b[36m0:00:00\u001b[0m\n",
            "\u001b[2K   \u001b[90m━━━━━━━━━━━━━━━━━━━━━━━━━━━━━━━━━━━━━━━━\u001b[0m \u001b[32m1.3/1.3 MB\u001b[0m \u001b[31m37.9 MB/s\u001b[0m eta \u001b[36m0:00:00\u001b[0m\n",
            "\u001b[2K   \u001b[90m━━━━━━━━━━━━━━━━━━━━━━━━━━━━━━━━━━━━━━━━\u001b[0m \u001b[32m471.6/471.6 kB\u001b[0m \u001b[31m20.8 MB/s\u001b[0m eta \u001b[36m0:00:00\u001b[0m\n",
            "\u001b[2K   \u001b[90m━━━━━━━━━━━━━━━━━━━━━━━━━━━━━━━━━━━━━━━━\u001b[0m \u001b[32m116.3/116.3 kB\u001b[0m \u001b[31m6.0 MB/s\u001b[0m eta \u001b[36m0:00:00\u001b[0m\n",
            "\u001b[2K   \u001b[90m━━━━━━━━━━━━━━━━━━━━━━━━━━━━━━━━━━━━━━━━\u001b[0m \u001b[32m2.9/2.9 MB\u001b[0m \u001b[31m20.8 MB/s\u001b[0m eta \u001b[36m0:00:00\u001b[0m\n",
            "\u001b[2K   \u001b[90m━━━━━━━━━━━━━━━━━━━━━━━━━━━━━━━━━━━━━━━━\u001b[0m \u001b[32m134.8/134.8 kB\u001b[0m \u001b[31m5.1 MB/s\u001b[0m eta \u001b[36m0:00:00\u001b[0m\n",
            "\u001b[2K   \u001b[90m━━━━━━━━━━━━━━━━━━━━━━━━━━━━━━━━━━━━━━━━\u001b[0m \u001b[32m194.1/194.1 kB\u001b[0m \u001b[31m8.6 MB/s\u001b[0m eta \u001b[36m0:00:00\u001b[0m\n",
            "\u001b[?25h  Building wheel for gemma (setup.py) ... \u001b[?25l\u001b[?25hdone\n",
            "  Building wheel for transformers (pyproject.toml) ... \u001b[?25l\u001b[?25hdone\n"
          ]
        }
      ]
    },
    {
      "cell_type": "code",
      "execution_count": null,
      "id": "04eafdc4",
      "metadata": {
        "id": "04eafdc4"
      },
      "outputs": [],
      "source": [
        "from gemma.tokenizer import Tokenizer"
      ]
    },
    {
      "cell_type": "code",
      "execution_count": null,
      "id": "aae9d9de",
      "metadata": {
        "id": "aae9d9de"
      },
      "outputs": [],
      "source": [
        "original = Tokenizer(\"tokenizer-2.model\")"
      ]
    },
    {
      "cell_type": "code",
      "execution_count": null,
      "id": "06b063cf",
      "metadata": {
        "id": "06b063cf"
      },
      "outputs": [],
      "source": [
        "from transformers import GemmaTokenizer, AutoTokenizer"
      ]
    },
    {
      "cell_type": "code",
      "execution_count": null,
      "id": "a584d69f",
      "metadata": {
        "colab": {
          "base_uri": "https://localhost:8080/",
          "height": 54,
          "referenced_widgets": [
            "ebe1b9f88e744de697d85412e6c9b7ce",
            "12bc5a30e56642cfa77c20b24f76adf7",
            "ae8737da5fcd49b391c6332ff913a12c",
            "515034d192de4801b205cb236de5a362",
            "bb5abad3302d4af184385f4a87698fc7",
            "1a4f97e154da4410a5c4549a637533aa",
            "a34f1443a5ca49ceb6593ec2743e317d",
            "edfeb148c32b4bfcbadc8309b33f49d3",
            "4493a9b345934d1e8fba485a793012d7",
            "075e4c649a79451eb9034cef7a23092d",
            "325e2f2db09d4395bbf821b6c1213d1c"
          ]
        },
        "id": "a584d69f",
        "outputId": "10ede5fc-aaec-476e-8e1e-3fcb55d506d7"
      },
      "outputs": [
        {
          "output_type": "display_data",
          "data": {
            "text/plain": [
              "tokenizer_config.json:   0%|          | 0.00/39.9k [00:00<?, ?B/s]"
            ],
            "application/vnd.jupyter.widget-view+json": {
              "version_major": 2,
              "version_minor": 0,
              "model_id": "ebe1b9f88e744de697d85412e6c9b7ce"
            }
          },
          "metadata": {}
        }
      ],
      "source": [
        "t_fast = AutoTokenizer.from_pretrained(\"google/gemma2-2b\", revision=\"pr/4\")\n",
        "t_slow = GemmaTokenizer.from_pretrained(\"google/gemma2-2b\", revision=\"pr/4\")\n",
        "\n",
        "# t_fast = AutoTokenizer.from_pretrained(\"google/recurrentgemma-2b\", revision=\"main\")\n",
        "# t_slow = GemmaTokenizer.from_pretrained(\"google/recurrentgemma-2b\", revision=\"main\")"
      ]
    },
    {
      "cell_type": "code",
      "execution_count": null,
      "id": "0160405a",
      "metadata": {
        "id": "0160405a"
      },
      "outputs": [],
      "source": [
        "from datasets import load_dataset"
      ]
    },
    {
      "cell_type": "code",
      "execution_count": null,
      "id": "a743115c",
      "metadata": {
        "id": "a743115c"
      },
      "outputs": [],
      "source": [
        "xnli = load_dataset(\"xnli\", \"all_languages\", split=\"validation\")"
      ]
    },
    {
      "cell_type": "code",
      "execution_count": null,
      "id": "ab230921",
      "metadata": {
        "id": "ab230921"
      },
      "outputs": [],
      "source": [
        "p = next(iter(xnli[\"premise\"]))"
      ]
    },
    {
      "cell_type": "code",
      "execution_count": null,
      "id": "ce5450df",
      "metadata": {
        "id": "ce5450df"
      },
      "outputs": [],
      "source": [
        "for lang, text in p.items():\n",
        "    encoded_original = original.encode(text, bos=True, eos=False)\n",
        "    encoded_fast = t_fast.encode(text)\n",
        "    encoded_slow = t_slow.encode(text)\n",
        "    assert encoded_fast == encoded_original, f\"Fast encode error: {lang} - {text}\"\n",
        "    assert encoded_slow == encoded_original, f\"Slow encode error: {lang} - {text}\"\n",
        "    decoded = original.decode(encoded_original)\n",
        "    decoded_fast = t_fast.decode(encoded_fast, skip_special_tokens=True)\n",
        "    decoded_slow = t_slow.decode(encoded_slow, skip_special_tokens=True)\n",
        "    assert decoded_fast == decoded, f\"Fast decode error: {lang} - {text}\"\n",
        "    assert decoded_slow == decoded, f\"Slow decode error: {lang} - {text}\""
      ]
    },
    {
      "cell_type": "code",
      "execution_count": null,
      "id": "111bd93b",
      "metadata": {
        "id": "111bd93b"
      },
      "outputs": [],
      "source": [
        "from tqdm import tqdm"
      ]
    },
    {
      "cell_type": "code",
      "execution_count": null,
      "id": "9a52691b",
      "metadata": {
        "id": "9a52691b"
      },
      "outputs": [],
      "source": [
        "def verify(lang, text):\n",
        "    encoded_original = original.encode(text, bos=True, eos=False)\n",
        "    encoded_fast = t_fast.encode(text)\n",
        "    encoded_slow = t_slow.encode(text)\n",
        "#     assert encoded_fast == encoded_original, f\"Fast encode error: {lang} - {text}\"\n",
        "    assert encoded_slow == encoded_original, f\"Slow encode error: {lang} - {text}\"\n",
        "    decoded = original.decode(encoded_original)\n",
        "    decoded_fast = t_fast.decode(encoded_fast, skip_special_tokens=True)\n",
        "    decoded_slow = t_slow.decode(encoded_slow, skip_special_tokens=True)\n",
        "#     assert decoded_fast == decoded, f\"Fast decode error: {lang} - {text}\"\n",
        "    assert decoded_slow == decoded, f\"Slow decode error: {lang} - {text}\""
      ]
    },
    {
      "cell_type": "code",
      "execution_count": null,
      "id": "f3123ffd",
      "metadata": {
        "colab": {
          "base_uri": "https://localhost:8080/"
        },
        "id": "f3123ffd",
        "outputId": "385ff29c-1b72-481d-bde6-5666fd93929c"
      },
      "outputs": [
        {
          "output_type": "stream",
          "name": "stderr",
          "text": [
            "100%|██████████| 2490/2490 [01:18<00:00, 31.75it/s]\n"
          ]
        }
      ],
      "source": [
        "for p in tqdm(xnli[\"premise\"]):\n",
        "    for lang, text in p.items():\n",
        "        verify(lang, text)"
      ]
    },
    {
      "cell_type": "code",
      "source": [
        "def verify(lang, text):\n",
        "    encoded_original = original.encode(text, bos=True, eos=False)\n",
        "    encoded_fast = t_fast.encode(text)\n",
        "    encoded_slow = t_slow.encode(text)\n",
        "    assert encoded_fast == encoded_original, f\"Fast encode error: {lang} - {text}\"\n",
        "    # assert encoded_slow == encoded_original, f\"Slow encode error: {lang} - {text}\"\n",
        "    decoded = original.decode(encoded_original)\n",
        "    decoded_fast = t_fast.decode(encoded_fast, skip_special_tokens=True)\n",
        "    decoded_slow = t_slow.decode(encoded_slow, skip_special_tokens=True)\n",
        "    assert decoded_fast == decoded, f\"Fast decode error: {lang} - {text}\"\n",
        "    # assert decoded_slow == decoded, f\"Slow decode error: {lang} - {text}\""
      ],
      "metadata": {
        "id": "S2DO5G7pONau"
      },
      "id": "S2DO5G7pONau",
      "execution_count": null,
      "outputs": []
    },
    {
      "cell_type": "code",
      "source": [
        "for p in tqdm(xnli[\"premise\"]):\n",
        "    for lang, text in p.items():\n",
        "        verify(lang, text)"
      ],
      "metadata": {
        "colab": {
          "base_uri": "https://localhost:8080/"
        },
        "id": "-0lc9WPsOODx",
        "outputId": "011328bb-ceb6-438a-bfdc-8a8938ba4fca"
      },
      "id": "-0lc9WPsOODx",
      "execution_count": null,
      "outputs": [
        {
          "output_type": "stream",
          "name": "stderr",
          "text": [
            "100%|██████████| 2490/2490 [01:15<00:00, 33.08it/s]\n"
          ]
        }
      ]
    }
  ],
  "metadata": {
    "kernelspec": {
      "display_name": "Python 3 (ipykernel)",
      "language": "python",
      "name": "python3"
    },
    "language_info": {
      "codemirror_mode": {
        "name": "ipython",
        "version": 3
      },
      "file_extension": ".py",
      "mimetype": "text/x-python",
      "name": "python",
      "nbconvert_exporter": "python",
      "pygments_lexer": "ipython3",
      "version": "3.10.12"
    },
    "colab": {
      "provenance": [],
      "include_colab_link": true
    },
    "widgets": {
      "application/vnd.jupyter.widget-state+json": {
        "ebe1b9f88e744de697d85412e6c9b7ce": {
          "model_module": "@jupyter-widgets/controls",
          "model_name": "HBoxModel",
          "model_module_version": "1.5.0",
          "state": {
            "_dom_classes": [],
            "_model_module": "@jupyter-widgets/controls",
            "_model_module_version": "1.5.0",
            "_model_name": "HBoxModel",
            "_view_count": null,
            "_view_module": "@jupyter-widgets/controls",
            "_view_module_version": "1.5.0",
            "_view_name": "HBoxView",
            "box_style": "",
            "children": [
              "IPY_MODEL_12bc5a30e56642cfa77c20b24f76adf7",
              "IPY_MODEL_ae8737da5fcd49b391c6332ff913a12c",
              "IPY_MODEL_515034d192de4801b205cb236de5a362"
            ],
            "layout": "IPY_MODEL_bb5abad3302d4af184385f4a87698fc7"
          }
        },
        "12bc5a30e56642cfa77c20b24f76adf7": {
          "model_module": "@jupyter-widgets/controls",
          "model_name": "HTMLModel",
          "model_module_version": "1.5.0",
          "state": {
            "_dom_classes": [],
            "_model_module": "@jupyter-widgets/controls",
            "_model_module_version": "1.5.0",
            "_model_name": "HTMLModel",
            "_view_count": null,
            "_view_module": "@jupyter-widgets/controls",
            "_view_module_version": "1.5.0",
            "_view_name": "HTMLView",
            "description": "",
            "description_tooltip": null,
            "layout": "IPY_MODEL_1a4f97e154da4410a5c4549a637533aa",
            "placeholder": "​",
            "style": "IPY_MODEL_a34f1443a5ca49ceb6593ec2743e317d",
            "value": "tokenizer_config.json: 100%"
          }
        },
        "ae8737da5fcd49b391c6332ff913a12c": {
          "model_module": "@jupyter-widgets/controls",
          "model_name": "FloatProgressModel",
          "model_module_version": "1.5.0",
          "state": {
            "_dom_classes": [],
            "_model_module": "@jupyter-widgets/controls",
            "_model_module_version": "1.5.0",
            "_model_name": "FloatProgressModel",
            "_view_count": null,
            "_view_module": "@jupyter-widgets/controls",
            "_view_module_version": "1.5.0",
            "_view_name": "ProgressView",
            "bar_style": "success",
            "description": "",
            "description_tooltip": null,
            "layout": "IPY_MODEL_edfeb148c32b4bfcbadc8309b33f49d3",
            "max": 39865,
            "min": 0,
            "orientation": "horizontal",
            "style": "IPY_MODEL_4493a9b345934d1e8fba485a793012d7",
            "value": 39865
          }
        },
        "515034d192de4801b205cb236de5a362": {
          "model_module": "@jupyter-widgets/controls",
          "model_name": "HTMLModel",
          "model_module_version": "1.5.0",
          "state": {
            "_dom_classes": [],
            "_model_module": "@jupyter-widgets/controls",
            "_model_module_version": "1.5.0",
            "_model_name": "HTMLModel",
            "_view_count": null,
            "_view_module": "@jupyter-widgets/controls",
            "_view_module_version": "1.5.0",
            "_view_name": "HTMLView",
            "description": "",
            "description_tooltip": null,
            "layout": "IPY_MODEL_075e4c649a79451eb9034cef7a23092d",
            "placeholder": "​",
            "style": "IPY_MODEL_325e2f2db09d4395bbf821b6c1213d1c",
            "value": " 39.9k/39.9k [00:00&lt;00:00, 2.05MB/s]"
          }
        },
        "bb5abad3302d4af184385f4a87698fc7": {
          "model_module": "@jupyter-widgets/base",
          "model_name": "LayoutModel",
          "model_module_version": "1.2.0",
          "state": {
            "_model_module": "@jupyter-widgets/base",
            "_model_module_version": "1.2.0",
            "_model_name": "LayoutModel",
            "_view_count": null,
            "_view_module": "@jupyter-widgets/base",
            "_view_module_version": "1.2.0",
            "_view_name": "LayoutView",
            "align_content": null,
            "align_items": null,
            "align_self": null,
            "border": null,
            "bottom": null,
            "display": null,
            "flex": null,
            "flex_flow": null,
            "grid_area": null,
            "grid_auto_columns": null,
            "grid_auto_flow": null,
            "grid_auto_rows": null,
            "grid_column": null,
            "grid_gap": null,
            "grid_row": null,
            "grid_template_areas": null,
            "grid_template_columns": null,
            "grid_template_rows": null,
            "height": null,
            "justify_content": null,
            "justify_items": null,
            "left": null,
            "margin": null,
            "max_height": null,
            "max_width": null,
            "min_height": null,
            "min_width": null,
            "object_fit": null,
            "object_position": null,
            "order": null,
            "overflow": null,
            "overflow_x": null,
            "overflow_y": null,
            "padding": null,
            "right": null,
            "top": null,
            "visibility": null,
            "width": null
          }
        },
        "1a4f97e154da4410a5c4549a637533aa": {
          "model_module": "@jupyter-widgets/base",
          "model_name": "LayoutModel",
          "model_module_version": "1.2.0",
          "state": {
            "_model_module": "@jupyter-widgets/base",
            "_model_module_version": "1.2.0",
            "_model_name": "LayoutModel",
            "_view_count": null,
            "_view_module": "@jupyter-widgets/base",
            "_view_module_version": "1.2.0",
            "_view_name": "LayoutView",
            "align_content": null,
            "align_items": null,
            "align_self": null,
            "border": null,
            "bottom": null,
            "display": null,
            "flex": null,
            "flex_flow": null,
            "grid_area": null,
            "grid_auto_columns": null,
            "grid_auto_flow": null,
            "grid_auto_rows": null,
            "grid_column": null,
            "grid_gap": null,
            "grid_row": null,
            "grid_template_areas": null,
            "grid_template_columns": null,
            "grid_template_rows": null,
            "height": null,
            "justify_content": null,
            "justify_items": null,
            "left": null,
            "margin": null,
            "max_height": null,
            "max_width": null,
            "min_height": null,
            "min_width": null,
            "object_fit": null,
            "object_position": null,
            "order": null,
            "overflow": null,
            "overflow_x": null,
            "overflow_y": null,
            "padding": null,
            "right": null,
            "top": null,
            "visibility": null,
            "width": null
          }
        },
        "a34f1443a5ca49ceb6593ec2743e317d": {
          "model_module": "@jupyter-widgets/controls",
          "model_name": "DescriptionStyleModel",
          "model_module_version": "1.5.0",
          "state": {
            "_model_module": "@jupyter-widgets/controls",
            "_model_module_version": "1.5.0",
            "_model_name": "DescriptionStyleModel",
            "_view_count": null,
            "_view_module": "@jupyter-widgets/base",
            "_view_module_version": "1.2.0",
            "_view_name": "StyleView",
            "description_width": ""
          }
        },
        "edfeb148c32b4bfcbadc8309b33f49d3": {
          "model_module": "@jupyter-widgets/base",
          "model_name": "LayoutModel",
          "model_module_version": "1.2.0",
          "state": {
            "_model_module": "@jupyter-widgets/base",
            "_model_module_version": "1.2.0",
            "_model_name": "LayoutModel",
            "_view_count": null,
            "_view_module": "@jupyter-widgets/base",
            "_view_module_version": "1.2.0",
            "_view_name": "LayoutView",
            "align_content": null,
            "align_items": null,
            "align_self": null,
            "border": null,
            "bottom": null,
            "display": null,
            "flex": null,
            "flex_flow": null,
            "grid_area": null,
            "grid_auto_columns": null,
            "grid_auto_flow": null,
            "grid_auto_rows": null,
            "grid_column": null,
            "grid_gap": null,
            "grid_row": null,
            "grid_template_areas": null,
            "grid_template_columns": null,
            "grid_template_rows": null,
            "height": null,
            "justify_content": null,
            "justify_items": null,
            "left": null,
            "margin": null,
            "max_height": null,
            "max_width": null,
            "min_height": null,
            "min_width": null,
            "object_fit": null,
            "object_position": null,
            "order": null,
            "overflow": null,
            "overflow_x": null,
            "overflow_y": null,
            "padding": null,
            "right": null,
            "top": null,
            "visibility": null,
            "width": null
          }
        },
        "4493a9b345934d1e8fba485a793012d7": {
          "model_module": "@jupyter-widgets/controls",
          "model_name": "ProgressStyleModel",
          "model_module_version": "1.5.0",
          "state": {
            "_model_module": "@jupyter-widgets/controls",
            "_model_module_version": "1.5.0",
            "_model_name": "ProgressStyleModel",
            "_view_count": null,
            "_view_module": "@jupyter-widgets/base",
            "_view_module_version": "1.2.0",
            "_view_name": "StyleView",
            "bar_color": null,
            "description_width": ""
          }
        },
        "075e4c649a79451eb9034cef7a23092d": {
          "model_module": "@jupyter-widgets/base",
          "model_name": "LayoutModel",
          "model_module_version": "1.2.0",
          "state": {
            "_model_module": "@jupyter-widgets/base",
            "_model_module_version": "1.2.0",
            "_model_name": "LayoutModel",
            "_view_count": null,
            "_view_module": "@jupyter-widgets/base",
            "_view_module_version": "1.2.0",
            "_view_name": "LayoutView",
            "align_content": null,
            "align_items": null,
            "align_self": null,
            "border": null,
            "bottom": null,
            "display": null,
            "flex": null,
            "flex_flow": null,
            "grid_area": null,
            "grid_auto_columns": null,
            "grid_auto_flow": null,
            "grid_auto_rows": null,
            "grid_column": null,
            "grid_gap": null,
            "grid_row": null,
            "grid_template_areas": null,
            "grid_template_columns": null,
            "grid_template_rows": null,
            "height": null,
            "justify_content": null,
            "justify_items": null,
            "left": null,
            "margin": null,
            "max_height": null,
            "max_width": null,
            "min_height": null,
            "min_width": null,
            "object_fit": null,
            "object_position": null,
            "order": null,
            "overflow": null,
            "overflow_x": null,
            "overflow_y": null,
            "padding": null,
            "right": null,
            "top": null,
            "visibility": null,
            "width": null
          }
        },
        "325e2f2db09d4395bbf821b6c1213d1c": {
          "model_module": "@jupyter-widgets/controls",
          "model_name": "DescriptionStyleModel",
          "model_module_version": "1.5.0",
          "state": {
            "_model_module": "@jupyter-widgets/controls",
            "_model_module_version": "1.5.0",
            "_model_name": "DescriptionStyleModel",
            "_view_count": null,
            "_view_module": "@jupyter-widgets/base",
            "_view_module_version": "1.2.0",
            "_view_name": "StyleView",
            "description_width": ""
          }
        }
      }
    }
  },
  "nbformat": 4,
  "nbformat_minor": 5
}